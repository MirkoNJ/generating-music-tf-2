{
 "cells": [
  {
   "cell_type": "markdown",
   "id": "literary-broadcasting",
   "metadata": {},
   "source": [
    "### Set Up"
   ]
  },
  {
   "cell_type": "markdown",
   "id": "respective-minute",
   "metadata": {},
   "source": [
    "#### Standard library imports"
   ]
  },
  {
   "cell_type": "code",
   "execution_count": null,
   "id": "controlling-newark",
   "metadata": {},
   "outputs": [],
   "source": [
    "import os\n",
    "import datetime"
   ]
  },
  {
   "cell_type": "markdown",
   "id": "harmful-gamma",
   "metadata": {},
   "source": [
    "#### Third party imports "
   ]
  },
  {
   "cell_type": "code",
   "execution_count": null,
   "id": "cooked-powder",
   "metadata": {},
   "outputs": [],
   "source": [
    "import tensorflow as tf\n",
    "import tensorflow_probability as tfp\n",
    "import numpy as np"
   ]
  },
  {
   "cell_type": "markdown",
   "id": "italian-university",
   "metadata": {},
   "source": [
    "#### Local imports"
   ]
  },
  {
   "cell_type": "code",
   "execution_count": null,
   "id": "modern-destination",
   "metadata": {},
   "outputs": [],
   "source": [
    "import modules.plotting as plt"
   ]
  },
  {
   "cell_type": "markdown",
   "id": "handed-surfing",
   "metadata": {},
   "source": [
    "#### Autoreload"
   ]
  },
  {
   "cell_type": "code",
   "execution_count": null,
   "id": "chemical-backup",
   "metadata": {},
   "outputs": [],
   "source": [
    "%load_ext autoreload\n",
    "%autoreload 2"
   ]
  },
  {
   "cell_type": "markdown",
   "id": "emotional-argument",
   "metadata": {},
   "source": [
    "#### Setting relative directories"
   ]
  },
  {
   "cell_type": "code",
   "execution_count": null,
   "id": "looking-chess",
   "metadata": {},
   "outputs": [],
   "source": [
    "Epoch_number = 512\n",
    "Epoch = \"epoch_\" + str(Epoch_number)\n",
    "Date  = \"20210720\""
   ]
  },
  {
   "cell_type": "code",
   "execution_count": null,
   "id": "antique-thousand",
   "metadata": {},
   "outputs": [],
   "source": [
    "Working_Directory = os.getcwd()\n",
    "Project_Directory = os.path.abspath(os.path.join(Working_Directory,'..'))\n",
    "Music_In_Directory = Project_Directory + \"/data/chopin_midi/\" \n",
    "Output_Directory = Project_Directory + \"/outputs/\"\n",
    "Model_Directory = Output_Directory + \"models/\"\n",
    "Numpy_Directory = Model_Directory + \"arrays/\"\n",
    "Checkpoint_Directory = Model_Directory + \"ckpt/\"\n",
    "Checkpoint_Date_Directory = Checkpoint_Directory + Date + \"/\"\n",
    "Checkpoint_Date_Epoch_Directory = Checkpoint_Date_Directory + Epoch + \"_model\""
   ]
  },
  {
   "cell_type": "markdown",
   "id": "civil-faculty",
   "metadata": {},
   "source": [
    "### Load model"
   ]
  },
  {
   "cell_type": "code",
   "execution_count": null,
   "id": "intimate-allah",
   "metadata": {},
   "outputs": [],
   "source": [
    "load_path = Checkpoint_Date_Epoch_Directory\n",
    "#model = tf.keras.models.load_model(load_path)"
   ]
  },
  {
   "cell_type": "markdown",
   "id": "wound-diversity",
   "metadata": {},
   "source": [
    "#### Load Numpy arrays"
   ]
  },
  {
   "cell_type": "code",
   "execution_count": null,
   "id": "fresh-stevens",
   "metadata": {},
   "outputs": [],
   "source": [
    "load_path = Numpy_Directory + Date + '/' + Epoch + '_array.npz'\n",
    "npzfile = np.load(load_path) \n",
    "keys = ['train_loss_p_a', \n",
    "        'train_loss_vel',\n",
    "        'train_metric_p_a', \n",
    "        'train_metric_vel', \n",
    "        'val_loss_p_a', \n",
    "        'val_loss_vel', \n",
    "        'val_metric_p_a', \n",
    "        'val_metric_vel', \n",
    "        'train_p_conf_array', \n",
    "        'train_a_conf_array',\n",
    "        'val_p_conf_array', \n",
    "        'val_a_conf_array',\n",
    "        'X_train', \n",
    "        'y_train', \n",
    "        'y_pred_train', \n",
    "        'X_val', \n",
    "        'y_val', \n",
    "        'y_pred_val'\n",
    "       ]\n",
    "np_arrays = {}\n",
    "for i in range(len(keys)):\n",
    "    np_arrays[keys[i]] = npzfile['arr_'+ str(i)] "
   ]
  },
  {
   "cell_type": "markdown",
   "id": "joined-charlotte",
   "metadata": {},
   "source": [
    "#### Compare precitions to labels"
   ]
  },
  {
   "cell_type": "code",
   "execution_count": null,
   "id": "electrical-imperial",
   "metadata": {},
   "outputs": [],
   "source": [
    "note_idx = 30\n",
    "time_idx = 60\n",
    "batch_idx = 0\n",
    "\n",
    "print_labels = False # True\n",
    "if print_labels:\n",
    "    tmp = tfp.distributions.Bernoulli(logits=np_arrays['y_pred_train'][batch_idx,:,time_idx,0:2]).sample()\n",
    "    tmp2 = tf.cast(np_arrays['y_pred_train'][batch_idx,:, time_idx,2:3], dtype=tf.int32)\n",
    "    tmp3 = tf.concat([tmp,tmp2], axis=-1)\n",
    "    print(tf.concat([np_arrays['y_train'][batch_idx,:, time_idx,:], tmp3], -1))"
   ]
  },
  {
   "cell_type": "markdown",
   "id": "coupled-gambling",
   "metadata": {},
   "source": [
    "### Visualiation"
   ]
  },
  {
   "cell_type": "markdown",
   "id": "convertible-management",
   "metadata": {},
   "source": [
    "#### Losses $L_1$ and $L_2$"
   ]
  },
  {
   "cell_type": "code",
   "execution_count": null,
   "id": "involved-record",
   "metadata": {},
   "outputs": [],
   "source": [
    "fig = plt.lineplot(np_arrays, 'loss_p_a', 'Play/Articulate Loss', 'L_1', Epoch_number)\n",
    "fig.show()"
   ]
  },
  {
   "cell_type": "code",
   "execution_count": null,
   "id": "dangerous-gauge",
   "metadata": {},
   "outputs": [],
   "source": [
    "fig = plt.lineplot(np_arrays, 'loss_vel', 'Velocity Loss', 'L_2', Epoch_number)\n",
    "fig.show()"
   ]
  },
  {
   "cell_type": "markdown",
   "id": "turned-raleigh",
   "metadata": {},
   "source": [
    "#### Accuracy"
   ]
  },
  {
   "cell_type": "code",
   "execution_count": null,
   "id": "patent-official",
   "metadata": {},
   "outputs": [],
   "source": [
    "fig = plt.lineplot(np_arrays, 'metric_p_a', 'Binary Accuracy', 'Play/Articulate', Epoch_number)\n",
    "fig.show()"
   ]
  },
  {
   "cell_type": "markdown",
   "id": "manual-craps",
   "metadata": {},
   "source": [
    "#### Confusion Matrix"
   ]
  },
  {
   "cell_type": "code",
   "execution_count": null,
   "id": "identical-liechtenstein",
   "metadata": {},
   "outputs": [],
   "source": [
    "fig = plt.plot_confusion_matrix(np_arrays, 'train_p_conf_array', 'Played', 'Training: ', Epoch_number)\n",
    "fig.show()"
   ]
  },
  {
   "cell_type": "code",
   "execution_count": null,
   "id": "italic-christopher",
   "metadata": {},
   "outputs": [],
   "source": [
    "fig = plt.plot_confusion_matrix(np_arrays, 'val_p_conf_array', 'Played', 'Validation: ', Epoch_number)\n",
    "fig.show()"
   ]
  },
  {
   "cell_type": "code",
   "execution_count": null,
   "id": "combined-caribbean",
   "metadata": {},
   "outputs": [],
   "source": [
    "fig = plt.plot_confusion_matrix(np_arrays, 'train_a_conf_array', 'Articulated', 'Training: ', Epoch_number)\n",
    "fig.show()"
   ]
  },
  {
   "cell_type": "code",
   "execution_count": null,
   "id": "detailed-earthquake",
   "metadata": {},
   "outputs": [],
   "source": [
    "fig = plt.plot_confusion_matrix(np_arrays, 'val_a_conf_array', 'Articulated', 'Validation: ', Epoch_number)\n",
    "fig.show()"
   ]
  },
  {
   "cell_type": "markdown",
   "id": "ready-cinema",
   "metadata": {},
   "source": [
    "#### Alpha anaysis"
   ]
  },
  {
   "cell_type": "code",
   "execution_count": null,
   "id": "ordered-rocket",
   "metadata": {},
   "outputs": [],
   "source": [
    "Epoch_number = 32\n",
    "alpha = [1.0, 0.1, 0.01, 0.001]\n",
    "Epoch = \"epoch_\" + str(Epoch_number)\n",
    "Folder  = \"alpha_beta\""
   ]
  },
  {
   "cell_type": "code",
   "execution_count": null,
   "id": "middle-floating",
   "metadata": {},
   "outputs": [],
   "source": [
    "keys = ['train_loss_p_a', \n",
    "        'train_loss_vel',\n",
    "        'train_metric_p_a', \n",
    "        'train_metric_vel_array',\n",
    "        'val_loss_p_a', \n",
    "        'val_loss_vel', \n",
    "        'val_metric_p_a', \n",
    "       ]\n",
    "np_arrays = {}\n",
    "for i in range(len(alpha)):\n",
    "    for j in range(len(keys)):\n",
    "        name = \"alpha_\" + str(alpha[i]) + \"_beta_1.0_epoch_32\"\n",
    "        model_name = \"alpha_\" + str(alpha[i]) + \"_beta_1.0_epoch_32\" + \"_model\"\n",
    "        array_name = \"alpha_\" + str(alpha[i]) + \"_beta_1.0_epoch_32\" + \"_array.npz\"\n",
    "        load_path = Numpy_Directory + Folder + '/' + array_name\n",
    "        npzfile = np.load(load_path) \n",
    "        key_new = \"alpha_\" + str(alpha[i]) + \"_\" + keys[j]\n",
    "        np_arrays[key_new] = npzfile['arr_' + str(j)] "
   ]
  },
  {
   "cell_type": "code",
   "execution_count": null,
   "id": "acknowledged-plant",
   "metadata": {},
   "outputs": [],
   "source": [
    "fig = plt.lineplot_alphas(np_arrays, 'loss_vel', 'Velocity Loss', 'L_2', Epoch_number)\n",
    "fig.show()"
   ]
  },
  {
   "cell_type": "code",
   "execution_count": null,
   "id": "binary-rapid",
   "metadata": {},
   "outputs": [],
   "source": [
    "fig = plt.lineplot_alphas(np_arrays, 'loss_p_a', 'Play/Articulate Loss', 'L_1', Epoch_number)\n",
    "fig.show()"
   ]
  }
 ],
 "metadata": {
  "kernelspec": {
   "display_name": "Python 3",
   "language": "python",
   "name": "python3"
  },
  "language_info": {
   "codemirror_mode": {
    "name": "ipython",
    "version": 3
   },
   "file_extension": ".py",
   "mimetype": "text/x-python",
   "name": "python",
   "nbconvert_exporter": "python",
   "pygments_lexer": "ipython3",
   "version": "3.8.10"
  }
 },
 "nbformat": 4,
 "nbformat_minor": 5
}
