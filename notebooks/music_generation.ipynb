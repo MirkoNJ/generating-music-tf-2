{
 "cells": [
  {
   "cell_type": "markdown",
   "id": "about-creek",
   "metadata": {},
   "source": [
    "### Set Up"
   ]
  },
  {
   "cell_type": "markdown",
   "id": "color-preparation",
   "metadata": {},
   "source": [
    "#### Standard library imports"
   ]
  },
  {
   "cell_type": "code",
   "execution_count": null,
   "id": "listed-humanity",
   "metadata": {},
   "outputs": [],
   "source": [
    "import os\n",
    "import datetime\n",
    "import pdb"
   ]
  },
  {
   "cell_type": "markdown",
   "id": "upset-flavor",
   "metadata": {},
   "source": [
    "#### Third party imports "
   ]
  },
  {
   "cell_type": "code",
   "execution_count": null,
   "id": "reduced-reward",
   "metadata": {},
   "outputs": [],
   "source": [
    "import tensorflow as tf"
   ]
  },
  {
   "cell_type": "markdown",
   "id": "vulnerable-adult",
   "metadata": {},
   "source": [
    "#### Local imports"
   ]
  },
  {
   "cell_type": "code",
   "execution_count": null,
   "id": "supported-minister",
   "metadata": {},
   "outputs": [],
   "source": [
    "import modules.batch as batch\n",
    "import modules.midi_related as midi\n",
    "import modules.preprocessing as prep\n",
    "import modules.subclasses as sub"
   ]
  },
  {
   "cell_type": "markdown",
   "id": "intense-stationery",
   "metadata": {},
   "source": [
    "#### Setting relative directories"
   ]
  },
  {
   "cell_type": "code",
   "execution_count": null,
   "id": "interesting-illinois",
   "metadata": {},
   "outputs": [],
   "source": [
    "Epoch_number = 64\n",
    "alpha_beta = \"alpha_0.01_beta_1.0_\"\n",
    "Epoch = \"epoch_\" + str(Epoch_number)\n",
    "Date  = \"20211010\""
   ]
  },
  {
   "cell_type": "code",
   "execution_count": null,
   "id": "funded-proposal",
   "metadata": {},
   "outputs": [],
   "source": [
    "Working_Directory = os.getcwd()\n",
    "Project_Directory = os.path.abspath(os.path.join(Working_Directory,'..'))\n",
    "Music_In_Directory = Project_Directory + \"/data/chopin_midi/\" \n",
    "Output_Directory = Project_Directory + \"/outputs/\"\n",
    "Model_Directory = Output_Directory + \"models/\"\n",
    "Checkpoint_Directory = Model_Directory + \"ckpt/\"\n",
    "Checkpoint_Date_Directory = Checkpoint_Directory + Date + \"/\"\n",
    "Checkpoint_Date_Epoch_Directory = Checkpoint_Date_Directory + alpha_beta + Epoch + \"_model\"\n",
    "Music_Out_Directory = Output_Directory + \"midi/\"\n",
    "Music_Out_Genereating_Directory = Music_Out_Directory + \"generated/\""
   ]
  },
  {
   "cell_type": "markdown",
   "id": "instrumental-parade",
   "metadata": {},
   "source": [
    "### Load model"
   ]
  },
  {
   "cell_type": "code",
   "execution_count": null,
   "id": "generic-absorption",
   "metadata": {},
   "outputs": [],
   "source": [
    "load_path = Checkpoint_Date_Epoch_Directory\n",
    "model = tf.keras.models.load_model(load_path)"
   ]
  },
  {
   "cell_type": "markdown",
   "id": "electric-reward",
   "metadata": {},
   "source": [
    "### MIDI generation"
   ]
  },
  {
   "cell_type": "markdown",
   "id": "corporate-distribution",
   "metadata": {},
   "source": [
    "#### Genereate new MIDI files from scratch or using primer using the trained model"
   ]
  },
  {
   "cell_type": "code",
   "execution_count": null,
   "id": "joint-fitting",
   "metadata": {},
   "outputs": [],
   "source": [
    "# Music Generation from scratch or using a primer\n",
    "primer = False #'chop2804'\n",
    "num_notes = 88\n",
    "n_bars = 4\n",
    "batch_size_gen = 4\n",
    "n_time_steps_per_sixtheenth = 3\n",
    "max_sixteenth_index = 16 # overwritten by primer\n",
    "\n",
    "if primer:\n",
    "    primer = midi.midiToNoteStateMatrix(Music_In_Directory + primer + \".mid\", \n",
    "                                        verbose = False, \n",
    "                                        verbose_ts = False) \n",
    "    sixteenth_index = [b[0][3] for b in  primer]\n",
    "    max_sixteenth_index = max(sixteenth_index)\n",
    "    n_time_steps_ber_bar = max_sixteenth_index * n_time_steps_per_sixtheenth\n",
    "    num_timesteps =  n_time_steps_ber_bar * (n_bars // 2) \n",
    "    tmp_data, start_out = prep.createDataSet2(primer, \n",
    "                                              num_time_steps = num_timesteps + 1, \n",
    "                                              batch_size = batch_size_gen, \n",
    "                                              start_old = 0)\n",
    "    for _, (_, y_train) in enumerate(tmp_data):\n",
    "        notes_gen_initial = y_train\n",
    "    name = 'primer'\n",
    "else:\n",
    "    n_time_steps_ber_bar = max_sixteenth_index * n_time_steps_per_sixtheenth\n",
    "    num_timesteps =  n_time_steps_ber_bar * (n_bars // 2)  \n",
    "    notes_gen_initial = tf.zeros((batch_size_gen, num_notes, num_timesteps, 3))\n",
    "    beats_initial = [int(t / n_time_steps_per_sixtheenth) % int(n_time_steps_ber_bar / n_time_steps_per_sixtheenth) + 1 for t in range(num_timesteps)]\n",
    "    beats_initial = tf.constant(value = beats_initial,shape = (1,1,num_timesteps,1),dtype = tf.float32)\n",
    "    beats_initial = tf.tile(beats_initial, multiples=[batch_size_gen,num_notes,1,1])\n",
    "    notes_gen_initial = tf.concat([notes_gen_initial, beats_initial], axis=3)\n",
    "    name = 'from_scratch'\n",
    "    \n",
    "t_gen = n_bars * n_time_steps_ber_bar\n"
   ]
  },
  {
   "cell_type": "code",
   "execution_count": null,
   "id": "outer-slovenia",
   "metadata": {},
   "outputs": [],
   "source": [
    "# Initial States\n",
    "note_state_matrix_gen = notes_gen_initial\n",
    "\n",
    "\n",
    "# Generate note_state_matrix\n",
    "for t in tf.range(t_gen):\n",
    "\n",
    "    beat = int(t / n_time_steps_per_sixtheenth) % int(n_time_steps_ber_bar / n_time_steps_per_sixtheenth) + 1\n",
    "\n",
    "    X  = prep.inputKernel(note_state_matrix_gen[:,:,-num_timesteps:,:])\n",
    "    _ , y_pred_velocity_train, y_pred_note_train = model.predict_on_batch(X)\n",
    "    new_note = tf.concat([y_pred_note_train[:,:,-1:,:], y_pred_velocity_train[:,:,-1:,:]], axis=-1)\n",
    "    new_note_p   = new_note[:,:,:,0]\n",
    "    new_note_a   = new_note[:,:,:,1] * new_note[:,:,:,0]\n",
    "    new_note_vel = new_note[:,:,:,2] * new_note[:,:,:,0]\n",
    "    new_note_beat = tf.cast(tf.fill((batch_size_gen, num_notes, 1),beat), dtype=tf.float32)\n",
    "    new_note = tf.stack([new_note_p, new_note_a, new_note_vel, new_note_beat], axis=-1)\n",
    "    note_state_matrix_gen = tf.concat([note_state_matrix_gen, new_note], axis=2)"
   ]
  },
  {
   "cell_type": "code",
   "execution_count": null,
   "id": "completed-invention",
   "metadata": {},
   "outputs": [],
   "source": [
    "note_state_matrix_gen.shape"
   ]
  },
  {
   "cell_type": "code",
   "execution_count": null,
   "id": "abroad-width",
   "metadata": {},
   "outputs": [],
   "source": [
    "current_time_str = datetime.datetime.now().strftime(\"%Y%m%d-%H%M%S\")\n",
    "for i in range(batch_size_gen):\n",
    "    midi.generate_audio(note_state_matrix_gen[i:(i+1),:,:,:], \n",
    "                        Music_Out_Genereating_Directory + current_time_str[:-7] + '/',\n",
    "                        'generated_batch_' + str(i) + '_' + alpha_beta + '_' + Epoch + '_' + name, \n",
    "                        sample=False,\n",
    "                        verbose = False)"
   ]
  },
  {
   "cell_type": "markdown",
   "id": "willing-module",
   "metadata": {},
   "source": [
    "#### Take a look at the features input to the model"
   ]
  },
  {
   "cell_type": "code",
   "execution_count": null,
   "id": "linear-heater",
   "metadata": {},
   "outputs": [],
   "source": [
    "prep.noteRNNInputSummary(prep.inputKernel(note_state_matrix_gen[:,:,:,:])[1,30,2,:])"
   ]
  }
 ],
 "metadata": {
  "kernelspec": {
   "display_name": "Python 3",
   "language": "python",
   "name": "python3"
  },
  "language_info": {
   "codemirror_mode": {
    "name": "ipython",
    "version": 3
   },
   "file_extension": ".py",
   "mimetype": "text/x-python",
   "name": "python",
   "nbconvert_exporter": "python",
   "pygments_lexer": "ipython3",
   "version": "3.8.10"
  }
 },
 "nbformat": 4,
 "nbformat_minor": 5
}
