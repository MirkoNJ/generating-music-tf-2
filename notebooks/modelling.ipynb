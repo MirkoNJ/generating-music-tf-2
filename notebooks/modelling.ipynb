{
 "cells": [
  {
   "cell_type": "markdown",
   "id": "adjusted-occupation",
   "metadata": {},
   "source": [
    "### Set Up"
   ]
  },
  {
   "cell_type": "markdown",
   "id": "democratic-state",
   "metadata": {},
   "source": [
    "#### Standard library imports"
   ]
  },
  {
   "cell_type": "code",
   "execution_count": 1,
   "id": "framed-yukon",
   "metadata": {},
   "outputs": [],
   "source": [
    "import copy\n",
    "import datetime\n",
    "import math\n",
    "import os\n",
    "import pdb\n",
    "import random\n",
    "import time"
   ]
  },
  {
   "cell_type": "markdown",
   "id": "annual-queen",
   "metadata": {},
   "source": [
    "#### Third party imports "
   ]
  },
  {
   "cell_type": "code",
   "execution_count": 2,
   "id": "sporting-convergence",
   "metadata": {},
   "outputs": [],
   "source": [
    "import pydot\n",
    "import numpy as np\n",
    "import pandas as pd\n",
    "import tensorflow as tf\n",
    "import tensorflow_addons as tfa"
   ]
  },
  {
   "cell_type": "markdown",
   "id": "accompanied-owner",
   "metadata": {},
   "source": [
    "#### Local imports"
   ]
  },
  {
   "cell_type": "code",
   "execution_count": 3,
   "id": "documentary-clear",
   "metadata": {},
   "outputs": [],
   "source": [
    "import modules.batch as batch\n",
    "import modules.midi_related as midi\n",
    "import modules.preprocessing as prep\n",
    "import modules.subclasses as sub"
   ]
  },
  {
   "cell_type": "markdown",
   "id": "according-basin",
   "metadata": {},
   "source": [
    "#### Extensions and autoreload"
   ]
  },
  {
   "cell_type": "code",
   "execution_count": 4,
   "id": "accomplished-processing",
   "metadata": {},
   "outputs": [],
   "source": [
    "%load_ext autoreload\n",
    "%load_ext tensorboard\n",
    "%autoreload 2"
   ]
  },
  {
   "cell_type": "markdown",
   "id": "advisory-workstation",
   "metadata": {},
   "source": [
    "#### Dis-/enable GPU"
   ]
  },
  {
   "cell_type": "code",
   "execution_count": 5,
   "id": "thick-documentation",
   "metadata": {},
   "outputs": [],
   "source": [
    "disable_gpu = False\n",
    "debugging = False\n",
    "\n",
    "if disable_gpu:\n",
    "    # Hide GPU from visible devices\n",
    "    tf.config.set_visible_devices([], 'GPU')\n",
    "    if debugging:\n",
    "        # To find out which devices your operations and tensors are assigned to\n",
    "        tf.debugging.set_log_device_placement(True)\n",
    "\n",
    "        # Create some tensors and perform an operation\n",
    "        a = tf.constant([[1.0, 2.0, 3.0], [4.0, 5.0, 6.0]])\n",
    "        b = tf.constant([[1.0, 2.0], [3.0, 4.0], [5.0, 6.0]])\n",
    "        c = tf.matmul(a, b)\n",
    "\n",
    "        print(c)\n",
    "        tf.debugging.set_log_device_placement(False)"
   ]
  },
  {
   "cell_type": "code",
   "execution_count": 6,
   "id": "mighty-evidence",
   "metadata": {},
   "outputs": [],
   "source": [
    "physical_devices = tf.config.list_physical_devices('GPU')"
   ]
  },
  {
   "cell_type": "markdown",
   "id": "terminal-louisville",
   "metadata": {},
   "source": [
    "#### Setting relative directories"
   ]
  },
  {
   "cell_type": "code",
   "execution_count": 7,
   "id": "trained-lightweight",
   "metadata": {},
   "outputs": [],
   "source": [
    "Working_Directory = os.getcwd()\n",
    "Project_Directory = os.path.abspath(os.path.join(Working_Directory,'..'))\n",
    "Music_In_Directory = Project_Directory + \"/data/\" \n",
    "Output_Directory = Project_Directory + \"/outputs/\"\n",
    "Model_Directory = Output_Directory + \"models/\"\n",
    "Checkpoint_Directory = Model_Directory + \"ckpt/\"\n",
    "Numpy_Directory = Model_Directory + \"arrays/\"\n",
    "Music_Out_Directory = Output_Directory + \"midi/\"\n",
    "Music_Out_Training_Directory =  Music_Out_Directory + \"train/\"\n",
    "Music_Out_Genereating_Directory = Music_Out_Directory + \"generated/\"\n",
    "\n",
    "Midi_Directories = [\n",
    "    #\"albeniz\", \n",
    "    #\"beeth\",\n",
    "    #\"borodin\",\n",
    "    #\"brahms\",\n",
    "    #\"burgm\",\n",
    "    #\"chopin\", \n",
    "    \"chopin_midi\",\n",
    "    #\"debussy\", \n",
    "    #\"granados\", \n",
    "    #\"grieg\", \n",
    "    #\"haydn\", \n",
    "    #\"liszt\", \n",
    "    #\"mendelssohn\", \n",
    "    #\"mozart\", \n",
    "    #\"muss\", \n",
    "    #\"schubert\", \n",
    "    #\"schumann\", \n",
    "    \"tschai\"\n",
    "] "
   ]
  },
  {
   "cell_type": "markdown",
   "id": "million-feedback",
   "metadata": {},
   "source": [
    "### Data preperation"
   ]
  },
  {
   "cell_type": "markdown",
   "id": "prime-spokesman",
   "metadata": {},
   "source": [
    "#### Load pieces (i.e. import midi files)"
   ]
  },
  {
   "cell_type": "code",
   "execution_count": 8,
   "id": "voluntary-cedar",
   "metadata": {},
   "outputs": [],
   "source": [
    "# First checkt that importing single midi (i.e. Chopin Op 28 No.4) works\n",
    "chop2804 = midi.midiToNoteStateMatrix(Music_In_Directory + \"chopin_midi/chop7201.mid\") "
   ]
  },
  {
   "cell_type": "code",
   "execution_count": 9,
   "id": "frank-collection",
   "metadata": {},
   "outputs": [
    {
     "name": "stdout",
     "output_type": "stream",
     "text": [
      "Loaded chop0601\n",
      "Loaded chop0602\n",
      "Loaded chop0603\n",
      "Loaded chop0701\n",
      "Loaded chop0702\n",
      "Loaded chop0901\n",
      "Loaded chop0902\n",
      "Loaded chop0903\n",
      "Loaded chop1001\n",
      "Loaded chop1002\n",
      "Loaded chop1003\n",
      "Loaded chop1004\n",
      "Loaded chop1005\n",
      "Loaded chop1007\n",
      "Loaded chop1012\n",
      "Loaded chop1501\n",
      "Loaded chop1502\n",
      "Loaded chop1503\n",
      "Loaded chop1800\n",
      "Loaded chop2300\n",
      "Loaded chop2501\n",
      "Loaded chop2502\n",
      "Loaded chop2503\n",
      "Loaded chop2504\n",
      "Loaded chop2506\n",
      "Loaded chop2507\n",
      "Loaded chop2511\n",
      "Loaded chop2512\n",
      "Loaded chop2701\n",
      "Loaded chop2702\n",
      "Loaded chop2801\n",
      "Loaded chop2802\n",
      "Loaded chop2803\n",
      "Loaded chop2804\n",
      "Loaded chop2805\n",
      "Loaded chop2806\n",
      "Loaded chop2807\n",
      "Loaded chop2808\n",
      "Loaded chop2809\n",
      "Loaded chop2810\n",
      "Loaded chop2811\n",
      "Loaded chop2812\n",
      "Loaded chop2813\n",
      "Loaded chop2814\n",
      "Loaded chop2815\n",
      "Loaded chop2816\n",
      "Loaded chop2817\n",
      "Loaded chop2818\n",
      "Loaded chop2819\n",
      "Loaded chop2820\n",
      "Loaded chop2821\n",
      "Loaded chop2822\n",
      "Loaded chop2823\n",
      "Loaded chop2824\n",
      "Loaded chop3002\n",
      "Loaded chop3100\n",
      "Loaded chop3202\n",
      "Loaded chop3302\n",
      "Loaded chop3304\n",
      "Loaded chop3402\n",
      "Loaded chop3502\n",
      "Loaded chop3503\n",
      "Loaded chop3504\n",
      "Loaded chop3701\n",
      "Loaded chop3702\n",
      "Loaded chop3800\n",
      "Loaded chop4001\n",
      "Loaded chop4002\n",
      "Loaded chop4200\n",
      "Loaded chop4700\n",
      "Loaded chop4801\n",
      "Loaded chop4802\n",
      "Loaded chop5200\n",
      "Loaded chop5300\n",
      "Loaded chop5501\n",
      "Loaded chop5502\n",
      "Loaded chop5801\n",
      "Loaded chop5802\n",
      "Loaded chop5803\n",
      "Loaded chop5804\n",
      "Loaded chop5902\n",
      "Loaded chop6201\n",
      "Loaded chop6202\n",
      "Loaded chop6303\n",
      "Loaded chop6401\n",
      "Loaded chop6402\n",
      "Loaded chop6600\n",
      "Loaded chop6701\n",
      "Loaded chop6702\n",
      "Loaded chop6704\n",
      "Loaded chop6802\n",
      "Loaded chop6901\n",
      "Loaded chop6902\n",
      "Loaded chop7002\n",
      "Loaded chop7201\n",
      "Loading directory chopin_midi took 78.172s\n",
      "Loaded ty_april\n",
      "Loaded ty_august\n",
      "Loaded ty_dezember\n",
      "Loaded ty_februar\n",
      "Loaded ty_januar\n",
      "Loaded ty_juli\n",
      "Loaded ty_juni\n",
      "Loaded ty_maerz\n",
      "Loaded ty_mai\n",
      "Loaded ty_november\n",
      "Loaded ty_oktober\n",
      "Loaded ty_september\n",
      "Loading directory tschai took 12.091s\n",
      "Number of total pieces =  107\n",
      "Loading all pieces took 90.263s\n"
     ]
    }
   ],
   "source": [
    "# Import all Midi data\n",
    "min_time_steps = 128 # only files with at least this many 48th note steps are saved\n",
    "lowerBound = 21\n",
    "upperBound = 109\n",
    "\n",
    "all_pieces = {}\n",
    "chopin_only_pieces = {}\n",
    "piano_midi_only_pieces = {}\n",
    "\n",
    "start_time_loading = time.time()\n",
    "time_loading_old = start_time_loading\n",
    "\n",
    "# Gather the pieces from the specified directory\n",
    "for f in range(len(Midi_Directories)):\n",
    "    Training_Midi_Folder = Music_In_Directory + Midi_Directories[f]\n",
    "    if Midi_Directories[f] == 'chopin_midi':\n",
    "        chopin_only_pieces = {**chopin_only_pieces, **midi.loadPieces(Training_Midi_Folder,\n",
    "                                                                      min_time_steps,\n",
    "                                                                      lowerBound, \n",
    "                                                                      upperBound,\n",
    "                                                                      verbose=False,\n",
    "                                                                      verbose_name=True)}\n",
    "    else: \n",
    "        piano_midi_only_pieces = {**piano_midi_only_pieces, **midi.loadPieces(Training_Midi_Folder,\n",
    "                                                                              min_time_steps,\n",
    "                                                                              lowerBound, \n",
    "                                                                              upperBound,\n",
    "                                                                              verbose=False,\n",
    "                                                                              verbose_name=True)}\n",
    "    time_loading_new = time.time()\n",
    "    duration = time_loading_new - time_loading_old\n",
    "    time_loading_old = time_loading_new\n",
    "    print('Loading directory ' + Midi_Directories[f] + ' took ' + str(round(duration, 3)) + 's' )\n",
    "\n",
    "all_pieces = {**chopin_only_pieces, **piano_midi_only_pieces}\n",
    "end_time_loading = time.time()\n",
    "\n",
    "print('Number of total pieces = ', len(all_pieces))    \n",
    "print('Loading all pieces took ' +  str(round(end_time_loading - start_time_loading, 3)) + 's')"
   ]
  },
  {
   "cell_type": "markdown",
   "id": "independent-windsor",
   "metadata": {},
   "source": [
    "#### Chopin pieces by genre"
   ]
  },
  {
   "cell_type": "code",
   "execution_count": 10,
   "id": "oriental-atlanta",
   "metadata": {},
   "outputs": [
    {
     "name": "stdout",
     "output_type": "stream",
     "text": [
      "Number of Chopin pieces loaded =  95\n"
     ]
    }
   ],
   "source": [
    "print('Number of Chopin pieces loaded = ', len(chopin_only_pieces))"
   ]
  },
  {
   "cell_type": "code",
   "execution_count": 11,
   "id": "elementary-workshop",
   "metadata": {},
   "outputs": [
    {
     "data": {
      "text/plain": [
       "{4: 1, 6: 3, 8: 2, 12: 37, 16: 31, 17: 1, 19: 1, 24: 6, 28: 1, 36: 1, 40: 1}"
      ]
     },
     "execution_count": 11,
     "metadata": {},
     "output_type": "execute_result"
    }
   ],
   "source": [
    "#Only include pieces which were not recoreded (i.e. which MIDI files are exact) and are in 2/4, 3/4 or 4/4\n",
    "time_signatures = []\n",
    "verbose = False #True\n",
    "chopin_pieces_exact = chopin_only_pieces.copy()\n",
    "keys = list(chopin_pieces_exact.keys())\n",
    "for k in keys:\n",
    "        piece = chopin_pieces_exact[str(k)]\n",
    "        time_signature = max([b[0][3] for b in  piece])\n",
    "        if not (str(k) in midi.EXACT_FILES):\n",
    "            chopin_pieces_exact.pop(k)\n",
    "        else:\n",
    "            time_signatures.append(time_signature)\n",
    "        if verbose:\n",
    "            print(\"Piece: {}\".format(k) + \"  Time signature: {}\".format(time_signature))\n",
    "time_signatures = np.array(time_signatures)\n",
    "unique, counts = np.unique(time_signatures, return_counts=True)\n",
    "dict(zip(unique, counts))"
   ]
  },
  {
   "cell_type": "code",
   "execution_count": 12,
   "id": "minimal-hands",
   "metadata": {},
   "outputs": [],
   "source": [
    "# Create table of piece names for midi files loaded\n",
    "df_chopin_opus = pd.read_csv(Project_Directory + '/data_info/chopin_title_opus.csv')\n",
    "op_numbers = [int(str(k)[4:6]) for k in chopin_pieces_exact.keys()]\n",
    "op_numbers_unique = set(op_numbers)\n",
    "df_chopin_opus_midi = df_chopin_opus.loc[df_chopin_opus['Op'].isin(op_numbers_unique)]"
   ]
  },
  {
   "cell_type": "code",
   "execution_count": 13,
   "id": "about-reward",
   "metadata": {},
   "outputs": [
    {
     "data": {
      "text/html": [
       "<style  type=\"text/css\" >\n",
       "#T_dbc19_row0_col0,#T_dbc19_row1_col0,#T_dbc19_row2_col0,#T_dbc19_row3_col0,#T_dbc19_row4_col0,#T_dbc19_row5_col0,#T_dbc19_row6_col0,#T_dbc19_row7_col0,#T_dbc19_row8_col0,#T_dbc19_row9_col0,#T_dbc19_row10_col0,#T_dbc19_row11_col0{\n",
       "            width-min:  300px;\n",
       "        }</style><table id=\"T_dbc19_\" ><thead>    <tr>        <th class=\"blank level0\" ></th>        <th class=\"col_heading level0 col0\" >Op</th>        <th class=\"col_heading level0 col1\" >MIDI files</th>    </tr>    <tr>        <th class=\"index_name level0\" >genre</th>        <th class=\"blank\" ></th>        <th class=\"blank\" ></th>    </tr></thead><tbody>\n",
       "                <tr>\n",
       "                        <th id=\"T_dbc19_level0_row0\" class=\"row_heading level0 row0\" >Ballades</th>\n",
       "                        <td id=\"T_dbc19_row0_col0\" class=\"data row0 col0\" >['23 (1)', '38 (1)', '47 (1)', '52 (1)']</td>\n",
       "                        <td id=\"T_dbc19_row0_col1\" class=\"data row0 col1\" >4</td>\n",
       "            </tr>\n",
       "            <tr>\n",
       "                        <th id=\"T_dbc19_level0_row1\" class=\"row_heading level0 row1\" >Ecossaises</th>\n",
       "                        <td id=\"T_dbc19_row1_col0\" class=\"data row1 col0\" >['72 (1)']</td>\n",
       "                        <td id=\"T_dbc19_row1_col1\" class=\"data row1 col1\" >1</td>\n",
       "            </tr>\n",
       "            <tr>\n",
       "                        <th id=\"T_dbc19_level0_row2\" class=\"row_heading level0 row2\" >Etudes</th>\n",
       "                        <td id=\"T_dbc19_row2_col0\" class=\"data row2 col0\" >['10 (7)', '25 (7)']</td>\n",
       "                        <td id=\"T_dbc19_row2_col1\" class=\"data row2 col1\" >14</td>\n",
       "            </tr>\n",
       "            <tr>\n",
       "                        <th id=\"T_dbc19_level0_row3\" class=\"row_heading level0 row3\" >Impromptus</th>\n",
       "                        <td id=\"T_dbc19_row3_col0\" class=\"data row3 col0\" >['66 (1)']</td>\n",
       "                        <td id=\"T_dbc19_row3_col1\" class=\"data row3 col1\" >1</td>\n",
       "            </tr>\n",
       "            <tr>\n",
       "                        <th id=\"T_dbc19_level0_row4\" class=\"row_heading level0 row4\" >Marche funèbre</th>\n",
       "                        <td id=\"T_dbc19_row4_col0\" class=\"data row4 col0\" >['72 (1)']</td>\n",
       "                        <td id=\"T_dbc19_row4_col1\" class=\"data row4 col1\" >1</td>\n",
       "            </tr>\n",
       "            <tr>\n",
       "                        <th id=\"T_dbc19_level0_row5\" class=\"row_heading level0 row5\" >Mazurkas</th>\n",
       "                        <td id=\"T_dbc19_row5_col0\" class=\"data row5 col0\" >['6 (3)', '7 (2)', '30 (1)', '33 (2)', '67 (3)', '68 (1)']</td>\n",
       "                        <td id=\"T_dbc19_row5_col1\" class=\"data row5 col1\" >12</td>\n",
       "            </tr>\n",
       "            <tr>\n",
       "                        <th id=\"T_dbc19_level0_row6\" class=\"row_heading level0 row6\" >Nocturnes</th>\n",
       "                        <td id=\"T_dbc19_row6_col0\" class=\"data row6 col0\" >['9 (3)', '15 (3)', '27 (2)', '32 (1)', '37 (2)', '48 (2)', '55 (2)', '62 (1)', '72 (1)']</td>\n",
       "                        <td id=\"T_dbc19_row6_col1\" class=\"data row6 col1\" >17</td>\n",
       "            </tr>\n",
       "            <tr>\n",
       "                        <th id=\"T_dbc19_level0_row7\" class=\"row_heading level0 row7\" >Polonaise</th>\n",
       "                        <td id=\"T_dbc19_row7_col0\" class=\"data row7 col0\" >['40 (2)', '53 (1)']</td>\n",
       "                        <td id=\"T_dbc19_row7_col1\" class=\"data row7 col1\" >3</td>\n",
       "            </tr>\n",
       "            <tr>\n",
       "                        <th id=\"T_dbc19_level0_row8\" class=\"row_heading level0 row8\" >Preludes</th>\n",
       "                        <td id=\"T_dbc19_row8_col0\" class=\"data row8 col0\" >['28 (24)']</td>\n",
       "                        <td id=\"T_dbc19_row8_col1\" class=\"data row8 col1\" >24</td>\n",
       "            </tr>\n",
       "            <tr>\n",
       "                        <th id=\"T_dbc19_level0_row9\" class=\"row_heading level0 row9\" >Scherzo</th>\n",
       "                        <td id=\"T_dbc19_row9_col0\" class=\"data row9 col0\" >['31 (1)']</td>\n",
       "                        <td id=\"T_dbc19_row9_col1\" class=\"data row9 col1\" >1</td>\n",
       "            </tr>\n",
       "            <tr>\n",
       "                        <th id=\"T_dbc19_level0_row10\" class=\"row_heading level0 row10\" >Sonatas</th>\n",
       "                        <td id=\"T_dbc19_row10_col0\" class=\"data row10 col0\" >['35 (3)']</td>\n",
       "                        <td id=\"T_dbc19_row10_col1\" class=\"data row10 col1\" >3</td>\n",
       "            </tr>\n",
       "            <tr>\n",
       "                        <th id=\"T_dbc19_level0_row11\" class=\"row_heading level0 row11\" >Waltzes</th>\n",
       "                        <td id=\"T_dbc19_row11_col0\" class=\"data row11 col0\" >['18 (1)', '42 (1)', '64 (1)', '69 (2)', '70 (1)']</td>\n",
       "                        <td id=\"T_dbc19_row11_col1\" class=\"data row11 col1\" >6</td>\n",
       "            </tr>\n",
       "    </tbody></table>"
      ],
      "text/plain": [
       "<pandas.io.formats.style.Styler at 0x7feade30f1c0>"
      ]
     },
     "execution_count": 13,
     "metadata": {},
     "output_type": "execute_result"
    }
   ],
   "source": [
    "# Define genres\n",
    "genres = [\n",
    "    'Ballade', \n",
    "    'Etudes', \n",
    "    'promptu', \n",
    "    'Mazurkas', \n",
    "    'Nocturne', \n",
    "    'Preludes',  \n",
    "    'Sonata', \n",
    "    'Waltz',\n",
    "    'Polonaise',\n",
    "    'Scherzo',\n",
    "    'Marche funèbre',\n",
    "    'Ecossaises'\n",
    "]\n",
    "def agg_op(x):\n",
    "    pdb.set_trace()\n",
    "    list(x)\n",
    "    \n",
    "def aggregate(data):\n",
    "    d = {}\n",
    "    Op_list = data['Op'].tolist()\n",
    "    Midi_list = data['MIDI files'].tolist()\n",
    "    d['Op'] = [ str(a) + ' (' + str(b) + ')' for a, b in zip(Op_list, Midi_list)]\n",
    "    d['MIDI files'] = sum(data['MIDI files'])\n",
    "    return pd.Series(d)\n",
    "\n",
    "df_pieces_summary = pd.concat([midi.get_piece_summary_df(i, df_chopin_opus_midi, op_numbers) for i in genres])\n",
    "df_genre_summary = df_pieces_summary[['MIDI files', 'genre', 'Op']] \\\n",
    "                    .groupby(['genre']) \\\n",
    "                    .apply(aggregate)\n",
    "df_genre_summary.rename(index={'Ballade':'Ballades','promptu':'Impromptus', 'Sonata' : 'Sonatas', 'Nocturne' : 'Nocturnes', 'Waltz' :'Waltzes'}, inplace=True)\n",
    "df_genre_summary = df_genre_summary.sort_index()\n",
    "df_genre_summary.style.set_properties(subset=['Op'], **{'width-min': '300px'})"
   ]
  },
  {
   "cell_type": "code",
   "execution_count": 14,
   "id": "approximate-passenger",
   "metadata": {},
   "outputs": [
    {
     "name": "stdout",
     "output_type": "stream",
     "text": [
      "Number of pieces by Chopin left for selected generes =  0\n"
     ]
    }
   ],
   "source": [
    "# Update all_pieces to only use pieces from defined genres \n",
    "op_train = [item for sublist in df_genre_summary['Op'] for item in sublist]\n",
    "genere_keys = [k for k in chopin_only_pieces.keys() if int(str(k)[4:6]) in op_train]\n",
    "genere_pieces = {k:v for k, v in chopin_only_pieces.items() if k in genere_keys}\n",
    "print('Number of pieces by Chopin left for selected generes = ', len(genere_pieces))"
   ]
  },
  {
   "cell_type": "code",
   "execution_count": 15,
   "id": "adjustable-firmware",
   "metadata": {},
   "outputs": [],
   "source": [
    "# Define pieces for each genre\n",
    "ballades = midi.get_subset_all_pieces_for_genre('Ballades', chopin_only_pieces, df_genre_summary)\n",
    "etudes = midi.get_subset_all_pieces_for_genre('Etudes', chopin_only_pieces, df_genre_summary)\n",
    "impromptus = midi.get_subset_all_pieces_for_genre('Impromptus', chopin_only_pieces, df_genre_summary)\n",
    "mazurkas = midi.get_subset_all_pieces_for_genre('Mazurkas', chopin_only_pieces, df_genre_summary)\n",
    "nocturnes = midi.get_subset_all_pieces_for_genre('Nocturnes', chopin_only_pieces, df_genre_summary)\n",
    "preludes = midi.get_subset_all_pieces_for_genre('Preludes', chopin_only_pieces, df_genre_summary)\n",
    "sonatas = midi.get_subset_all_pieces_for_genre('Sonatas', chopin_only_pieces, df_genre_summary)\n",
    "waltzes = midi.get_subset_all_pieces_for_genre('Waltzes', chopin_only_pieces, df_genre_summary)"
   ]
  },
  {
   "cell_type": "markdown",
   "id": "composite-smile",
   "metadata": {},
   "source": [
    "#### Filter 'incorrect' Chopin pieces by genre"
   ]
  },
  {
   "cell_type": "code",
   "execution_count": 16,
   "id": "applicable-calvin",
   "metadata": {},
   "outputs": [
    {
     "data": {
      "text/plain": [
       "{4: 1, 6: 3, 8: 2, 12: 37, 16: 31, 17: 1, 19: 1, 24: 6, 28: 1, 36: 1, 40: 1}"
      ]
     },
     "execution_count": 16,
     "metadata": {},
     "output_type": "execute_result"
    }
   ],
   "source": [
    "#Check time signature occurences\n",
    "time_signatures = []\n",
    "verbose = False #True\n",
    "keys = list(chopin_only_pieces.keys())\n",
    "for k in keys:\n",
    "    piece = chopin_only_pieces[str(k)]\n",
    "    time_signature = max([b[0][3] for b in  piece])\n",
    "    if str(k) in midi.EXACT_FILES:\n",
    "        time_signatures.append(time_signature)\n",
    "    if verbose:\n",
    "        print(\"Piece: {}\".format(k) + \"  Time signature: {}\".format(time_signature))\n",
    "time_signatures = np.array(time_signatures)\n",
    "unique, counts = np.unique(time_signatures, return_counts=True)\n",
    "dict(zip(unique, counts))"
   ]
  },
  {
   "cell_type": "code",
   "execution_count": 17,
   "id": "australian-discovery",
   "metadata": {},
   "outputs": [
    {
     "name": "stdout",
     "output_type": "stream",
     "text": [
      "Number of synthesized Chopin pieces =  85\n"
     ]
    }
   ],
   "source": [
    "print('Number of synthesized Chopin pieces = ', sum(counts))"
   ]
  },
  {
   "cell_type": "code",
   "execution_count": 18,
   "id": "controversial-radio",
   "metadata": {},
   "outputs": [],
   "source": [
    "import matplotlib.pyplot as plt\n",
    "time_signatures_dict = dict()\n",
    "time_signatures_dict[\"other\"] =  0\n",
    "keys = [\n",
    "    \"3/8\",\n",
    "    \"4/8\\n 2/4\",\n",
    "    \"6/8\\n 3/4\",\n",
    "    \"8/8\\n 4/4\",\n",
    "    \"12/8\\n 6/4\",\n",
    "    \"other\"\n",
    "]\n",
    "\n",
    "for ts in zip(unique, counts):\n",
    "    if ts[0] == 6:\n",
    "        # append the new number to the existing array at this slot\n",
    "        time_signatures_dict[keys[0]] = ts[1]\n",
    "    elif ts[0] == 8:\n",
    "        # append the new number to the existing array at this slot\n",
    "        time_signatures_dict[keys[1]] = ts[1]\n",
    "    elif ts[0] == 12:\n",
    "        # append the new number to the existing array at this slot\n",
    "        time_signatures_dict[keys[2]] = ts[1]\n",
    "    elif ts[0] == 16:\n",
    "        # append the new number to the existing array at this slot\n",
    "        time_signatures_dict[keys[3]] = ts[1]\n",
    "    elif ts[0] == 24:\n",
    "        # append the new number to the existing array at this slot\n",
    "        time_signatures_dict[keys[4]] = ts[1]\n",
    "    else:\n",
    "        # create a new array in this slot\n",
    "        time_signatures_dict[keys[5]] += ts[1]\n",
    "        \n",
    "desired_order_list = [1, 2, 3, 4, 5, 6]\n",
    "\n",
    "time_signatures_dict = {keys[k-1]: time_signatures_dict[keys[k-1]] for k in desired_order_list}"
   ]
  },
  {
   "cell_type": "code",
   "execution_count": 19,
   "id": "hungarian-cherry",
   "metadata": {},
   "outputs": [
    {
     "data": {
      "image/png": "[encoded data removed]",
      "text/plain": [
       "<Figure size 504x288 with 1 Axes>"
      ]
     },
     "metadata": {},
     "output_type": "display_data"
    }
   ],
   "source": [
    "import matplotlib.pyplot as plt\n",
    "from matplotlib.pyplot import figure\n",
    "\n",
    "x_tmp = time_signatures_dict.keys()\n",
    "y_tmp = time_signatures_dict.values()\n",
    "\n",
    "fig, ax = plt.subplots()\n",
    "fig.set_facecolor('white')\n",
    "width = 0.75 # the width of the bars \n",
    "ax.bar(x_tmp, y_tmp, width, color=\"black\", fill=False)\n",
    "plt.title('F. Chopin dataset')\n",
    "plt.xlabel('Time signature')\n",
    "plt.ylabel('Number of MIDI files')   \n",
    "plt.ylim([0, 45])\n",
    "for i, v in enumerate(y_tmp):\n",
    "    ax.text(i -0.2, v + 1 , str(v), color='black')\n",
    "    \n",
    "fig = plt.gcf()\n",
    "fig.set_size_inches(7, 4)\n",
    "plt.rcParams.update({'font.size': 22})\n",
    "plt.savefig(os.path.join('Chopin_dataset.png'), dpi=300, format='png', bbox_inches='tight', transparent= False)"
   ]
  },
  {
   "cell_type": "code",
   "execution_count": 22,
   "id": "possible-alberta",
   "metadata": {},
   "outputs": [
    {
     "data": {
      "text/plain": [
       "{16: 31}"
      ]
     },
     "execution_count": 22,
     "metadata": {},
     "output_type": "execute_result"
    }
   ],
   "source": [
    "#Only include pieces which were not recoreded (i.e. which MIDI files are exact) and are in 2/4, 3/4 or 4/4\n",
    "time_signatures = []\n",
    "verbose = False #True\n",
    "chopin_pieces_filtered = chopin_only_pieces.copy()\n",
    "keys = list(chopin_pieces_filtered.keys())\n",
    "for k in keys:\n",
    "        piece = chopin_pieces_filtered[str(k)]\n",
    "        time_signature = max([b[0][3] for b in  piece])\n",
    "        if not ((time_signature in [16]) and str(k) in midi.EXACT_FILES) :\n",
    "            chopin_pieces_filtered.pop(k)\n",
    "        else:\n",
    "            time_signatures.append(time_signature)\n",
    "        if verbose:\n",
    "            print(\"Piece: {}\".format(k) + \"  Time signature: {}\".format(time_signature))\n",
    "time_signatures = np.array(time_signatures)\n",
    "unique, counts = np.unique(time_signatures, return_counts=True)\n",
    "dict(zip(unique, counts))"
   ]
  },
  {
   "cell_type": "code",
   "execution_count": 23,
   "id": "liberal-solution",
   "metadata": {},
   "outputs": [
    {
     "name": "stdout",
     "output_type": "stream",
     "text": [
      "Number of Chopin pieces left after filtering =  31\n"
     ]
    }
   ],
   "source": [
    "print('Number of Chopin pieces left after filtering = ', len(chopin_pieces_filtered))"
   ]
  },
  {
   "cell_type": "markdown",
   "id": "clear-mauritius",
   "metadata": {},
   "source": [
    "#### Filter Piano Midi pieces by 3/4 or 4/4 measure"
   ]
  },
  {
   "cell_type": "code",
   "execution_count": 24,
   "id": "miniature-extension",
   "metadata": {},
   "outputs": [
    {
     "name": "stdout",
     "output_type": "stream",
     "text": [
      "Number of Piano Midi pieces loaded =  12\n"
     ]
    }
   ],
   "source": [
    "print('Number of Piano Midi pieces loaded = ', len(piano_midi_only_pieces))"
   ]
  },
  {
   "cell_type": "code",
   "execution_count": 25,
   "id": "technological-skating",
   "metadata": {},
   "outputs": [
    {
     "data": {
      "text/plain": [
       "{8: 2, 12: 4, 16: 5, 18: 1}"
      ]
     },
     "execution_count": 25,
     "metadata": {},
     "output_type": "execute_result"
    }
   ],
   "source": [
    "#Check time signature occurences\n",
    "time_signatures = []\n",
    "verbose = False #True\n",
    "keys = list(piano_midi_only_pieces.keys())\n",
    "for k in keys:\n",
    "    piece = piano_midi_only_pieces[str(k)]\n",
    "    time_signature = max([b[0][3] for b in  piece])\n",
    "    time_signatures.append(time_signature)\n",
    "    if verbose:\n",
    "        print(\"Piece: {}\".format(k) + \"  Time signature: {}\".format(time_signature))\n",
    "time_signatures = np.array(time_signatures)\n",
    "unique, counts = np.unique(time_signatures, return_counts=True)\n",
    "dict(zip(unique, counts))"
   ]
  },
  {
   "cell_type": "code",
   "execution_count": 26,
   "id": "excess-sphere",
   "metadata": {},
   "outputs": [
    {
     "ename": "KeyError",
     "evalue": "'3/8'",
     "output_type": "error",
     "traceback": [
      "\u001b[0;31m---------------------------------------------------------------------------\u001b[0m",
      "\u001b[0;31mKeyError\u001b[0m                                  Traceback (most recent call last)",
      "\u001b[0;32m<ipython-input-26-385e83ccd72e>\u001b[0m in \u001b[0;36m<module>\u001b[0;34m\u001b[0m\n\u001b[1;32m     33\u001b[0m \u001b[0mdesired_order_list\u001b[0m \u001b[0;34m=\u001b[0m \u001b[0;34m[\u001b[0m\u001b[0;36m1\u001b[0m\u001b[0;34m,\u001b[0m \u001b[0;36m2\u001b[0m\u001b[0;34m,\u001b[0m \u001b[0;36m3\u001b[0m\u001b[0;34m,\u001b[0m \u001b[0;36m4\u001b[0m\u001b[0;34m,\u001b[0m \u001b[0;36m5\u001b[0m\u001b[0;34m,\u001b[0m \u001b[0;36m6\u001b[0m\u001b[0;34m]\u001b[0m\u001b[0;34m\u001b[0m\u001b[0;34m\u001b[0m\u001b[0m\n\u001b[1;32m     34\u001b[0m \u001b[0;34m\u001b[0m\u001b[0m\n\u001b[0;32m---> 35\u001b[0;31m \u001b[0mtime_signatures_dict\u001b[0m \u001b[0;34m=\u001b[0m \u001b[0;34m{\u001b[0m\u001b[0mkeys\u001b[0m\u001b[0;34m[\u001b[0m\u001b[0mk\u001b[0m\u001b[0;34m-\u001b[0m\u001b[0;36m1\u001b[0m\u001b[0;34m]\u001b[0m\u001b[0;34m:\u001b[0m \u001b[0mtime_signatures_dict\u001b[0m\u001b[0;34m[\u001b[0m\u001b[0mkeys\u001b[0m\u001b[0;34m[\u001b[0m\u001b[0mk\u001b[0m\u001b[0;34m-\u001b[0m\u001b[0;36m1\u001b[0m\u001b[0;34m]\u001b[0m\u001b[0;34m]\u001b[0m \u001b[0;32mfor\u001b[0m \u001b[0mk\u001b[0m \u001b[0;32min\u001b[0m \u001b[0mdesired_order_list\u001b[0m\u001b[0;34m}\u001b[0m\u001b[0;34m\u001b[0m\u001b[0;34m\u001b[0m\u001b[0m\n\u001b[0m",
      "\u001b[0;32m<ipython-input-26-385e83ccd72e>\u001b[0m in \u001b[0;36m<dictcomp>\u001b[0;34m(.0)\u001b[0m\n\u001b[1;32m     33\u001b[0m \u001b[0mdesired_order_list\u001b[0m \u001b[0;34m=\u001b[0m \u001b[0;34m[\u001b[0m\u001b[0;36m1\u001b[0m\u001b[0;34m,\u001b[0m \u001b[0;36m2\u001b[0m\u001b[0;34m,\u001b[0m \u001b[0;36m3\u001b[0m\u001b[0;34m,\u001b[0m \u001b[0;36m4\u001b[0m\u001b[0;34m,\u001b[0m \u001b[0;36m5\u001b[0m\u001b[0;34m,\u001b[0m \u001b[0;36m6\u001b[0m\u001b[0;34m]\u001b[0m\u001b[0;34m\u001b[0m\u001b[0;34m\u001b[0m\u001b[0m\n\u001b[1;32m     34\u001b[0m \u001b[0;34m\u001b[0m\u001b[0m\n\u001b[0;32m---> 35\u001b[0;31m \u001b[0mtime_signatures_dict\u001b[0m \u001b[0;34m=\u001b[0m \u001b[0;34m{\u001b[0m\u001b[0mkeys\u001b[0m\u001b[0;34m[\u001b[0m\u001b[0mk\u001b[0m\u001b[0;34m-\u001b[0m\u001b[0;36m1\u001b[0m\u001b[0;34m]\u001b[0m\u001b[0;34m:\u001b[0m \u001b[0mtime_signatures_dict\u001b[0m\u001b[0;34m[\u001b[0m\u001b[0mkeys\u001b[0m\u001b[0;34m[\u001b[0m\u001b[0mk\u001b[0m\u001b[0;34m-\u001b[0m\u001b[0;36m1\u001b[0m\u001b[0;34m]\u001b[0m\u001b[0;34m]\u001b[0m \u001b[0;32mfor\u001b[0m \u001b[0mk\u001b[0m \u001b[0;32min\u001b[0m \u001b[0mdesired_order_list\u001b[0m\u001b[0;34m}\u001b[0m\u001b[0;34m\u001b[0m\u001b[0;34m\u001b[0m\u001b[0m\n\u001b[0m",
      "\u001b[0;31mKeyError\u001b[0m: '3/8'"
     ]
    }
   ],
   "source": [
    "import matplotlib.pyplot as plt\n",
    "time_signatures_dict = dict()\n",
    "time_signatures_dict[\"other\"] =  0\n",
    "keys = [\n",
    "    \"3/8\",\n",
    "    \"4/8\\n 2/4\",\n",
    "    \"6/8\\n 3/4\",\n",
    "    \"8/8\\n 4/4\",\n",
    "    \"12/8\\n 6/4\",\n",
    "    \"other\"\n",
    "]\n",
    "\n",
    "for ts in zip(unique, counts):\n",
    "    if ts[0] == 6:\n",
    "        # append the new number to the existing array at this slot\n",
    "        time_signatures_dict[keys[0]] = ts[1]\n",
    "    elif ts[0] == 8:\n",
    "        # append the new number to the existing array at this slot\n",
    "        time_signatures_dict[keys[1]] = ts[1]\n",
    "    elif ts[0] == 12:\n",
    "        # append the new number to the existing array at this slot\n",
    "        time_signatures_dict[keys[2]] = ts[1]\n",
    "    elif ts[0] == 16:\n",
    "        # append the new number to the existing array at this slot\n",
    "        time_signatures_dict[keys[3]] = ts[1]\n",
    "    elif ts[0] == 24:\n",
    "        # append the new number to the existing array at this slot\n",
    "        time_signatures_dict[keys[4]] = ts[1]\n",
    "    else:\n",
    "        # create a new array in this slot\n",
    "        time_signatures_dict[keys[5]] += ts[1]\n",
    "        \n",
    "desired_order_list = [1, 2, 3, 4, 5, 6]\n",
    "\n",
    "time_signatures_dict = {keys[k-1]: time_signatures_dict[keys[k-1]] for k in desired_order_list}"
   ]
  },
  {
   "cell_type": "code",
   "execution_count": 27,
   "id": "dangerous-certification",
   "metadata": {},
   "outputs": [
    {
     "data": {
      "image/png": "[encoded data removed]",
      "text/plain": [
       "<Figure size 504x288 with 1 Axes>"
      ]
     },
     "metadata": {},
     "output_type": "display_data"
    }
   ],
   "source": [
    "import matplotlib.pyplot as plt\n",
    "\n",
    "x_tmp = time_signatures_dict.keys()\n",
    "y_tmp = time_signatures_dict.values()\n",
    "\n",
    "fig, ax = plt.subplots()\n",
    "fig.set_facecolor('white')\n",
    "width = 0.75 # the width of the bars \n",
    "ax.bar(x_tmp, y_tmp, width, color=\"black\", fill=False)\n",
    "plt.title('Piano-midi.de')\n",
    "plt.xlabel('Time signature')\n",
    "plt.ylabel('Number of MIDI files')   \n",
    "plt.ylim([0, 105])\n",
    "for i, v in enumerate(y_tmp):\n",
    "    ax.text(i - 0.2 , v + 2 , str(v), color='black')\n",
    "\n",
    "fig = plt.gcf()\n",
    "fig.set_size_inches(7, 4)\n",
    "plt.rcParams.update({'font.size': 22})\n",
    "plt.savefig(os.path.join('Piano_midi.png'), dpi=300, format='png', bbox_inches='tight', transparent= False)"
   ]
  },
  {
   "cell_type": "code",
   "execution_count": 28,
   "id": "furnished-concentration",
   "metadata": {},
   "outputs": [],
   "source": [
    "#order training pieces by time signature\n",
    "piano_midi_pieces_filtered = piano_midi_only_pieces.copy()\n",
    "piano_midi_pieces_remaining = piano_midi_only_pieces.copy()\n",
    "keys = list(piano_midi_only_pieces.keys())\n",
    "verbose = False\n",
    "\n",
    "for k in keys:\n",
    "    piece = piano_midi_only_pieces[str(k)]\n",
    "    time_signature = int(max([b[0][3] for b in  piece]))\n",
    "    if not (time_signature in [16]):\n",
    "        piano_midi_pieces_filtered.pop(k)\n",
    "    else:\n",
    "        piano_midi_pieces_remaining.pop(k)\n",
    "    if verbose:\n",
    "        print(\"Piece: {}\".format(k) + \"  Time signature: {}\".format(time_signature))"
   ]
  },
  {
   "cell_type": "code",
   "execution_count": 29,
   "id": "willing-bulgarian",
   "metadata": {},
   "outputs": [
    {
     "name": "stdout",
     "output_type": "stream",
     "text": [
      "Number of Piano Midi pieces left after filtering =  5\n"
     ]
    }
   ],
   "source": [
    "print('Number of Piano Midi pieces left after filtering = ', len(piano_midi_pieces_filtered))"
   ]
  },
  {
   "cell_type": "markdown",
   "id": "minor-encounter",
   "metadata": {},
   "source": [
    "#### Train/Validation pieces split"
   ]
  },
  {
   "cell_type": "code",
   "execution_count": 31,
   "id": "renewable-kidney",
   "metadata": {},
   "outputs": [],
   "source": [
    "# Define pieces relevant for training and validation\n",
    "#pieces_tmp = piano_midi_pieces_filtered.copy()\n",
    "pieces_tmp = chopin_pieces_filtered.copy()"
   ]
  },
  {
   "cell_type": "code",
   "execution_count": 32,
   "id": "collectible-tucson",
   "metadata": {},
   "outputs": [],
   "source": [
    "# Free up memory\n",
    "def free_memory():\n",
    "    all_pieces.clear()\n",
    "    chopin_only_pieces.clear()\n",
    "    genere_pieces.clear()\n",
    "    piano_midi_only_pieces.clear()\n",
    "    piano_midi_pieces_filtered.clear()\n",
    "    piano_midi_pieces_remaining.clear()\n",
    "    pieces_tmp.clear()"
   ]
  },
  {
   "cell_type": "code",
   "execution_count": 33,
   "id": "returning-account",
   "metadata": {},
   "outputs": [],
   "source": [
    "# Either select one validation and one training piece or \n",
    "# set aside a random set of pieces for validation purposes\n",
    "n_subset = 30\n",
    "#selection = 'single_piece' \n",
    "#selection = 'subset'\n",
    "selection = 'all'\n",
    "\n",
    "random.seed(1337)\n",
    "if selection == 'single_piece':\n",
    "    validation_pieces = copy.deepcopy({'chop2803' : all_pieces['chop2803']})\n",
    "    training_pieces   = copy.deepcopy({'chop2804' : all_pieces['chop2804']})\n",
    "    free_memory()\n",
    "elif selection == 'subset' or selection == 'all':\n",
    "    if selection == 'subset':\n",
    "        training_pieces = copy.deepcopy({k: pieces_tmp[k] for k in random.sample(list(pieces_tmp.keys()), n_subset)})\n",
    "        free_memory()\n",
    "    elif selection == 'all':\n",
    "        training_pieces = pieces_tmp.copy()\n",
    "    num_validation_pieces = len(training_pieces) // 10\n",
    "\n",
    "    validation_pieces={}\n",
    "    for v in range(num_validation_pieces):\n",
    "        index = random.choice(list(training_pieces.keys()))\n",
    "        validation_pieces[index] = training_pieces.pop(index)"
   ]
  },
  {
   "cell_type": "code",
   "execution_count": 34,
   "id": "american-volume",
   "metadata": {
    "scrolled": true
   },
   "outputs": [
    {
     "name": "stdout",
     "output_type": "stream",
     "text": [
      "Number of training   pieces =  28\n",
      "Number of validation pieces =  3\n"
     ]
    }
   ],
   "source": [
    "print('Number of training   pieces = ', len(training_pieces))    \n",
    "print('Number of validation pieces = ', len(validation_pieces))     "
   ]
  },
  {
   "cell_type": "markdown",
   "id": "extraordinary-column",
   "metadata": {},
   "source": [
    "#### Check that features (X) and lables (y) generation work"
   ]
  },
  {
   "cell_type": "code",
   "execution_count": 35,
   "id": "authentic-lighter",
   "metadata": {},
   "outputs": [
    {
     "name": "stdout",
     "output_type": "stream",
     "text": [
      "Dimensions y: (sample_size, num_notes, num_timesteps, play_articulate_velocity) =  (2, 88, 96, 4)\n",
      "Dimensions X: (sample_size, num_notes, num_timesteps, feature_dim             ) =  (2, 88, 96, 108)\n"
     ]
    }
   ],
   "source": [
    "# Generate sample Note State Matrix for dimension measurement and numerical checking purposes\n",
    "y = batch.getPieceBatch(training_pieces, batch_size = 2, num_time_steps = 96) \n",
    "X = prep.inputKernel(y, Midi_low = 21, Midi_high = 108)\n",
    "\n",
    "\n",
    "print('Dimensions y: (sample_size, num_notes, num_timesteps, play_articulate_velocity) = ', y.shape)\n",
    "print('Dimensions X: (sample_size, num_notes, num_timesteps, feature_dim             ) = ', X.shape)"
   ]
  },
  {
   "cell_type": "code",
   "execution_count": 33,
   "id": "fifty-senator",
   "metadata": {},
   "outputs": [
    {
     "data": {
      "text/plain": [
       "{'note': 67,\n",
       " 'pitch_class': array([0, 0, 0, 0, 0, 0, 0, 1, 0, 0, 0, 0]),\n",
       " 'part_prev_vicinity': array([0, 0, 0, 0, 0, 0, 0, 0, 0, 0, 0, 0, 0, 0, 0, 0, 0, 0, 0, 0, 0, 0,\n",
       "        0, 0, 0, 0, 0, 0, 0, 0, 0, 0, 0, 0, 0, 0, 0, 0, 0, 0, 0, 0, 0, 0,\n",
       "        0, 0, 0, 0, 0, 0, 0, 0, 0, 0, 0, 0, 0, 0, 0, 0, 0, 0, 0, 0, 0, 0,\n",
       "        0, 0, 0, 0, 0, 0, 0, 0, 0]),\n",
       " 'part_prev_vicinity_lower': array([0, 0, 0, 0, 0, 0, 0, 0, 0, 0, 0, 0, 0, 0, 0, 0, 0, 0, 0, 0, 0, 0,\n",
       "        0, 0, 0, 0, 0, 0, 0, 0, 0, 0, 0, 0, 0, 0]),\n",
       " 'part_prev_vicinity_same': array([0, 0, 0]),\n",
       " 'part_prev_vicinity_higher': array([0, 0, 0, 0, 0, 0, 0, 0, 0, 0, 0, 0, 0, 0, 0, 0, 0, 0, 0, 0, 0, 0,\n",
       "        0, 0, 0, 0, 0, 0, 0, 0, 0, 0, 0, 0, 0, 0]),\n",
       " 'part_context': array([1, 0, 0, 0, 0, 0, 0, 0, 0, 1, 0, 0]),\n",
       " 'beat': array([1, 0, 0, 0, 0]),\n",
       " 'time_signature': 16,\n",
       " 'velocity': 0,\n",
       " 'zero': 0}"
      ]
     },
     "execution_count": 33,
     "metadata": {},
     "output_type": "execute_result"
    }
   ],
   "source": [
    "# Feature vector for the 1st batch the 31rd note and the 51st 48th-note timestep (cast to int)\n",
    "prep.noteRNNInputSummary(X[0,46,3,:])"
   ]
  },
  {
   "cell_type": "code",
   "execution_count": 36,
   "id": "continental-finder",
   "metadata": {},
   "outputs": [
    {
     "data": {
      "text/plain": [
       "[(23, array([ 1,  1, 32,  1], dtype=int32)),\n",
       " (30, array([ 1,  1, 36,  1], dtype=int32)),\n",
       " (35, array([ 1,  1, 40,  1], dtype=int32)),\n",
       " (39, array([ 1,  1, 52,  1], dtype=int32))]"
      ]
     },
     "execution_count": 36,
     "metadata": {},
     "output_type": "execute_result"
    }
   ],
   "source": [
    "# Compare to all notes played at timestep 51\n",
    "[(i,j) for i,j in enumerate(list(tf.cast(y[0,:,0,:], dtype=tf.int32).numpy())) if j[0]== 1]"
   ]
  },
  {
   "cell_type": "markdown",
   "id": "valid-reservoir",
   "metadata": {},
   "source": [
    "#### Test generating midi files from y_train "
   ]
  },
  {
   "cell_type": "code",
   "execution_count": 37,
   "id": "dated-victory",
   "metadata": {},
   "outputs": [],
   "source": [
    "# Backtransform the 128 48th notes from the first random sampled training_piece to MIDI\n",
    "test_midi = tf.cast(tf.transpose(y, perm=[0,2,1,3])[0,:,:,:], dtype=tf.int32).numpy()\n",
    "midi.noteStateMatrixToMidi(test_midi, Music_Out_Directory + \"random_test\")"
   ]
  },
  {
   "cell_type": "markdown",
   "id": "swiss-softball",
   "metadata": {},
   "source": [
    "#### Check number of notes played, articulated and velocity per timestep"
   ]
  },
  {
   "cell_type": "code",
   "execution_count": 38,
   "id": "careful-pattern",
   "metadata": {},
   "outputs": [],
   "source": [
    "test = tf.transpose(y, perm=[0,2,1,3])[0,:,:,:].numpy()\n",
    "notes_per_timestep = [(i,tf.reduce_sum(test[i,:,0]).numpy()) for i in range(test.shape[0])]\n",
    "articulate_per_timestep = [(i,tf.reduce_sum(test[i,:,1]).numpy()) for i in range(test.shape[0])]\n",
    "mean_tempo_per_timestep = [(i,tf.reduce_mean(test[i,np.array(test[i,:,0], dtype=bool),2]).numpy()) for i in range(test.shape[0])]"
   ]
  },
  {
   "cell_type": "markdown",
   "id": "boxed-license",
   "metadata": {},
   "source": [
    "### Model architecture"
   ]
  },
  {
   "cell_type": "markdown",
   "id": "accepted-constant",
   "metadata": {},
   "source": [
    "#### Parameters"
   ]
  },
  {
   "cell_type": "code",
   "execution_count": 39,
   "id": "palestinian-quilt",
   "metadata": {},
   "outputs": [],
   "source": [
    "Midi_low = lowerBound\n",
    "Midi_high = upperBound - 1\n",
    "num_notes = Midi_high + 1 - Midi_low # X.shape[1] = Midi_high + 1 - Midi_low \n",
    "num_timesteps = -1 # keep the num_timesteps variable, in training set to X.shape[2]\n",
    "input_size = 108 # X.shape[3]\n",
    "drop_out_rate = 0.5\n",
    "\n",
    "num_t_units = [128, 128] # [256, 128]\n",
    "num_n_units = [64,  64] # [128,  64]\n",
    "dense_units = 3    # (play,articulate,velocity)\n",
    "\n",
    "TIME_BATCH_SHAPE = (num_timesteps, input_size)\n",
    "NOTE_BATCH_SHAPE = (num_notes, num_t_units[1])"
   ]
  },
  {
   "cell_type": "markdown",
   "id": "controversial-interstate",
   "metadata": {},
   "source": [
    "#### Inputs"
   ]
  },
  {
   "cell_type": "code",
   "execution_count": 40,
   "id": "greater-interpretation",
   "metadata": {},
   "outputs": [],
   "source": [
    "inputs = tf.keras.Input(shape=(num_notes, None, input_size), name=\"inputs\")\n",
    "inputs_shape = sub.GetShape()(inputs)"
   ]
  },
  {
   "cell_type": "markdown",
   "id": "british-helmet",
   "metadata": {},
   "source": [
    "#### Timewise LSTM"
   ]
  },
  {
   "cell_type": "code",
   "execution_count": 41,
   "id": "sublime-championship",
   "metadata": {},
   "outputs": [],
   "source": [
    "# Reshaping\n",
    "x = sub.BatchReshape(TIME_BATCH_SHAPE, False)(inputs)\n",
    "\n",
    "# Timewise LSTMs\n",
    "x = tf.keras.layers.LSTM(num_t_units[0], return_sequences=True, dropout= drop_out_rate)(x)\n",
    "x = tf.keras.layers.LSTM(num_t_units[1], return_sequences=True, dropout= drop_out_rate)(x)"
   ]
  },
  {
   "cell_type": "markdown",
   "id": "processed-finland",
   "metadata": {},
   "source": [
    "#### Notewise LSTM"
   ]
  },
  {
   "cell_type": "code",
   "execution_count": 42,
   "id": "fiscal-joyce",
   "metadata": {},
   "outputs": [],
   "source": [
    "# Reshaping\n",
    "x = sub.BatchReshape([num_notes, num_timesteps , num_t_units[1]], True)(x)\n",
    "x = tf.keras.layers.Permute((2,1,3))(x)\n",
    "x = sub.BatchReshape(NOTE_BATCH_SHAPE, False)(x)\n",
    "\n",
    "# Notewise LSTMs\n",
    "x = tf.keras.layers.LSTM(num_n_units[0], return_sequences=True, dropout= drop_out_rate)(x)\n",
    "x = tf.keras.layers.LSTM(num_n_units[1], return_sequences=True, dropout= drop_out_rate)(x)"
   ]
  },
  {
   "cell_type": "markdown",
   "id": "analyzed-enforcement",
   "metadata": {},
   "source": [
    "#### Simulate conditional probabilty using dense layers"
   ]
  },
  {
   "cell_type": "code",
   "execution_count": 43,
   "id": "unauthorized-toddler",
   "metadata": {},
   "outputs": [],
   "source": [
    "x = sub.SliceNotesTensor()(x)\n",
    "\n",
    "x_tmp = tf.keras.layers.Dense(units=dense_units, activation=None)(x[0])\n",
    "note = sub.SampleNote()(x_tmp)\n",
    "\n",
    "x_list = [x_tmp]\n",
    "note_list = [sub.SliceNoteVelocityTensor()(note)]\n",
    "\n",
    "for n in range(1,len(x)):\n",
    "    x_tmp = tf.keras.layers.Concatenate(axis=-1)([x[n], note])\n",
    "    x_tmp = tf.keras.layers.Dense(units=dense_units, activation=None)(x_tmp)\n",
    "    note = sub.SampleNote()(x_tmp)\n",
    "    x_list.append(x_tmp)\n",
    "    note_list.append(sub.SliceNoteVelocityTensor()(note))"
   ]
  },
  {
   "cell_type": "markdown",
   "id": "several-python",
   "metadata": {},
   "source": [
    "#### Outputs"
   ]
  },
  {
   "cell_type": "code",
   "execution_count": 44,
   "id": "seeing-multiple",
   "metadata": {},
   "outputs": [],
   "source": [
    "# Output 1    \n",
    "x_list = sub.ExpandDims()(x_list, axis=1)\n",
    "x = tf.keras.layers.Concatenate(axis=1)(x_list)\n",
    "x = sub.BatchReshape([num_timesteps, num_notes , dense_units], True)(x, inputs_shape)\n",
    "x_1, x_2 = sub.SliceNotesVelocityTensor()(x)\n",
    "output_1 = tf.keras.layers.Permute((2,1,3), name='play_articulate_prob')(x_1)\n",
    "\n",
    "#Output 2\n",
    "x_2 = sub.BackTransformVelocity()(x_2)\n",
    "output_2 = tf.keras.layers.Permute((2,1,3), name='velocity')(x_2)\n",
    "\n",
    "# Output 3\n",
    "note_list = sub.ExpandDims()(note_list, axis=1)\n",
    "note = tf.keras.layers.Concatenate(axis=1)(note_list)\n",
    "note = sub.BatchReshape([num_timesteps, num_notes , 2], True)(note, inputs_shape)\n",
    "output_3 = tf.keras.layers.Permute((2,1,3), name='play_articulate_sampled')(note)"
   ]
  },
  {
   "cell_type": "markdown",
   "id": "previous-antarctica",
   "metadata": {},
   "source": [
    "#### Full LSTM"
   ]
  },
  {
   "cell_type": "code",
   "execution_count": 45,
   "id": "parallel-capture",
   "metadata": {},
   "outputs": [
    {
     "name": "stdout",
     "output_type": "stream",
     "text": [
      "Model: \"full\"\n",
      "__________________________________________________________________________________________________\n",
      "Layer (type)                    Output Shape         Param #     Connected to                     \n",
      "==================================================================================================\n",
      "inputs (InputLayer)             [(None, 88, None, 10 0                                            \n",
      "__________________________________________________________________________________________________\n",
      "batch_reshape (BatchReshape)    (None, None, 108)    0           inputs[0][0]                     \n",
      "__________________________________________________________________________________________________\n",
      "lstm (LSTM)                     (None, None, 128)    121344      batch_reshape[0][0]              \n",
      "__________________________________________________________________________________________________\n",
      "lstm_1 (LSTM)                   (None, None, 128)    131584      lstm[0][0]                       \n",
      "__________________________________________________________________________________________________\n",
      "batch_reshape_1 (BatchReshape)  (None, 88, None, 128 0           lstm_1[0][0]                     \n",
      "__________________________________________________________________________________________________\n",
      "permute (Permute)               (None, None, 88, 128 0           batch_reshape_1[0][0]            \n",
      "__________________________________________________________________________________________________\n",
      "batch_reshape_2 (BatchReshape)  (None, 88, 128)      0           permute[0][0]                    \n",
      "__________________________________________________________________________________________________\n",
      "lstm_2 (LSTM)                   (None, 88, 64)       49408       batch_reshape_2[0][0]            \n",
      "__________________________________________________________________________________________________\n",
      "lstm_3 (LSTM)                   (None, 88, 64)       33024       lstm_2[0][0]                     \n",
      "__________________________________________________________________________________________________\n",
      "slice_notes_tensor (SliceNotesT [(None, 64), (None,  0           lstm_3[0][0]                     \n",
      "__________________________________________________________________________________________________\n",
      "dense (Dense)                   (None, 3)            195         slice_notes_tensor[0][0]         \n",
      "__________________________________________________________________________________________________\n",
      "sample_note (SampleNote)        (None, 3)            0           dense[0][0]                      \n",
      "__________________________________________________________________________________________________\n",
      "concatenate (Concatenate)       (None, 67)           0           slice_notes_tensor[0][1]         \n",
      "                                                                 sample_note[0][0]                \n",
      "__________________________________________________________________________________________________\n",
      "dense_1 (Dense)                 (None, 3)            204         concatenate[0][0]                \n",
      "__________________________________________________________________________________________________\n",
      "sample_note_1 (SampleNote)      (None, 3)            0           dense_1[0][0]                    \n",
      "__________________________________________________________________________________________________\n",
      "concatenate_1 (Concatenate)     (None, 67)           0           slice_notes_tensor[0][2]         \n",
      "                                                                 sample_note_1[0][0]              \n",
      "__________________________________________________________________________________________________\n",
      "dense_2 (Dense)                 (None, 3)            204         concatenate_1[0][0]              \n",
      "__________________________________________________________________________________________________\n",
      "sample_note_2 (SampleNote)      (None, 3)            0           dense_2[0][0]                    \n",
      "__________________________________________________________________________________________________\n",
      "concatenate_2 (Concatenate)     (None, 67)           0           slice_notes_tensor[0][3]         \n",
      "                                                                 sample_note_2[0][0]              \n",
      "__________________________________________________________________________________________________\n",
      "dense_3 (Dense)                 (None, 3)            204         concatenate_2[0][0]              \n",
      "__________________________________________________________________________________________________\n",
      "sample_note_3 (SampleNote)      (None, 3)            0           dense_3[0][0]                    \n",
      "__________________________________________________________________________________________________\n",
      "concatenate_3 (Concatenate)     (None, 67)           0           slice_notes_tensor[0][4]         \n",
      "                                                                 sample_note_3[0][0]              \n",
      "__________________________________________________________________________________________________\n",
      "dense_4 (Dense)                 (None, 3)            204         concatenate_3[0][0]              \n",
      "__________________________________________________________________________________________________\n",
      "sample_note_4 (SampleNote)      (None, 3)            0           dense_4[0][0]                    \n",
      "__________________________________________________________________________________________________\n",
      "concatenate_4 (Concatenate)     (None, 67)           0           slice_notes_tensor[0][5]         \n",
      "                                                                 sample_note_4[0][0]              \n",
      "__________________________________________________________________________________________________\n",
      "dense_5 (Dense)                 (None, 3)            204         concatenate_4[0][0]              \n",
      "__________________________________________________________________________________________________\n",
      "sample_note_5 (SampleNote)      (None, 3)            0           dense_5[0][0]                    \n",
      "__________________________________________________________________________________________________\n",
      "concatenate_5 (Concatenate)     (None, 67)           0           slice_notes_tensor[0][6]         \n",
      "                                                                 sample_note_5[0][0]              \n",
      "__________________________________________________________________________________________________\n",
      "dense_6 (Dense)                 (None, 3)            204         concatenate_5[0][0]              \n",
      "__________________________________________________________________________________________________\n",
      "sample_note_6 (SampleNote)      (None, 3)            0           dense_6[0][0]                    \n",
      "__________________________________________________________________________________________________\n",
      "concatenate_6 (Concatenate)     (None, 67)           0           slice_notes_tensor[0][7]         \n",
      "                                                                 sample_note_6[0][0]              \n",
      "__________________________________________________________________________________________________\n",
      "dense_7 (Dense)                 (None, 3)            204         concatenate_6[0][0]              \n",
      "__________________________________________________________________________________________________\n",
      "sample_note_7 (SampleNote)      (None, 3)            0           dense_7[0][0]                    \n",
      "__________________________________________________________________________________________________\n",
      "concatenate_7 (Concatenate)     (None, 67)           0           slice_notes_tensor[0][8]         \n",
      "                                                                 sample_note_7[0][0]              \n",
      "__________________________________________________________________________________________________\n",
      "dense_8 (Dense)                 (None, 3)            204         concatenate_7[0][0]              \n",
      "__________________________________________________________________________________________________\n",
      "sample_note_8 (SampleNote)      (None, 3)            0           dense_8[0][0]                    \n",
      "__________________________________________________________________________________________________\n",
      "concatenate_8 (Concatenate)     (None, 67)           0           slice_notes_tensor[0][9]         \n",
      "                                                                 sample_note_8[0][0]              \n",
      "__________________________________________________________________________________________________\n",
      "dense_9 (Dense)                 (None, 3)            204         concatenate_8[0][0]              \n",
      "__________________________________________________________________________________________________\n",
      "sample_note_9 (SampleNote)      (None, 3)            0           dense_9[0][0]                    \n",
      "__________________________________________________________________________________________________\n",
      "concatenate_9 (Concatenate)     (None, 67)           0           slice_notes_tensor[0][10]        \n",
      "                                                                 sample_note_9[0][0]              \n",
      "__________________________________________________________________________________________________\n",
      "dense_10 (Dense)                (None, 3)            204         concatenate_9[0][0]              \n",
      "__________________________________________________________________________________________________\n",
      "sample_note_10 (SampleNote)     (None, 3)            0           dense_10[0][0]                   \n",
      "__________________________________________________________________________________________________\n",
      "concatenate_10 (Concatenate)    (None, 67)           0           slice_notes_tensor[0][11]        \n",
      "                                                                 sample_note_10[0][0]             \n",
      "__________________________________________________________________________________________________\n",
      "dense_11 (Dense)                (None, 3)            204         concatenate_10[0][0]             \n",
      "__________________________________________________________________________________________________\n",
      "sample_note_11 (SampleNote)     (None, 3)            0           dense_11[0][0]                   \n",
      "__________________________________________________________________________________________________\n",
      "concatenate_11 (Concatenate)    (None, 67)           0           slice_notes_tensor[0][12]        \n",
      "                                                                 sample_note_11[0][0]             \n",
      "__________________________________________________________________________________________________\n",
      "dense_12 (Dense)                (None, 3)            204         concatenate_11[0][0]             \n",
      "__________________________________________________________________________________________________\n",
      "sample_note_12 (SampleNote)     (None, 3)            0           dense_12[0][0]                   \n",
      "__________________________________________________________________________________________________\n",
      "concatenate_12 (Concatenate)    (None, 67)           0           slice_notes_tensor[0][13]        \n",
      "                                                                 sample_note_12[0][0]             \n",
      "__________________________________________________________________________________________________\n",
      "dense_13 (Dense)                (None, 3)            204         concatenate_12[0][0]             \n",
      "__________________________________________________________________________________________________\n",
      "sample_note_13 (SampleNote)     (None, 3)            0           dense_13[0][0]                   \n",
      "__________________________________________________________________________________________________\n",
      "concatenate_13 (Concatenate)    (None, 67)           0           slice_notes_tensor[0][14]        \n",
      "                                                                 sample_note_13[0][0]             \n",
      "__________________________________________________________________________________________________\n",
      "dense_14 (Dense)                (None, 3)            204         concatenate_13[0][0]             \n",
      "__________________________________________________________________________________________________\n",
      "sample_note_14 (SampleNote)     (None, 3)            0           dense_14[0][0]                   \n",
      "__________________________________________________________________________________________________\n",
      "concatenate_14 (Concatenate)    (None, 67)           0           slice_notes_tensor[0][15]        \n",
      "                                                                 sample_note_14[0][0]             \n",
      "__________________________________________________________________________________________________\n",
      "dense_15 (Dense)                (None, 3)            204         concatenate_14[0][0]             \n",
      "__________________________________________________________________________________________________\n",
      "sample_note_15 (SampleNote)     (None, 3)            0           dense_15[0][0]                   \n",
      "__________________________________________________________________________________________________\n",
      "concatenate_15 (Concatenate)    (None, 67)           0           slice_notes_tensor[0][16]        \n",
      "                                                                 sample_note_15[0][0]             \n",
      "__________________________________________________________________________________________________\n",
      "dense_16 (Dense)                (None, 3)            204         concatenate_15[0][0]             \n",
      "__________________________________________________________________________________________________\n",
      "sample_note_16 (SampleNote)     (None, 3)            0           dense_16[0][0]                   \n",
      "__________________________________________________________________________________________________\n",
      "concatenate_16 (Concatenate)    (None, 67)           0           slice_notes_tensor[0][17]        \n",
      "                                                                 sample_note_16[0][0]             \n",
      "__________________________________________________________________________________________________\n",
      "dense_17 (Dense)                (None, 3)            204         concatenate_16[0][0]             \n",
      "__________________________________________________________________________________________________\n",
      "sample_note_17 (SampleNote)     (None, 3)            0           dense_17[0][0]                   \n",
      "__________________________________________________________________________________________________\n",
      "concatenate_17 (Concatenate)    (None, 67)           0           slice_notes_tensor[0][18]        \n",
      "                                                                 sample_note_17[0][0]             \n",
      "__________________________________________________________________________________________________\n",
      "dense_18 (Dense)                (None, 3)            204         concatenate_17[0][0]             \n",
      "__________________________________________________________________________________________________\n",
      "sample_note_18 (SampleNote)     (None, 3)            0           dense_18[0][0]                   \n",
      "__________________________________________________________________________________________________\n",
      "concatenate_18 (Concatenate)    (None, 67)           0           slice_notes_tensor[0][19]        \n",
      "                                                                 sample_note_18[0][0]             \n",
      "__________________________________________________________________________________________________\n",
      "dense_19 (Dense)                (None, 3)            204         concatenate_18[0][0]             \n",
      "__________________________________________________________________________________________________\n",
      "sample_note_19 (SampleNote)     (None, 3)            0           dense_19[0][0]                   \n",
      "__________________________________________________________________________________________________\n",
      "concatenate_19 (Concatenate)    (None, 67)           0           slice_notes_tensor[0][20]        \n",
      "                                                                 sample_note_19[0][0]             \n",
      "__________________________________________________________________________________________________\n",
      "dense_20 (Dense)                (None, 3)            204         concatenate_19[0][0]             \n",
      "__________________________________________________________________________________________________\n",
      "sample_note_20 (SampleNote)     (None, 3)            0           dense_20[0][0]                   \n",
      "__________________________________________________________________________________________________\n",
      "concatenate_20 (Concatenate)    (None, 67)           0           slice_notes_tensor[0][21]        \n",
      "                                                                 sample_note_20[0][0]             \n",
      "__________________________________________________________________________________________________\n",
      "dense_21 (Dense)                (None, 3)            204         concatenate_20[0][0]             \n",
      "__________________________________________________________________________________________________\n",
      "sample_note_21 (SampleNote)     (None, 3)            0           dense_21[0][0]                   \n",
      "__________________________________________________________________________________________________\n",
      "concatenate_21 (Concatenate)    (None, 67)           0           slice_notes_tensor[0][22]        \n",
      "                                                                 sample_note_21[0][0]             \n",
      "__________________________________________________________________________________________________\n",
      "dense_22 (Dense)                (None, 3)            204         concatenate_21[0][0]             \n",
      "__________________________________________________________________________________________________\n",
      "sample_note_22 (SampleNote)     (None, 3)            0           dense_22[0][0]                   \n",
      "__________________________________________________________________________________________________\n",
      "concatenate_22 (Concatenate)    (None, 67)           0           slice_notes_tensor[0][23]        \n",
      "                                                                 sample_note_22[0][0]             \n",
      "__________________________________________________________________________________________________\n",
      "dense_23 (Dense)                (None, 3)            204         concatenate_22[0][0]             \n",
      "__________________________________________________________________________________________________\n",
      "sample_note_23 (SampleNote)     (None, 3)            0           dense_23[0][0]                   \n",
      "__________________________________________________________________________________________________\n",
      "concatenate_23 (Concatenate)    (None, 67)           0           slice_notes_tensor[0][24]        \n",
      "                                                                 sample_note_23[0][0]             \n",
      "__________________________________________________________________________________________________\n",
      "dense_24 (Dense)                (None, 3)            204         concatenate_23[0][0]             \n",
      "__________________________________________________________________________________________________\n",
      "sample_note_24 (SampleNote)     (None, 3)            0           dense_24[0][0]                   \n",
      "__________________________________________________________________________________________________\n",
      "concatenate_24 (Concatenate)    (None, 67)           0           slice_notes_tensor[0][25]        \n",
      "                                                                 sample_note_24[0][0]             \n",
      "__________________________________________________________________________________________________\n",
      "dense_25 (Dense)                (None, 3)            204         concatenate_24[0][0]             \n",
      "__________________________________________________________________________________________________\n",
      "sample_note_25 (SampleNote)     (None, 3)            0           dense_25[0][0]                   \n",
      "__________________________________________________________________________________________________\n",
      "concatenate_25 (Concatenate)    (None, 67)           0           slice_notes_tensor[0][26]        \n",
      "                                                                 sample_note_25[0][0]             \n",
      "__________________________________________________________________________________________________\n",
      "dense_26 (Dense)                (None, 3)            204         concatenate_25[0][0]             \n",
      "__________________________________________________________________________________________________\n",
      "sample_note_26 (SampleNote)     (None, 3)            0           dense_26[0][0]                   \n",
      "__________________________________________________________________________________________________\n",
      "concatenate_26 (Concatenate)    (None, 67)           0           slice_notes_tensor[0][27]        \n",
      "                                                                 sample_note_26[0][0]             \n",
      "__________________________________________________________________________________________________\n",
      "dense_27 (Dense)                (None, 3)            204         concatenate_26[0][0]             \n",
      "__________________________________________________________________________________________________\n",
      "sample_note_27 (SampleNote)     (None, 3)            0           dense_27[0][0]                   \n",
      "__________________________________________________________________________________________________\n",
      "concatenate_27 (Concatenate)    (None, 67)           0           slice_notes_tensor[0][28]        \n",
      "                                                                 sample_note_27[0][0]             \n",
      "__________________________________________________________________________________________________\n",
      "dense_28 (Dense)                (None, 3)            204         concatenate_27[0][0]             \n",
      "__________________________________________________________________________________________________\n",
      "sample_note_28 (SampleNote)     (None, 3)            0           dense_28[0][0]                   \n",
      "__________________________________________________________________________________________________\n",
      "concatenate_28 (Concatenate)    (None, 67)           0           slice_notes_tensor[0][29]        \n",
      "                                                                 sample_note_28[0][0]             \n",
      "__________________________________________________________________________________________________\n",
      "dense_29 (Dense)                (None, 3)            204         concatenate_28[0][0]             \n",
      "__________________________________________________________________________________________________\n",
      "sample_note_29 (SampleNote)     (None, 3)            0           dense_29[0][0]                   \n",
      "__________________________________________________________________________________________________\n",
      "concatenate_29 (Concatenate)    (None, 67)           0           slice_notes_tensor[0][30]        \n",
      "                                                                 sample_note_29[0][0]             \n",
      "__________________________________________________________________________________________________\n",
      "dense_30 (Dense)                (None, 3)            204         concatenate_29[0][0]             \n",
      "__________________________________________________________________________________________________\n",
      "sample_note_30 (SampleNote)     (None, 3)            0           dense_30[0][0]                   \n",
      "__________________________________________________________________________________________________\n",
      "concatenate_30 (Concatenate)    (None, 67)           0           slice_notes_tensor[0][31]        \n",
      "                                                                 sample_note_30[0][0]             \n",
      "__________________________________________________________________________________________________\n",
      "dense_31 (Dense)                (None, 3)            204         concatenate_30[0][0]             \n",
      "__________________________________________________________________________________________________\n",
      "sample_note_31 (SampleNote)     (None, 3)            0           dense_31[0][0]                   \n",
      "__________________________________________________________________________________________________\n",
      "concatenate_31 (Concatenate)    (None, 67)           0           slice_notes_tensor[0][32]        \n",
      "                                                                 sample_note_31[0][0]             \n",
      "__________________________________________________________________________________________________\n",
      "dense_32 (Dense)                (None, 3)            204         concatenate_31[0][0]             \n",
      "__________________________________________________________________________________________________\n",
      "sample_note_32 (SampleNote)     (None, 3)            0           dense_32[0][0]                   \n",
      "__________________________________________________________________________________________________\n",
      "concatenate_32 (Concatenate)    (None, 67)           0           slice_notes_tensor[0][33]        \n",
      "                                                                 sample_note_32[0][0]             \n",
      "__________________________________________________________________________________________________\n",
      "dense_33 (Dense)                (None, 3)            204         concatenate_32[0][0]             \n",
      "__________________________________________________________________________________________________\n",
      "sample_note_33 (SampleNote)     (None, 3)            0           dense_33[0][0]                   \n",
      "__________________________________________________________________________________________________\n",
      "concatenate_33 (Concatenate)    (None, 67)           0           slice_notes_tensor[0][34]        \n",
      "                                                                 sample_note_33[0][0]             \n",
      "__________________________________________________________________________________________________\n",
      "dense_34 (Dense)                (None, 3)            204         concatenate_33[0][0]             \n",
      "__________________________________________________________________________________________________\n",
      "sample_note_34 (SampleNote)     (None, 3)            0           dense_34[0][0]                   \n",
      "__________________________________________________________________________________________________\n",
      "concatenate_34 (Concatenate)    (None, 67)           0           slice_notes_tensor[0][35]        \n",
      "                                                                 sample_note_34[0][0]             \n",
      "__________________________________________________________________________________________________\n",
      "dense_35 (Dense)                (None, 3)            204         concatenate_34[0][0]             \n",
      "__________________________________________________________________________________________________\n",
      "sample_note_35 (SampleNote)     (None, 3)            0           dense_35[0][0]                   \n",
      "__________________________________________________________________________________________________\n",
      "concatenate_35 (Concatenate)    (None, 67)           0           slice_notes_tensor[0][36]        \n",
      "                                                                 sample_note_35[0][0]             \n",
      "__________________________________________________________________________________________________\n",
      "dense_36 (Dense)                (None, 3)            204         concatenate_35[0][0]             \n",
      "__________________________________________________________________________________________________\n",
      "sample_note_36 (SampleNote)     (None, 3)            0           dense_36[0][0]                   \n",
      "__________________________________________________________________________________________________\n",
      "concatenate_36 (Concatenate)    (None, 67)           0           slice_notes_tensor[0][37]        \n",
      "                                                                 sample_note_36[0][0]             \n",
      "__________________________________________________________________________________________________\n",
      "dense_37 (Dense)                (None, 3)            204         concatenate_36[0][0]             \n",
      "__________________________________________________________________________________________________\n",
      "sample_note_37 (SampleNote)     (None, 3)            0           dense_37[0][0]                   \n",
      "__________________________________________________________________________________________________\n",
      "concatenate_37 (Concatenate)    (None, 67)           0           slice_notes_tensor[0][38]        \n",
      "                                                                 sample_note_37[0][0]             \n",
      "__________________________________________________________________________________________________\n",
      "dense_38 (Dense)                (None, 3)            204         concatenate_37[0][0]             \n",
      "__________________________________________________________________________________________________\n",
      "sample_note_38 (SampleNote)     (None, 3)            0           dense_38[0][0]                   \n",
      "__________________________________________________________________________________________________\n",
      "concatenate_38 (Concatenate)    (None, 67)           0           slice_notes_tensor[0][39]        \n",
      "                                                                 sample_note_38[0][0]             \n",
      "__________________________________________________________________________________________________\n",
      "dense_39 (Dense)                (None, 3)            204         concatenate_38[0][0]             \n",
      "__________________________________________________________________________________________________\n",
      "sample_note_39 (SampleNote)     (None, 3)            0           dense_39[0][0]                   \n",
      "__________________________________________________________________________________________________\n",
      "concatenate_39 (Concatenate)    (None, 67)           0           slice_notes_tensor[0][40]        \n",
      "                                                                 sample_note_39[0][0]             \n",
      "__________________________________________________________________________________________________\n",
      "dense_40 (Dense)                (None, 3)            204         concatenate_39[0][0]             \n",
      "__________________________________________________________________________________________________\n",
      "sample_note_40 (SampleNote)     (None, 3)            0           dense_40[0][0]                   \n",
      "__________________________________________________________________________________________________\n",
      "concatenate_40 (Concatenate)    (None, 67)           0           slice_notes_tensor[0][41]        \n",
      "                                                                 sample_note_40[0][0]             \n",
      "__________________________________________________________________________________________________\n",
      "dense_41 (Dense)                (None, 3)            204         concatenate_40[0][0]             \n",
      "__________________________________________________________________________________________________\n",
      "sample_note_41 (SampleNote)     (None, 3)            0           dense_41[0][0]                   \n",
      "__________________________________________________________________________________________________\n",
      "concatenate_41 (Concatenate)    (None, 67)           0           slice_notes_tensor[0][42]        \n",
      "                                                                 sample_note_41[0][0]             \n",
      "__________________________________________________________________________________________________\n",
      "dense_42 (Dense)                (None, 3)            204         concatenate_41[0][0]             \n",
      "__________________________________________________________________________________________________\n",
      "sample_note_42 (SampleNote)     (None, 3)            0           dense_42[0][0]                   \n",
      "__________________________________________________________________________________________________\n",
      "concatenate_42 (Concatenate)    (None, 67)           0           slice_notes_tensor[0][43]        \n",
      "                                                                 sample_note_42[0][0]             \n",
      "__________________________________________________________________________________________________\n",
      "dense_43 (Dense)                (None, 3)            204         concatenate_42[0][0]             \n",
      "__________________________________________________________________________________________________\n",
      "sample_note_43 (SampleNote)     (None, 3)            0           dense_43[0][0]                   \n",
      "__________________________________________________________________________________________________\n",
      "concatenate_43 (Concatenate)    (None, 67)           0           slice_notes_tensor[0][44]        \n",
      "                                                                 sample_note_43[0][0]             \n",
      "__________________________________________________________________________________________________\n",
      "dense_44 (Dense)                (None, 3)            204         concatenate_43[0][0]             \n",
      "__________________________________________________________________________________________________\n",
      "sample_note_44 (SampleNote)     (None, 3)            0           dense_44[0][0]                   \n",
      "__________________________________________________________________________________________________\n",
      "concatenate_44 (Concatenate)    (None, 67)           0           slice_notes_tensor[0][45]        \n",
      "                                                                 sample_note_44[0][0]             \n",
      "__________________________________________________________________________________________________\n",
      "dense_45 (Dense)                (None, 3)            204         concatenate_44[0][0]             \n",
      "__________________________________________________________________________________________________\n",
      "sample_note_45 (SampleNote)     (None, 3)            0           dense_45[0][0]                   \n",
      "__________________________________________________________________________________________________\n",
      "concatenate_45 (Concatenate)    (None, 67)           0           slice_notes_tensor[0][46]        \n",
      "                                                                 sample_note_45[0][0]             \n",
      "__________________________________________________________________________________________________\n",
      "dense_46 (Dense)                (None, 3)            204         concatenate_45[0][0]             \n",
      "__________________________________________________________________________________________________\n",
      "sample_note_46 (SampleNote)     (None, 3)            0           dense_46[0][0]                   \n",
      "__________________________________________________________________________________________________\n",
      "concatenate_46 (Concatenate)    (None, 67)           0           slice_notes_tensor[0][47]        \n",
      "                                                                 sample_note_46[0][0]             \n",
      "__________________________________________________________________________________________________\n",
      "dense_47 (Dense)                (None, 3)            204         concatenate_46[0][0]             \n",
      "__________________________________________________________________________________________________\n",
      "sample_note_47 (SampleNote)     (None, 3)            0           dense_47[0][0]                   \n",
      "__________________________________________________________________________________________________\n",
      "concatenate_47 (Concatenate)    (None, 67)           0           slice_notes_tensor[0][48]        \n",
      "                                                                 sample_note_47[0][0]             \n",
      "__________________________________________________________________________________________________\n",
      "dense_48 (Dense)                (None, 3)            204         concatenate_47[0][0]             \n",
      "__________________________________________________________________________________________________\n",
      "sample_note_48 (SampleNote)     (None, 3)            0           dense_48[0][0]                   \n",
      "__________________________________________________________________________________________________\n",
      "concatenate_48 (Concatenate)    (None, 67)           0           slice_notes_tensor[0][49]        \n",
      "                                                                 sample_note_48[0][0]             \n",
      "__________________________________________________________________________________________________\n",
      "dense_49 (Dense)                (None, 3)            204         concatenate_48[0][0]             \n",
      "__________________________________________________________________________________________________\n",
      "sample_note_49 (SampleNote)     (None, 3)            0           dense_49[0][0]                   \n",
      "__________________________________________________________________________________________________\n",
      "concatenate_49 (Concatenate)    (None, 67)           0           slice_notes_tensor[0][50]        \n",
      "                                                                 sample_note_49[0][0]             \n",
      "__________________________________________________________________________________________________\n",
      "dense_50 (Dense)                (None, 3)            204         concatenate_49[0][0]             \n",
      "__________________________________________________________________________________________________\n",
      "sample_note_50 (SampleNote)     (None, 3)            0           dense_50[0][0]                   \n",
      "__________________________________________________________________________________________________\n",
      "concatenate_50 (Concatenate)    (None, 67)           0           slice_notes_tensor[0][51]        \n",
      "                                                                 sample_note_50[0][0]             \n",
      "__________________________________________________________________________________________________\n",
      "dense_51 (Dense)                (None, 3)            204         concatenate_50[0][0]             \n",
      "__________________________________________________________________________________________________\n",
      "sample_note_51 (SampleNote)     (None, 3)            0           dense_51[0][0]                   \n",
      "__________________________________________________________________________________________________\n",
      "concatenate_51 (Concatenate)    (None, 67)           0           slice_notes_tensor[0][52]        \n",
      "                                                                 sample_note_51[0][0]             \n",
      "__________________________________________________________________________________________________\n",
      "dense_52 (Dense)                (None, 3)            204         concatenate_51[0][0]             \n",
      "__________________________________________________________________________________________________\n",
      "sample_note_52 (SampleNote)     (None, 3)            0           dense_52[0][0]                   \n",
      "__________________________________________________________________________________________________\n",
      "concatenate_52 (Concatenate)    (None, 67)           0           slice_notes_tensor[0][53]        \n",
      "                                                                 sample_note_52[0][0]             \n",
      "__________________________________________________________________________________________________\n",
      "dense_53 (Dense)                (None, 3)            204         concatenate_52[0][0]             \n",
      "__________________________________________________________________________________________________\n",
      "sample_note_53 (SampleNote)     (None, 3)            0           dense_53[0][0]                   \n",
      "__________________________________________________________________________________________________\n",
      "concatenate_53 (Concatenate)    (None, 67)           0           slice_notes_tensor[0][54]        \n",
      "                                                                 sample_note_53[0][0]             \n",
      "__________________________________________________________________________________________________\n",
      "dense_54 (Dense)                (None, 3)            204         concatenate_53[0][0]             \n",
      "__________________________________________________________________________________________________\n",
      "sample_note_54 (SampleNote)     (None, 3)            0           dense_54[0][0]                   \n",
      "__________________________________________________________________________________________________\n",
      "concatenate_54 (Concatenate)    (None, 67)           0           slice_notes_tensor[0][55]        \n",
      "                                                                 sample_note_54[0][0]             \n",
      "__________________________________________________________________________________________________\n",
      "dense_55 (Dense)                (None, 3)            204         concatenate_54[0][0]             \n",
      "__________________________________________________________________________________________________\n",
      "sample_note_55 (SampleNote)     (None, 3)            0           dense_55[0][0]                   \n",
      "__________________________________________________________________________________________________\n",
      "concatenate_55 (Concatenate)    (None, 67)           0           slice_notes_tensor[0][56]        \n",
      "                                                                 sample_note_55[0][0]             \n",
      "__________________________________________________________________________________________________\n",
      "dense_56 (Dense)                (None, 3)            204         concatenate_55[0][0]             \n",
      "__________________________________________________________________________________________________\n",
      "sample_note_56 (SampleNote)     (None, 3)            0           dense_56[0][0]                   \n",
      "__________________________________________________________________________________________________\n",
      "concatenate_56 (Concatenate)    (None, 67)           0           slice_notes_tensor[0][57]        \n",
      "                                                                 sample_note_56[0][0]             \n",
      "__________________________________________________________________________________________________\n",
      "dense_57 (Dense)                (None, 3)            204         concatenate_56[0][0]             \n",
      "__________________________________________________________________________________________________\n",
      "sample_note_57 (SampleNote)     (None, 3)            0           dense_57[0][0]                   \n",
      "__________________________________________________________________________________________________\n",
      "concatenate_57 (Concatenate)    (None, 67)           0           slice_notes_tensor[0][58]        \n",
      "                                                                 sample_note_57[0][0]             \n",
      "__________________________________________________________________________________________________\n",
      "dense_58 (Dense)                (None, 3)            204         concatenate_57[0][0]             \n",
      "__________________________________________________________________________________________________\n",
      "sample_note_58 (SampleNote)     (None, 3)            0           dense_58[0][0]                   \n",
      "__________________________________________________________________________________________________\n",
      "concatenate_58 (Concatenate)    (None, 67)           0           slice_notes_tensor[0][59]        \n",
      "                                                                 sample_note_58[0][0]             \n",
      "__________________________________________________________________________________________________\n",
      "dense_59 (Dense)                (None, 3)            204         concatenate_58[0][0]             \n",
      "__________________________________________________________________________________________________\n",
      "sample_note_59 (SampleNote)     (None, 3)            0           dense_59[0][0]                   \n",
      "__________________________________________________________________________________________________\n",
      "concatenate_59 (Concatenate)    (None, 67)           0           slice_notes_tensor[0][60]        \n",
      "                                                                 sample_note_59[0][0]             \n",
      "__________________________________________________________________________________________________\n",
      "dense_60 (Dense)                (None, 3)            204         concatenate_59[0][0]             \n",
      "__________________________________________________________________________________________________\n",
      "sample_note_60 (SampleNote)     (None, 3)            0           dense_60[0][0]                   \n",
      "__________________________________________________________________________________________________\n",
      "concatenate_60 (Concatenate)    (None, 67)           0           slice_notes_tensor[0][61]        \n",
      "                                                                 sample_note_60[0][0]             \n",
      "__________________________________________________________________________________________________\n",
      "dense_61 (Dense)                (None, 3)            204         concatenate_60[0][0]             \n",
      "__________________________________________________________________________________________________\n",
      "sample_note_61 (SampleNote)     (None, 3)            0           dense_61[0][0]                   \n",
      "__________________________________________________________________________________________________\n",
      "concatenate_61 (Concatenate)    (None, 67)           0           slice_notes_tensor[0][62]        \n",
      "                                                                 sample_note_61[0][0]             \n",
      "__________________________________________________________________________________________________\n",
      "dense_62 (Dense)                (None, 3)            204         concatenate_61[0][0]             \n",
      "__________________________________________________________________________________________________\n",
      "sample_note_62 (SampleNote)     (None, 3)            0           dense_62[0][0]                   \n",
      "__________________________________________________________________________________________________\n",
      "concatenate_62 (Concatenate)    (None, 67)           0           slice_notes_tensor[0][63]        \n",
      "                                                                 sample_note_62[0][0]             \n",
      "__________________________________________________________________________________________________\n",
      "dense_63 (Dense)                (None, 3)            204         concatenate_62[0][0]             \n",
      "__________________________________________________________________________________________________\n",
      "sample_note_63 (SampleNote)     (None, 3)            0           dense_63[0][0]                   \n",
      "__________________________________________________________________________________________________\n",
      "concatenate_63 (Concatenate)    (None, 67)           0           slice_notes_tensor[0][64]        \n",
      "                                                                 sample_note_63[0][0]             \n",
      "__________________________________________________________________________________________________\n",
      "dense_64 (Dense)                (None, 3)            204         concatenate_63[0][0]             \n",
      "__________________________________________________________________________________________________\n",
      "sample_note_64 (SampleNote)     (None, 3)            0           dense_64[0][0]                   \n",
      "__________________________________________________________________________________________________\n",
      "concatenate_64 (Concatenate)    (None, 67)           0           slice_notes_tensor[0][65]        \n",
      "                                                                 sample_note_64[0][0]             \n",
      "__________________________________________________________________________________________________\n",
      "dense_65 (Dense)                (None, 3)            204         concatenate_64[0][0]             \n",
      "__________________________________________________________________________________________________\n",
      "sample_note_65 (SampleNote)     (None, 3)            0           dense_65[0][0]                   \n",
      "__________________________________________________________________________________________________\n",
      "concatenate_65 (Concatenate)    (None, 67)           0           slice_notes_tensor[0][66]        \n",
      "                                                                 sample_note_65[0][0]             \n",
      "__________________________________________________________________________________________________\n",
      "dense_66 (Dense)                (None, 3)            204         concatenate_65[0][0]             \n",
      "__________________________________________________________________________________________________\n",
      "sample_note_66 (SampleNote)     (None, 3)            0           dense_66[0][0]                   \n",
      "__________________________________________________________________________________________________\n",
      "concatenate_66 (Concatenate)    (None, 67)           0           slice_notes_tensor[0][67]        \n",
      "                                                                 sample_note_66[0][0]             \n",
      "__________________________________________________________________________________________________\n",
      "dense_67 (Dense)                (None, 3)            204         concatenate_66[0][0]             \n",
      "__________________________________________________________________________________________________\n",
      "sample_note_67 (SampleNote)     (None, 3)            0           dense_67[0][0]                   \n",
      "__________________________________________________________________________________________________\n",
      "concatenate_67 (Concatenate)    (None, 67)           0           slice_notes_tensor[0][68]        \n",
      "                                                                 sample_note_67[0][0]             \n",
      "__________________________________________________________________________________________________\n",
      "dense_68 (Dense)                (None, 3)            204         concatenate_67[0][0]             \n",
      "__________________________________________________________________________________________________\n",
      "sample_note_68 (SampleNote)     (None, 3)            0           dense_68[0][0]                   \n",
      "__________________________________________________________________________________________________\n",
      "concatenate_68 (Concatenate)    (None, 67)           0           slice_notes_tensor[0][69]        \n",
      "                                                                 sample_note_68[0][0]             \n",
      "__________________________________________________________________________________________________\n",
      "dense_69 (Dense)                (None, 3)            204         concatenate_68[0][0]             \n",
      "__________________________________________________________________________________________________\n",
      "sample_note_69 (SampleNote)     (None, 3)            0           dense_69[0][0]                   \n",
      "__________________________________________________________________________________________________\n",
      "concatenate_69 (Concatenate)    (None, 67)           0           slice_notes_tensor[0][70]        \n",
      "                                                                 sample_note_69[0][0]             \n",
      "__________________________________________________________________________________________________\n",
      "dense_70 (Dense)                (None, 3)            204         concatenate_69[0][0]             \n",
      "__________________________________________________________________________________________________\n",
      "sample_note_70 (SampleNote)     (None, 3)            0           dense_70[0][0]                   \n",
      "__________________________________________________________________________________________________\n",
      "concatenate_70 (Concatenate)    (None, 67)           0           slice_notes_tensor[0][71]        \n",
      "                                                                 sample_note_70[0][0]             \n",
      "__________________________________________________________________________________________________\n",
      "dense_71 (Dense)                (None, 3)            204         concatenate_70[0][0]             \n",
      "__________________________________________________________________________________________________\n",
      "sample_note_71 (SampleNote)     (None, 3)            0           dense_71[0][0]                   \n",
      "__________________________________________________________________________________________________\n",
      "concatenate_71 (Concatenate)    (None, 67)           0           slice_notes_tensor[0][72]        \n",
      "                                                                 sample_note_71[0][0]             \n",
      "__________________________________________________________________________________________________\n",
      "dense_72 (Dense)                (None, 3)            204         concatenate_71[0][0]             \n",
      "__________________________________________________________________________________________________\n",
      "sample_note_72 (SampleNote)     (None, 3)            0           dense_72[0][0]                   \n",
      "__________________________________________________________________________________________________\n",
      "concatenate_72 (Concatenate)    (None, 67)           0           slice_notes_tensor[0][73]        \n",
      "                                                                 sample_note_72[0][0]             \n",
      "__________________________________________________________________________________________________\n",
      "dense_73 (Dense)                (None, 3)            204         concatenate_72[0][0]             \n",
      "__________________________________________________________________________________________________\n",
      "sample_note_73 (SampleNote)     (None, 3)            0           dense_73[0][0]                   \n",
      "__________________________________________________________________________________________________\n",
      "concatenate_73 (Concatenate)    (None, 67)           0           slice_notes_tensor[0][74]        \n",
      "                                                                 sample_note_73[0][0]             \n",
      "__________________________________________________________________________________________________\n",
      "dense_74 (Dense)                (None, 3)            204         concatenate_73[0][0]             \n",
      "__________________________________________________________________________________________________\n",
      "sample_note_74 (SampleNote)     (None, 3)            0           dense_74[0][0]                   \n",
      "__________________________________________________________________________________________________\n",
      "concatenate_74 (Concatenate)    (None, 67)           0           slice_notes_tensor[0][75]        \n",
      "                                                                 sample_note_74[0][0]             \n",
      "__________________________________________________________________________________________________\n",
      "dense_75 (Dense)                (None, 3)            204         concatenate_74[0][0]             \n",
      "__________________________________________________________________________________________________\n",
      "sample_note_75 (SampleNote)     (None, 3)            0           dense_75[0][0]                   \n",
      "__________________________________________________________________________________________________\n",
      "concatenate_75 (Concatenate)    (None, 67)           0           slice_notes_tensor[0][76]        \n",
      "                                                                 sample_note_75[0][0]             \n",
      "__________________________________________________________________________________________________\n",
      "dense_76 (Dense)                (None, 3)            204         concatenate_75[0][0]             \n",
      "__________________________________________________________________________________________________\n",
      "sample_note_76 (SampleNote)     (None, 3)            0           dense_76[0][0]                   \n",
      "__________________________________________________________________________________________________\n",
      "concatenate_76 (Concatenate)    (None, 67)           0           slice_notes_tensor[0][77]        \n",
      "                                                                 sample_note_76[0][0]             \n",
      "__________________________________________________________________________________________________\n",
      "dense_77 (Dense)                (None, 3)            204         concatenate_76[0][0]             \n",
      "__________________________________________________________________________________________________\n",
      "sample_note_77 (SampleNote)     (None, 3)            0           dense_77[0][0]                   \n",
      "__________________________________________________________________________________________________\n",
      "concatenate_77 (Concatenate)    (None, 67)           0           slice_notes_tensor[0][78]        \n",
      "                                                                 sample_note_77[0][0]             \n",
      "__________________________________________________________________________________________________\n",
      "dense_78 (Dense)                (None, 3)            204         concatenate_77[0][0]             \n",
      "__________________________________________________________________________________________________\n",
      "sample_note_78 (SampleNote)     (None, 3)            0           dense_78[0][0]                   \n",
      "__________________________________________________________________________________________________\n",
      "concatenate_78 (Concatenate)    (None, 67)           0           slice_notes_tensor[0][79]        \n",
      "                                                                 sample_note_78[0][0]             \n",
      "__________________________________________________________________________________________________\n",
      "dense_79 (Dense)                (None, 3)            204         concatenate_78[0][0]             \n",
      "__________________________________________________________________________________________________\n",
      "sample_note_79 (SampleNote)     (None, 3)            0           dense_79[0][0]                   \n",
      "__________________________________________________________________________________________________\n",
      "concatenate_79 (Concatenate)    (None, 67)           0           slice_notes_tensor[0][80]        \n",
      "                                                                 sample_note_79[0][0]             \n",
      "__________________________________________________________________________________________________\n",
      "dense_80 (Dense)                (None, 3)            204         concatenate_79[0][0]             \n",
      "__________________________________________________________________________________________________\n",
      "sample_note_80 (SampleNote)     (None, 3)            0           dense_80[0][0]                   \n",
      "__________________________________________________________________________________________________\n",
      "concatenate_80 (Concatenate)    (None, 67)           0           slice_notes_tensor[0][81]        \n",
      "                                                                 sample_note_80[0][0]             \n",
      "__________________________________________________________________________________________________\n",
      "dense_81 (Dense)                (None, 3)            204         concatenate_80[0][0]             \n",
      "__________________________________________________________________________________________________\n",
      "sample_note_81 (SampleNote)     (None, 3)            0           dense_81[0][0]                   \n",
      "__________________________________________________________________________________________________\n",
      "concatenate_81 (Concatenate)    (None, 67)           0           slice_notes_tensor[0][82]        \n",
      "                                                                 sample_note_81[0][0]             \n",
      "__________________________________________________________________________________________________\n",
      "dense_82 (Dense)                (None, 3)            204         concatenate_81[0][0]             \n",
      "__________________________________________________________________________________________________\n",
      "sample_note_82 (SampleNote)     (None, 3)            0           dense_82[0][0]                   \n",
      "__________________________________________________________________________________________________\n",
      "concatenate_82 (Concatenate)    (None, 67)           0           slice_notes_tensor[0][83]        \n",
      "                                                                 sample_note_82[0][0]             \n",
      "__________________________________________________________________________________________________\n",
      "dense_83 (Dense)                (None, 3)            204         concatenate_82[0][0]             \n",
      "__________________________________________________________________________________________________\n",
      "sample_note_83 (SampleNote)     (None, 3)            0           dense_83[0][0]                   \n",
      "__________________________________________________________________________________________________\n",
      "concatenate_83 (Concatenate)    (None, 67)           0           slice_notes_tensor[0][84]        \n",
      "                                                                 sample_note_83[0][0]             \n",
      "__________________________________________________________________________________________________\n",
      "dense_84 (Dense)                (None, 3)            204         concatenate_83[0][0]             \n",
      "__________________________________________________________________________________________________\n",
      "sample_note_84 (SampleNote)     (None, 3)            0           dense_84[0][0]                   \n",
      "__________________________________________________________________________________________________\n",
      "concatenate_84 (Concatenate)    (None, 67)           0           slice_notes_tensor[0][85]        \n",
      "                                                                 sample_note_84[0][0]             \n",
      "__________________________________________________________________________________________________\n",
      "dense_85 (Dense)                (None, 3)            204         concatenate_84[0][0]             \n",
      "__________________________________________________________________________________________________\n",
      "sample_note_85 (SampleNote)     (None, 3)            0           dense_85[0][0]                   \n",
      "__________________________________________________________________________________________________\n",
      "concatenate_85 (Concatenate)    (None, 67)           0           slice_notes_tensor[0][86]        \n",
      "                                                                 sample_note_85[0][0]             \n",
      "__________________________________________________________________________________________________\n",
      "dense_86 (Dense)                (None, 3)            204         concatenate_85[0][0]             \n",
      "__________________________________________________________________________________________________\n",
      "sample_note_86 (SampleNote)     (None, 3)            0           dense_86[0][0]                   \n",
      "__________________________________________________________________________________________________\n",
      "concatenate_86 (Concatenate)    (None, 67)           0           slice_notes_tensor[0][87]        \n",
      "                                                                 sample_note_86[0][0]             \n",
      "__________________________________________________________________________________________________\n",
      "dense_87 (Dense)                (None, 3)            204         concatenate_86[0][0]             \n",
      "__________________________________________________________________________________________________\n",
      "expand_dims (ExpandDims)        [(None, 1, 3), (None 0           dense[0][0]                      \n",
      "                                                                 dense_1[0][0]                    \n",
      "                                                                 dense_2[0][0]                    \n",
      "                                                                 dense_3[0][0]                    \n",
      "                                                                 dense_4[0][0]                    \n",
      "                                                                 dense_5[0][0]                    \n",
      "                                                                 dense_6[0][0]                    \n",
      "                                                                 dense_7[0][0]                    \n",
      "                                                                 dense_8[0][0]                    \n",
      "                                                                 dense_9[0][0]                    \n",
      "                                                                 dense_10[0][0]                   \n",
      "                                                                 dense_11[0][0]                   \n",
      "                                                                 dense_12[0][0]                   \n",
      "                                                                 dense_13[0][0]                   \n",
      "                                                                 dense_14[0][0]                   \n",
      "                                                                 dense_15[0][0]                   \n",
      "                                                                 dense_16[0][0]                   \n",
      "                                                                 dense_17[0][0]                   \n",
      "                                                                 dense_18[0][0]                   \n",
      "                                                                 dense_19[0][0]                   \n",
      "                                                                 dense_20[0][0]                   \n",
      "                                                                 dense_21[0][0]                   \n",
      "                                                                 dense_22[0][0]                   \n",
      "                                                                 dense_23[0][0]                   \n",
      "                                                                 dense_24[0][0]                   \n",
      "                                                                 dense_25[0][0]                   \n",
      "                                                                 dense_26[0][0]                   \n",
      "                                                                 dense_27[0][0]                   \n",
      "                                                                 dense_28[0][0]                   \n",
      "                                                                 dense_29[0][0]                   \n",
      "                                                                 dense_30[0][0]                   \n",
      "                                                                 dense_31[0][0]                   \n",
      "                                                                 dense_32[0][0]                   \n",
      "                                                                 dense_33[0][0]                   \n",
      "                                                                 dense_34[0][0]                   \n",
      "                                                                 dense_35[0][0]                   \n",
      "                                                                 dense_36[0][0]                   \n",
      "                                                                 dense_37[0][0]                   \n",
      "                                                                 dense_38[0][0]                   \n",
      "                                                                 dense_39[0][0]                   \n",
      "                                                                 dense_40[0][0]                   \n",
      "                                                                 dense_41[0][0]                   \n",
      "                                                                 dense_42[0][0]                   \n",
      "                                                                 dense_43[0][0]                   \n",
      "                                                                 dense_44[0][0]                   \n",
      "                                                                 dense_45[0][0]                   \n",
      "                                                                 dense_46[0][0]                   \n",
      "                                                                 dense_47[0][0]                   \n",
      "                                                                 dense_48[0][0]                   \n",
      "                                                                 dense_49[0][0]                   \n",
      "                                                                 dense_50[0][0]                   \n",
      "                                                                 dense_51[0][0]                   \n",
      "                                                                 dense_52[0][0]                   \n",
      "                                                                 dense_53[0][0]                   \n",
      "                                                                 dense_54[0][0]                   \n",
      "                                                                 dense_55[0][0]                   \n",
      "                                                                 dense_56[0][0]                   \n",
      "                                                                 dense_57[0][0]                   \n",
      "                                                                 dense_58[0][0]                   \n",
      "                                                                 dense_59[0][0]                   \n",
      "                                                                 dense_60[0][0]                   \n",
      "                                                                 dense_61[0][0]                   \n",
      "                                                                 dense_62[0][0]                   \n",
      "                                                                 dense_63[0][0]                   \n",
      "                                                                 dense_64[0][0]                   \n",
      "                                                                 dense_65[0][0]                   \n",
      "                                                                 dense_66[0][0]                   \n",
      "                                                                 dense_67[0][0]                   \n",
      "                                                                 dense_68[0][0]                   \n",
      "                                                                 dense_69[0][0]                   \n",
      "                                                                 dense_70[0][0]                   \n",
      "                                                                 dense_71[0][0]                   \n",
      "                                                                 dense_72[0][0]                   \n",
      "                                                                 dense_73[0][0]                   \n",
      "                                                                 dense_74[0][0]                   \n",
      "                                                                 dense_75[0][0]                   \n",
      "                                                                 dense_76[0][0]                   \n",
      "                                                                 dense_77[0][0]                   \n",
      "                                                                 dense_78[0][0]                   \n",
      "                                                                 dense_79[0][0]                   \n",
      "                                                                 dense_80[0][0]                   \n",
      "                                                                 dense_81[0][0]                   \n",
      "                                                                 dense_82[0][0]                   \n",
      "                                                                 dense_83[0][0]                   \n",
      "                                                                 dense_84[0][0]                   \n",
      "                                                                 dense_85[0][0]                   \n",
      "                                                                 dense_86[0][0]                   \n",
      "                                                                 dense_87[0][0]                   \n",
      "__________________________________________________________________________________________________\n",
      "sample_note_87 (SampleNote)     (None, 3)            0           dense_87[0][0]                   \n",
      "__________________________________________________________________________________________________\n",
      "concatenate_87 (Concatenate)    (None, 88, 3)        0           expand_dims[0][0]                \n",
      "                                                                 expand_dims[0][1]                \n",
      "                                                                 expand_dims[0][2]                \n",
      "                                                                 expand_dims[0][3]                \n",
      "                                                                 expand_dims[0][4]                \n",
      "                                                                 expand_dims[0][5]                \n",
      "                                                                 expand_dims[0][6]                \n",
      "                                                                 expand_dims[0][7]                \n",
      "                                                                 expand_dims[0][8]                \n",
      "                                                                 expand_dims[0][9]                \n",
      "                                                                 expand_dims[0][10]               \n",
      "                                                                 expand_dims[0][11]               \n",
      "                                                                 expand_dims[0][12]               \n",
      "                                                                 expand_dims[0][13]               \n",
      "                                                                 expand_dims[0][14]               \n",
      "                                                                 expand_dims[0][15]               \n",
      "                                                                 expand_dims[0][16]               \n",
      "                                                                 expand_dims[0][17]               \n",
      "                                                                 expand_dims[0][18]               \n",
      "                                                                 expand_dims[0][19]               \n",
      "                                                                 expand_dims[0][20]               \n",
      "                                                                 expand_dims[0][21]               \n",
      "                                                                 expand_dims[0][22]               \n",
      "                                                                 expand_dims[0][23]               \n",
      "                                                                 expand_dims[0][24]               \n",
      "                                                                 expand_dims[0][25]               \n",
      "                                                                 expand_dims[0][26]               \n",
      "                                                                 expand_dims[0][27]               \n",
      "                                                                 expand_dims[0][28]               \n",
      "                                                                 expand_dims[0][29]               \n",
      "                                                                 expand_dims[0][30]               \n",
      "                                                                 expand_dims[0][31]               \n",
      "                                                                 expand_dims[0][32]               \n",
      "                                                                 expand_dims[0][33]               \n",
      "                                                                 expand_dims[0][34]               \n",
      "                                                                 expand_dims[0][35]               \n",
      "                                                                 expand_dims[0][36]               \n",
      "                                                                 expand_dims[0][37]               \n",
      "                                                                 expand_dims[0][38]               \n",
      "                                                                 expand_dims[0][39]               \n",
      "                                                                 expand_dims[0][40]               \n",
      "                                                                 expand_dims[0][41]               \n",
      "                                                                 expand_dims[0][42]               \n",
      "                                                                 expand_dims[0][43]               \n",
      "                                                                 expand_dims[0][44]               \n",
      "                                                                 expand_dims[0][45]               \n",
      "                                                                 expand_dims[0][46]               \n",
      "                                                                 expand_dims[0][47]               \n",
      "                                                                 expand_dims[0][48]               \n",
      "                                                                 expand_dims[0][49]               \n",
      "                                                                 expand_dims[0][50]               \n",
      "                                                                 expand_dims[0][51]               \n",
      "                                                                 expand_dims[0][52]               \n",
      "                                                                 expand_dims[0][53]               \n",
      "                                                                 expand_dims[0][54]               \n",
      "                                                                 expand_dims[0][55]               \n",
      "                                                                 expand_dims[0][56]               \n",
      "                                                                 expand_dims[0][57]               \n",
      "                                                                 expand_dims[0][58]               \n",
      "                                                                 expand_dims[0][59]               \n",
      "                                                                 expand_dims[0][60]               \n",
      "                                                                 expand_dims[0][61]               \n",
      "                                                                 expand_dims[0][62]               \n",
      "                                                                 expand_dims[0][63]               \n",
      "                                                                 expand_dims[0][64]               \n",
      "                                                                 expand_dims[0][65]               \n",
      "                                                                 expand_dims[0][66]               \n",
      "                                                                 expand_dims[0][67]               \n",
      "                                                                 expand_dims[0][68]               \n",
      "                                                                 expand_dims[0][69]               \n",
      "                                                                 expand_dims[0][70]               \n",
      "                                                                 expand_dims[0][71]               \n",
      "                                                                 expand_dims[0][72]               \n",
      "                                                                 expand_dims[0][73]               \n",
      "                                                                 expand_dims[0][74]               \n",
      "                                                                 expand_dims[0][75]               \n",
      "                                                                 expand_dims[0][76]               \n",
      "                                                                 expand_dims[0][77]               \n",
      "                                                                 expand_dims[0][78]               \n",
      "                                                                 expand_dims[0][79]               \n",
      "                                                                 expand_dims[0][80]               \n",
      "                                                                 expand_dims[0][81]               \n",
      "                                                                 expand_dims[0][82]               \n",
      "                                                                 expand_dims[0][83]               \n",
      "                                                                 expand_dims[0][84]               \n",
      "                                                                 expand_dims[0][85]               \n",
      "                                                                 expand_dims[0][86]               \n",
      "                                                                 expand_dims[0][87]               \n",
      "__________________________________________________________________________________________________\n",
      "get_shape (GetShape)            (None,)              0           inputs[0][0]                     \n",
      "__________________________________________________________________________________________________\n",
      "slice_note_velocity_tensor (Sli (None, 2)            0           sample_note[0][0]                \n",
      "__________________________________________________________________________________________________\n",
      "slice_note_velocity_tensor_1 (S (None, 2)            0           sample_note_1[0][0]              \n",
      "__________________________________________________________________________________________________\n",
      "slice_note_velocity_tensor_2 (S (None, 2)            0           sample_note_2[0][0]              \n",
      "__________________________________________________________________________________________________\n",
      "slice_note_velocity_tensor_3 (S (None, 2)            0           sample_note_3[0][0]              \n",
      "__________________________________________________________________________________________________\n",
      "slice_note_velocity_tensor_4 (S (None, 2)            0           sample_note_4[0][0]              \n",
      "__________________________________________________________________________________________________\n",
      "slice_note_velocity_tensor_5 (S (None, 2)            0           sample_note_5[0][0]              \n",
      "__________________________________________________________________________________________________\n",
      "slice_note_velocity_tensor_6 (S (None, 2)            0           sample_note_6[0][0]              \n",
      "__________________________________________________________________________________________________\n",
      "slice_note_velocity_tensor_7 (S (None, 2)            0           sample_note_7[0][0]              \n",
      "__________________________________________________________________________________________________\n",
      "slice_note_velocity_tensor_8 (S (None, 2)            0           sample_note_8[0][0]              \n",
      "__________________________________________________________________________________________________\n",
      "slice_note_velocity_tensor_9 (S (None, 2)            0           sample_note_9[0][0]              \n",
      "__________________________________________________________________________________________________\n",
      "slice_note_velocity_tensor_10 ( (None, 2)            0           sample_note_10[0][0]             \n",
      "__________________________________________________________________________________________________\n",
      "slice_note_velocity_tensor_11 ( (None, 2)            0           sample_note_11[0][0]             \n",
      "__________________________________________________________________________________________________\n",
      "slice_note_velocity_tensor_12 ( (None, 2)            0           sample_note_12[0][0]             \n",
      "__________________________________________________________________________________________________\n",
      "slice_note_velocity_tensor_13 ( (None, 2)            0           sample_note_13[0][0]             \n",
      "__________________________________________________________________________________________________\n",
      "slice_note_velocity_tensor_14 ( (None, 2)            0           sample_note_14[0][0]             \n",
      "__________________________________________________________________________________________________\n",
      "slice_note_velocity_tensor_15 ( (None, 2)            0           sample_note_15[0][0]             \n",
      "__________________________________________________________________________________________________\n",
      "slice_note_velocity_tensor_16 ( (None, 2)            0           sample_note_16[0][0]             \n",
      "__________________________________________________________________________________________________\n",
      "slice_note_velocity_tensor_17 ( (None, 2)            0           sample_note_17[0][0]             \n",
      "__________________________________________________________________________________________________\n",
      "slice_note_velocity_tensor_18 ( (None, 2)            0           sample_note_18[0][0]             \n",
      "__________________________________________________________________________________________________\n",
      "slice_note_velocity_tensor_19 ( (None, 2)            0           sample_note_19[0][0]             \n",
      "__________________________________________________________________________________________________\n",
      "slice_note_velocity_tensor_20 ( (None, 2)            0           sample_note_20[0][0]             \n",
      "__________________________________________________________________________________________________\n",
      "slice_note_velocity_tensor_21 ( (None, 2)            0           sample_note_21[0][0]             \n",
      "__________________________________________________________________________________________________\n",
      "slice_note_velocity_tensor_22 ( (None, 2)            0           sample_note_22[0][0]             \n",
      "__________________________________________________________________________________________________\n",
      "slice_note_velocity_tensor_23 ( (None, 2)            0           sample_note_23[0][0]             \n",
      "__________________________________________________________________________________________________\n",
      "slice_note_velocity_tensor_24 ( (None, 2)            0           sample_note_24[0][0]             \n",
      "__________________________________________________________________________________________________\n",
      "slice_note_velocity_tensor_25 ( (None, 2)            0           sample_note_25[0][0]             \n",
      "__________________________________________________________________________________________________\n",
      "slice_note_velocity_tensor_26 ( (None, 2)            0           sample_note_26[0][0]             \n",
      "__________________________________________________________________________________________________\n",
      "slice_note_velocity_tensor_27 ( (None, 2)            0           sample_note_27[0][0]             \n",
      "__________________________________________________________________________________________________\n",
      "slice_note_velocity_tensor_28 ( (None, 2)            0           sample_note_28[0][0]             \n",
      "__________________________________________________________________________________________________\n",
      "slice_note_velocity_tensor_29 ( (None, 2)            0           sample_note_29[0][0]             \n",
      "__________________________________________________________________________________________________\n",
      "slice_note_velocity_tensor_30 ( (None, 2)            0           sample_note_30[0][0]             \n",
      "__________________________________________________________________________________________________\n",
      "slice_note_velocity_tensor_31 ( (None, 2)            0           sample_note_31[0][0]             \n",
      "__________________________________________________________________________________________________\n",
      "slice_note_velocity_tensor_32 ( (None, 2)            0           sample_note_32[0][0]             \n",
      "__________________________________________________________________________________________________\n",
      "slice_note_velocity_tensor_33 ( (None, 2)            0           sample_note_33[0][0]             \n",
      "__________________________________________________________________________________________________\n",
      "slice_note_velocity_tensor_34 ( (None, 2)            0           sample_note_34[0][0]             \n",
      "__________________________________________________________________________________________________\n",
      "slice_note_velocity_tensor_35 ( (None, 2)            0           sample_note_35[0][0]             \n",
      "__________________________________________________________________________________________________\n",
      "slice_note_velocity_tensor_36 ( (None, 2)            0           sample_note_36[0][0]             \n",
      "__________________________________________________________________________________________________\n",
      "slice_note_velocity_tensor_37 ( (None, 2)            0           sample_note_37[0][0]             \n",
      "__________________________________________________________________________________________________\n",
      "slice_note_velocity_tensor_38 ( (None, 2)            0           sample_note_38[0][0]             \n",
      "__________________________________________________________________________________________________\n",
      "slice_note_velocity_tensor_39 ( (None, 2)            0           sample_note_39[0][0]             \n",
      "__________________________________________________________________________________________________\n",
      "slice_note_velocity_tensor_40 ( (None, 2)            0           sample_note_40[0][0]             \n",
      "__________________________________________________________________________________________________\n",
      "slice_note_velocity_tensor_41 ( (None, 2)            0           sample_note_41[0][0]             \n",
      "__________________________________________________________________________________________________\n",
      "slice_note_velocity_tensor_42 ( (None, 2)            0           sample_note_42[0][0]             \n",
      "__________________________________________________________________________________________________\n",
      "slice_note_velocity_tensor_43 ( (None, 2)            0           sample_note_43[0][0]             \n",
      "__________________________________________________________________________________________________\n",
      "slice_note_velocity_tensor_44 ( (None, 2)            0           sample_note_44[0][0]             \n",
      "__________________________________________________________________________________________________\n",
      "slice_note_velocity_tensor_45 ( (None, 2)            0           sample_note_45[0][0]             \n",
      "__________________________________________________________________________________________________\n",
      "slice_note_velocity_tensor_46 ( (None, 2)            0           sample_note_46[0][0]             \n",
      "__________________________________________________________________________________________________\n",
      "slice_note_velocity_tensor_47 ( (None, 2)            0           sample_note_47[0][0]             \n",
      "__________________________________________________________________________________________________\n",
      "slice_note_velocity_tensor_48 ( (None, 2)            0           sample_note_48[0][0]             \n",
      "__________________________________________________________________________________________________\n",
      "slice_note_velocity_tensor_49 ( (None, 2)            0           sample_note_49[0][0]             \n",
      "__________________________________________________________________________________________________\n",
      "slice_note_velocity_tensor_50 ( (None, 2)            0           sample_note_50[0][0]             \n",
      "__________________________________________________________________________________________________\n",
      "slice_note_velocity_tensor_51 ( (None, 2)            0           sample_note_51[0][0]             \n",
      "__________________________________________________________________________________________________\n",
      "slice_note_velocity_tensor_52 ( (None, 2)            0           sample_note_52[0][0]             \n",
      "__________________________________________________________________________________________________\n",
      "slice_note_velocity_tensor_53 ( (None, 2)            0           sample_note_53[0][0]             \n",
      "__________________________________________________________________________________________________\n",
      "slice_note_velocity_tensor_54 ( (None, 2)            0           sample_note_54[0][0]             \n",
      "__________________________________________________________________________________________________\n",
      "slice_note_velocity_tensor_55 ( (None, 2)            0           sample_note_55[0][0]             \n",
      "__________________________________________________________________________________________________\n",
      "slice_note_velocity_tensor_56 ( (None, 2)            0           sample_note_56[0][0]             \n",
      "__________________________________________________________________________________________________\n",
      "slice_note_velocity_tensor_57 ( (None, 2)            0           sample_note_57[0][0]             \n",
      "__________________________________________________________________________________________________\n",
      "slice_note_velocity_tensor_58 ( (None, 2)            0           sample_note_58[0][0]             \n",
      "__________________________________________________________________________________________________\n",
      "slice_note_velocity_tensor_59 ( (None, 2)            0           sample_note_59[0][0]             \n",
      "__________________________________________________________________________________________________\n",
      "slice_note_velocity_tensor_60 ( (None, 2)            0           sample_note_60[0][0]             \n",
      "__________________________________________________________________________________________________\n",
      "slice_note_velocity_tensor_61 ( (None, 2)            0           sample_note_61[0][0]             \n",
      "__________________________________________________________________________________________________\n",
      "slice_note_velocity_tensor_62 ( (None, 2)            0           sample_note_62[0][0]             \n",
      "__________________________________________________________________________________________________\n",
      "slice_note_velocity_tensor_63 ( (None, 2)            0           sample_note_63[0][0]             \n",
      "__________________________________________________________________________________________________\n",
      "slice_note_velocity_tensor_64 ( (None, 2)            0           sample_note_64[0][0]             \n",
      "__________________________________________________________________________________________________\n",
      "slice_note_velocity_tensor_65 ( (None, 2)            0           sample_note_65[0][0]             \n",
      "__________________________________________________________________________________________________\n",
      "slice_note_velocity_tensor_66 ( (None, 2)            0           sample_note_66[0][0]             \n",
      "__________________________________________________________________________________________________\n",
      "slice_note_velocity_tensor_67 ( (None, 2)            0           sample_note_67[0][0]             \n",
      "__________________________________________________________________________________________________\n",
      "slice_note_velocity_tensor_68 ( (None, 2)            0           sample_note_68[0][0]             \n",
      "__________________________________________________________________________________________________\n",
      "slice_note_velocity_tensor_69 ( (None, 2)            0           sample_note_69[0][0]             \n",
      "__________________________________________________________________________________________________\n",
      "slice_note_velocity_tensor_70 ( (None, 2)            0           sample_note_70[0][0]             \n",
      "__________________________________________________________________________________________________\n",
      "slice_note_velocity_tensor_71 ( (None, 2)            0           sample_note_71[0][0]             \n",
      "__________________________________________________________________________________________________\n",
      "slice_note_velocity_tensor_72 ( (None, 2)            0           sample_note_72[0][0]             \n",
      "__________________________________________________________________________________________________\n",
      "slice_note_velocity_tensor_73 ( (None, 2)            0           sample_note_73[0][0]             \n",
      "__________________________________________________________________________________________________\n",
      "slice_note_velocity_tensor_74 ( (None, 2)            0           sample_note_74[0][0]             \n",
      "__________________________________________________________________________________________________\n",
      "slice_note_velocity_tensor_75 ( (None, 2)            0           sample_note_75[0][0]             \n",
      "__________________________________________________________________________________________________\n",
      "slice_note_velocity_tensor_76 ( (None, 2)            0           sample_note_76[0][0]             \n",
      "__________________________________________________________________________________________________\n",
      "slice_note_velocity_tensor_77 ( (None, 2)            0           sample_note_77[0][0]             \n",
      "__________________________________________________________________________________________________\n",
      "slice_note_velocity_tensor_78 ( (None, 2)            0           sample_note_78[0][0]             \n",
      "__________________________________________________________________________________________________\n",
      "slice_note_velocity_tensor_79 ( (None, 2)            0           sample_note_79[0][0]             \n",
      "__________________________________________________________________________________________________\n",
      "slice_note_velocity_tensor_80 ( (None, 2)            0           sample_note_80[0][0]             \n",
      "__________________________________________________________________________________________________\n",
      "slice_note_velocity_tensor_81 ( (None, 2)            0           sample_note_81[0][0]             \n",
      "__________________________________________________________________________________________________\n",
      "slice_note_velocity_tensor_82 ( (None, 2)            0           sample_note_82[0][0]             \n",
      "__________________________________________________________________________________________________\n",
      "slice_note_velocity_tensor_83 ( (None, 2)            0           sample_note_83[0][0]             \n",
      "__________________________________________________________________________________________________\n",
      "slice_note_velocity_tensor_84 ( (None, 2)            0           sample_note_84[0][0]             \n",
      "__________________________________________________________________________________________________\n",
      "slice_note_velocity_tensor_85 ( (None, 2)            0           sample_note_85[0][0]             \n",
      "__________________________________________________________________________________________________\n",
      "slice_note_velocity_tensor_86 ( (None, 2)            0           sample_note_86[0][0]             \n",
      "__________________________________________________________________________________________________\n",
      "slice_note_velocity_tensor_87 ( (None, 2)            0           sample_note_87[0][0]             \n",
      "__________________________________________________________________________________________________\n",
      "batch_reshape_3 (BatchReshape)  (None, None, 88, 3)  0           concatenate_87[0][0]             \n",
      "                                                                 get_shape[0][0]                  \n",
      "__________________________________________________________________________________________________\n",
      "expand_dims_1 (ExpandDims)      [(None, 1, 2), (None 0           slice_note_velocity_tensor[0][0] \n",
      "                                                                 slice_note_velocity_tensor_1[0][0\n",
      "                                                                 slice_note_velocity_tensor_2[0][0\n",
      "                                                                 slice_note_velocity_tensor_3[0][0\n",
      "                                                                 slice_note_velocity_tensor_4[0][0\n",
      "                                                                 slice_note_velocity_tensor_5[0][0\n",
      "                                                                 slice_note_velocity_tensor_6[0][0\n",
      "                                                                 slice_note_velocity_tensor_7[0][0\n",
      "                                                                 slice_note_velocity_tensor_8[0][0\n",
      "                                                                 slice_note_velocity_tensor_9[0][0\n",
      "                                                                 slice_note_velocity_tensor_10[0][\n",
      "                                                                 slice_note_velocity_tensor_11[0][\n",
      "                                                                 slice_note_velocity_tensor_12[0][\n",
      "                                                                 slice_note_velocity_tensor_13[0][\n",
      "                                                                 slice_note_velocity_tensor_14[0][\n",
      "                                                                 slice_note_velocity_tensor_15[0][\n",
      "                                                                 slice_note_velocity_tensor_16[0][\n",
      "                                                                 slice_note_velocity_tensor_17[0][\n",
      "                                                                 slice_note_velocity_tensor_18[0][\n",
      "                                                                 slice_note_velocity_tensor_19[0][\n",
      "                                                                 slice_note_velocity_tensor_20[0][\n",
      "                                                                 slice_note_velocity_tensor_21[0][\n",
      "                                                                 slice_note_velocity_tensor_22[0][\n",
      "                                                                 slice_note_velocity_tensor_23[0][\n",
      "                                                                 slice_note_velocity_tensor_24[0][\n",
      "                                                                 slice_note_velocity_tensor_25[0][\n",
      "                                                                 slice_note_velocity_tensor_26[0][\n",
      "                                                                 slice_note_velocity_tensor_27[0][\n",
      "                                                                 slice_note_velocity_tensor_28[0][\n",
      "                                                                 slice_note_velocity_tensor_29[0][\n",
      "                                                                 slice_note_velocity_tensor_30[0][\n",
      "                                                                 slice_note_velocity_tensor_31[0][\n",
      "                                                                 slice_note_velocity_tensor_32[0][\n",
      "                                                                 slice_note_velocity_tensor_33[0][\n",
      "                                                                 slice_note_velocity_tensor_34[0][\n",
      "                                                                 slice_note_velocity_tensor_35[0][\n",
      "                                                                 slice_note_velocity_tensor_36[0][\n",
      "                                                                 slice_note_velocity_tensor_37[0][\n",
      "                                                                 slice_note_velocity_tensor_38[0][\n",
      "                                                                 slice_note_velocity_tensor_39[0][\n",
      "                                                                 slice_note_velocity_tensor_40[0][\n",
      "                                                                 slice_note_velocity_tensor_41[0][\n",
      "                                                                 slice_note_velocity_tensor_42[0][\n",
      "                                                                 slice_note_velocity_tensor_43[0][\n",
      "                                                                 slice_note_velocity_tensor_44[0][\n",
      "                                                                 slice_note_velocity_tensor_45[0][\n",
      "                                                                 slice_note_velocity_tensor_46[0][\n",
      "                                                                 slice_note_velocity_tensor_47[0][\n",
      "                                                                 slice_note_velocity_tensor_48[0][\n",
      "                                                                 slice_note_velocity_tensor_49[0][\n",
      "                                                                 slice_note_velocity_tensor_50[0][\n",
      "                                                                 slice_note_velocity_tensor_51[0][\n",
      "                                                                 slice_note_velocity_tensor_52[0][\n",
      "                                                                 slice_note_velocity_tensor_53[0][\n",
      "                                                                 slice_note_velocity_tensor_54[0][\n",
      "                                                                 slice_note_velocity_tensor_55[0][\n",
      "                                                                 slice_note_velocity_tensor_56[0][\n",
      "                                                                 slice_note_velocity_tensor_57[0][\n",
      "                                                                 slice_note_velocity_tensor_58[0][\n",
      "                                                                 slice_note_velocity_tensor_59[0][\n",
      "                                                                 slice_note_velocity_tensor_60[0][\n",
      "                                                                 slice_note_velocity_tensor_61[0][\n",
      "                                                                 slice_note_velocity_tensor_62[0][\n",
      "                                                                 slice_note_velocity_tensor_63[0][\n",
      "                                                                 slice_note_velocity_tensor_64[0][\n",
      "                                                                 slice_note_velocity_tensor_65[0][\n",
      "                                                                 slice_note_velocity_tensor_66[0][\n",
      "                                                                 slice_note_velocity_tensor_67[0][\n",
      "                                                                 slice_note_velocity_tensor_68[0][\n",
      "                                                                 slice_note_velocity_tensor_69[0][\n",
      "                                                                 slice_note_velocity_tensor_70[0][\n",
      "                                                                 slice_note_velocity_tensor_71[0][\n",
      "                                                                 slice_note_velocity_tensor_72[0][\n",
      "                                                                 slice_note_velocity_tensor_73[0][\n",
      "                                                                 slice_note_velocity_tensor_74[0][\n",
      "                                                                 slice_note_velocity_tensor_75[0][\n",
      "                                                                 slice_note_velocity_tensor_76[0][\n",
      "                                                                 slice_note_velocity_tensor_77[0][\n",
      "                                                                 slice_note_velocity_tensor_78[0][\n",
      "                                                                 slice_note_velocity_tensor_79[0][\n",
      "                                                                 slice_note_velocity_tensor_80[0][\n",
      "                                                                 slice_note_velocity_tensor_81[0][\n",
      "                                                                 slice_note_velocity_tensor_82[0][\n",
      "                                                                 slice_note_velocity_tensor_83[0][\n",
      "                                                                 slice_note_velocity_tensor_84[0][\n",
      "                                                                 slice_note_velocity_tensor_85[0][\n",
      "                                                                 slice_note_velocity_tensor_86[0][\n",
      "                                                                 slice_note_velocity_tensor_87[0][\n",
      "__________________________________________________________________________________________________\n",
      "slice_notes_velocity_tensor (Sl [(None, None, 88, 2) 0           batch_reshape_3[0][0]            \n",
      "__________________________________________________________________________________________________\n",
      "concatenate_88 (Concatenate)    (None, 88, 2)        0           expand_dims_1[0][0]              \n",
      "                                                                 expand_dims_1[0][1]              \n",
      "                                                                 expand_dims_1[0][2]              \n",
      "                                                                 expand_dims_1[0][3]              \n",
      "                                                                 expand_dims_1[0][4]              \n",
      "                                                                 expand_dims_1[0][5]              \n",
      "                                                                 expand_dims_1[0][6]              \n",
      "                                                                 expand_dims_1[0][7]              \n",
      "                                                                 expand_dims_1[0][8]              \n",
      "                                                                 expand_dims_1[0][9]              \n",
      "                                                                 expand_dims_1[0][10]             \n",
      "                                                                 expand_dims_1[0][11]             \n",
      "                                                                 expand_dims_1[0][12]             \n",
      "                                                                 expand_dims_1[0][13]             \n",
      "                                                                 expand_dims_1[0][14]             \n",
      "                                                                 expand_dims_1[0][15]             \n",
      "                                                                 expand_dims_1[0][16]             \n",
      "                                                                 expand_dims_1[0][17]             \n",
      "                                                                 expand_dims_1[0][18]             \n",
      "                                                                 expand_dims_1[0][19]             \n",
      "                                                                 expand_dims_1[0][20]             \n",
      "                                                                 expand_dims_1[0][21]             \n",
      "                                                                 expand_dims_1[0][22]             \n",
      "                                                                 expand_dims_1[0][23]             \n",
      "                                                                 expand_dims_1[0][24]             \n",
      "                                                                 expand_dims_1[0][25]             \n",
      "                                                                 expand_dims_1[0][26]             \n",
      "                                                                 expand_dims_1[0][27]             \n",
      "                                                                 expand_dims_1[0][28]             \n",
      "                                                                 expand_dims_1[0][29]             \n",
      "                                                                 expand_dims_1[0][30]             \n",
      "                                                                 expand_dims_1[0][31]             \n",
      "                                                                 expand_dims_1[0][32]             \n",
      "                                                                 expand_dims_1[0][33]             \n",
      "                                                                 expand_dims_1[0][34]             \n",
      "                                                                 expand_dims_1[0][35]             \n",
      "                                                                 expand_dims_1[0][36]             \n",
      "                                                                 expand_dims_1[0][37]             \n",
      "                                                                 expand_dims_1[0][38]             \n",
      "                                                                 expand_dims_1[0][39]             \n",
      "                                                                 expand_dims_1[0][40]             \n",
      "                                                                 expand_dims_1[0][41]             \n",
      "                                                                 expand_dims_1[0][42]             \n",
      "                                                                 expand_dims_1[0][43]             \n",
      "                                                                 expand_dims_1[0][44]             \n",
      "                                                                 expand_dims_1[0][45]             \n",
      "                                                                 expand_dims_1[0][46]             \n",
      "                                                                 expand_dims_1[0][47]             \n",
      "                                                                 expand_dims_1[0][48]             \n",
      "                                                                 expand_dims_1[0][49]             \n",
      "                                                                 expand_dims_1[0][50]             \n",
      "                                                                 expand_dims_1[0][51]             \n",
      "                                                                 expand_dims_1[0][52]             \n",
      "                                                                 expand_dims_1[0][53]             \n",
      "                                                                 expand_dims_1[0][54]             \n",
      "                                                                 expand_dims_1[0][55]             \n",
      "                                                                 expand_dims_1[0][56]             \n",
      "                                                                 expand_dims_1[0][57]             \n",
      "                                                                 expand_dims_1[0][58]             \n",
      "                                                                 expand_dims_1[0][59]             \n",
      "                                                                 expand_dims_1[0][60]             \n",
      "                                                                 expand_dims_1[0][61]             \n",
      "                                                                 expand_dims_1[0][62]             \n",
      "                                                                 expand_dims_1[0][63]             \n",
      "                                                                 expand_dims_1[0][64]             \n",
      "                                                                 expand_dims_1[0][65]             \n",
      "                                                                 expand_dims_1[0][66]             \n",
      "                                                                 expand_dims_1[0][67]             \n",
      "                                                                 expand_dims_1[0][68]             \n",
      "                                                                 expand_dims_1[0][69]             \n",
      "                                                                 expand_dims_1[0][70]             \n",
      "                                                                 expand_dims_1[0][71]             \n",
      "                                                                 expand_dims_1[0][72]             \n",
      "                                                                 expand_dims_1[0][73]             \n",
      "                                                                 expand_dims_1[0][74]             \n",
      "                                                                 expand_dims_1[0][75]             \n",
      "                                                                 expand_dims_1[0][76]             \n",
      "                                                                 expand_dims_1[0][77]             \n",
      "                                                                 expand_dims_1[0][78]             \n",
      "                                                                 expand_dims_1[0][79]             \n",
      "                                                                 expand_dims_1[0][80]             \n",
      "                                                                 expand_dims_1[0][81]             \n",
      "                                                                 expand_dims_1[0][82]             \n",
      "                                                                 expand_dims_1[0][83]             \n",
      "                                                                 expand_dims_1[0][84]             \n",
      "                                                                 expand_dims_1[0][85]             \n",
      "                                                                 expand_dims_1[0][86]             \n",
      "                                                                 expand_dims_1[0][87]             \n",
      "__________________________________________________________________________________________________\n",
      "back_transform_velocity (BackTr (None, None, 88, 1)  0           slice_notes_velocity_tensor[0][1]\n",
      "__________________________________________________________________________________________________\n",
      "batch_reshape_4 (BatchReshape)  (None, None, 88, 2)  0           concatenate_88[0][0]             \n",
      "                                                                 get_shape[0][0]                  \n",
      "__________________________________________________________________________________________________\n",
      "play_articulate_prob (Permute)  (None, 88, None, 2)  0           slice_notes_velocity_tensor[0][0]\n",
      "__________________________________________________________________________________________________\n",
      "velocity (Permute)              (None, 88, None, 1)  0           back_transform_velocity[0][0]    \n",
      "__________________________________________________________________________________________________\n",
      "play_articulate_sampled (Permut (None, 88, None, 2)  0           batch_reshape_4[0][0]            \n",
      "==================================================================================================\n",
      "Total params: 353,303\n",
      "Trainable params: 353,303\n",
      "Non-trainable params: 0\n",
      "__________________________________________________________________________________________________\n"
     ]
    }
   ],
   "source": [
    "lstm = tf.keras.Model(inputs, [output_1, output_2, output_3], name=\"full\")\n",
    "lstm.summary()"
   ]
  },
  {
   "cell_type": "code",
   "execution_count": 46,
   "id": "indirect-carry",
   "metadata": {},
   "outputs": [],
   "source": [
    "plot = False\n",
    "if plot:\n",
    "    plot_res = tf.keras.utils.plot_model(lstm, to_file=\"model.svg\")"
   ]
  },
  {
   "cell_type": "markdown",
   "id": "outer-aquatic",
   "metadata": {},
   "source": [
    "### Model training"
   ]
  },
  {
   "cell_type": "code",
   "execution_count": 53,
   "id": "composed-screen",
   "metadata": {},
   "outputs": [
    {
     "name": "stdout",
     "output_type": "stream",
     "text": [
      "WARNING:tensorflow:No training configuration found in save file, so the model was *not* compiled. Compile it manually.\n"
     ]
    },
    {
     "name": "stderr",
     "output_type": "stream",
     "text": [
      "WARNING:tensorflow:No training configuration found in save file, so the model was *not* compiled. Compile it manually.\n"
     ]
    }
   ],
   "source": [
    "# Reload alread trained model \n",
    "reload = True\n",
    "if reload:\n",
    "    Date = \"20210920\"\n",
    "    name = \"alpha_0.01_beta_1.0_epoch_64_model\"\n",
    "    load_path = Checkpoint_Directory + Date + \"/\" + name\n",
    "    lstm = tf.keras.models.load_model(load_path)"
   ]
  },
  {
   "cell_type": "code",
   "execution_count": 54,
   "id": "comprehensive-building",
   "metadata": {},
   "outputs": [],
   "source": [
    "# loss\n",
    "losses = (sub.CustomSigmoidFocalCrossEntropy(from_logits = True, \n",
    "                                           gamma = 0, \n",
    "                                           alpha = 0),\n",
    "          sub.MeanSquaredErrorVelocity())\n",
    "\n",
    "# metric\n",
    "metrics = (sub.CustomBinaryAccuracy(threshold=0.5), \n",
    "           tfa.metrics.MultiLabelConfusionMatrix(num_classes=2),\n",
    "           sub.root_mean_squared_error_velocity_metric)\n",
    "\n",
    "# optimizer\n",
    "optimizer = tf.keras.optimizers.Adadelta(learning_rate=1, epsilon=1e-04)"
   ]
  },
  {
   "cell_type": "code",
   "execution_count": 55,
   "id": "faced-energy",
   "metadata": {},
   "outputs": [],
   "source": [
    "### The tf.function \n",
    "@tf.function(experimental_relax_shapes=True)\n",
    "def train_on_batch(X, y, alpha, beta):\n",
    "    \n",
    "    with tf.GradientTape() as tape:\n",
    "        \n",
    "        y_pred_p_a, y_pred_velocity, sampled_p_a = lstm(X, training=True)\n",
    "        \n",
    "        loss_p_a        = losses[0](y, y_pred_p_a)\n",
    "        loss_velocity   = losses[1](y, y_pred_velocity)\n",
    "        loss_total      = beta * loss_p_a + alpha * tf.math.sqrt(loss_velocity) / 127 \n",
    "                \n",
    "        metric_p_a      = metrics[0](y, y_pred_p_a)\n",
    "        confs           = metrics[1](tf.reshape(y[:,:,:,0:2],  [-1,2]), \n",
    "                                    tf.reshape(sampled_p_a, [-1,2]))\n",
    "        p_conf, a_conf  = confs[0], confs[1]\n",
    "        metric_velocity = metrics[2](y, y_pred_velocity)\n",
    "        \n",
    "\n",
    "    grads = tape.gradient(loss_total, lstm.trainable_weights)\n",
    "    optimizer.apply_gradients(zip(grads, lstm.trainable_weights))\n",
    "\n",
    "    return (loss_p_a, \n",
    "            tf.math.sqrt(loss_velocity), \n",
    "            tf.reduce_mean(metric_p_a), \n",
    "            tf.reduce_mean(metric_velocity), \n",
    "            [p_conf, a_conf])\n",
    "\n",
    "@tf.function(experimental_relax_shapes=True)\n",
    "def validate_on_batch(X, y, alpha):\n",
    "    \n",
    "    y_pred_p_a, y_pred_velocity, sampled_p_a = lstm(X, training=False)\n",
    "    \n",
    "    loss_p_a       = losses[0](y, y_pred_p_a)\n",
    "    loss_velocity  = losses[1](y, y_pred_velocity)\n",
    "    \n",
    "    metric_p_a     = metrics[0](y, y_pred_p_a)\n",
    "    confs          = metrics[1](tf.reshape(y[:,:,:,0:2],  [-1,2]), \n",
    "                                tf.reshape(sampled_p_a, [-1,2]))\n",
    "    p_conf, a_conf = confs[0], confs[1]    \n",
    "    metric_velocity = metrics[2](y, y_pred_velocity)\n",
    "    \n",
    "    return (loss_p_a, \n",
    "            tf.math.sqrt(loss_velocity),\n",
    "            tf.reduce_mean(metric_p_a), \n",
    "            tf.reduce_mean(metric_velocity), \n",
    "            [p_conf, a_conf])"
   ]
  },
  {
   "cell_type": "code",
   "execution_count": 56,
   "id": "cheap-clearance",
   "metadata": {},
   "outputs": [],
   "source": [
    "current_time_str = datetime.datetime.now().strftime(\"%Y%m%d-%H%M%S\")\n",
    "\n",
    "epochs = 64 \n",
    "batch_size = 2\n",
    "epoch_save_list = [1, 2, 4, 8, 16, 32, 64] #Checkpoint_Directory\n",
    "alpha = tf.constant(1/100)\n",
    "beta = tf.constant(1.)\n",
    "\n",
    "n_train_batches = prep.getNumberOfBatches(training_pieces, batch_size)\n",
    "n_val_batches = prep.getNumberOfBatches(validation_pieces, batch_size)\n",
    "\n",
    "# Values for loss, metric and confusion matrix\n",
    "train_loss_p_a_array   = np.full((epochs, n_train_batches), 10.0)\n",
    "train_loss_vel_array   = np.full((epochs, n_train_batches), 10.0)\n",
    "train_metric_p_a_array = np.full((epochs, n_train_batches), 10.0)\n",
    "train_metric_vel_array = np.full((epochs, n_train_batches), 10.0)\n",
    "val_loss_p_a_array     = np.full((epochs, n_val_batches), 10.0)\n",
    "val_loss_vel_array     = np.full((epochs, n_val_batches), 10.0)\n",
    "val_metric_p_a_array   = np.full((epochs, n_val_batches), 10.0)\n",
    "val_metric_vel_array   = np.full((epochs, n_val_batches), 10.0)\n",
    "train_p_conf_array     = np.full((epochs, 2, 2), 10.0)\n",
    "train_a_conf_array     = np.full((epochs, 2, 2), 10.0)\n",
    "val_p_conf_array       = np.full((epochs, 2, 2), 10.0)\n",
    "val_a_conf_array       = np.full((epochs, 2, 2), 10.0)"
   ]
  },
  {
   "cell_type": "code",
   "execution_count": 57,
   "id": "focal-abraham",
   "metadata": {},
   "outputs": [
    {
     "data": {
      "text/plain": [
       "(889, 56)"
      ]
     },
     "execution_count": 57,
     "metadata": {},
     "output_type": "execute_result"
    }
   ],
   "source": [
    "(n_train_batches, n_val_batches)"
   ]
  },
  {
   "cell_type": "code",
   "execution_count": 58,
   "id": "younger-border",
   "metadata": {},
   "outputs": [
    {
     "name": "stdout",
     "output_type": "stream",
     "text": [
      "Start of Epoch [1/64]\n",
      "\n",
      "\n",
      "Training batch: 889/889\n",
      "Validation batch: 56/56\n",
      "Seed:864418\n",
      "Training   Loss p_a: 0.028782486661805596\n",
      "Validation Loss p_a: 0.027655624235714122\n",
      "Training   Loss vel: 16.60463765179749\n",
      "Validation Loss vel: 12.833436046327863\n",
      "Training   Accuracy p_a: 0.9957133154767168\n",
      "Validation Accuracy p_a: 0.9961178079247475\n",
      "Training   Accuracy vel: 16.60463765179749\n",
      "Validation Accuracy vel: 12.833436046327863\n",
      "Training Confusion Matrix Play:\n",
      "\n",
      "[[14449938.   105020.]\n",
      " [  104375.   361211.]]\n",
      "\n",
      "Training Confusion Matrix Articulate:\n",
      "\n",
      "[[14858947.    72894.]\n",
      " [   71873.    16830.]]\n",
      "\n",
      "Validation Confusion Matrix Play:\n",
      "\n",
      "[[911369.   5384.]\n",
      " [  4483.  24940.]]\n",
      "\n",
      "Validation Confusion Matrix Articulate:\n",
      "\n",
      "[[937505.   3480.]\n",
      " [  4037.   1154.]]\n",
      "\n",
      "Time: 171.148s\n"
     ]
    },
    {
     "name": "stderr",
     "output_type": "stream",
     "text": [
      "WARNING:absl:Found untraced functions such as lstm_cell_layer_call_and_return_conditional_losses, lstm_cell_layer_call_fn, lstm_cell_1_layer_call_and_return_conditional_losses, lstm_cell_1_layer_call_fn, lstm_cell_2_layer_call_and_return_conditional_losses while saving (showing 5 of 20). These functions will not be directly callable after loading.\n",
      "WARNING:absl:Found untraced functions such as lstm_cell_layer_call_and_return_conditional_losses, lstm_cell_layer_call_fn, lstm_cell_1_layer_call_and_return_conditional_losses, lstm_cell_1_layer_call_fn, lstm_cell_2_layer_call_and_return_conditional_losses while saving (showing 5 of 20). These functions will not be directly callable after loading.\n"
     ]
    },
    {
     "name": "stdout",
     "output_type": "stream",
     "text": [
      "INFO:tensorflow:Assets written to: /home/mirko/Documents/FHWN/MA/master_thesis/code/tf2/outputs/models/ckpt/20211010/alpha_0.01_beta_1.0_epoch_1_model/assets\n"
     ]
    },
    {
     "name": "stderr",
     "output_type": "stream",
     "text": [
      "INFO:tensorflow:Assets written to: /home/mirko/Documents/FHWN/MA/master_thesis/code/tf2/outputs/models/ckpt/20211010/alpha_0.01_beta_1.0_epoch_1_model/assets\n"
     ]
    },
    {
     "name": "stdout",
     "output_type": "stream",
     "text": [
      "WARNING:tensorflow:5 out of the last 5 calls to <function recreate_function.<locals>.restored_function_body at 0x7fe87de279d0> triggered tf.function retracing. Tracing is expensive and the excessive number of tracings could be due to (1) creating @tf.function repeatedly in a loop, (2) passing tensors with different shapes, (3) passing Python objects instead of tensors. For (1), please define your @tf.function outside of the loop. For (2), @tf.function has experimental_relax_shapes=True option that relaxes argument shapes that can avoid unnecessary retracing. For (3), please refer to https://www.tensorflow.org/guide/function#controlling_retracing and https://www.tensorflow.org/api_docs/python/tf/function for  more details.\n"
     ]
    },
    {
     "name": "stderr",
     "output_type": "stream",
     "text": [
      "WARNING:tensorflow:5 out of the last 5 calls to <function recreate_function.<locals>.restored_function_body at 0x7fe87de279d0> triggered tf.function retracing. Tracing is expensive and the excessive number of tracings could be due to (1) creating @tf.function repeatedly in a loop, (2) passing tensors with different shapes, (3) passing Python objects instead of tensors. For (1), please define your @tf.function outside of the loop. For (2), @tf.function has experimental_relax_shapes=True option that relaxes argument shapes that can avoid unnecessary retracing. For (3), please refer to https://www.tensorflow.org/guide/function#controlling_retracing and https://www.tensorflow.org/api_docs/python/tf/function for  more details.\n"
     ]
    },
    {
     "name": "stdout",
     "output_type": "stream",
     "text": [
      "WARNING:tensorflow:6 out of the last 6 calls to <function recreate_function.<locals>.restored_function_body at 0x7fe886b66a60> triggered tf.function retracing. Tracing is expensive and the excessive number of tracings could be due to (1) creating @tf.function repeatedly in a loop, (2) passing tensors with different shapes, (3) passing Python objects instead of tensors. For (1), please define your @tf.function outside of the loop. For (2), @tf.function has experimental_relax_shapes=True option that relaxes argument shapes that can avoid unnecessary retracing. For (3), please refer to https://www.tensorflow.org/guide/function#controlling_retracing and https://www.tensorflow.org/api_docs/python/tf/function for  more details.\n"
     ]
    },
    {
     "name": "stderr",
     "output_type": "stream",
     "text": [
      "WARNING:tensorflow:6 out of the last 6 calls to <function recreate_function.<locals>.restored_function_body at 0x7fe886b66a60> triggered tf.function retracing. Tracing is expensive and the excessive number of tracings could be due to (1) creating @tf.function repeatedly in a loop, (2) passing tensors with different shapes, (3) passing Python objects instead of tensors. For (1), please define your @tf.function outside of the loop. For (2), @tf.function has experimental_relax_shapes=True option that relaxes argument shapes that can avoid unnecessary retracing. For (3), please refer to https://www.tensorflow.org/guide/function#controlling_retracing and https://www.tensorflow.org/api_docs/python/tf/function for  more details.\n"
     ]
    },
    {
     "name": "stdout",
     "output_type": "stream",
     "text": [
      "WARNING:tensorflow:7 out of the last 7 calls to <function recreate_function.<locals>.restored_function_body at 0x7fe88cd0aca0> triggered tf.function retracing. Tracing is expensive and the excessive number of tracings could be due to (1) creating @tf.function repeatedly in a loop, (2) passing tensors with different shapes, (3) passing Python objects instead of tensors. For (1), please define your @tf.function outside of the loop. For (2), @tf.function has experimental_relax_shapes=True option that relaxes argument shapes that can avoid unnecessary retracing. For (3), please refer to https://www.tensorflow.org/guide/function#controlling_retracing and https://www.tensorflow.org/api_docs/python/tf/function for  more details.\n"
     ]
    },
    {
     "name": "stderr",
     "output_type": "stream",
     "text": [
      "WARNING:tensorflow:7 out of the last 7 calls to <function recreate_function.<locals>.restored_function_body at 0x7fe88cd0aca0> triggered tf.function retracing. Tracing is expensive and the excessive number of tracings could be due to (1) creating @tf.function repeatedly in a loop, (2) passing tensors with different shapes, (3) passing Python objects instead of tensors. For (1), please define your @tf.function outside of the loop. For (2), @tf.function has experimental_relax_shapes=True option that relaxes argument shapes that can avoid unnecessary retracing. For (3), please refer to https://www.tensorflow.org/guide/function#controlling_retracing and https://www.tensorflow.org/api_docs/python/tf/function for  more details.\n"
     ]
    },
    {
     "name": "stdout",
     "output_type": "stream",
     "text": [
      "WARNING:tensorflow:8 out of the last 8 calls to <function recreate_function.<locals>.restored_function_body at 0x7fe8843fdc10> triggered tf.function retracing. Tracing is expensive and the excessive number of tracings could be due to (1) creating @tf.function repeatedly in a loop, (2) passing tensors with different shapes, (3) passing Python objects instead of tensors. For (1), please define your @tf.function outside of the loop. For (2), @tf.function has experimental_relax_shapes=True option that relaxes argument shapes that can avoid unnecessary retracing. For (3), please refer to https://www.tensorflow.org/guide/function#controlling_retracing and https://www.tensorflow.org/api_docs/python/tf/function for  more details.\n"
     ]
    },
    {
     "name": "stderr",
     "output_type": "stream",
     "text": [
      "WARNING:tensorflow:8 out of the last 8 calls to <function recreate_function.<locals>.restored_function_body at 0x7fe8843fdc10> triggered tf.function retracing. Tracing is expensive and the excessive number of tracings could be due to (1) creating @tf.function repeatedly in a loop, (2) passing tensors with different shapes, (3) passing Python objects instead of tensors. For (1), please define your @tf.function outside of the loop. For (2), @tf.function has experimental_relax_shapes=True option that relaxes argument shapes that can avoid unnecessary retracing. For (3), please refer to https://www.tensorflow.org/guide/function#controlling_retracing and https://www.tensorflow.org/api_docs/python/tf/function for  more details.\n"
     ]
    },
    {
     "name": "stdout",
     "output_type": "stream",
     "text": [
      "WARNING:tensorflow:9 out of the last 9 calls to <function recreate_function.<locals>.restored_function_body at 0x7fe88cd0a5e0> triggered tf.function retracing. Tracing is expensive and the excessive number of tracings could be due to (1) creating @tf.function repeatedly in a loop, (2) passing tensors with different shapes, (3) passing Python objects instead of tensors. For (1), please define your @tf.function outside of the loop. For (2), @tf.function has experimental_relax_shapes=True option that relaxes argument shapes that can avoid unnecessary retracing. For (3), please refer to https://www.tensorflow.org/guide/function#controlling_retracing and https://www.tensorflow.org/api_docs/python/tf/function for  more details.\n"
     ]
    },
    {
     "name": "stderr",
     "output_type": "stream",
     "text": [
      "WARNING:tensorflow:9 out of the last 9 calls to <function recreate_function.<locals>.restored_function_body at 0x7fe88cd0a5e0> triggered tf.function retracing. Tracing is expensive and the excessive number of tracings could be due to (1) creating @tf.function repeatedly in a loop, (2) passing tensors with different shapes, (3) passing Python objects instead of tensors. For (1), please define your @tf.function outside of the loop. For (2), @tf.function has experimental_relax_shapes=True option that relaxes argument shapes that can avoid unnecessary retracing. For (3), please refer to https://www.tensorflow.org/guide/function#controlling_retracing and https://www.tensorflow.org/api_docs/python/tf/function for  more details.\n"
     ]
    },
    {
     "name": "stdout",
     "output_type": "stream",
     "text": [
      "WARNING:tensorflow:10 out of the last 10 calls to <function recreate_function.<locals>.restored_function_body at 0x7fe88446fdc0> triggered tf.function retracing. Tracing is expensive and the excessive number of tracings could be due to (1) creating @tf.function repeatedly in a loop, (2) passing tensors with different shapes, (3) passing Python objects instead of tensors. For (1), please define your @tf.function outside of the loop. For (2), @tf.function has experimental_relax_shapes=True option that relaxes argument shapes that can avoid unnecessary retracing. For (3), please refer to https://www.tensorflow.org/guide/function#controlling_retracing and https://www.tensorflow.org/api_docs/python/tf/function for  more details.\n"
     ]
    },
    {
     "name": "stderr",
     "output_type": "stream",
     "text": [
      "WARNING:tensorflow:10 out of the last 10 calls to <function recreate_function.<locals>.restored_function_body at 0x7fe88446fdc0> triggered tf.function retracing. Tracing is expensive and the excessive number of tracings could be due to (1) creating @tf.function repeatedly in a loop, (2) passing tensors with different shapes, (3) passing Python objects instead of tensors. For (1), please define your @tf.function outside of the loop. For (2), @tf.function has experimental_relax_shapes=True option that relaxes argument shapes that can avoid unnecessary retracing. For (3), please refer to https://www.tensorflow.org/guide/function#controlling_retracing and https://www.tensorflow.org/api_docs/python/tf/function for  more details.\n"
     ]
    },
    {
     "name": "stdout",
     "output_type": "stream",
     "text": [
      "WARNING:tensorflow:11 out of the last 11 calls to <function recreate_function.<locals>.restored_function_body at 0x7fe8874a5af0> triggered tf.function retracing. Tracing is expensive and the excessive number of tracings could be due to (1) creating @tf.function repeatedly in a loop, (2) passing tensors with different shapes, (3) passing Python objects instead of tensors. For (1), please define your @tf.function outside of the loop. For (2), @tf.function has experimental_relax_shapes=True option that relaxes argument shapes that can avoid unnecessary retracing. For (3), please refer to https://www.tensorflow.org/guide/function#controlling_retracing and https://www.tensorflow.org/api_docs/python/tf/function for  more details.\n"
     ]
    },
    {
     "name": "stderr",
     "output_type": "stream",
     "text": [
      "WARNING:tensorflow:11 out of the last 11 calls to <function recreate_function.<locals>.restored_function_body at 0x7fe8874a5af0> triggered tf.function retracing. Tracing is expensive and the excessive number of tracings could be due to (1) creating @tf.function repeatedly in a loop, (2) passing tensors with different shapes, (3) passing Python objects instead of tensors. For (1), please define your @tf.function outside of the loop. For (2), @tf.function has experimental_relax_shapes=True option that relaxes argument shapes that can avoid unnecessary retracing. For (3), please refer to https://www.tensorflow.org/guide/function#controlling_retracing and https://www.tensorflow.org/api_docs/python/tf/function for  more details.\n"
     ]
    },
    {
     "name": "stdout",
     "output_type": "stream",
     "text": [
      "WARNING:tensorflow:11 out of the last 11 calls to <function recreate_function.<locals>.restored_function_body at 0x7fe87d66d280> triggered tf.function retracing. Tracing is expensive and the excessive number of tracings could be due to (1) creating @tf.function repeatedly in a loop, (2) passing tensors with different shapes, (3) passing Python objects instead of tensors. For (1), please define your @tf.function outside of the loop. For (2), @tf.function has experimental_relax_shapes=True option that relaxes argument shapes that can avoid unnecessary retracing. For (3), please refer to https://www.tensorflow.org/guide/function#controlling_retracing and https://www.tensorflow.org/api_docs/python/tf/function for  more details.\n"
     ]
    },
    {
     "name": "stderr",
     "output_type": "stream",
     "text": [
      "WARNING:tensorflow:11 out of the last 11 calls to <function recreate_function.<locals>.restored_function_body at 0x7fe87d66d280> triggered tf.function retracing. Tracing is expensive and the excessive number of tracings could be due to (1) creating @tf.function repeatedly in a loop, (2) passing tensors with different shapes, (3) passing Python objects instead of tensors. For (1), please define your @tf.function outside of the loop. For (2), @tf.function has experimental_relax_shapes=True option that relaxes argument shapes that can avoid unnecessary retracing. For (3), please refer to https://www.tensorflow.org/guide/function#controlling_retracing and https://www.tensorflow.org/api_docs/python/tf/function for  more details.\n"
     ]
    },
    {
     "name": "stdout",
     "output_type": "stream",
     "text": [
      "WARNING:tensorflow:11 out of the last 11 calls to <function recreate_function.<locals>.restored_function_body at 0x7fe8874a5820> triggered tf.function retracing. Tracing is expensive and the excessive number of tracings could be due to (1) creating @tf.function repeatedly in a loop, (2) passing tensors with different shapes, (3) passing Python objects instead of tensors. For (1), please define your @tf.function outside of the loop. For (2), @tf.function has experimental_relax_shapes=True option that relaxes argument shapes that can avoid unnecessary retracing. For (3), please refer to https://www.tensorflow.org/guide/function#controlling_retracing and https://www.tensorflow.org/api_docs/python/tf/function for  more details.\n"
     ]
    },
    {
     "name": "stderr",
     "output_type": "stream",
     "text": [
      "WARNING:tensorflow:11 out of the last 11 calls to <function recreate_function.<locals>.restored_function_body at 0x7fe8874a5820> triggered tf.function retracing. Tracing is expensive and the excessive number of tracings could be due to (1) creating @tf.function repeatedly in a loop, (2) passing tensors with different shapes, (3) passing Python objects instead of tensors. For (1), please define your @tf.function outside of the loop. For (2), @tf.function has experimental_relax_shapes=True option that relaxes argument shapes that can avoid unnecessary retracing. For (3), please refer to https://www.tensorflow.org/guide/function#controlling_retracing and https://www.tensorflow.org/api_docs/python/tf/function for  more details.\n"
     ]
    },
    {
     "name": "stdout",
     "output_type": "stream",
     "text": [
      "WARNING:tensorflow:11 out of the last 11 calls to <function recreate_function.<locals>.restored_function_body at 0x7fe87de54670> triggered tf.function retracing. Tracing is expensive and the excessive number of tracings could be due to (1) creating @tf.function repeatedly in a loop, (2) passing tensors with different shapes, (3) passing Python objects instead of tensors. For (1), please define your @tf.function outside of the loop. For (2), @tf.function has experimental_relax_shapes=True option that relaxes argument shapes that can avoid unnecessary retracing. For (3), please refer to https://www.tensorflow.org/guide/function#controlling_retracing and https://www.tensorflow.org/api_docs/python/tf/function for  more details.\n"
     ]
    },
    {
     "name": "stderr",
     "output_type": "stream",
     "text": [
      "WARNING:tensorflow:11 out of the last 11 calls to <function recreate_function.<locals>.restored_function_body at 0x7fe87de54670> triggered tf.function retracing. Tracing is expensive and the excessive number of tracings could be due to (1) creating @tf.function repeatedly in a loop, (2) passing tensors with different shapes, (3) passing Python objects instead of tensors. For (1), please define your @tf.function outside of the loop. For (2), @tf.function has experimental_relax_shapes=True option that relaxes argument shapes that can avoid unnecessary retracing. For (3), please refer to https://www.tensorflow.org/guide/function#controlling_retracing and https://www.tensorflow.org/api_docs/python/tf/function for  more details.\n"
     ]
    },
    {
     "name": "stdout",
     "output_type": "stream",
     "text": [
      "WARNING:tensorflow:11 out of the last 11 calls to <function recreate_function.<locals>.restored_function_body at 0x7fe87d66d3a0> triggered tf.function retracing. Tracing is expensive and the excessive number of tracings could be due to (1) creating @tf.function repeatedly in a loop, (2) passing tensors with different shapes, (3) passing Python objects instead of tensors. For (1), please define your @tf.function outside of the loop. For (2), @tf.function has experimental_relax_shapes=True option that relaxes argument shapes that can avoid unnecessary retracing. For (3), please refer to https://www.tensorflow.org/guide/function#controlling_retracing and https://www.tensorflow.org/api_docs/python/tf/function for  more details.\n"
     ]
    },
    {
     "name": "stderr",
     "output_type": "stream",
     "text": [
      "WARNING:tensorflow:11 out of the last 11 calls to <function recreate_function.<locals>.restored_function_body at 0x7fe87d66d3a0> triggered tf.function retracing. Tracing is expensive and the excessive number of tracings could be due to (1) creating @tf.function repeatedly in a loop, (2) passing tensors with different shapes, (3) passing Python objects instead of tensors. For (1), please define your @tf.function outside of the loop. For (2), @tf.function has experimental_relax_shapes=True option that relaxes argument shapes that can avoid unnecessary retracing. For (3), please refer to https://www.tensorflow.org/guide/function#controlling_retracing and https://www.tensorflow.org/api_docs/python/tf/function for  more details.\n"
     ]
    },
    {
     "name": "stdout",
     "output_type": "stream",
     "text": [
      "WARNING:tensorflow:11 out of the last 11 calls to <function recreate_function.<locals>.restored_function_body at 0x7fe88cd185e0> triggered tf.function retracing. Tracing is expensive and the excessive number of tracings could be due to (1) creating @tf.function repeatedly in a loop, (2) passing tensors with different shapes, (3) passing Python objects instead of tensors. For (1), please define your @tf.function outside of the loop. For (2), @tf.function has experimental_relax_shapes=True option that relaxes argument shapes that can avoid unnecessary retracing. For (3), please refer to https://www.tensorflow.org/guide/function#controlling_retracing and https://www.tensorflow.org/api_docs/python/tf/function for  more details.\n"
     ]
    },
    {
     "name": "stderr",
     "output_type": "stream",
     "text": [
      "WARNING:tensorflow:11 out of the last 11 calls to <function recreate_function.<locals>.restored_function_body at 0x7fe88cd185e0> triggered tf.function retracing. Tracing is expensive and the excessive number of tracings could be due to (1) creating @tf.function repeatedly in a loop, (2) passing tensors with different shapes, (3) passing Python objects instead of tensors. For (1), please define your @tf.function outside of the loop. For (2), @tf.function has experimental_relax_shapes=True option that relaxes argument shapes that can avoid unnecessary retracing. For (3), please refer to https://www.tensorflow.org/guide/function#controlling_retracing and https://www.tensorflow.org/api_docs/python/tf/function for  more details.\n"
     ]
    },
    {
     "name": "stdout",
     "output_type": "stream",
     "text": [
      "WARNING:tensorflow:11 out of the last 11 calls to <function recreate_function.<locals>.restored_function_body at 0x7fe88cd0a790> triggered tf.function retracing. Tracing is expensive and the excessive number of tracings could be due to (1) creating @tf.function repeatedly in a loop, (2) passing tensors with different shapes, (3) passing Python objects instead of tensors. For (1), please define your @tf.function outside of the loop. For (2), @tf.function has experimental_relax_shapes=True option that relaxes argument shapes that can avoid unnecessary retracing. For (3), please refer to https://www.tensorflow.org/guide/function#controlling_retracing and https://www.tensorflow.org/api_docs/python/tf/function for  more details.\n"
     ]
    },
    {
     "name": "stderr",
     "output_type": "stream",
     "text": [
      "WARNING:tensorflow:11 out of the last 11 calls to <function recreate_function.<locals>.restored_function_body at 0x7fe88cd0a790> triggered tf.function retracing. Tracing is expensive and the excessive number of tracings could be due to (1) creating @tf.function repeatedly in a loop, (2) passing tensors with different shapes, (3) passing Python objects instead of tensors. For (1), please define your @tf.function outside of the loop. For (2), @tf.function has experimental_relax_shapes=True option that relaxes argument shapes that can avoid unnecessary retracing. For (3), please refer to https://www.tensorflow.org/guide/function#controlling_retracing and https://www.tensorflow.org/api_docs/python/tf/function for  more details.\n"
     ]
    },
    {
     "name": "stdout",
     "output_type": "stream",
     "text": [
      "WARNING:tensorflow:11 out of the last 11 calls to <function recreate_function.<locals>.restored_function_body at 0x7fe88d07d8b0> triggered tf.function retracing. Tracing is expensive and the excessive number of tracings could be due to (1) creating @tf.function repeatedly in a loop, (2) passing tensors with different shapes, (3) passing Python objects instead of tensors. For (1), please define your @tf.function outside of the loop. For (2), @tf.function has experimental_relax_shapes=True option that relaxes argument shapes that can avoid unnecessary retracing. For (3), please refer to https://www.tensorflow.org/guide/function#controlling_retracing and https://www.tensorflow.org/api_docs/python/tf/function for  more details.\n"
     ]
    },
    {
     "name": "stderr",
     "output_type": "stream",
     "text": [
      "WARNING:tensorflow:11 out of the last 11 calls to <function recreate_function.<locals>.restored_function_body at 0x7fe88d07d8b0> triggered tf.function retracing. Tracing is expensive and the excessive number of tracings could be due to (1) creating @tf.function repeatedly in a loop, (2) passing tensors with different shapes, (3) passing Python objects instead of tensors. For (1), please define your @tf.function outside of the loop. For (2), @tf.function has experimental_relax_shapes=True option that relaxes argument shapes that can avoid unnecessary retracing. For (3), please refer to https://www.tensorflow.org/guide/function#controlling_retracing and https://www.tensorflow.org/api_docs/python/tf/function for  more details.\n"
     ]
    },
    {
     "name": "stdout",
     "output_type": "stream",
     "text": [
      "WARNING:tensorflow:11 out of the last 11 calls to <function recreate_function.<locals>.restored_function_body at 0x7fe886b660d0> triggered tf.function retracing. Tracing is expensive and the excessive number of tracings could be due to (1) creating @tf.function repeatedly in a loop, (2) passing tensors with different shapes, (3) passing Python objects instead of tensors. For (1), please define your @tf.function outside of the loop. For (2), @tf.function has experimental_relax_shapes=True option that relaxes argument shapes that can avoid unnecessary retracing. For (3), please refer to https://www.tensorflow.org/guide/function#controlling_retracing and https://www.tensorflow.org/api_docs/python/tf/function for  more details.\n"
     ]
    },
    {
     "name": "stderr",
     "output_type": "stream",
     "text": [
      "WARNING:tensorflow:11 out of the last 11 calls to <function recreate_function.<locals>.restored_function_body at 0x7fe886b660d0> triggered tf.function retracing. Tracing is expensive and the excessive number of tracings could be due to (1) creating @tf.function repeatedly in a loop, (2) passing tensors with different shapes, (3) passing Python objects instead of tensors. For (1), please define your @tf.function outside of the loop. For (2), @tf.function has experimental_relax_shapes=True option that relaxes argument shapes that can avoid unnecessary retracing. For (3), please refer to https://www.tensorflow.org/guide/function#controlling_retracing and https://www.tensorflow.org/api_docs/python/tf/function for  more details.\n"
     ]
    },
    {
     "name": "stdout",
     "output_type": "stream",
     "text": [
      "WARNING:tensorflow:11 out of the last 11 calls to <function recreate_function.<locals>.restored_function_body at 0x7fe88cd18f70> triggered tf.function retracing. Tracing is expensive and the excessive number of tracings could be due to (1) creating @tf.function repeatedly in a loop, (2) passing tensors with different shapes, (3) passing Python objects instead of tensors. For (1), please define your @tf.function outside of the loop. For (2), @tf.function has experimental_relax_shapes=True option that relaxes argument shapes that can avoid unnecessary retracing. For (3), please refer to https://www.tensorflow.org/guide/function#controlling_retracing and https://www.tensorflow.org/api_docs/python/tf/function for  more details.\n"
     ]
    },
    {
     "name": "stderr",
     "output_type": "stream",
     "text": [
      "WARNING:tensorflow:11 out of the last 11 calls to <function recreate_function.<locals>.restored_function_body at 0x7fe88cd18f70> triggered tf.function retracing. Tracing is expensive and the excessive number of tracings could be due to (1) creating @tf.function repeatedly in a loop, (2) passing tensors with different shapes, (3) passing Python objects instead of tensors. For (1), please define your @tf.function outside of the loop. For (2), @tf.function has experimental_relax_shapes=True option that relaxes argument shapes that can avoid unnecessary retracing. For (3), please refer to https://www.tensorflow.org/guide/function#controlling_retracing and https://www.tensorflow.org/api_docs/python/tf/function for  more details.\n"
     ]
    },
    {
     "name": "stdout",
     "output_type": "stream",
     "text": [
      "WARNING:tensorflow:11 out of the last 11 calls to <function recreate_function.<locals>.restored_function_body at 0x7fe88d07d280> triggered tf.function retracing. Tracing is expensive and the excessive number of tracings could be due to (1) creating @tf.function repeatedly in a loop, (2) passing tensors with different shapes, (3) passing Python objects instead of tensors. For (1), please define your @tf.function outside of the loop. For (2), @tf.function has experimental_relax_shapes=True option that relaxes argument shapes that can avoid unnecessary retracing. For (3), please refer to https://www.tensorflow.org/guide/function#controlling_retracing and https://www.tensorflow.org/api_docs/python/tf/function for  more details.\n"
     ]
    },
    {
     "name": "stderr",
     "output_type": "stream",
     "text": [
      "WARNING:tensorflow:11 out of the last 11 calls to <function recreate_function.<locals>.restored_function_body at 0x7fe88d07d280> triggered tf.function retracing. Tracing is expensive and the excessive number of tracings could be due to (1) creating @tf.function repeatedly in a loop, (2) passing tensors with different shapes, (3) passing Python objects instead of tensors. For (1), please define your @tf.function outside of the loop. For (2), @tf.function has experimental_relax_shapes=True option that relaxes argument shapes that can avoid unnecessary retracing. For (3), please refer to https://www.tensorflow.org/guide/function#controlling_retracing and https://www.tensorflow.org/api_docs/python/tf/function for  more details.\n"
     ]
    },
    {
     "name": "stdout",
     "output_type": "stream",
     "text": [
      "WARNING:tensorflow:11 out of the last 11 calls to <function recreate_function.<locals>.restored_function_body at 0x7fe886b1a160> triggered tf.function retracing. Tracing is expensive and the excessive number of tracings could be due to (1) creating @tf.function repeatedly in a loop, (2) passing tensors with different shapes, (3) passing Python objects instead of tensors. For (1), please define your @tf.function outside of the loop. For (2), @tf.function has experimental_relax_shapes=True option that relaxes argument shapes that can avoid unnecessary retracing. For (3), please refer to https://www.tensorflow.org/guide/function#controlling_retracing and https://www.tensorflow.org/api_docs/python/tf/function for  more details.\n"
     ]
    },
    {
     "name": "stderr",
     "output_type": "stream",
     "text": [
      "WARNING:tensorflow:11 out of the last 11 calls to <function recreate_function.<locals>.restored_function_body at 0x7fe886b1a160> triggered tf.function retracing. Tracing is expensive and the excessive number of tracings could be due to (1) creating @tf.function repeatedly in a loop, (2) passing tensors with different shapes, (3) passing Python objects instead of tensors. For (1), please define your @tf.function outside of the loop. For (2), @tf.function has experimental_relax_shapes=True option that relaxes argument shapes that can avoid unnecessary retracing. For (3), please refer to https://www.tensorflow.org/guide/function#controlling_retracing and https://www.tensorflow.org/api_docs/python/tf/function for  more details.\n"
     ]
    },
    {
     "name": "stdout",
     "output_type": "stream",
     "text": [
      "WARNING:tensorflow:11 out of the last 11 calls to <function recreate_function.<locals>.restored_function_body at 0x7fe886b66ee0> triggered tf.function retracing. Tracing is expensive and the excessive number of tracings could be due to (1) creating @tf.function repeatedly in a loop, (2) passing tensors with different shapes, (3) passing Python objects instead of tensors. For (1), please define your @tf.function outside of the loop. For (2), @tf.function has experimental_relax_shapes=True option that relaxes argument shapes that can avoid unnecessary retracing. For (3), please refer to https://www.tensorflow.org/guide/function#controlling_retracing and https://www.tensorflow.org/api_docs/python/tf/function for  more details.\n"
     ]
    },
    {
     "name": "stderr",
     "output_type": "stream",
     "text": [
      "WARNING:tensorflow:11 out of the last 11 calls to <function recreate_function.<locals>.restored_function_body at 0x7fe886b66ee0> triggered tf.function retracing. Tracing is expensive and the excessive number of tracings could be due to (1) creating @tf.function repeatedly in a loop, (2) passing tensors with different shapes, (3) passing Python objects instead of tensors. For (1), please define your @tf.function outside of the loop. For (2), @tf.function has experimental_relax_shapes=True option that relaxes argument shapes that can avoid unnecessary retracing. For (3), please refer to https://www.tensorflow.org/guide/function#controlling_retracing and https://www.tensorflow.org/api_docs/python/tf/function for  more details.\n"
     ]
    },
    {
     "name": "stdout",
     "output_type": "stream",
     "text": [
      "WARNING:tensorflow:11 out of the last 11 calls to <function recreate_function.<locals>.restored_function_body at 0x7fe87d5f7040> triggered tf.function retracing. Tracing is expensive and the excessive number of tracings could be due to (1) creating @tf.function repeatedly in a loop, (2) passing tensors with different shapes, (3) passing Python objects instead of tensors. For (1), please define your @tf.function outside of the loop. For (2), @tf.function has experimental_relax_shapes=True option that relaxes argument shapes that can avoid unnecessary retracing. For (3), please refer to https://www.tensorflow.org/guide/function#controlling_retracing and https://www.tensorflow.org/api_docs/python/tf/function for  more details.\n"
     ]
    },
    {
     "name": "stderr",
     "output_type": "stream",
     "text": [
      "WARNING:tensorflow:11 out of the last 11 calls to <function recreate_function.<locals>.restored_function_body at 0x7fe87d5f7040> triggered tf.function retracing. Tracing is expensive and the excessive number of tracings could be due to (1) creating @tf.function repeatedly in a loop, (2) passing tensors with different shapes, (3) passing Python objects instead of tensors. For (1), please define your @tf.function outside of the loop. For (2), @tf.function has experimental_relax_shapes=True option that relaxes argument shapes that can avoid unnecessary retracing. For (3), please refer to https://www.tensorflow.org/guide/function#controlling_retracing and https://www.tensorflow.org/api_docs/python/tf/function for  more details.\n"
     ]
    },
    {
     "name": "stdout",
     "output_type": "stream",
     "text": [
      "WARNING:tensorflow:11 out of the last 11 calls to <function recreate_function.<locals>.restored_function_body at 0x7fe8876f8280> triggered tf.function retracing. Tracing is expensive and the excessive number of tracings could be due to (1) creating @tf.function repeatedly in a loop, (2) passing tensors with different shapes, (3) passing Python objects instead of tensors. For (1), please define your @tf.function outside of the loop. For (2), @tf.function has experimental_relax_shapes=True option that relaxes argument shapes that can avoid unnecessary retracing. For (3), please refer to https://www.tensorflow.org/guide/function#controlling_retracing and https://www.tensorflow.org/api_docs/python/tf/function for  more details.\n"
     ]
    },
    {
     "name": "stderr",
     "output_type": "stream",
     "text": [
      "WARNING:tensorflow:11 out of the last 11 calls to <function recreate_function.<locals>.restored_function_body at 0x7fe8876f8280> triggered tf.function retracing. Tracing is expensive and the excessive number of tracings could be due to (1) creating @tf.function repeatedly in a loop, (2) passing tensors with different shapes, (3) passing Python objects instead of tensors. For (1), please define your @tf.function outside of the loop. For (2), @tf.function has experimental_relax_shapes=True option that relaxes argument shapes that can avoid unnecessary retracing. For (3), please refer to https://www.tensorflow.org/guide/function#controlling_retracing and https://www.tensorflow.org/api_docs/python/tf/function for  more details.\n"
     ]
    },
    {
     "name": "stdout",
     "output_type": "stream",
     "text": [
      "WARNING:tensorflow:11 out of the last 11 calls to <function recreate_function.<locals>.restored_function_body at 0x7fe87d5f7a60> triggered tf.function retracing. Tracing is expensive and the excessive number of tracings could be due to (1) creating @tf.function repeatedly in a loop, (2) passing tensors with different shapes, (3) passing Python objects instead of tensors. For (1), please define your @tf.function outside of the loop. For (2), @tf.function has experimental_relax_shapes=True option that relaxes argument shapes that can avoid unnecessary retracing. For (3), please refer to https://www.tensorflow.org/guide/function#controlling_retracing and https://www.tensorflow.org/api_docs/python/tf/function for  more details.\n"
     ]
    },
    {
     "name": "stderr",
     "output_type": "stream",
     "text": [
      "WARNING:tensorflow:11 out of the last 11 calls to <function recreate_function.<locals>.restored_function_body at 0x7fe87d5f7a60> triggered tf.function retracing. Tracing is expensive and the excessive number of tracings could be due to (1) creating @tf.function repeatedly in a loop, (2) passing tensors with different shapes, (3) passing Python objects instead of tensors. For (1), please define your @tf.function outside of the loop. For (2), @tf.function has experimental_relax_shapes=True option that relaxes argument shapes that can avoid unnecessary retracing. For (3), please refer to https://www.tensorflow.org/guide/function#controlling_retracing and https://www.tensorflow.org/api_docs/python/tf/function for  more details.\n"
     ]
    },
    {
     "name": "stdout",
     "output_type": "stream",
     "text": [
      "WARNING:tensorflow:11 out of the last 11 calls to <function recreate_function.<locals>.restored_function_body at 0x7fe88446f9d0> triggered tf.function retracing. Tracing is expensive and the excessive number of tracings could be due to (1) creating @tf.function repeatedly in a loop, (2) passing tensors with different shapes, (3) passing Python objects instead of tensors. For (1), please define your @tf.function outside of the loop. For (2), @tf.function has experimental_relax_shapes=True option that relaxes argument shapes that can avoid unnecessary retracing. For (3), please refer to https://www.tensorflow.org/guide/function#controlling_retracing and https://www.tensorflow.org/api_docs/python/tf/function for  more details.\n"
     ]
    },
    {
     "name": "stderr",
     "output_type": "stream",
     "text": [
      "WARNING:tensorflow:11 out of the last 11 calls to <function recreate_function.<locals>.restored_function_body at 0x7fe88446f9d0> triggered tf.function retracing. Tracing is expensive and the excessive number of tracings could be due to (1) creating @tf.function repeatedly in a loop, (2) passing tensors with different shapes, (3) passing Python objects instead of tensors. For (1), please define your @tf.function outside of the loop. For (2), @tf.function has experimental_relax_shapes=True option that relaxes argument shapes that can avoid unnecessary retracing. For (3), please refer to https://www.tensorflow.org/guide/function#controlling_retracing and https://www.tensorflow.org/api_docs/python/tf/function for  more details.\n"
     ]
    },
    {
     "name": "stdout",
     "output_type": "stream",
     "text": [
      "WARNING:tensorflow:11 out of the last 11 calls to <function recreate_function.<locals>.restored_function_body at 0x7fe88756c430> triggered tf.function retracing. Tracing is expensive and the excessive number of tracings could be due to (1) creating @tf.function repeatedly in a loop, (2) passing tensors with different shapes, (3) passing Python objects instead of tensors. For (1), please define your @tf.function outside of the loop. For (2), @tf.function has experimental_relax_shapes=True option that relaxes argument shapes that can avoid unnecessary retracing. For (3), please refer to https://www.tensorflow.org/guide/function#controlling_retracing and https://www.tensorflow.org/api_docs/python/tf/function for  more details.\n"
     ]
    },
    {
     "name": "stderr",
     "output_type": "stream",
     "text": [
      "WARNING:tensorflow:11 out of the last 11 calls to <function recreate_function.<locals>.restored_function_body at 0x7fe88756c430> triggered tf.function retracing. Tracing is expensive and the excessive number of tracings could be due to (1) creating @tf.function repeatedly in a loop, (2) passing tensors with different shapes, (3) passing Python objects instead of tensors. For (1), please define your @tf.function outside of the loop. For (2), @tf.function has experimental_relax_shapes=True option that relaxes argument shapes that can avoid unnecessary retracing. For (3), please refer to https://www.tensorflow.org/guide/function#controlling_retracing and https://www.tensorflow.org/api_docs/python/tf/function for  more details.\n"
     ]
    },
    {
     "name": "stdout",
     "output_type": "stream",
     "text": [
      "WARNING:tensorflow:11 out of the last 11 calls to <function recreate_function.<locals>.restored_function_body at 0x7fe88cd0a1f0> triggered tf.function retracing. Tracing is expensive and the excessive number of tracings could be due to (1) creating @tf.function repeatedly in a loop, (2) passing tensors with different shapes, (3) passing Python objects instead of tensors. For (1), please define your @tf.function outside of the loop. For (2), @tf.function has experimental_relax_shapes=True option that relaxes argument shapes that can avoid unnecessary retracing. For (3), please refer to https://www.tensorflow.org/guide/function#controlling_retracing and https://www.tensorflow.org/api_docs/python/tf/function for  more details.\n"
     ]
    },
    {
     "name": "stderr",
     "output_type": "stream",
     "text": [
      "WARNING:tensorflow:11 out of the last 11 calls to <function recreate_function.<locals>.restored_function_body at 0x7fe88cd0a1f0> triggered tf.function retracing. Tracing is expensive and the excessive number of tracings could be due to (1) creating @tf.function repeatedly in a loop, (2) passing tensors with different shapes, (3) passing Python objects instead of tensors. For (1), please define your @tf.function outside of the loop. For (2), @tf.function has experimental_relax_shapes=True option that relaxes argument shapes that can avoid unnecessary retracing. For (3), please refer to https://www.tensorflow.org/guide/function#controlling_retracing and https://www.tensorflow.org/api_docs/python/tf/function for  more details.\n"
     ]
    },
    {
     "name": "stdout",
     "output_type": "stream",
     "text": [
      "WARNING:tensorflow:11 out of the last 11 calls to <function recreate_function.<locals>.restored_function_body at 0x7fe88cd25c10> triggered tf.function retracing. Tracing is expensive and the excessive number of tracings could be due to (1) creating @tf.function repeatedly in a loop, (2) passing tensors with different shapes, (3) passing Python objects instead of tensors. For (1), please define your @tf.function outside of the loop. For (2), @tf.function has experimental_relax_shapes=True option that relaxes argument shapes that can avoid unnecessary retracing. For (3), please refer to https://www.tensorflow.org/guide/function#controlling_retracing and https://www.tensorflow.org/api_docs/python/tf/function for  more details.\n"
     ]
    },
    {
     "name": "stderr",
     "output_type": "stream",
     "text": [
      "WARNING:tensorflow:11 out of the last 11 calls to <function recreate_function.<locals>.restored_function_body at 0x7fe88cd25c10> triggered tf.function retracing. Tracing is expensive and the excessive number of tracings could be due to (1) creating @tf.function repeatedly in a loop, (2) passing tensors with different shapes, (3) passing Python objects instead of tensors. For (1), please define your @tf.function outside of the loop. For (2), @tf.function has experimental_relax_shapes=True option that relaxes argument shapes that can avoid unnecessary retracing. For (3), please refer to https://www.tensorflow.org/guide/function#controlling_retracing and https://www.tensorflow.org/api_docs/python/tf/function for  more details.\n"
     ]
    },
    {
     "name": "stdout",
     "output_type": "stream",
     "text": [
      "WARNING:tensorflow:11 out of the last 11 calls to <function recreate_function.<locals>.restored_function_body at 0x7fe88d0c83a0> triggered tf.function retracing. Tracing is expensive and the excessive number of tracings could be due to (1) creating @tf.function repeatedly in a loop, (2) passing tensors with different shapes, (3) passing Python objects instead of tensors. For (1), please define your @tf.function outside of the loop. For (2), @tf.function has experimental_relax_shapes=True option that relaxes argument shapes that can avoid unnecessary retracing. For (3), please refer to https://www.tensorflow.org/guide/function#controlling_retracing and https://www.tensorflow.org/api_docs/python/tf/function for  more details.\n"
     ]
    },
    {
     "name": "stderr",
     "output_type": "stream",
     "text": [
      "WARNING:tensorflow:11 out of the last 11 calls to <function recreate_function.<locals>.restored_function_body at 0x7fe88d0c83a0> triggered tf.function retracing. Tracing is expensive and the excessive number of tracings could be due to (1) creating @tf.function repeatedly in a loop, (2) passing tensors with different shapes, (3) passing Python objects instead of tensors. For (1), please define your @tf.function outside of the loop. For (2), @tf.function has experimental_relax_shapes=True option that relaxes argument shapes that can avoid unnecessary retracing. For (3), please refer to https://www.tensorflow.org/guide/function#controlling_retracing and https://www.tensorflow.org/api_docs/python/tf/function for  more details.\n"
     ]
    },
    {
     "name": "stdout",
     "output_type": "stream",
     "text": [
      "WARNING:tensorflow:11 out of the last 11 calls to <function recreate_function.<locals>.restored_function_body at 0x7fe886b1a790> triggered tf.function retracing. Tracing is expensive and the excessive number of tracings could be due to (1) creating @tf.function repeatedly in a loop, (2) passing tensors with different shapes, (3) passing Python objects instead of tensors. For (1), please define your @tf.function outside of the loop. For (2), @tf.function has experimental_relax_shapes=True option that relaxes argument shapes that can avoid unnecessary retracing. For (3), please refer to https://www.tensorflow.org/guide/function#controlling_retracing and https://www.tensorflow.org/api_docs/python/tf/function for  more details.\n"
     ]
    },
    {
     "name": "stderr",
     "output_type": "stream",
     "text": [
      "WARNING:tensorflow:11 out of the last 11 calls to <function recreate_function.<locals>.restored_function_body at 0x7fe886b1a790> triggered tf.function retracing. Tracing is expensive and the excessive number of tracings could be due to (1) creating @tf.function repeatedly in a loop, (2) passing tensors with different shapes, (3) passing Python objects instead of tensors. For (1), please define your @tf.function outside of the loop. For (2), @tf.function has experimental_relax_shapes=True option that relaxes argument shapes that can avoid unnecessary retracing. For (3), please refer to https://www.tensorflow.org/guide/function#controlling_retracing and https://www.tensorflow.org/api_docs/python/tf/function for  more details.\n"
     ]
    },
    {
     "name": "stdout",
     "output_type": "stream",
     "text": [
      "WARNING:tensorflow:11 out of the last 11 calls to <function recreate_function.<locals>.restored_function_body at 0x7fe87de80af0> triggered tf.function retracing. Tracing is expensive and the excessive number of tracings could be due to (1) creating @tf.function repeatedly in a loop, (2) passing tensors with different shapes, (3) passing Python objects instead of tensors. For (1), please define your @tf.function outside of the loop. For (2), @tf.function has experimental_relax_shapes=True option that relaxes argument shapes that can avoid unnecessary retracing. For (3), please refer to https://www.tensorflow.org/guide/function#controlling_retracing and https://www.tensorflow.org/api_docs/python/tf/function for  more details.\n"
     ]
    },
    {
     "name": "stderr",
     "output_type": "stream",
     "text": [
      "WARNING:tensorflow:11 out of the last 11 calls to <function recreate_function.<locals>.restored_function_body at 0x7fe87de80af0> triggered tf.function retracing. Tracing is expensive and the excessive number of tracings could be due to (1) creating @tf.function repeatedly in a loop, (2) passing tensors with different shapes, (3) passing Python objects instead of tensors. For (1), please define your @tf.function outside of the loop. For (2), @tf.function has experimental_relax_shapes=True option that relaxes argument shapes that can avoid unnecessary retracing. For (3), please refer to https://www.tensorflow.org/guide/function#controlling_retracing and https://www.tensorflow.org/api_docs/python/tf/function for  more details.\n"
     ]
    },
    {
     "name": "stdout",
     "output_type": "stream",
     "text": [
      "WARNING:tensorflow:11 out of the last 11 calls to <function recreate_function.<locals>.restored_function_body at 0x7fe88cd25820> triggered tf.function retracing. Tracing is expensive and the excessive number of tracings could be due to (1) creating @tf.function repeatedly in a loop, (2) passing tensors with different shapes, (3) passing Python objects instead of tensors. For (1), please define your @tf.function outside of the loop. For (2), @tf.function has experimental_relax_shapes=True option that relaxes argument shapes that can avoid unnecessary retracing. For (3), please refer to https://www.tensorflow.org/guide/function#controlling_retracing and https://www.tensorflow.org/api_docs/python/tf/function for  more details.\n"
     ]
    },
    {
     "name": "stderr",
     "output_type": "stream",
     "text": [
      "WARNING:tensorflow:11 out of the last 11 calls to <function recreate_function.<locals>.restored_function_body at 0x7fe88cd25820> triggered tf.function retracing. Tracing is expensive and the excessive number of tracings could be due to (1) creating @tf.function repeatedly in a loop, (2) passing tensors with different shapes, (3) passing Python objects instead of tensors. For (1), please define your @tf.function outside of the loop. For (2), @tf.function has experimental_relax_shapes=True option that relaxes argument shapes that can avoid unnecessary retracing. For (3), please refer to https://www.tensorflow.org/guide/function#controlling_retracing and https://www.tensorflow.org/api_docs/python/tf/function for  more details.\n"
     ]
    },
    {
     "name": "stdout",
     "output_type": "stream",
     "text": [
      "WARNING:tensorflow:11 out of the last 11 calls to <function recreate_function.<locals>.restored_function_body at 0x7fe88d0c8ee0> triggered tf.function retracing. Tracing is expensive and the excessive number of tracings could be due to (1) creating @tf.function repeatedly in a loop, (2) passing tensors with different shapes, (3) passing Python objects instead of tensors. For (1), please define your @tf.function outside of the loop. For (2), @tf.function has experimental_relax_shapes=True option that relaxes argument shapes that can avoid unnecessary retracing. For (3), please refer to https://www.tensorflow.org/guide/function#controlling_retracing and https://www.tensorflow.org/api_docs/python/tf/function for  more details.\n"
     ]
    },
    {
     "name": "stderr",
     "output_type": "stream",
     "text": [
      "WARNING:tensorflow:11 out of the last 11 calls to <function recreate_function.<locals>.restored_function_body at 0x7fe88d0c8ee0> triggered tf.function retracing. Tracing is expensive and the excessive number of tracings could be due to (1) creating @tf.function repeatedly in a loop, (2) passing tensors with different shapes, (3) passing Python objects instead of tensors. For (1), please define your @tf.function outside of the loop. For (2), @tf.function has experimental_relax_shapes=True option that relaxes argument shapes that can avoid unnecessary retracing. For (3), please refer to https://www.tensorflow.org/guide/function#controlling_retracing and https://www.tensorflow.org/api_docs/python/tf/function for  more details.\n"
     ]
    },
    {
     "name": "stdout",
     "output_type": "stream",
     "text": [
      "WARNING:tensorflow:11 out of the last 11 calls to <function recreate_function.<locals>.restored_function_body at 0x7fe887851ee0> triggered tf.function retracing. Tracing is expensive and the excessive number of tracings could be due to (1) creating @tf.function repeatedly in a loop, (2) passing tensors with different shapes, (3) passing Python objects instead of tensors. For (1), please define your @tf.function outside of the loop. For (2), @tf.function has experimental_relax_shapes=True option that relaxes argument shapes that can avoid unnecessary retracing. For (3), please refer to https://www.tensorflow.org/guide/function#controlling_retracing and https://www.tensorflow.org/api_docs/python/tf/function for  more details.\n"
     ]
    },
    {
     "name": "stderr",
     "output_type": "stream",
     "text": [
      "WARNING:tensorflow:11 out of the last 11 calls to <function recreate_function.<locals>.restored_function_body at 0x7fe887851ee0> triggered tf.function retracing. Tracing is expensive and the excessive number of tracings could be due to (1) creating @tf.function repeatedly in a loop, (2) passing tensors with different shapes, (3) passing Python objects instead of tensors. For (1), please define your @tf.function outside of the loop. For (2), @tf.function has experimental_relax_shapes=True option that relaxes argument shapes that can avoid unnecessary retracing. For (3), please refer to https://www.tensorflow.org/guide/function#controlling_retracing and https://www.tensorflow.org/api_docs/python/tf/function for  more details.\n"
     ]
    },
    {
     "name": "stdout",
     "output_type": "stream",
     "text": [
      "WARNING:tensorflow:11 out of the last 11 calls to <function recreate_function.<locals>.restored_function_body at 0x7fe886ac1790> triggered tf.function retracing. Tracing is expensive and the excessive number of tracings could be due to (1) creating @tf.function repeatedly in a loop, (2) passing tensors with different shapes, (3) passing Python objects instead of tensors. For (1), please define your @tf.function outside of the loop. For (2), @tf.function has experimental_relax_shapes=True option that relaxes argument shapes that can avoid unnecessary retracing. For (3), please refer to https://www.tensorflow.org/guide/function#controlling_retracing and https://www.tensorflow.org/api_docs/python/tf/function for  more details.\n"
     ]
    },
    {
     "name": "stderr",
     "output_type": "stream",
     "text": [
      "WARNING:tensorflow:11 out of the last 11 calls to <function recreate_function.<locals>.restored_function_body at 0x7fe886ac1790> triggered tf.function retracing. Tracing is expensive and the excessive number of tracings could be due to (1) creating @tf.function repeatedly in a loop, (2) passing tensors with different shapes, (3) passing Python objects instead of tensors. For (1), please define your @tf.function outside of the loop. For (2), @tf.function has experimental_relax_shapes=True option that relaxes argument shapes that can avoid unnecessary retracing. For (3), please refer to https://www.tensorflow.org/guide/function#controlling_retracing and https://www.tensorflow.org/api_docs/python/tf/function for  more details.\n"
     ]
    },
    {
     "name": "stdout",
     "output_type": "stream",
     "text": [
      "WARNING:tensorflow:11 out of the last 11 calls to <function recreate_function.<locals>.restored_function_body at 0x7fe87de54a60> triggered tf.function retracing. Tracing is expensive and the excessive number of tracings could be due to (1) creating @tf.function repeatedly in a loop, (2) passing tensors with different shapes, (3) passing Python objects instead of tensors. For (1), please define your @tf.function outside of the loop. For (2), @tf.function has experimental_relax_shapes=True option that relaxes argument shapes that can avoid unnecessary retracing. For (3), please refer to https://www.tensorflow.org/guide/function#controlling_retracing and https://www.tensorflow.org/api_docs/python/tf/function for  more details.\n"
     ]
    },
    {
     "name": "stderr",
     "output_type": "stream",
     "text": [
      "WARNING:tensorflow:11 out of the last 11 calls to <function recreate_function.<locals>.restored_function_body at 0x7fe87de54a60> triggered tf.function retracing. Tracing is expensive and the excessive number of tracings could be due to (1) creating @tf.function repeatedly in a loop, (2) passing tensors with different shapes, (3) passing Python objects instead of tensors. For (1), please define your @tf.function outside of the loop. For (2), @tf.function has experimental_relax_shapes=True option that relaxes argument shapes that can avoid unnecessary retracing. For (3), please refer to https://www.tensorflow.org/guide/function#controlling_retracing and https://www.tensorflow.org/api_docs/python/tf/function for  more details.\n"
     ]
    },
    {
     "name": "stdout",
     "output_type": "stream",
     "text": [
      "WARNING:tensorflow:11 out of the last 11 calls to <function recreate_function.<locals>.restored_function_body at 0x7fe88d113af0> triggered tf.function retracing. Tracing is expensive and the excessive number of tracings could be due to (1) creating @tf.function repeatedly in a loop, (2) passing tensors with different shapes, (3) passing Python objects instead of tensors. For (1), please define your @tf.function outside of the loop. For (2), @tf.function has experimental_relax_shapes=True option that relaxes argument shapes that can avoid unnecessary retracing. For (3), please refer to https://www.tensorflow.org/guide/function#controlling_retracing and https://www.tensorflow.org/api_docs/python/tf/function for  more details.\n"
     ]
    },
    {
     "name": "stderr",
     "output_type": "stream",
     "text": [
      "WARNING:tensorflow:11 out of the last 11 calls to <function recreate_function.<locals>.restored_function_body at 0x7fe88d113af0> triggered tf.function retracing. Tracing is expensive and the excessive number of tracings could be due to (1) creating @tf.function repeatedly in a loop, (2) passing tensors with different shapes, (3) passing Python objects instead of tensors. For (1), please define your @tf.function outside of the loop. For (2), @tf.function has experimental_relax_shapes=True option that relaxes argument shapes that can avoid unnecessary retracing. For (3), please refer to https://www.tensorflow.org/guide/function#controlling_retracing and https://www.tensorflow.org/api_docs/python/tf/function for  more details.\n"
     ]
    },
    {
     "name": "stdout",
     "output_type": "stream",
     "text": [
      "WARNING:tensorflow:11 out of the last 11 calls to <function recreate_function.<locals>.restored_function_body at 0x7fe87decd8b0> triggered tf.function retracing. Tracing is expensive and the excessive number of tracings could be due to (1) creating @tf.function repeatedly in a loop, (2) passing tensors with different shapes, (3) passing Python objects instead of tensors. For (1), please define your @tf.function outside of the loop. For (2), @tf.function has experimental_relax_shapes=True option that relaxes argument shapes that can avoid unnecessary retracing. For (3), please refer to https://www.tensorflow.org/guide/function#controlling_retracing and https://www.tensorflow.org/api_docs/python/tf/function for  more details.\n"
     ]
    },
    {
     "name": "stderr",
     "output_type": "stream",
     "text": [
      "WARNING:tensorflow:11 out of the last 11 calls to <function recreate_function.<locals>.restored_function_body at 0x7fe87decd8b0> triggered tf.function retracing. Tracing is expensive and the excessive number of tracings could be due to (1) creating @tf.function repeatedly in a loop, (2) passing tensors with different shapes, (3) passing Python objects instead of tensors. For (1), please define your @tf.function outside of the loop. For (2), @tf.function has experimental_relax_shapes=True option that relaxes argument shapes that can avoid unnecessary retracing. For (3), please refer to https://www.tensorflow.org/guide/function#controlling_retracing and https://www.tensorflow.org/api_docs/python/tf/function for  more details.\n"
     ]
    },
    {
     "name": "stdout",
     "output_type": "stream",
     "text": [
      "WARNING:tensorflow:11 out of the last 11 calls to <function recreate_function.<locals>.restored_function_body at 0x7fe87d4dc8b0> triggered tf.function retracing. Tracing is expensive and the excessive number of tracings could be due to (1) creating @tf.function repeatedly in a loop, (2) passing tensors with different shapes, (3) passing Python objects instead of tensors. For (1), please define your @tf.function outside of the loop. For (2), @tf.function has experimental_relax_shapes=True option that relaxes argument shapes that can avoid unnecessary retracing. For (3), please refer to https://www.tensorflow.org/guide/function#controlling_retracing and https://www.tensorflow.org/api_docs/python/tf/function for  more details.\n"
     ]
    },
    {
     "name": "stderr",
     "output_type": "stream",
     "text": [
      "WARNING:tensorflow:11 out of the last 11 calls to <function recreate_function.<locals>.restored_function_body at 0x7fe87d4dc8b0> triggered tf.function retracing. Tracing is expensive and the excessive number of tracings could be due to (1) creating @tf.function repeatedly in a loop, (2) passing tensors with different shapes, (3) passing Python objects instead of tensors. For (1), please define your @tf.function outside of the loop. For (2), @tf.function has experimental_relax_shapes=True option that relaxes argument shapes that can avoid unnecessary retracing. For (3), please refer to https://www.tensorflow.org/guide/function#controlling_retracing and https://www.tensorflow.org/api_docs/python/tf/function for  more details.\n"
     ]
    },
    {
     "name": "stdout",
     "output_type": "stream",
     "text": [
      "WARNING:tensorflow:11 out of the last 11 calls to <function recreate_function.<locals>.restored_function_body at 0x7fe88d07d160> triggered tf.function retracing. Tracing is expensive and the excessive number of tracings could be due to (1) creating @tf.function repeatedly in a loop, (2) passing tensors with different shapes, (3) passing Python objects instead of tensors. For (1), please define your @tf.function outside of the loop. For (2), @tf.function has experimental_relax_shapes=True option that relaxes argument shapes that can avoid unnecessary retracing. For (3), please refer to https://www.tensorflow.org/guide/function#controlling_retracing and https://www.tensorflow.org/api_docs/python/tf/function for  more details.\n"
     ]
    },
    {
     "name": "stderr",
     "output_type": "stream",
     "text": [
      "WARNING:tensorflow:11 out of the last 11 calls to <function recreate_function.<locals>.restored_function_body at 0x7fe88d07d160> triggered tf.function retracing. Tracing is expensive and the excessive number of tracings could be due to (1) creating @tf.function repeatedly in a loop, (2) passing tensors with different shapes, (3) passing Python objects instead of tensors. For (1), please define your @tf.function outside of the loop. For (2), @tf.function has experimental_relax_shapes=True option that relaxes argument shapes that can avoid unnecessary retracing. For (3), please refer to https://www.tensorflow.org/guide/function#controlling_retracing and https://www.tensorflow.org/api_docs/python/tf/function for  more details.\n"
     ]
    },
    {
     "name": "stdout",
     "output_type": "stream",
     "text": [
      "WARNING:tensorflow:11 out of the last 11 calls to <function recreate_function.<locals>.restored_function_body at 0x7fe88d169040> triggered tf.function retracing. Tracing is expensive and the excessive number of tracings could be due to (1) creating @tf.function repeatedly in a loop, (2) passing tensors with different shapes, (3) passing Python objects instead of tensors. For (1), please define your @tf.function outside of the loop. For (2), @tf.function has experimental_relax_shapes=True option that relaxes argument shapes that can avoid unnecessary retracing. For (3), please refer to https://www.tensorflow.org/guide/function#controlling_retracing and https://www.tensorflow.org/api_docs/python/tf/function for  more details.\n"
     ]
    },
    {
     "name": "stderr",
     "output_type": "stream",
     "text": [
      "WARNING:tensorflow:11 out of the last 11 calls to <function recreate_function.<locals>.restored_function_body at 0x7fe88d169040> triggered tf.function retracing. Tracing is expensive and the excessive number of tracings could be due to (1) creating @tf.function repeatedly in a loop, (2) passing tensors with different shapes, (3) passing Python objects instead of tensors. For (1), please define your @tf.function outside of the loop. For (2), @tf.function has experimental_relax_shapes=True option that relaxes argument shapes that can avoid unnecessary retracing. For (3), please refer to https://www.tensorflow.org/guide/function#controlling_retracing and https://www.tensorflow.org/api_docs/python/tf/function for  more details.\n"
     ]
    },
    {
     "name": "stdout",
     "output_type": "stream",
     "text": [
      "WARNING:tensorflow:11 out of the last 11 calls to <function recreate_function.<locals>.restored_function_body at 0x7fe887851310> triggered tf.function retracing. Tracing is expensive and the excessive number of tracings could be due to (1) creating @tf.function repeatedly in a loop, (2) passing tensors with different shapes, (3) passing Python objects instead of tensors. For (1), please define your @tf.function outside of the loop. For (2), @tf.function has experimental_relax_shapes=True option that relaxes argument shapes that can avoid unnecessary retracing. For (3), please refer to https://www.tensorflow.org/guide/function#controlling_retracing and https://www.tensorflow.org/api_docs/python/tf/function for  more details.\n"
     ]
    },
    {
     "name": "stderr",
     "output_type": "stream",
     "text": [
      "WARNING:tensorflow:11 out of the last 11 calls to <function recreate_function.<locals>.restored_function_body at 0x7fe887851310> triggered tf.function retracing. Tracing is expensive and the excessive number of tracings could be due to (1) creating @tf.function repeatedly in a loop, (2) passing tensors with different shapes, (3) passing Python objects instead of tensors. For (1), please define your @tf.function outside of the loop. For (2), @tf.function has experimental_relax_shapes=True option that relaxes argument shapes that can avoid unnecessary retracing. For (3), please refer to https://www.tensorflow.org/guide/function#controlling_retracing and https://www.tensorflow.org/api_docs/python/tf/function for  more details.\n"
     ]
    },
    {
     "name": "stdout",
     "output_type": "stream",
     "text": [
      "WARNING:tensorflow:11 out of the last 11 calls to <function recreate_function.<locals>.restored_function_body at 0x7fe88d169b80> triggered tf.function retracing. Tracing is expensive and the excessive number of tracings could be due to (1) creating @tf.function repeatedly in a loop, (2) passing tensors with different shapes, (3) passing Python objects instead of tensors. For (1), please define your @tf.function outside of the loop. For (2), @tf.function has experimental_relax_shapes=True option that relaxes argument shapes that can avoid unnecessary retracing. For (3), please refer to https://www.tensorflow.org/guide/function#controlling_retracing and https://www.tensorflow.org/api_docs/python/tf/function for  more details.\n"
     ]
    },
    {
     "name": "stderr",
     "output_type": "stream",
     "text": [
      "WARNING:tensorflow:11 out of the last 11 calls to <function recreate_function.<locals>.restored_function_body at 0x7fe88d169b80> triggered tf.function retracing. Tracing is expensive and the excessive number of tracings could be due to (1) creating @tf.function repeatedly in a loop, (2) passing tensors with different shapes, (3) passing Python objects instead of tensors. For (1), please define your @tf.function outside of the loop. For (2), @tf.function has experimental_relax_shapes=True option that relaxes argument shapes that can avoid unnecessary retracing. For (3), please refer to https://www.tensorflow.org/guide/function#controlling_retracing and https://www.tensorflow.org/api_docs/python/tf/function for  more details.\n"
     ]
    },
    {
     "name": "stdout",
     "output_type": "stream",
     "text": [
      "WARNING:tensorflow:11 out of the last 11 calls to <function recreate_function.<locals>.restored_function_body at 0x7fe887851790> triggered tf.function retracing. Tracing is expensive and the excessive number of tracings could be due to (1) creating @tf.function repeatedly in a loop, (2) passing tensors with different shapes, (3) passing Python objects instead of tensors. For (1), please define your @tf.function outside of the loop. For (2), @tf.function has experimental_relax_shapes=True option that relaxes argument shapes that can avoid unnecessary retracing. For (3), please refer to https://www.tensorflow.org/guide/function#controlling_retracing and https://www.tensorflow.org/api_docs/python/tf/function for  more details.\n"
     ]
    },
    {
     "name": "stderr",
     "output_type": "stream",
     "text": [
      "WARNING:tensorflow:11 out of the last 11 calls to <function recreate_function.<locals>.restored_function_body at 0x7fe887851790> triggered tf.function retracing. Tracing is expensive and the excessive number of tracings could be due to (1) creating @tf.function repeatedly in a loop, (2) passing tensors with different shapes, (3) passing Python objects instead of tensors. For (1), please define your @tf.function outside of the loop. For (2), @tf.function has experimental_relax_shapes=True option that relaxes argument shapes that can avoid unnecessary retracing. For (3), please refer to https://www.tensorflow.org/guide/function#controlling_retracing and https://www.tensorflow.org/api_docs/python/tf/function for  more details.\n"
     ]
    },
    {
     "name": "stdout",
     "output_type": "stream",
     "text": [
      "WARNING:tensorflow:11 out of the last 11 calls to <function recreate_function.<locals>.restored_function_body at 0x7fe87df26550> triggered tf.function retracing. Tracing is expensive and the excessive number of tracings could be due to (1) creating @tf.function repeatedly in a loop, (2) passing tensors with different shapes, (3) passing Python objects instead of tensors. For (1), please define your @tf.function outside of the loop. For (2), @tf.function has experimental_relax_shapes=True option that relaxes argument shapes that can avoid unnecessary retracing. For (3), please refer to https://www.tensorflow.org/guide/function#controlling_retracing and https://www.tensorflow.org/api_docs/python/tf/function for  more details.\n"
     ]
    },
    {
     "name": "stderr",
     "output_type": "stream",
     "text": [
      "WARNING:tensorflow:11 out of the last 11 calls to <function recreate_function.<locals>.restored_function_body at 0x7fe87df26550> triggered tf.function retracing. Tracing is expensive and the excessive number of tracings could be due to (1) creating @tf.function repeatedly in a loop, (2) passing tensors with different shapes, (3) passing Python objects instead of tensors. For (1), please define your @tf.function outside of the loop. For (2), @tf.function has experimental_relax_shapes=True option that relaxes argument shapes that can avoid unnecessary retracing. For (3), please refer to https://www.tensorflow.org/guide/function#controlling_retracing and https://www.tensorflow.org/api_docs/python/tf/function for  more details.\n"
     ]
    },
    {
     "name": "stdout",
     "output_type": "stream",
     "text": [
      "WARNING:tensorflow:11 out of the last 11 calls to <function recreate_function.<locals>.restored_function_body at 0x7fe87decda60> triggered tf.function retracing. Tracing is expensive and the excessive number of tracings could be due to (1) creating @tf.function repeatedly in a loop, (2) passing tensors with different shapes, (3) passing Python objects instead of tensors. For (1), please define your @tf.function outside of the loop. For (2), @tf.function has experimental_relax_shapes=True option that relaxes argument shapes that can avoid unnecessary retracing. For (3), please refer to https://www.tensorflow.org/guide/function#controlling_retracing and https://www.tensorflow.org/api_docs/python/tf/function for  more details.\n"
     ]
    },
    {
     "name": "stderr",
     "output_type": "stream",
     "text": [
      "WARNING:tensorflow:11 out of the last 11 calls to <function recreate_function.<locals>.restored_function_body at 0x7fe87decda60> triggered tf.function retracing. Tracing is expensive and the excessive number of tracings could be due to (1) creating @tf.function repeatedly in a loop, (2) passing tensors with different shapes, (3) passing Python objects instead of tensors. For (1), please define your @tf.function outside of the loop. For (2), @tf.function has experimental_relax_shapes=True option that relaxes argument shapes that can avoid unnecessary retracing. For (3), please refer to https://www.tensorflow.org/guide/function#controlling_retracing and https://www.tensorflow.org/api_docs/python/tf/function for  more details.\n"
     ]
    },
    {
     "name": "stdout",
     "output_type": "stream",
     "text": [
      "WARNING:tensorflow:11 out of the last 11 calls to <function recreate_function.<locals>.restored_function_body at 0x7fe887969820> triggered tf.function retracing. Tracing is expensive and the excessive number of tracings could be due to (1) creating @tf.function repeatedly in a loop, (2) passing tensors with different shapes, (3) passing Python objects instead of tensors. For (1), please define your @tf.function outside of the loop. For (2), @tf.function has experimental_relax_shapes=True option that relaxes argument shapes that can avoid unnecessary retracing. For (3), please refer to https://www.tensorflow.org/guide/function#controlling_retracing and https://www.tensorflow.org/api_docs/python/tf/function for  more details.\n"
     ]
    },
    {
     "name": "stderr",
     "output_type": "stream",
     "text": [
      "WARNING:tensorflow:11 out of the last 11 calls to <function recreate_function.<locals>.restored_function_body at 0x7fe887969820> triggered tf.function retracing. Tracing is expensive and the excessive number of tracings could be due to (1) creating @tf.function repeatedly in a loop, (2) passing tensors with different shapes, (3) passing Python objects instead of tensors. For (1), please define your @tf.function outside of the loop. For (2), @tf.function has experimental_relax_shapes=True option that relaxes argument shapes that can avoid unnecessary retracing. For (3), please refer to https://www.tensorflow.org/guide/function#controlling_retracing and https://www.tensorflow.org/api_docs/python/tf/function for  more details.\n"
     ]
    },
    {
     "name": "stdout",
     "output_type": "stream",
     "text": [
      "WARNING:tensorflow:11 out of the last 11 calls to <function recreate_function.<locals>.restored_function_body at 0x7fe887851dc0> triggered tf.function retracing. Tracing is expensive and the excessive number of tracings could be due to (1) creating @tf.function repeatedly in a loop, (2) passing tensors with different shapes, (3) passing Python objects instead of tensors. For (1), please define your @tf.function outside of the loop. For (2), @tf.function has experimental_relax_shapes=True option that relaxes argument shapes that can avoid unnecessary retracing. For (3), please refer to https://www.tensorflow.org/guide/function#controlling_retracing and https://www.tensorflow.org/api_docs/python/tf/function for  more details.\n"
     ]
    },
    {
     "name": "stderr",
     "output_type": "stream",
     "text": [
      "WARNING:tensorflow:11 out of the last 11 calls to <function recreate_function.<locals>.restored_function_body at 0x7fe887851dc0> triggered tf.function retracing. Tracing is expensive and the excessive number of tracings could be due to (1) creating @tf.function repeatedly in a loop, (2) passing tensors with different shapes, (3) passing Python objects instead of tensors. For (1), please define your @tf.function outside of the loop. For (2), @tf.function has experimental_relax_shapes=True option that relaxes argument shapes that can avoid unnecessary retracing. For (3), please refer to https://www.tensorflow.org/guide/function#controlling_retracing and https://www.tensorflow.org/api_docs/python/tf/function for  more details.\n"
     ]
    },
    {
     "name": "stdout",
     "output_type": "stream",
     "text": [
      "WARNING:tensorflow:11 out of the last 11 calls to <function recreate_function.<locals>.restored_function_body at 0x7fe87decd790> triggered tf.function retracing. Tracing is expensive and the excessive number of tracings could be due to (1) creating @tf.function repeatedly in a loop, (2) passing tensors with different shapes, (3) passing Python objects instead of tensors. For (1), please define your @tf.function outside of the loop. For (2), @tf.function has experimental_relax_shapes=True option that relaxes argument shapes that can avoid unnecessary retracing. For (3), please refer to https://www.tensorflow.org/guide/function#controlling_retracing and https://www.tensorflow.org/api_docs/python/tf/function for  more details.\n"
     ]
    },
    {
     "name": "stderr",
     "output_type": "stream",
     "text": [
      "WARNING:tensorflow:11 out of the last 11 calls to <function recreate_function.<locals>.restored_function_body at 0x7fe87decd790> triggered tf.function retracing. Tracing is expensive and the excessive number of tracings could be due to (1) creating @tf.function repeatedly in a loop, (2) passing tensors with different shapes, (3) passing Python objects instead of tensors. For (1), please define your @tf.function outside of the loop. For (2), @tf.function has experimental_relax_shapes=True option that relaxes argument shapes that can avoid unnecessary retracing. For (3), please refer to https://www.tensorflow.org/guide/function#controlling_retracing and https://www.tensorflow.org/api_docs/python/tf/function for  more details.\n"
     ]
    },
    {
     "name": "stdout",
     "output_type": "stream",
     "text": [
      "WARNING:tensorflow:11 out of the last 11 calls to <function recreate_function.<locals>.restored_function_body at 0x7fe87d4dc430> triggered tf.function retracing. Tracing is expensive and the excessive number of tracings could be due to (1) creating @tf.function repeatedly in a loop, (2) passing tensors with different shapes, (3) passing Python objects instead of tensors. For (1), please define your @tf.function outside of the loop. For (2), @tf.function has experimental_relax_shapes=True option that relaxes argument shapes that can avoid unnecessary retracing. For (3), please refer to https://www.tensorflow.org/guide/function#controlling_retracing and https://www.tensorflow.org/api_docs/python/tf/function for  more details.\n"
     ]
    },
    {
     "name": "stderr",
     "output_type": "stream",
     "text": [
      "WARNING:tensorflow:11 out of the last 11 calls to <function recreate_function.<locals>.restored_function_body at 0x7fe87d4dc430> triggered tf.function retracing. Tracing is expensive and the excessive number of tracings could be due to (1) creating @tf.function repeatedly in a loop, (2) passing tensors with different shapes, (3) passing Python objects instead of tensors. For (1), please define your @tf.function outside of the loop. For (2), @tf.function has experimental_relax_shapes=True option that relaxes argument shapes that can avoid unnecessary retracing. For (3), please refer to https://www.tensorflow.org/guide/function#controlling_retracing and https://www.tensorflow.org/api_docs/python/tf/function for  more details.\n"
     ]
    },
    {
     "name": "stdout",
     "output_type": "stream",
     "text": [
      "WARNING:tensorflow:11 out of the last 11 calls to <function recreate_function.<locals>.restored_function_body at 0x7fe87df261f0> triggered tf.function retracing. Tracing is expensive and the excessive number of tracings could be due to (1) creating @tf.function repeatedly in a loop, (2) passing tensors with different shapes, (3) passing Python objects instead of tensors. For (1), please define your @tf.function outside of the loop. For (2), @tf.function has experimental_relax_shapes=True option that relaxes argument shapes that can avoid unnecessary retracing. For (3), please refer to https://www.tensorflow.org/guide/function#controlling_retracing and https://www.tensorflow.org/api_docs/python/tf/function for  more details.\n"
     ]
    },
    {
     "name": "stderr",
     "output_type": "stream",
     "text": [
      "WARNING:tensorflow:11 out of the last 11 calls to <function recreate_function.<locals>.restored_function_body at 0x7fe87df261f0> triggered tf.function retracing. Tracing is expensive and the excessive number of tracings could be due to (1) creating @tf.function repeatedly in a loop, (2) passing tensors with different shapes, (3) passing Python objects instead of tensors. For (1), please define your @tf.function outside of the loop. For (2), @tf.function has experimental_relax_shapes=True option that relaxes argument shapes that can avoid unnecessary retracing. For (3), please refer to https://www.tensorflow.org/guide/function#controlling_retracing and https://www.tensorflow.org/api_docs/python/tf/function for  more details.\n"
     ]
    },
    {
     "name": "stdout",
     "output_type": "stream",
     "text": [
      "WARNING:tensorflow:11 out of the last 11 calls to <function recreate_function.<locals>.restored_function_body at 0x7fe87df26940> triggered tf.function retracing. Tracing is expensive and the excessive number of tracings could be due to (1) creating @tf.function repeatedly in a loop, (2) passing tensors with different shapes, (3) passing Python objects instead of tensors. For (1), please define your @tf.function outside of the loop. For (2), @tf.function has experimental_relax_shapes=True option that relaxes argument shapes that can avoid unnecessary retracing. For (3), please refer to https://www.tensorflow.org/guide/function#controlling_retracing and https://www.tensorflow.org/api_docs/python/tf/function for  more details.\n"
     ]
    },
    {
     "name": "stderr",
     "output_type": "stream",
     "text": [
      "WARNING:tensorflow:11 out of the last 11 calls to <function recreate_function.<locals>.restored_function_body at 0x7fe87df26940> triggered tf.function retracing. Tracing is expensive and the excessive number of tracings could be due to (1) creating @tf.function repeatedly in a loop, (2) passing tensors with different shapes, (3) passing Python objects instead of tensors. For (1), please define your @tf.function outside of the loop. For (2), @tf.function has experimental_relax_shapes=True option that relaxes argument shapes that can avoid unnecessary retracing. For (3), please refer to https://www.tensorflow.org/guide/function#controlling_retracing and https://www.tensorflow.org/api_docs/python/tf/function for  more details.\n"
     ]
    },
    {
     "name": "stdout",
     "output_type": "stream",
     "text": [
      "WARNING:tensorflow:11 out of the last 11 calls to <function recreate_function.<locals>.restored_function_body at 0x7fe87decd820> triggered tf.function retracing. Tracing is expensive and the excessive number of tracings could be due to (1) creating @tf.function repeatedly in a loop, (2) passing tensors with different shapes, (3) passing Python objects instead of tensors. For (1), please define your @tf.function outside of the loop. For (2), @tf.function has experimental_relax_shapes=True option that relaxes argument shapes that can avoid unnecessary retracing. For (3), please refer to https://www.tensorflow.org/guide/function#controlling_retracing and https://www.tensorflow.org/api_docs/python/tf/function for  more details.\n"
     ]
    },
    {
     "name": "stderr",
     "output_type": "stream",
     "text": [
      "WARNING:tensorflow:11 out of the last 11 calls to <function recreate_function.<locals>.restored_function_body at 0x7fe87decd820> triggered tf.function retracing. Tracing is expensive and the excessive number of tracings could be due to (1) creating @tf.function repeatedly in a loop, (2) passing tensors with different shapes, (3) passing Python objects instead of tensors. For (1), please define your @tf.function outside of the loop. For (2), @tf.function has experimental_relax_shapes=True option that relaxes argument shapes that can avoid unnecessary retracing. For (3), please refer to https://www.tensorflow.org/guide/function#controlling_retracing and https://www.tensorflow.org/api_docs/python/tf/function for  more details.\n"
     ]
    },
    {
     "name": "stdout",
     "output_type": "stream",
     "text": [
      "WARNING:tensorflow:11 out of the last 11 calls to <function recreate_function.<locals>.restored_function_body at 0x7fe88d169ee0> triggered tf.function retracing. Tracing is expensive and the excessive number of tracings could be due to (1) creating @tf.function repeatedly in a loop, (2) passing tensors with different shapes, (3) passing Python objects instead of tensors. For (1), please define your @tf.function outside of the loop. For (2), @tf.function has experimental_relax_shapes=True option that relaxes argument shapes that can avoid unnecessary retracing. For (3), please refer to https://www.tensorflow.org/guide/function#controlling_retracing and https://www.tensorflow.org/api_docs/python/tf/function for  more details.\n"
     ]
    },
    {
     "name": "stderr",
     "output_type": "stream",
     "text": [
      "WARNING:tensorflow:11 out of the last 11 calls to <function recreate_function.<locals>.restored_function_body at 0x7fe88d169ee0> triggered tf.function retracing. Tracing is expensive and the excessive number of tracings could be due to (1) creating @tf.function repeatedly in a loop, (2) passing tensors with different shapes, (3) passing Python objects instead of tensors. For (1), please define your @tf.function outside of the loop. For (2), @tf.function has experimental_relax_shapes=True option that relaxes argument shapes that can avoid unnecessary retracing. For (3), please refer to https://www.tensorflow.org/guide/function#controlling_retracing and https://www.tensorflow.org/api_docs/python/tf/function for  more details.\n"
     ]
    },
    {
     "name": "stdout",
     "output_type": "stream",
     "text": [
      "WARNING:tensorflow:11 out of the last 11 calls to <function recreate_function.<locals>.restored_function_body at 0x7fe87d4691f0> triggered tf.function retracing. Tracing is expensive and the excessive number of tracings could be due to (1) creating @tf.function repeatedly in a loop, (2) passing tensors with different shapes, (3) passing Python objects instead of tensors. For (1), please define your @tf.function outside of the loop. For (2), @tf.function has experimental_relax_shapes=True option that relaxes argument shapes that can avoid unnecessary retracing. For (3), please refer to https://www.tensorflow.org/guide/function#controlling_retracing and https://www.tensorflow.org/api_docs/python/tf/function for  more details.\n"
     ]
    },
    {
     "name": "stderr",
     "output_type": "stream",
     "text": [
      "WARNING:tensorflow:11 out of the last 11 calls to <function recreate_function.<locals>.restored_function_body at 0x7fe87d4691f0> triggered tf.function retracing. Tracing is expensive and the excessive number of tracings could be due to (1) creating @tf.function repeatedly in a loop, (2) passing tensors with different shapes, (3) passing Python objects instead of tensors. For (1), please define your @tf.function outside of the loop. For (2), @tf.function has experimental_relax_shapes=True option that relaxes argument shapes that can avoid unnecessary retracing. For (3), please refer to https://www.tensorflow.org/guide/function#controlling_retracing and https://www.tensorflow.org/api_docs/python/tf/function for  more details.\n"
     ]
    },
    {
     "name": "stdout",
     "output_type": "stream",
     "text": [
      "WARNING:tensorflow:11 out of the last 11 calls to <function recreate_function.<locals>.restored_function_body at 0x7fe88d1b48b0> triggered tf.function retracing. Tracing is expensive and the excessive number of tracings could be due to (1) creating @tf.function repeatedly in a loop, (2) passing tensors with different shapes, (3) passing Python objects instead of tensors. For (1), please define your @tf.function outside of the loop. For (2), @tf.function has experimental_relax_shapes=True option that relaxes argument shapes that can avoid unnecessary retracing. For (3), please refer to https://www.tensorflow.org/guide/function#controlling_retracing and https://www.tensorflow.org/api_docs/python/tf/function for  more details.\n"
     ]
    },
    {
     "name": "stderr",
     "output_type": "stream",
     "text": [
      "WARNING:tensorflow:11 out of the last 11 calls to <function recreate_function.<locals>.restored_function_body at 0x7fe88d1b48b0> triggered tf.function retracing. Tracing is expensive and the excessive number of tracings could be due to (1) creating @tf.function repeatedly in a loop, (2) passing tensors with different shapes, (3) passing Python objects instead of tensors. For (1), please define your @tf.function outside of the loop. For (2), @tf.function has experimental_relax_shapes=True option that relaxes argument shapes that can avoid unnecessary retracing. For (3), please refer to https://www.tensorflow.org/guide/function#controlling_retracing and https://www.tensorflow.org/api_docs/python/tf/function for  more details.\n"
     ]
    },
    {
     "name": "stdout",
     "output_type": "stream",
     "text": [
      "WARNING:tensorflow:11 out of the last 11 calls to <function recreate_function.<locals>.restored_function_body at 0x7fe88d169940> triggered tf.function retracing. Tracing is expensive and the excessive number of tracings could be due to (1) creating @tf.function repeatedly in a loop, (2) passing tensors with different shapes, (3) passing Python objects instead of tensors. For (1), please define your @tf.function outside of the loop. For (2), @tf.function has experimental_relax_shapes=True option that relaxes argument shapes that can avoid unnecessary retracing. For (3), please refer to https://www.tensorflow.org/guide/function#controlling_retracing and https://www.tensorflow.org/api_docs/python/tf/function for  more details.\n"
     ]
    },
    {
     "name": "stderr",
     "output_type": "stream",
     "text": [
      "WARNING:tensorflow:11 out of the last 11 calls to <function recreate_function.<locals>.restored_function_body at 0x7fe88d169940> triggered tf.function retracing. Tracing is expensive and the excessive number of tracings could be due to (1) creating @tf.function repeatedly in a loop, (2) passing tensors with different shapes, (3) passing Python objects instead of tensors. For (1), please define your @tf.function outside of the loop. For (2), @tf.function has experimental_relax_shapes=True option that relaxes argument shapes that can avoid unnecessary retracing. For (3), please refer to https://www.tensorflow.org/guide/function#controlling_retracing and https://www.tensorflow.org/api_docs/python/tf/function for  more details.\n"
     ]
    },
    {
     "name": "stdout",
     "output_type": "stream",
     "text": [
      "WARNING:tensorflow:11 out of the last 11 calls to <function recreate_function.<locals>.restored_function_body at 0x7fe87d4dc280> triggered tf.function retracing. Tracing is expensive and the excessive number of tracings could be due to (1) creating @tf.function repeatedly in a loop, (2) passing tensors with different shapes, (3) passing Python objects instead of tensors. For (1), please define your @tf.function outside of the loop. For (2), @tf.function has experimental_relax_shapes=True option that relaxes argument shapes that can avoid unnecessary retracing. For (3), please refer to https://www.tensorflow.org/guide/function#controlling_retracing and https://www.tensorflow.org/api_docs/python/tf/function for  more details.\n"
     ]
    },
    {
     "name": "stderr",
     "output_type": "stream",
     "text": [
      "WARNING:tensorflow:11 out of the last 11 calls to <function recreate_function.<locals>.restored_function_body at 0x7fe87d4dc280> triggered tf.function retracing. Tracing is expensive and the excessive number of tracings could be due to (1) creating @tf.function repeatedly in a loop, (2) passing tensors with different shapes, (3) passing Python objects instead of tensors. For (1), please define your @tf.function outside of the loop. For (2), @tf.function has experimental_relax_shapes=True option that relaxes argument shapes that can avoid unnecessary retracing. For (3), please refer to https://www.tensorflow.org/guide/function#controlling_retracing and https://www.tensorflow.org/api_docs/python/tf/function for  more details.\n"
     ]
    },
    {
     "name": "stdout",
     "output_type": "stream",
     "text": [
      "WARNING:tensorflow:11 out of the last 11 calls to <function recreate_function.<locals>.restored_function_body at 0x7fe87df793a0> triggered tf.function retracing. Tracing is expensive and the excessive number of tracings could be due to (1) creating @tf.function repeatedly in a loop, (2) passing tensors with different shapes, (3) passing Python objects instead of tensors. For (1), please define your @tf.function outside of the loop. For (2), @tf.function has experimental_relax_shapes=True option that relaxes argument shapes that can avoid unnecessary retracing. For (3), please refer to https://www.tensorflow.org/guide/function#controlling_retracing and https://www.tensorflow.org/api_docs/python/tf/function for  more details.\n"
     ]
    },
    {
     "name": "stderr",
     "output_type": "stream",
     "text": [
      "WARNING:tensorflow:11 out of the last 11 calls to <function recreate_function.<locals>.restored_function_body at 0x7fe87df793a0> triggered tf.function retracing. Tracing is expensive and the excessive number of tracings could be due to (1) creating @tf.function repeatedly in a loop, (2) passing tensors with different shapes, (3) passing Python objects instead of tensors. For (1), please define your @tf.function outside of the loop. For (2), @tf.function has experimental_relax_shapes=True option that relaxes argument shapes that can avoid unnecessary retracing. For (3), please refer to https://www.tensorflow.org/guide/function#controlling_retracing and https://www.tensorflow.org/api_docs/python/tf/function for  more details.\n"
     ]
    },
    {
     "name": "stdout",
     "output_type": "stream",
     "text": [
      "WARNING:tensorflow:11 out of the last 11 calls to <function recreate_function.<locals>.restored_function_body at 0x7fe886af2040> triggered tf.function retracing. Tracing is expensive and the excessive number of tracings could be due to (1) creating @tf.function repeatedly in a loop, (2) passing tensors with different shapes, (3) passing Python objects instead of tensors. For (1), please define your @tf.function outside of the loop. For (2), @tf.function has experimental_relax_shapes=True option that relaxes argument shapes that can avoid unnecessary retracing. For (3), please refer to https://www.tensorflow.org/guide/function#controlling_retracing and https://www.tensorflow.org/api_docs/python/tf/function for  more details.\n"
     ]
    },
    {
     "name": "stderr",
     "output_type": "stream",
     "text": [
      "WARNING:tensorflow:11 out of the last 11 calls to <function recreate_function.<locals>.restored_function_body at 0x7fe886af2040> triggered tf.function retracing. Tracing is expensive and the excessive number of tracings could be due to (1) creating @tf.function repeatedly in a loop, (2) passing tensors with different shapes, (3) passing Python objects instead of tensors. For (1), please define your @tf.function outside of the loop. For (2), @tf.function has experimental_relax_shapes=True option that relaxes argument shapes that can avoid unnecessary retracing. For (3), please refer to https://www.tensorflow.org/guide/function#controlling_retracing and https://www.tensorflow.org/api_docs/python/tf/function for  more details.\n"
     ]
    },
    {
     "name": "stdout",
     "output_type": "stream",
     "text": [
      "WARNING:tensorflow:11 out of the last 11 calls to <function recreate_function.<locals>.restored_function_body at 0x7fe886ac1b80> triggered tf.function retracing. Tracing is expensive and the excessive number of tracings could be due to (1) creating @tf.function repeatedly in a loop, (2) passing tensors with different shapes, (3) passing Python objects instead of tensors. For (1), please define your @tf.function outside of the loop. For (2), @tf.function has experimental_relax_shapes=True option that relaxes argument shapes that can avoid unnecessary retracing. For (3), please refer to https://www.tensorflow.org/guide/function#controlling_retracing and https://www.tensorflow.org/api_docs/python/tf/function for  more details.\n"
     ]
    },
    {
     "name": "stderr",
     "output_type": "stream",
     "text": [
      "WARNING:tensorflow:11 out of the last 11 calls to <function recreate_function.<locals>.restored_function_body at 0x7fe886ac1b80> triggered tf.function retracing. Tracing is expensive and the excessive number of tracings could be due to (1) creating @tf.function repeatedly in a loop, (2) passing tensors with different shapes, (3) passing Python objects instead of tensors. For (1), please define your @tf.function outside of the loop. For (2), @tf.function has experimental_relax_shapes=True option that relaxes argument shapes that can avoid unnecessary retracing. For (3), please refer to https://www.tensorflow.org/guide/function#controlling_retracing and https://www.tensorflow.org/api_docs/python/tf/function for  more details.\n"
     ]
    },
    {
     "name": "stdout",
     "output_type": "stream",
     "text": [
      "WARNING:tensorflow:11 out of the last 11 calls to <function recreate_function.<locals>.restored_function_body at 0x7fe887a353a0> triggered tf.function retracing. Tracing is expensive and the excessive number of tracings could be due to (1) creating @tf.function repeatedly in a loop, (2) passing tensors with different shapes, (3) passing Python objects instead of tensors. For (1), please define your @tf.function outside of the loop. For (2), @tf.function has experimental_relax_shapes=True option that relaxes argument shapes that can avoid unnecessary retracing. For (3), please refer to https://www.tensorflow.org/guide/function#controlling_retracing and https://www.tensorflow.org/api_docs/python/tf/function for  more details.\n"
     ]
    },
    {
     "name": "stderr",
     "output_type": "stream",
     "text": [
      "WARNING:tensorflow:11 out of the last 11 calls to <function recreate_function.<locals>.restored_function_body at 0x7fe887a353a0> triggered tf.function retracing. Tracing is expensive and the excessive number of tracings could be due to (1) creating @tf.function repeatedly in a loop, (2) passing tensors with different shapes, (3) passing Python objects instead of tensors. For (1), please define your @tf.function outside of the loop. For (2), @tf.function has experimental_relax_shapes=True option that relaxes argument shapes that can avoid unnecessary retracing. For (3), please refer to https://www.tensorflow.org/guide/function#controlling_retracing and https://www.tensorflow.org/api_docs/python/tf/function for  more details.\n"
     ]
    },
    {
     "name": "stdout",
     "output_type": "stream",
     "text": [
      "WARNING:tensorflow:11 out of the last 11 calls to <function recreate_function.<locals>.restored_function_body at 0x7fe87df795e0> triggered tf.function retracing. Tracing is expensive and the excessive number of tracings could be due to (1) creating @tf.function repeatedly in a loop, (2) passing tensors with different shapes, (3) passing Python objects instead of tensors. For (1), please define your @tf.function outside of the loop. For (2), @tf.function has experimental_relax_shapes=True option that relaxes argument shapes that can avoid unnecessary retracing. For (3), please refer to https://www.tensorflow.org/guide/function#controlling_retracing and https://www.tensorflow.org/api_docs/python/tf/function for  more details.\n"
     ]
    },
    {
     "name": "stderr",
     "output_type": "stream",
     "text": [
      "WARNING:tensorflow:11 out of the last 11 calls to <function recreate_function.<locals>.restored_function_body at 0x7fe87df795e0> triggered tf.function retracing. Tracing is expensive and the excessive number of tracings could be due to (1) creating @tf.function repeatedly in a loop, (2) passing tensors with different shapes, (3) passing Python objects instead of tensors. For (1), please define your @tf.function outside of the loop. For (2), @tf.function has experimental_relax_shapes=True option that relaxes argument shapes that can avoid unnecessary retracing. For (3), please refer to https://www.tensorflow.org/guide/function#controlling_retracing and https://www.tensorflow.org/api_docs/python/tf/function for  more details.\n"
     ]
    },
    {
     "name": "stdout",
     "output_type": "stream",
     "text": [
      "WARNING:tensorflow:11 out of the last 11 calls to <function recreate_function.<locals>.restored_function_body at 0x7fe886af2ca0> triggered tf.function retracing. Tracing is expensive and the excessive number of tracings could be due to (1) creating @tf.function repeatedly in a loop, (2) passing tensors with different shapes, (3) passing Python objects instead of tensors. For (1), please define your @tf.function outside of the loop. For (2), @tf.function has experimental_relax_shapes=True option that relaxes argument shapes that can avoid unnecessary retracing. For (3), please refer to https://www.tensorflow.org/guide/function#controlling_retracing and https://www.tensorflow.org/api_docs/python/tf/function for  more details.\n"
     ]
    },
    {
     "name": "stderr",
     "output_type": "stream",
     "text": [
      "WARNING:tensorflow:11 out of the last 11 calls to <function recreate_function.<locals>.restored_function_body at 0x7fe886af2ca0> triggered tf.function retracing. Tracing is expensive and the excessive number of tracings could be due to (1) creating @tf.function repeatedly in a loop, (2) passing tensors with different shapes, (3) passing Python objects instead of tensors. For (1), please define your @tf.function outside of the loop. For (2), @tf.function has experimental_relax_shapes=True option that relaxes argument shapes that can avoid unnecessary retracing. For (3), please refer to https://www.tensorflow.org/guide/function#controlling_retracing and https://www.tensorflow.org/api_docs/python/tf/function for  more details.\n"
     ]
    },
    {
     "name": "stdout",
     "output_type": "stream",
     "text": [
      "WARNING:tensorflow:11 out of the last 11 calls to <function recreate_function.<locals>.restored_function_body at 0x7fe887aaf3a0> triggered tf.function retracing. Tracing is expensive and the excessive number of tracings could be due to (1) creating @tf.function repeatedly in a loop, (2) passing tensors with different shapes, (3) passing Python objects instead of tensors. For (1), please define your @tf.function outside of the loop. For (2), @tf.function has experimental_relax_shapes=True option that relaxes argument shapes that can avoid unnecessary retracing. For (3), please refer to https://www.tensorflow.org/guide/function#controlling_retracing and https://www.tensorflow.org/api_docs/python/tf/function for  more details.\n"
     ]
    },
    {
     "name": "stderr",
     "output_type": "stream",
     "text": [
      "WARNING:tensorflow:11 out of the last 11 calls to <function recreate_function.<locals>.restored_function_body at 0x7fe887aaf3a0> triggered tf.function retracing. Tracing is expensive and the excessive number of tracings could be due to (1) creating @tf.function repeatedly in a loop, (2) passing tensors with different shapes, (3) passing Python objects instead of tensors. For (1), please define your @tf.function outside of the loop. For (2), @tf.function has experimental_relax_shapes=True option that relaxes argument shapes that can avoid unnecessary retracing. For (3), please refer to https://www.tensorflow.org/guide/function#controlling_retracing and https://www.tensorflow.org/api_docs/python/tf/function for  more details.\n"
     ]
    },
    {
     "name": "stdout",
     "output_type": "stream",
     "text": [
      "WARNING:tensorflow:11 out of the last 11 calls to <function recreate_function.<locals>.restored_function_body at 0x7fe88ccc0310> triggered tf.function retracing. Tracing is expensive and the excessive number of tracings could be due to (1) creating @tf.function repeatedly in a loop, (2) passing tensors with different shapes, (3) passing Python objects instead of tensors. For (1), please define your @tf.function outside of the loop. For (2), @tf.function has experimental_relax_shapes=True option that relaxes argument shapes that can avoid unnecessary retracing. For (3), please refer to https://www.tensorflow.org/guide/function#controlling_retracing and https://www.tensorflow.org/api_docs/python/tf/function for  more details.\n"
     ]
    },
    {
     "name": "stderr",
     "output_type": "stream",
     "text": [
      "WARNING:tensorflow:11 out of the last 11 calls to <function recreate_function.<locals>.restored_function_body at 0x7fe88ccc0310> triggered tf.function retracing. Tracing is expensive and the excessive number of tracings could be due to (1) creating @tf.function repeatedly in a loop, (2) passing tensors with different shapes, (3) passing Python objects instead of tensors. For (1), please define your @tf.function outside of the loop. For (2), @tf.function has experimental_relax_shapes=True option that relaxes argument shapes that can avoid unnecessary retracing. For (3), please refer to https://www.tensorflow.org/guide/function#controlling_retracing and https://www.tensorflow.org/api_docs/python/tf/function for  more details.\n"
     ]
    },
    {
     "name": "stdout",
     "output_type": "stream",
     "text": [
      "WARNING:tensorflow:11 out of the last 11 calls to <function recreate_function.<locals>.restored_function_body at 0x7fe87d469a60> triggered tf.function retracing. Tracing is expensive and the excessive number of tracings could be due to (1) creating @tf.function repeatedly in a loop, (2) passing tensors with different shapes, (3) passing Python objects instead of tensors. For (1), please define your @tf.function outside of the loop. For (2), @tf.function has experimental_relax_shapes=True option that relaxes argument shapes that can avoid unnecessary retracing. For (3), please refer to https://www.tensorflow.org/guide/function#controlling_retracing and https://www.tensorflow.org/api_docs/python/tf/function for  more details.\n"
     ]
    },
    {
     "name": "stderr",
     "output_type": "stream",
     "text": [
      "WARNING:tensorflow:11 out of the last 11 calls to <function recreate_function.<locals>.restored_function_body at 0x7fe87d469a60> triggered tf.function retracing. Tracing is expensive and the excessive number of tracings could be due to (1) creating @tf.function repeatedly in a loop, (2) passing tensors with different shapes, (3) passing Python objects instead of tensors. For (1), please define your @tf.function outside of the loop. For (2), @tf.function has experimental_relax_shapes=True option that relaxes argument shapes that can avoid unnecessary retracing. For (3), please refer to https://www.tensorflow.org/guide/function#controlling_retracing and https://www.tensorflow.org/api_docs/python/tf/function for  more details.\n"
     ]
    },
    {
     "name": "stdout",
     "output_type": "stream",
     "text": [
      "WARNING:tensorflow:11 out of the last 11 calls to <function recreate_function.<locals>.restored_function_body at 0x7fe88d1f3280> triggered tf.function retracing. Tracing is expensive and the excessive number of tracings could be due to (1) creating @tf.function repeatedly in a loop, (2) passing tensors with different shapes, (3) passing Python objects instead of tensors. For (1), please define your @tf.function outside of the loop. For (2), @tf.function has experimental_relax_shapes=True option that relaxes argument shapes that can avoid unnecessary retracing. For (3), please refer to https://www.tensorflow.org/guide/function#controlling_retracing and https://www.tensorflow.org/api_docs/python/tf/function for  more details.\n"
     ]
    },
    {
     "name": "stderr",
     "output_type": "stream",
     "text": [
      "WARNING:tensorflow:11 out of the last 11 calls to <function recreate_function.<locals>.restored_function_body at 0x7fe88d1f3280> triggered tf.function retracing. Tracing is expensive and the excessive number of tracings could be due to (1) creating @tf.function repeatedly in a loop, (2) passing tensors with different shapes, (3) passing Python objects instead of tensors. For (1), please define your @tf.function outside of the loop. For (2), @tf.function has experimental_relax_shapes=True option that relaxes argument shapes that can avoid unnecessary retracing. For (3), please refer to https://www.tensorflow.org/guide/function#controlling_retracing and https://www.tensorflow.org/api_docs/python/tf/function for  more details.\n"
     ]
    },
    {
     "name": "stdout",
     "output_type": "stream",
     "text": [
      "WARNING:tensorflow:11 out of the last 11 calls to <function recreate_function.<locals>.restored_function_body at 0x7fe887aafca0> triggered tf.function retracing. Tracing is expensive and the excessive number of tracings could be due to (1) creating @tf.function repeatedly in a loop, (2) passing tensors with different shapes, (3) passing Python objects instead of tensors. For (1), please define your @tf.function outside of the loop. For (2), @tf.function has experimental_relax_shapes=True option that relaxes argument shapes that can avoid unnecessary retracing. For (3), please refer to https://www.tensorflow.org/guide/function#controlling_retracing and https://www.tensorflow.org/api_docs/python/tf/function for  more details.\n"
     ]
    },
    {
     "name": "stderr",
     "output_type": "stream",
     "text": [
      "WARNING:tensorflow:11 out of the last 11 calls to <function recreate_function.<locals>.restored_function_body at 0x7fe887aafca0> triggered tf.function retracing. Tracing is expensive and the excessive number of tracings could be due to (1) creating @tf.function repeatedly in a loop, (2) passing tensors with different shapes, (3) passing Python objects instead of tensors. For (1), please define your @tf.function outside of the loop. For (2), @tf.function has experimental_relax_shapes=True option that relaxes argument shapes that can avoid unnecessary retracing. For (3), please refer to https://www.tensorflow.org/guide/function#controlling_retracing and https://www.tensorflow.org/api_docs/python/tf/function for  more details.\n"
     ]
    },
    {
     "name": "stdout",
     "output_type": "stream",
     "text": [
      "WARNING:tensorflow:11 out of the last 11 calls to <function recreate_function.<locals>.restored_function_body at 0x7fe87d39ff70> triggered tf.function retracing. Tracing is expensive and the excessive number of tracings could be due to (1) creating @tf.function repeatedly in a loop, (2) passing tensors with different shapes, (3) passing Python objects instead of tensors. For (1), please define your @tf.function outside of the loop. For (2), @tf.function has experimental_relax_shapes=True option that relaxes argument shapes that can avoid unnecessary retracing. For (3), please refer to https://www.tensorflow.org/guide/function#controlling_retracing and https://www.tensorflow.org/api_docs/python/tf/function for  more details.\n"
     ]
    },
    {
     "name": "stderr",
     "output_type": "stream",
     "text": [
      "WARNING:tensorflow:11 out of the last 11 calls to <function recreate_function.<locals>.restored_function_body at 0x7fe87d39ff70> triggered tf.function retracing. Tracing is expensive and the excessive number of tracings could be due to (1) creating @tf.function repeatedly in a loop, (2) passing tensors with different shapes, (3) passing Python objects instead of tensors. For (1), please define your @tf.function outside of the loop. For (2), @tf.function has experimental_relax_shapes=True option that relaxes argument shapes that can avoid unnecessary retracing. For (3), please refer to https://www.tensorflow.org/guide/function#controlling_retracing and https://www.tensorflow.org/api_docs/python/tf/function for  more details.\n"
     ]
    },
    {
     "name": "stdout",
     "output_type": "stream",
     "text": [
      "WARNING:tensorflow:11 out of the last 11 calls to <function recreate_function.<locals>.restored_function_body at 0x7fe88d1b43a0> triggered tf.function retracing. Tracing is expensive and the excessive number of tracings could be due to (1) creating @tf.function repeatedly in a loop, (2) passing tensors with different shapes, (3) passing Python objects instead of tensors. For (1), please define your @tf.function outside of the loop. For (2), @tf.function has experimental_relax_shapes=True option that relaxes argument shapes that can avoid unnecessary retracing. For (3), please refer to https://www.tensorflow.org/guide/function#controlling_retracing and https://www.tensorflow.org/api_docs/python/tf/function for  more details.\n"
     ]
    },
    {
     "name": "stderr",
     "output_type": "stream",
     "text": [
      "WARNING:tensorflow:11 out of the last 11 calls to <function recreate_function.<locals>.restored_function_body at 0x7fe88d1b43a0> triggered tf.function retracing. Tracing is expensive and the excessive number of tracings could be due to (1) creating @tf.function repeatedly in a loop, (2) passing tensors with different shapes, (3) passing Python objects instead of tensors. For (1), please define your @tf.function outside of the loop. For (2), @tf.function has experimental_relax_shapes=True option that relaxes argument shapes that can avoid unnecessary retracing. For (3), please refer to https://www.tensorflow.org/guide/function#controlling_retracing and https://www.tensorflow.org/api_docs/python/tf/function for  more details.\n"
     ]
    },
    {
     "name": "stdout",
     "output_type": "stream",
     "text": [
      "WARNING:tensorflow:11 out of the last 11 calls to <function recreate_function.<locals>.restored_function_body at 0x7fe88cccd4c0> triggered tf.function retracing. Tracing is expensive and the excessive number of tracings could be due to (1) creating @tf.function repeatedly in a loop, (2) passing tensors with different shapes, (3) passing Python objects instead of tensors. For (1), please define your @tf.function outside of the loop. For (2), @tf.function has experimental_relax_shapes=True option that relaxes argument shapes that can avoid unnecessary retracing. For (3), please refer to https://www.tensorflow.org/guide/function#controlling_retracing and https://www.tensorflow.org/api_docs/python/tf/function for  more details.\n"
     ]
    },
    {
     "name": "stderr",
     "output_type": "stream",
     "text": [
      "WARNING:tensorflow:11 out of the last 11 calls to <function recreate_function.<locals>.restored_function_body at 0x7fe88cccd4c0> triggered tf.function retracing. Tracing is expensive and the excessive number of tracings could be due to (1) creating @tf.function repeatedly in a loop, (2) passing tensors with different shapes, (3) passing Python objects instead of tensors. For (1), please define your @tf.function outside of the loop. For (2), @tf.function has experimental_relax_shapes=True option that relaxes argument shapes that can avoid unnecessary retracing. For (3), please refer to https://www.tensorflow.org/guide/function#controlling_retracing and https://www.tensorflow.org/api_docs/python/tf/function for  more details.\n"
     ]
    },
    {
     "name": "stdout",
     "output_type": "stream",
     "text": [
      "WARNING:tensorflow:11 out of the last 11 calls to <function recreate_function.<locals>.restored_function_body at 0x7fe87d39f790> triggered tf.function retracing. Tracing is expensive and the excessive number of tracings could be due to (1) creating @tf.function repeatedly in a loop, (2) passing tensors with different shapes, (3) passing Python objects instead of tensors. For (1), please define your @tf.function outside of the loop. For (2), @tf.function has experimental_relax_shapes=True option that relaxes argument shapes that can avoid unnecessary retracing. For (3), please refer to https://www.tensorflow.org/guide/function#controlling_retracing and https://www.tensorflow.org/api_docs/python/tf/function for  more details.\n"
     ]
    },
    {
     "name": "stderr",
     "output_type": "stream",
     "text": [
      "WARNING:tensorflow:11 out of the last 11 calls to <function recreate_function.<locals>.restored_function_body at 0x7fe87d39f790> triggered tf.function retracing. Tracing is expensive and the excessive number of tracings could be due to (1) creating @tf.function repeatedly in a loop, (2) passing tensors with different shapes, (3) passing Python objects instead of tensors. For (1), please define your @tf.function outside of the loop. For (2), @tf.function has experimental_relax_shapes=True option that relaxes argument shapes that can avoid unnecessary retracing. For (3), please refer to https://www.tensorflow.org/guide/function#controlling_retracing and https://www.tensorflow.org/api_docs/python/tf/function for  more details.\n"
     ]
    },
    {
     "name": "stdout",
     "output_type": "stream",
     "text": [
      "WARNING:tensorflow:11 out of the last 11 calls to <function recreate_function.<locals>.restored_function_body at 0x7fe88cccd9d0> triggered tf.function retracing. Tracing is expensive and the excessive number of tracings could be due to (1) creating @tf.function repeatedly in a loop, (2) passing tensors with different shapes, (3) passing Python objects instead of tensors. For (1), please define your @tf.function outside of the loop. For (2), @tf.function has experimental_relax_shapes=True option that relaxes argument shapes that can avoid unnecessary retracing. For (3), please refer to https://www.tensorflow.org/guide/function#controlling_retracing and https://www.tensorflow.org/api_docs/python/tf/function for  more details.\n"
     ]
    },
    {
     "name": "stderr",
     "output_type": "stream",
     "text": [
      "WARNING:tensorflow:11 out of the last 11 calls to <function recreate_function.<locals>.restored_function_body at 0x7fe88cccd9d0> triggered tf.function retracing. Tracing is expensive and the excessive number of tracings could be due to (1) creating @tf.function repeatedly in a loop, (2) passing tensors with different shapes, (3) passing Python objects instead of tensors. For (1), please define your @tf.function outside of the loop. For (2), @tf.function has experimental_relax_shapes=True option that relaxes argument shapes that can avoid unnecessary retracing. For (3), please refer to https://www.tensorflow.org/guide/function#controlling_retracing and https://www.tensorflow.org/api_docs/python/tf/function for  more details.\n"
     ]
    },
    {
     "name": "stdout",
     "output_type": "stream",
     "text": [
      "WARNING:tensorflow:11 out of the last 11 calls to <function recreate_function.<locals>.restored_function_body at 0x7fe88d180c10> triggered tf.function retracing. Tracing is expensive and the excessive number of tracings could be due to (1) creating @tf.function repeatedly in a loop, (2) passing tensors with different shapes, (3) passing Python objects instead of tensors. For (1), please define your @tf.function outside of the loop. For (2), @tf.function has experimental_relax_shapes=True option that relaxes argument shapes that can avoid unnecessary retracing. For (3), please refer to https://www.tensorflow.org/guide/function#controlling_retracing and https://www.tensorflow.org/api_docs/python/tf/function for  more details.\n"
     ]
    },
    {
     "name": "stderr",
     "output_type": "stream",
     "text": [
      "WARNING:tensorflow:11 out of the last 11 calls to <function recreate_function.<locals>.restored_function_body at 0x7fe88d180c10> triggered tf.function retracing. Tracing is expensive and the excessive number of tracings could be due to (1) creating @tf.function repeatedly in a loop, (2) passing tensors with different shapes, (3) passing Python objects instead of tensors. For (1), please define your @tf.function outside of the loop. For (2), @tf.function has experimental_relax_shapes=True option that relaxes argument shapes that can avoid unnecessary retracing. For (3), please refer to https://www.tensorflow.org/guide/function#controlling_retracing and https://www.tensorflow.org/api_docs/python/tf/function for  more details.\n"
     ]
    },
    {
     "name": "stdout",
     "output_type": "stream",
     "text": [
      "WARNING:tensorflow:11 out of the last 11 calls to <function recreate_function.<locals>.restored_function_body at 0x7fe88d1a8160> triggered tf.function retracing. Tracing is expensive and the excessive number of tracings could be due to (1) creating @tf.function repeatedly in a loop, (2) passing tensors with different shapes, (3) passing Python objects instead of tensors. For (1), please define your @tf.function outside of the loop. For (2), @tf.function has experimental_relax_shapes=True option that relaxes argument shapes that can avoid unnecessary retracing. For (3), please refer to https://www.tensorflow.org/guide/function#controlling_retracing and https://www.tensorflow.org/api_docs/python/tf/function for  more details.\n"
     ]
    },
    {
     "name": "stderr",
     "output_type": "stream",
     "text": [
      "WARNING:tensorflow:11 out of the last 11 calls to <function recreate_function.<locals>.restored_function_body at 0x7fe88d1a8160> triggered tf.function retracing. Tracing is expensive and the excessive number of tracings could be due to (1) creating @tf.function repeatedly in a loop, (2) passing tensors with different shapes, (3) passing Python objects instead of tensors. For (1), please define your @tf.function outside of the loop. For (2), @tf.function has experimental_relax_shapes=True option that relaxes argument shapes that can avoid unnecessary retracing. For (3), please refer to https://www.tensorflow.org/guide/function#controlling_retracing and https://www.tensorflow.org/api_docs/python/tf/function for  more details.\n"
     ]
    },
    {
     "name": "stdout",
     "output_type": "stream",
     "text": [
      "WARNING:tensorflow:11 out of the last 11 calls to <function recreate_function.<locals>.restored_function_body at 0x7fe87d39f550> triggered tf.function retracing. Tracing is expensive and the excessive number of tracings could be due to (1) creating @tf.function repeatedly in a loop, (2) passing tensors with different shapes, (3) passing Python objects instead of tensors. For (1), please define your @tf.function outside of the loop. For (2), @tf.function has experimental_relax_shapes=True option that relaxes argument shapes that can avoid unnecessary retracing. For (3), please refer to https://www.tensorflow.org/guide/function#controlling_retracing and https://www.tensorflow.org/api_docs/python/tf/function for  more details.\n"
     ]
    },
    {
     "name": "stderr",
     "output_type": "stream",
     "text": [
      "WARNING:tensorflow:11 out of the last 11 calls to <function recreate_function.<locals>.restored_function_body at 0x7fe87d39f550> triggered tf.function retracing. Tracing is expensive and the excessive number of tracings could be due to (1) creating @tf.function repeatedly in a loop, (2) passing tensors with different shapes, (3) passing Python objects instead of tensors. For (1), please define your @tf.function outside of the loop. For (2), @tf.function has experimental_relax_shapes=True option that relaxes argument shapes that can avoid unnecessary retracing. For (3), please refer to https://www.tensorflow.org/guide/function#controlling_retracing and https://www.tensorflow.org/api_docs/python/tf/function for  more details.\n"
     ]
    },
    {
     "name": "stdout",
     "output_type": "stream",
     "text": [
      "WARNING:tensorflow:11 out of the last 11 calls to <function recreate_function.<locals>.restored_function_body at 0x7fe88d1a8ee0> triggered tf.function retracing. Tracing is expensive and the excessive number of tracings could be due to (1) creating @tf.function repeatedly in a loop, (2) passing tensors with different shapes, (3) passing Python objects instead of tensors. For (1), please define your @tf.function outside of the loop. For (2), @tf.function has experimental_relax_shapes=True option that relaxes argument shapes that can avoid unnecessary retracing. For (3), please refer to https://www.tensorflow.org/guide/function#controlling_retracing and https://www.tensorflow.org/api_docs/python/tf/function for  more details.\n"
     ]
    },
    {
     "name": "stderr",
     "output_type": "stream",
     "text": [
      "WARNING:tensorflow:11 out of the last 11 calls to <function recreate_function.<locals>.restored_function_body at 0x7fe88d1a8ee0> triggered tf.function retracing. Tracing is expensive and the excessive number of tracings could be due to (1) creating @tf.function repeatedly in a loop, (2) passing tensors with different shapes, (3) passing Python objects instead of tensors. For (1), please define your @tf.function outside of the loop. For (2), @tf.function has experimental_relax_shapes=True option that relaxes argument shapes that can avoid unnecessary retracing. For (3), please refer to https://www.tensorflow.org/guide/function#controlling_retracing and https://www.tensorflow.org/api_docs/python/tf/function for  more details.\n"
     ]
    },
    {
     "name": "stdout",
     "output_type": "stream",
     "text": [
      "WARNING:tensorflow:11 out of the last 11 calls to <function recreate_function.<locals>.restored_function_body at 0x7fe88d180f70> triggered tf.function retracing. Tracing is expensive and the excessive number of tracings could be due to (1) creating @tf.function repeatedly in a loop, (2) passing tensors with different shapes, (3) passing Python objects instead of tensors. For (1), please define your @tf.function outside of the loop. For (2), @tf.function has experimental_relax_shapes=True option that relaxes argument shapes that can avoid unnecessary retracing. For (3), please refer to https://www.tensorflow.org/guide/function#controlling_retracing and https://www.tensorflow.org/api_docs/python/tf/function for  more details.\n"
     ]
    },
    {
     "name": "stderr",
     "output_type": "stream",
     "text": [
      "WARNING:tensorflow:11 out of the last 11 calls to <function recreate_function.<locals>.restored_function_body at 0x7fe88d180f70> triggered tf.function retracing. Tracing is expensive and the excessive number of tracings could be due to (1) creating @tf.function repeatedly in a loop, (2) passing tensors with different shapes, (3) passing Python objects instead of tensors. For (1), please define your @tf.function outside of the loop. For (2), @tf.function has experimental_relax_shapes=True option that relaxes argument shapes that can avoid unnecessary retracing. For (3), please refer to https://www.tensorflow.org/guide/function#controlling_retracing and https://www.tensorflow.org/api_docs/python/tf/function for  more details.\n"
     ]
    },
    {
     "name": "stdout",
     "output_type": "stream",
     "text": [
      "WARNING:tensorflow:11 out of the last 11 calls to <function recreate_function.<locals>.restored_function_body at 0x7fe87dfa0040> triggered tf.function retracing. Tracing is expensive and the excessive number of tracings could be due to (1) creating @tf.function repeatedly in a loop, (2) passing tensors with different shapes, (3) passing Python objects instead of tensors. For (1), please define your @tf.function outside of the loop. For (2), @tf.function has experimental_relax_shapes=True option that relaxes argument shapes that can avoid unnecessary retracing. For (3), please refer to https://www.tensorflow.org/guide/function#controlling_retracing and https://www.tensorflow.org/api_docs/python/tf/function for  more details.\n"
     ]
    },
    {
     "name": "stderr",
     "output_type": "stream",
     "text": [
      "WARNING:tensorflow:11 out of the last 11 calls to <function recreate_function.<locals>.restored_function_body at 0x7fe87dfa0040> triggered tf.function retracing. Tracing is expensive and the excessive number of tracings could be due to (1) creating @tf.function repeatedly in a loop, (2) passing tensors with different shapes, (3) passing Python objects instead of tensors. For (1), please define your @tf.function outside of the loop. For (2), @tf.function has experimental_relax_shapes=True option that relaxes argument shapes that can avoid unnecessary retracing. For (3), please refer to https://www.tensorflow.org/guide/function#controlling_retracing and https://www.tensorflow.org/api_docs/python/tf/function for  more details.\n"
     ]
    },
    {
     "name": "stdout",
     "output_type": "stream",
     "text": [
      "WARNING:tensorflow:11 out of the last 11 calls to <function recreate_function.<locals>.restored_function_body at 0x7fe887aaf0d0> triggered tf.function retracing. Tracing is expensive and the excessive number of tracings could be due to (1) creating @tf.function repeatedly in a loop, (2) passing tensors with different shapes, (3) passing Python objects instead of tensors. For (1), please define your @tf.function outside of the loop. For (2), @tf.function has experimental_relax_shapes=True option that relaxes argument shapes that can avoid unnecessary retracing. For (3), please refer to https://www.tensorflow.org/guide/function#controlling_retracing and https://www.tensorflow.org/api_docs/python/tf/function for  more details.\n"
     ]
    },
    {
     "name": "stderr",
     "output_type": "stream",
     "text": [
      "WARNING:tensorflow:11 out of the last 11 calls to <function recreate_function.<locals>.restored_function_body at 0x7fe887aaf0d0> triggered tf.function retracing. Tracing is expensive and the excessive number of tracings could be due to (1) creating @tf.function repeatedly in a loop, (2) passing tensors with different shapes, (3) passing Python objects instead of tensors. For (1), please define your @tf.function outside of the loop. For (2), @tf.function has experimental_relax_shapes=True option that relaxes argument shapes that can avoid unnecessary retracing. For (3), please refer to https://www.tensorflow.org/guide/function#controlling_retracing and https://www.tensorflow.org/api_docs/python/tf/function for  more details.\n"
     ]
    },
    {
     "name": "stdout",
     "output_type": "stream",
     "text": [
      "WARNING:tensorflow:11 out of the last 11 calls to <function recreate_function.<locals>.restored_function_body at 0x7fe88d1a8280> triggered tf.function retracing. Tracing is expensive and the excessive number of tracings could be due to (1) creating @tf.function repeatedly in a loop, (2) passing tensors with different shapes, (3) passing Python objects instead of tensors. For (1), please define your @tf.function outside of the loop. For (2), @tf.function has experimental_relax_shapes=True option that relaxes argument shapes that can avoid unnecessary retracing. For (3), please refer to https://www.tensorflow.org/guide/function#controlling_retracing and https://www.tensorflow.org/api_docs/python/tf/function for  more details.\n"
     ]
    },
    {
     "name": "stderr",
     "output_type": "stream",
     "text": [
      "WARNING:tensorflow:11 out of the last 11 calls to <function recreate_function.<locals>.restored_function_body at 0x7fe88d1a8280> triggered tf.function retracing. Tracing is expensive and the excessive number of tracings could be due to (1) creating @tf.function repeatedly in a loop, (2) passing tensors with different shapes, (3) passing Python objects instead of tensors. For (1), please define your @tf.function outside of the loop. For (2), @tf.function has experimental_relax_shapes=True option that relaxes argument shapes that can avoid unnecessary retracing. For (3), please refer to https://www.tensorflow.org/guide/function#controlling_retracing and https://www.tensorflow.org/api_docs/python/tf/function for  more details.\n"
     ]
    },
    {
     "name": "stdout",
     "output_type": "stream",
     "text": [
      "WARNING:tensorflow:11 out of the last 11 calls to <function recreate_function.<locals>.restored_function_body at 0x7fe87dfa0940> triggered tf.function retracing. Tracing is expensive and the excessive number of tracings could be due to (1) creating @tf.function repeatedly in a loop, (2) passing tensors with different shapes, (3) passing Python objects instead of tensors. For (1), please define your @tf.function outside of the loop. For (2), @tf.function has experimental_relax_shapes=True option that relaxes argument shapes that can avoid unnecessary retracing. For (3), please refer to https://www.tensorflow.org/guide/function#controlling_retracing and https://www.tensorflow.org/api_docs/python/tf/function for  more details.\n"
     ]
    },
    {
     "name": "stderr",
     "output_type": "stream",
     "text": [
      "WARNING:tensorflow:11 out of the last 11 calls to <function recreate_function.<locals>.restored_function_body at 0x7fe87dfa0940> triggered tf.function retracing. Tracing is expensive and the excessive number of tracings could be due to (1) creating @tf.function repeatedly in a loop, (2) passing tensors with different shapes, (3) passing Python objects instead of tensors. For (1), please define your @tf.function outside of the loop. For (2), @tf.function has experimental_relax_shapes=True option that relaxes argument shapes that can avoid unnecessary retracing. For (3), please refer to https://www.tensorflow.org/guide/function#controlling_retracing and https://www.tensorflow.org/api_docs/python/tf/function for  more details.\n"
     ]
    },
    {
     "name": "stdout",
     "output_type": "stream",
     "text": [
      "WARNING:tensorflow:11 out of the last 11 calls to <function recreate_function.<locals>.restored_function_body at 0x7fe87d32bca0> triggered tf.function retracing. Tracing is expensive and the excessive number of tracings could be due to (1) creating @tf.function repeatedly in a loop, (2) passing tensors with different shapes, (3) passing Python objects instead of tensors. For (1), please define your @tf.function outside of the loop. For (2), @tf.function has experimental_relax_shapes=True option that relaxes argument shapes that can avoid unnecessary retracing. For (3), please refer to https://www.tensorflow.org/guide/function#controlling_retracing and https://www.tensorflow.org/api_docs/python/tf/function for  more details.\n"
     ]
    },
    {
     "name": "stderr",
     "output_type": "stream",
     "text": [
      "WARNING:tensorflow:11 out of the last 11 calls to <function recreate_function.<locals>.restored_function_body at 0x7fe87d32bca0> triggered tf.function retracing. Tracing is expensive and the excessive number of tracings could be due to (1) creating @tf.function repeatedly in a loop, (2) passing tensors with different shapes, (3) passing Python objects instead of tensors. For (1), please define your @tf.function outside of the loop. For (2), @tf.function has experimental_relax_shapes=True option that relaxes argument shapes that can avoid unnecessary retracing. For (3), please refer to https://www.tensorflow.org/guide/function#controlling_retracing and https://www.tensorflow.org/api_docs/python/tf/function for  more details.\n"
     ]
    },
    {
     "name": "stdout",
     "output_type": "stream",
     "text": [
      "WARNING:tensorflow:11 out of the last 11 calls to <function recreate_function.<locals>.restored_function_body at 0x7fe87d32be50> triggered tf.function retracing. Tracing is expensive and the excessive number of tracings could be due to (1) creating @tf.function repeatedly in a loop, (2) passing tensors with different shapes, (3) passing Python objects instead of tensors. For (1), please define your @tf.function outside of the loop. For (2), @tf.function has experimental_relax_shapes=True option that relaxes argument shapes that can avoid unnecessary retracing. For (3), please refer to https://www.tensorflow.org/guide/function#controlling_retracing and https://www.tensorflow.org/api_docs/python/tf/function for  more details.\n"
     ]
    },
    {
     "name": "stderr",
     "output_type": "stream",
     "text": [
      "WARNING:tensorflow:11 out of the last 11 calls to <function recreate_function.<locals>.restored_function_body at 0x7fe87d32be50> triggered tf.function retracing. Tracing is expensive and the excessive number of tracings could be due to (1) creating @tf.function repeatedly in a loop, (2) passing tensors with different shapes, (3) passing Python objects instead of tensors. For (1), please define your @tf.function outside of the loop. For (2), @tf.function has experimental_relax_shapes=True option that relaxes argument shapes that can avoid unnecessary retracing. For (3), please refer to https://www.tensorflow.org/guide/function#controlling_retracing and https://www.tensorflow.org/api_docs/python/tf/function for  more details.\n"
     ]
    },
    {
     "name": "stdout",
     "output_type": "stream",
     "text": [
      "WARNING:tensorflow:11 out of the last 11 calls to <function recreate_function.<locals>.restored_function_body at 0x7fe87d34c280> triggered tf.function retracing. Tracing is expensive and the excessive number of tracings could be due to (1) creating @tf.function repeatedly in a loop, (2) passing tensors with different shapes, (3) passing Python objects instead of tensors. For (1), please define your @tf.function outside of the loop. For (2), @tf.function has experimental_relax_shapes=True option that relaxes argument shapes that can avoid unnecessary retracing. For (3), please refer to https://www.tensorflow.org/guide/function#controlling_retracing and https://www.tensorflow.org/api_docs/python/tf/function for  more details.\n"
     ]
    },
    {
     "name": "stderr",
     "output_type": "stream",
     "text": [
      "WARNING:tensorflow:11 out of the last 11 calls to <function recreate_function.<locals>.restored_function_body at 0x7fe87d34c280> triggered tf.function retracing. Tracing is expensive and the excessive number of tracings could be due to (1) creating @tf.function repeatedly in a loop, (2) passing tensors with different shapes, (3) passing Python objects instead of tensors. For (1), please define your @tf.function outside of the loop. For (2), @tf.function has experimental_relax_shapes=True option that relaxes argument shapes that can avoid unnecessary retracing. For (3), please refer to https://www.tensorflow.org/guide/function#controlling_retracing and https://www.tensorflow.org/api_docs/python/tf/function for  more details.\n"
     ]
    },
    {
     "name": "stdout",
     "output_type": "stream",
     "text": [
      "WARNING:tensorflow:11 out of the last 11 calls to <function recreate_function.<locals>.restored_function_body at 0x7fe87dfa0790> triggered tf.function retracing. Tracing is expensive and the excessive number of tracings could be due to (1) creating @tf.function repeatedly in a loop, (2) passing tensors with different shapes, (3) passing Python objects instead of tensors. For (1), please define your @tf.function outside of the loop. For (2), @tf.function has experimental_relax_shapes=True option that relaxes argument shapes that can avoid unnecessary retracing. For (3), please refer to https://www.tensorflow.org/guide/function#controlling_retracing and https://www.tensorflow.org/api_docs/python/tf/function for  more details.\n"
     ]
    },
    {
     "name": "stderr",
     "output_type": "stream",
     "text": [
      "WARNING:tensorflow:11 out of the last 11 calls to <function recreate_function.<locals>.restored_function_body at 0x7fe87dfa0790> triggered tf.function retracing. Tracing is expensive and the excessive number of tracings could be due to (1) creating @tf.function repeatedly in a loop, (2) passing tensors with different shapes, (3) passing Python objects instead of tensors. For (1), please define your @tf.function outside of the loop. For (2), @tf.function has experimental_relax_shapes=True option that relaxes argument shapes that can avoid unnecessary retracing. For (3), please refer to https://www.tensorflow.org/guide/function#controlling_retracing and https://www.tensorflow.org/api_docs/python/tf/function for  more details.\n"
     ]
    },
    {
     "name": "stdout",
     "output_type": "stream",
     "text": [
      "WARNING:tensorflow:11 out of the last 11 calls to <function recreate_function.<locals>.restored_function_body at 0x7fe886a4f040> triggered tf.function retracing. Tracing is expensive and the excessive number of tracings could be due to (1) creating @tf.function repeatedly in a loop, (2) passing tensors with different shapes, (3) passing Python objects instead of tensors. For (1), please define your @tf.function outside of the loop. For (2), @tf.function has experimental_relax_shapes=True option that relaxes argument shapes that can avoid unnecessary retracing. For (3), please refer to https://www.tensorflow.org/guide/function#controlling_retracing and https://www.tensorflow.org/api_docs/python/tf/function for  more details.\n"
     ]
    },
    {
     "name": "stderr",
     "output_type": "stream",
     "text": [
      "WARNING:tensorflow:11 out of the last 11 calls to <function recreate_function.<locals>.restored_function_body at 0x7fe886a4f040> triggered tf.function retracing. Tracing is expensive and the excessive number of tracings could be due to (1) creating @tf.function repeatedly in a loop, (2) passing tensors with different shapes, (3) passing Python objects instead of tensors. For (1), please define your @tf.function outside of the loop. For (2), @tf.function has experimental_relax_shapes=True option that relaxes argument shapes that can avoid unnecessary retracing. For (3), please refer to https://www.tensorflow.org/guide/function#controlling_retracing and https://www.tensorflow.org/api_docs/python/tf/function for  more details.\n"
     ]
    },
    {
     "name": "stdout",
     "output_type": "stream",
     "text": [
      "WARNING:tensorflow:11 out of the last 11 calls to <function recreate_function.<locals>.restored_function_body at 0x7fe886a4fc10> triggered tf.function retracing. Tracing is expensive and the excessive number of tracings could be due to (1) creating @tf.function repeatedly in a loop, (2) passing tensors with different shapes, (3) passing Python objects instead of tensors. For (1), please define your @tf.function outside of the loop. For (2), @tf.function has experimental_relax_shapes=True option that relaxes argument shapes that can avoid unnecessary retracing. For (3), please refer to https://www.tensorflow.org/guide/function#controlling_retracing and https://www.tensorflow.org/api_docs/python/tf/function for  more details.\n"
     ]
    },
    {
     "name": "stderr",
     "output_type": "stream",
     "text": [
      "WARNING:tensorflow:11 out of the last 11 calls to <function recreate_function.<locals>.restored_function_body at 0x7fe886a4fc10> triggered tf.function retracing. Tracing is expensive and the excessive number of tracings could be due to (1) creating @tf.function repeatedly in a loop, (2) passing tensors with different shapes, (3) passing Python objects instead of tensors. For (1), please define your @tf.function outside of the loop. For (2), @tf.function has experimental_relax_shapes=True option that relaxes argument shapes that can avoid unnecessary retracing. For (3), please refer to https://www.tensorflow.org/guide/function#controlling_retracing and https://www.tensorflow.org/api_docs/python/tf/function for  more details.\n"
     ]
    },
    {
     "name": "stdout",
     "output_type": "stream",
     "text": [
      "WARNING:tensorflow:11 out of the last 11 calls to <function recreate_function.<locals>.restored_function_body at 0x7fe887b1c5e0> triggered tf.function retracing. Tracing is expensive and the excessive number of tracings could be due to (1) creating @tf.function repeatedly in a loop, (2) passing tensors with different shapes, (3) passing Python objects instead of tensors. For (1), please define your @tf.function outside of the loop. For (2), @tf.function has experimental_relax_shapes=True option that relaxes argument shapes that can avoid unnecessary retracing. For (3), please refer to https://www.tensorflow.org/guide/function#controlling_retracing and https://www.tensorflow.org/api_docs/python/tf/function for  more details.\n"
     ]
    },
    {
     "name": "stderr",
     "output_type": "stream",
     "text": [
      "WARNING:tensorflow:11 out of the last 11 calls to <function recreate_function.<locals>.restored_function_body at 0x7fe887b1c5e0> triggered tf.function retracing. Tracing is expensive and the excessive number of tracings could be due to (1) creating @tf.function repeatedly in a loop, (2) passing tensors with different shapes, (3) passing Python objects instead of tensors. For (1), please define your @tf.function outside of the loop. For (2), @tf.function has experimental_relax_shapes=True option that relaxes argument shapes that can avoid unnecessary retracing. For (3), please refer to https://www.tensorflow.org/guide/function#controlling_retracing and https://www.tensorflow.org/api_docs/python/tf/function for  more details.\n"
     ]
    },
    {
     "name": "stdout",
     "output_type": "stream",
     "text": [
      "WARNING:tensorflow:11 out of the last 11 calls to <function recreate_function.<locals>.restored_function_body at 0x7fe87d34cca0> triggered tf.function retracing. Tracing is expensive and the excessive number of tracings could be due to (1) creating @tf.function repeatedly in a loop, (2) passing tensors with different shapes, (3) passing Python objects instead of tensors. For (1), please define your @tf.function outside of the loop. For (2), @tf.function has experimental_relax_shapes=True option that relaxes argument shapes that can avoid unnecessary retracing. For (3), please refer to https://www.tensorflow.org/guide/function#controlling_retracing and https://www.tensorflow.org/api_docs/python/tf/function for  more details.\n"
     ]
    },
    {
     "name": "stderr",
     "output_type": "stream",
     "text": [
      "WARNING:tensorflow:11 out of the last 11 calls to <function recreate_function.<locals>.restored_function_body at 0x7fe87d34cca0> triggered tf.function retracing. Tracing is expensive and the excessive number of tracings could be due to (1) creating @tf.function repeatedly in a loop, (2) passing tensors with different shapes, (3) passing Python objects instead of tensors. For (1), please define your @tf.function outside of the loop. For (2), @tf.function has experimental_relax_shapes=True option that relaxes argument shapes that can avoid unnecessary retracing. For (3), please refer to https://www.tensorflow.org/guide/function#controlling_retracing and https://www.tensorflow.org/api_docs/python/tf/function for  more details.\n"
     ]
    },
    {
     "name": "stdout",
     "output_type": "stream",
     "text": [
      "WARNING:tensorflow:11 out of the last 11 calls to <function recreate_function.<locals>.restored_function_body at 0x7fe87d34c8b0> triggered tf.function retracing. Tracing is expensive and the excessive number of tracings could be due to (1) creating @tf.function repeatedly in a loop, (2) passing tensors with different shapes, (3) passing Python objects instead of tensors. For (1), please define your @tf.function outside of the loop. For (2), @tf.function has experimental_relax_shapes=True option that relaxes argument shapes that can avoid unnecessary retracing. For (3), please refer to https://www.tensorflow.org/guide/function#controlling_retracing and https://www.tensorflow.org/api_docs/python/tf/function for  more details.\n"
     ]
    },
    {
     "name": "stderr",
     "output_type": "stream",
     "text": [
      "WARNING:tensorflow:11 out of the last 11 calls to <function recreate_function.<locals>.restored_function_body at 0x7fe87d34c8b0> triggered tf.function retracing. Tracing is expensive and the excessive number of tracings could be due to (1) creating @tf.function repeatedly in a loop, (2) passing tensors with different shapes, (3) passing Python objects instead of tensors. For (1), please define your @tf.function outside of the loop. For (2), @tf.function has experimental_relax_shapes=True option that relaxes argument shapes that can avoid unnecessary retracing. For (3), please refer to https://www.tensorflow.org/guide/function#controlling_retracing and https://www.tensorflow.org/api_docs/python/tf/function for  more details.\n"
     ]
    },
    {
     "name": "stdout",
     "output_type": "stream",
     "text": [
      "WARNING:tensorflow:11 out of the last 11 calls to <function recreate_function.<locals>.restored_function_body at 0x7fe88cd32550> triggered tf.function retracing. Tracing is expensive and the excessive number of tracings could be due to (1) creating @tf.function repeatedly in a loop, (2) passing tensors with different shapes, (3) passing Python objects instead of tensors. For (1), please define your @tf.function outside of the loop. For (2), @tf.function has experimental_relax_shapes=True option that relaxes argument shapes that can avoid unnecessary retracing. For (3), please refer to https://www.tensorflow.org/guide/function#controlling_retracing and https://www.tensorflow.org/api_docs/python/tf/function for  more details.\n"
     ]
    },
    {
     "name": "stderr",
     "output_type": "stream",
     "text": [
      "WARNING:tensorflow:11 out of the last 11 calls to <function recreate_function.<locals>.restored_function_body at 0x7fe88cd32550> triggered tf.function retracing. Tracing is expensive and the excessive number of tracings could be due to (1) creating @tf.function repeatedly in a loop, (2) passing tensors with different shapes, (3) passing Python objects instead of tensors. For (1), please define your @tf.function outside of the loop. For (2), @tf.function has experimental_relax_shapes=True option that relaxes argument shapes that can avoid unnecessary retracing. For (3), please refer to https://www.tensorflow.org/guide/function#controlling_retracing and https://www.tensorflow.org/api_docs/python/tf/function for  more details.\n"
     ]
    },
    {
     "name": "stdout",
     "output_type": "stream",
     "text": [
      "WARNING:tensorflow:11 out of the last 11 calls to <function recreate_function.<locals>.restored_function_body at 0x7fe88791df70> triggered tf.function retracing. Tracing is expensive and the excessive number of tracings could be due to (1) creating @tf.function repeatedly in a loop, (2) passing tensors with different shapes, (3) passing Python objects instead of tensors. For (1), please define your @tf.function outside of the loop. For (2), @tf.function has experimental_relax_shapes=True option that relaxes argument shapes that can avoid unnecessary retracing. For (3), please refer to https://www.tensorflow.org/guide/function#controlling_retracing and https://www.tensorflow.org/api_docs/python/tf/function for  more details.\n"
     ]
    },
    {
     "name": "stderr",
     "output_type": "stream",
     "text": [
      "WARNING:tensorflow:11 out of the last 11 calls to <function recreate_function.<locals>.restored_function_body at 0x7fe88791df70> triggered tf.function retracing. Tracing is expensive and the excessive number of tracings could be due to (1) creating @tf.function repeatedly in a loop, (2) passing tensors with different shapes, (3) passing Python objects instead of tensors. For (1), please define your @tf.function outside of the loop. For (2), @tf.function has experimental_relax_shapes=True option that relaxes argument shapes that can avoid unnecessary retracing. For (3), please refer to https://www.tensorflow.org/guide/function#controlling_retracing and https://www.tensorflow.org/api_docs/python/tf/function for  more details.\n"
     ]
    },
    {
     "name": "stdout",
     "output_type": "stream",
     "text": [
      "WARNING:tensorflow:11 out of the last 11 calls to <function recreate_function.<locals>.restored_function_body at 0x7fe87dff0160> triggered tf.function retracing. Tracing is expensive and the excessive number of tracings could be due to (1) creating @tf.function repeatedly in a loop, (2) passing tensors with different shapes, (3) passing Python objects instead of tensors. For (1), please define your @tf.function outside of the loop. For (2), @tf.function has experimental_relax_shapes=True option that relaxes argument shapes that can avoid unnecessary retracing. For (3), please refer to https://www.tensorflow.org/guide/function#controlling_retracing and https://www.tensorflow.org/api_docs/python/tf/function for  more details.\n"
     ]
    },
    {
     "name": "stderr",
     "output_type": "stream",
     "text": [
      "WARNING:tensorflow:11 out of the last 11 calls to <function recreate_function.<locals>.restored_function_body at 0x7fe87dff0160> triggered tf.function retracing. Tracing is expensive and the excessive number of tracings could be due to (1) creating @tf.function repeatedly in a loop, (2) passing tensors with different shapes, (3) passing Python objects instead of tensors. For (1), please define your @tf.function outside of the loop. For (2), @tf.function has experimental_relax_shapes=True option that relaxes argument shapes that can avoid unnecessary retracing. For (3), please refer to https://www.tensorflow.org/guide/function#controlling_retracing and https://www.tensorflow.org/api_docs/python/tf/function for  more details.\n"
     ]
    },
    {
     "name": "stdout",
     "output_type": "stream",
     "text": [
      "WARNING:tensorflow:11 out of the last 11 calls to <function recreate_function.<locals>.restored_function_body at 0x7fe88ccda790> triggered tf.function retracing. Tracing is expensive and the excessive number of tracings could be due to (1) creating @tf.function repeatedly in a loop, (2) passing tensors with different shapes, (3) passing Python objects instead of tensors. For (1), please define your @tf.function outside of the loop. For (2), @tf.function has experimental_relax_shapes=True option that relaxes argument shapes that can avoid unnecessary retracing. For (3), please refer to https://www.tensorflow.org/guide/function#controlling_retracing and https://www.tensorflow.org/api_docs/python/tf/function for  more details.\n"
     ]
    },
    {
     "name": "stderr",
     "output_type": "stream",
     "text": [
      "WARNING:tensorflow:11 out of the last 11 calls to <function recreate_function.<locals>.restored_function_body at 0x7fe88ccda790> triggered tf.function retracing. Tracing is expensive and the excessive number of tracings could be due to (1) creating @tf.function repeatedly in a loop, (2) passing tensors with different shapes, (3) passing Python objects instead of tensors. For (1), please define your @tf.function outside of the loop. For (2), @tf.function has experimental_relax_shapes=True option that relaxes argument shapes that can avoid unnecessary retracing. For (3), please refer to https://www.tensorflow.org/guide/function#controlling_retracing and https://www.tensorflow.org/api_docs/python/tf/function for  more details.\n"
     ]
    },
    {
     "name": "stdout",
     "output_type": "stream",
     "text": [
      "WARNING:tensorflow:11 out of the last 11 calls to <function recreate_function.<locals>.restored_function_body at 0x7fe87d2b6550> triggered tf.function retracing. Tracing is expensive and the excessive number of tracings could be due to (1) creating @tf.function repeatedly in a loop, (2) passing tensors with different shapes, (3) passing Python objects instead of tensors. For (1), please define your @tf.function outside of the loop. For (2), @tf.function has experimental_relax_shapes=True option that relaxes argument shapes that can avoid unnecessary retracing. For (3), please refer to https://www.tensorflow.org/guide/function#controlling_retracing and https://www.tensorflow.org/api_docs/python/tf/function for  more details.\n"
     ]
    },
    {
     "name": "stderr",
     "output_type": "stream",
     "text": [
      "WARNING:tensorflow:11 out of the last 11 calls to <function recreate_function.<locals>.restored_function_body at 0x7fe87d2b6550> triggered tf.function retracing. Tracing is expensive and the excessive number of tracings could be due to (1) creating @tf.function repeatedly in a loop, (2) passing tensors with different shapes, (3) passing Python objects instead of tensors. For (1), please define your @tf.function outside of the loop. For (2), @tf.function has experimental_relax_shapes=True option that relaxes argument shapes that can avoid unnecessary retracing. For (3), please refer to https://www.tensorflow.org/guide/function#controlling_retracing and https://www.tensorflow.org/api_docs/python/tf/function for  more details.\n"
     ]
    },
    {
     "name": "stdout",
     "output_type": "stream",
     "text": [
      "WARNING:tensorflow:11 out of the last 11 calls to <function recreate_function.<locals>.restored_function_body at 0x7fe886a4fb80> triggered tf.function retracing. Tracing is expensive and the excessive number of tracings could be due to (1) creating @tf.function repeatedly in a loop, (2) passing tensors with different shapes, (3) passing Python objects instead of tensors. For (1), please define your @tf.function outside of the loop. For (2), @tf.function has experimental_relax_shapes=True option that relaxes argument shapes that can avoid unnecessary retracing. For (3), please refer to https://www.tensorflow.org/guide/function#controlling_retracing and https://www.tensorflow.org/api_docs/python/tf/function for  more details.\n"
     ]
    },
    {
     "name": "stderr",
     "output_type": "stream",
     "text": [
      "WARNING:tensorflow:11 out of the last 11 calls to <function recreate_function.<locals>.restored_function_body at 0x7fe886a4fb80> triggered tf.function retracing. Tracing is expensive and the excessive number of tracings could be due to (1) creating @tf.function repeatedly in a loop, (2) passing tensors with different shapes, (3) passing Python objects instead of tensors. For (1), please define your @tf.function outside of the loop. For (2), @tf.function has experimental_relax_shapes=True option that relaxes argument shapes that can avoid unnecessary retracing. For (3), please refer to https://www.tensorflow.org/guide/function#controlling_retracing and https://www.tensorflow.org/api_docs/python/tf/function for  more details.\n"
     ]
    },
    {
     "name": "stdout",
     "output_type": "stream",
     "text": [
      "WARNING:tensorflow:11 out of the last 11 calls to <function recreate_function.<locals>.restored_function_body at 0x7fe886af20d0> triggered tf.function retracing. Tracing is expensive and the excessive number of tracings could be due to (1) creating @tf.function repeatedly in a loop, (2) passing tensors with different shapes, (3) passing Python objects instead of tensors. For (1), please define your @tf.function outside of the loop. For (2), @tf.function has experimental_relax_shapes=True option that relaxes argument shapes that can avoid unnecessary retracing. For (3), please refer to https://www.tensorflow.org/guide/function#controlling_retracing and https://www.tensorflow.org/api_docs/python/tf/function for  more details.\n"
     ]
    },
    {
     "name": "stderr",
     "output_type": "stream",
     "text": [
      "WARNING:tensorflow:11 out of the last 11 calls to <function recreate_function.<locals>.restored_function_body at 0x7fe886af20d0> triggered tf.function retracing. Tracing is expensive and the excessive number of tracings could be due to (1) creating @tf.function repeatedly in a loop, (2) passing tensors with different shapes, (3) passing Python objects instead of tensors. For (1), please define your @tf.function outside of the loop. For (2), @tf.function has experimental_relax_shapes=True option that relaxes argument shapes that can avoid unnecessary retracing. For (3), please refer to https://www.tensorflow.org/guide/function#controlling_retracing and https://www.tensorflow.org/api_docs/python/tf/function for  more details.\n"
     ]
    },
    {
     "name": "stdout",
     "output_type": "stream",
     "text": [
      "WARNING:tensorflow:11 out of the last 11 calls to <function recreate_function.<locals>.restored_function_body at 0x7fe88d1a8ca0> triggered tf.function retracing. Tracing is expensive and the excessive number of tracings could be due to (1) creating @tf.function repeatedly in a loop, (2) passing tensors with different shapes, (3) passing Python objects instead of tensors. For (1), please define your @tf.function outside of the loop. For (2), @tf.function has experimental_relax_shapes=True option that relaxes argument shapes that can avoid unnecessary retracing. For (3), please refer to https://www.tensorflow.org/guide/function#controlling_retracing and https://www.tensorflow.org/api_docs/python/tf/function for  more details.\n"
     ]
    },
    {
     "name": "stderr",
     "output_type": "stream",
     "text": [
      "WARNING:tensorflow:11 out of the last 11 calls to <function recreate_function.<locals>.restored_function_body at 0x7fe88d1a8ca0> triggered tf.function retracing. Tracing is expensive and the excessive number of tracings could be due to (1) creating @tf.function repeatedly in a loop, (2) passing tensors with different shapes, (3) passing Python objects instead of tensors. For (1), please define your @tf.function outside of the loop. For (2), @tf.function has experimental_relax_shapes=True option that relaxes argument shapes that can avoid unnecessary retracing. For (3), please refer to https://www.tensorflow.org/guide/function#controlling_retracing and https://www.tensorflow.org/api_docs/python/tf/function for  more details.\n"
     ]
    },
    {
     "name": "stdout",
     "output_type": "stream",
     "text": [
      "WARNING:tensorflow:11 out of the last 11 calls to <function recreate_function.<locals>.restored_function_body at 0x7fe88ccda670> triggered tf.function retracing. Tracing is expensive and the excessive number of tracings could be due to (1) creating @tf.function repeatedly in a loop, (2) passing tensors with different shapes, (3) passing Python objects instead of tensors. For (1), please define your @tf.function outside of the loop. For (2), @tf.function has experimental_relax_shapes=True option that relaxes argument shapes that can avoid unnecessary retracing. For (3), please refer to https://www.tensorflow.org/guide/function#controlling_retracing and https://www.tensorflow.org/api_docs/python/tf/function for  more details.\n"
     ]
    },
    {
     "name": "stderr",
     "output_type": "stream",
     "text": [
      "WARNING:tensorflow:11 out of the last 11 calls to <function recreate_function.<locals>.restored_function_body at 0x7fe88ccda670> triggered tf.function retracing. Tracing is expensive and the excessive number of tracings could be due to (1) creating @tf.function repeatedly in a loop, (2) passing tensors with different shapes, (3) passing Python objects instead of tensors. For (1), please define your @tf.function outside of the loop. For (2), @tf.function has experimental_relax_shapes=True option that relaxes argument shapes that can avoid unnecessary retracing. For (3), please refer to https://www.tensorflow.org/guide/function#controlling_retracing and https://www.tensorflow.org/api_docs/python/tf/function for  more details.\n"
     ]
    },
    {
     "name": "stdout",
     "output_type": "stream",
     "text": [
      "WARNING:tensorflow:11 out of the last 11 calls to <function recreate_function.<locals>.restored_function_body at 0x7fe87d2b6b80> triggered tf.function retracing. Tracing is expensive and the excessive number of tracings could be due to (1) creating @tf.function repeatedly in a loop, (2) passing tensors with different shapes, (3) passing Python objects instead of tensors. For (1), please define your @tf.function outside of the loop. For (2), @tf.function has experimental_relax_shapes=True option that relaxes argument shapes that can avoid unnecessary retracing. For (3), please refer to https://www.tensorflow.org/guide/function#controlling_retracing and https://www.tensorflow.org/api_docs/python/tf/function for  more details.\n"
     ]
    },
    {
     "name": "stderr",
     "output_type": "stream",
     "text": [
      "WARNING:tensorflow:11 out of the last 11 calls to <function recreate_function.<locals>.restored_function_body at 0x7fe87d2b6b80> triggered tf.function retracing. Tracing is expensive and the excessive number of tracings could be due to (1) creating @tf.function repeatedly in a loop, (2) passing tensors with different shapes, (3) passing Python objects instead of tensors. For (1), please define your @tf.function outside of the loop. For (2), @tf.function has experimental_relax_shapes=True option that relaxes argument shapes that can avoid unnecessary retracing. For (3), please refer to https://www.tensorflow.org/guide/function#controlling_retracing and https://www.tensorflow.org/api_docs/python/tf/function for  more details.\n"
     ]
    },
    {
     "name": "stdout",
     "output_type": "stream",
     "text": [
      "WARNING:tensorflow:11 out of the last 11 calls to <function recreate_function.<locals>.restored_function_body at 0x7fe88d1ccaf0> triggered tf.function retracing. Tracing is expensive and the excessive number of tracings could be due to (1) creating @tf.function repeatedly in a loop, (2) passing tensors with different shapes, (3) passing Python objects instead of tensors. For (1), please define your @tf.function outside of the loop. For (2), @tf.function has experimental_relax_shapes=True option that relaxes argument shapes that can avoid unnecessary retracing. For (3), please refer to https://www.tensorflow.org/guide/function#controlling_retracing and https://www.tensorflow.org/api_docs/python/tf/function for  more details.\n"
     ]
    },
    {
     "name": "stderr",
     "output_type": "stream",
     "text": [
      "WARNING:tensorflow:11 out of the last 11 calls to <function recreate_function.<locals>.restored_function_body at 0x7fe88d1ccaf0> triggered tf.function retracing. Tracing is expensive and the excessive number of tracings could be due to (1) creating @tf.function repeatedly in a loop, (2) passing tensors with different shapes, (3) passing Python objects instead of tensors. For (1), please define your @tf.function outside of the loop. For (2), @tf.function has experimental_relax_shapes=True option that relaxes argument shapes that can avoid unnecessary retracing. For (3), please refer to https://www.tensorflow.org/guide/function#controlling_retracing and https://www.tensorflow.org/api_docs/python/tf/function for  more details.\n"
     ]
    },
    {
     "name": "stdout",
     "output_type": "stream",
     "text": [
      "WARNING:tensorflow:11 out of the last 11 calls to <function recreate_function.<locals>.restored_function_body at 0x7fe87d2b6280> triggered tf.function retracing. Tracing is expensive and the excessive number of tracings could be due to (1) creating @tf.function repeatedly in a loop, (2) passing tensors with different shapes, (3) passing Python objects instead of tensors. For (1), please define your @tf.function outside of the loop. For (2), @tf.function has experimental_relax_shapes=True option that relaxes argument shapes that can avoid unnecessary retracing. For (3), please refer to https://www.tensorflow.org/guide/function#controlling_retracing and https://www.tensorflow.org/api_docs/python/tf/function for  more details.\n"
     ]
    },
    {
     "name": "stderr",
     "output_type": "stream",
     "text": [
      "WARNING:tensorflow:11 out of the last 11 calls to <function recreate_function.<locals>.restored_function_body at 0x7fe87d2b6280> triggered tf.function retracing. Tracing is expensive and the excessive number of tracings could be due to (1) creating @tf.function repeatedly in a loop, (2) passing tensors with different shapes, (3) passing Python objects instead of tensors. For (1), please define your @tf.function outside of the loop. For (2), @tf.function has experimental_relax_shapes=True option that relaxes argument shapes that can avoid unnecessary retracing. For (3), please refer to https://www.tensorflow.org/guide/function#controlling_retracing and https://www.tensorflow.org/api_docs/python/tf/function for  more details.\n"
     ]
    },
    {
     "name": "stdout",
     "output_type": "stream",
     "text": [
      "WARNING:tensorflow:11 out of the last 11 calls to <function recreate_function.<locals>.restored_function_body at 0x7fe88ccda8b0> triggered tf.function retracing. Tracing is expensive and the excessive number of tracings could be due to (1) creating @tf.function repeatedly in a loop, (2) passing tensors with different shapes, (3) passing Python objects instead of tensors. For (1), please define your @tf.function outside of the loop. For (2), @tf.function has experimental_relax_shapes=True option that relaxes argument shapes that can avoid unnecessary retracing. For (3), please refer to https://www.tensorflow.org/guide/function#controlling_retracing and https://www.tensorflow.org/api_docs/python/tf/function for  more details.\n"
     ]
    },
    {
     "name": "stderr",
     "output_type": "stream",
     "text": [
      "WARNING:tensorflow:11 out of the last 11 calls to <function recreate_function.<locals>.restored_function_body at 0x7fe88ccda8b0> triggered tf.function retracing. Tracing is expensive and the excessive number of tracings could be due to (1) creating @tf.function repeatedly in a loop, (2) passing tensors with different shapes, (3) passing Python objects instead of tensors. For (1), please define your @tf.function outside of the loop. For (2), @tf.function has experimental_relax_shapes=True option that relaxes argument shapes that can avoid unnecessary retracing. For (3), please refer to https://www.tensorflow.org/guide/function#controlling_retracing and https://www.tensorflow.org/api_docs/python/tf/function for  more details.\n"
     ]
    },
    {
     "name": "stdout",
     "output_type": "stream",
     "text": [
      "WARNING:tensorflow:11 out of the last 11 calls to <function recreate_function.<locals>.restored_function_body at 0x7fe87d39fa60> triggered tf.function retracing. Tracing is expensive and the excessive number of tracings could be due to (1) creating @tf.function repeatedly in a loop, (2) passing tensors with different shapes, (3) passing Python objects instead of tensors. For (1), please define your @tf.function outside of the loop. For (2), @tf.function has experimental_relax_shapes=True option that relaxes argument shapes that can avoid unnecessary retracing. For (3), please refer to https://www.tensorflow.org/guide/function#controlling_retracing and https://www.tensorflow.org/api_docs/python/tf/function for  more details.\n"
     ]
    },
    {
     "name": "stderr",
     "output_type": "stream",
     "text": [
      "WARNING:tensorflow:11 out of the last 11 calls to <function recreate_function.<locals>.restored_function_body at 0x7fe87d39fa60> triggered tf.function retracing. Tracing is expensive and the excessive number of tracings could be due to (1) creating @tf.function repeatedly in a loop, (2) passing tensors with different shapes, (3) passing Python objects instead of tensors. For (1), please define your @tf.function outside of the loop. For (2), @tf.function has experimental_relax_shapes=True option that relaxes argument shapes that can avoid unnecessary retracing. For (3), please refer to https://www.tensorflow.org/guide/function#controlling_retracing and https://www.tensorflow.org/api_docs/python/tf/function for  more details.\n"
     ]
    },
    {
     "name": "stdout",
     "output_type": "stream",
     "text": [
      "WARNING:tensorflow:11 out of the last 11 calls to <function recreate_function.<locals>.restored_function_body at 0x7fe886a4fe50> triggered tf.function retracing. Tracing is expensive and the excessive number of tracings could be due to (1) creating @tf.function repeatedly in a loop, (2) passing tensors with different shapes, (3) passing Python objects instead of tensors. For (1), please define your @tf.function outside of the loop. For (2), @tf.function has experimental_relax_shapes=True option that relaxes argument shapes that can avoid unnecessary retracing. For (3), please refer to https://www.tensorflow.org/guide/function#controlling_retracing and https://www.tensorflow.org/api_docs/python/tf/function for  more details.\n"
     ]
    },
    {
     "name": "stderr",
     "output_type": "stream",
     "text": [
      "WARNING:tensorflow:11 out of the last 11 calls to <function recreate_function.<locals>.restored_function_body at 0x7fe886a4fe50> triggered tf.function retracing. Tracing is expensive and the excessive number of tracings could be due to (1) creating @tf.function repeatedly in a loop, (2) passing tensors with different shapes, (3) passing Python objects instead of tensors. For (1), please define your @tf.function outside of the loop. For (2), @tf.function has experimental_relax_shapes=True option that relaxes argument shapes that can avoid unnecessary retracing. For (3), please refer to https://www.tensorflow.org/guide/function#controlling_retracing and https://www.tensorflow.org/api_docs/python/tf/function for  more details.\n"
     ]
    },
    {
     "name": "stdout",
     "output_type": "stream",
     "text": [
      "WARNING:tensorflow:11 out of the last 11 calls to <function recreate_function.<locals>.restored_function_body at 0x7fe88d1cc8b0> triggered tf.function retracing. Tracing is expensive and the excessive number of tracings could be due to (1) creating @tf.function repeatedly in a loop, (2) passing tensors with different shapes, (3) passing Python objects instead of tensors. For (1), please define your @tf.function outside of the loop. For (2), @tf.function has experimental_relax_shapes=True option that relaxes argument shapes that can avoid unnecessary retracing. For (3), please refer to https://www.tensorflow.org/guide/function#controlling_retracing and https://www.tensorflow.org/api_docs/python/tf/function for  more details.\n"
     ]
    },
    {
     "name": "stderr",
     "output_type": "stream",
     "text": [
      "WARNING:tensorflow:11 out of the last 11 calls to <function recreate_function.<locals>.restored_function_body at 0x7fe88d1cc8b0> triggered tf.function retracing. Tracing is expensive and the excessive number of tracings could be due to (1) creating @tf.function repeatedly in a loop, (2) passing tensors with different shapes, (3) passing Python objects instead of tensors. For (1), please define your @tf.function outside of the loop. For (2), @tf.function has experimental_relax_shapes=True option that relaxes argument shapes that can avoid unnecessary retracing. For (3), please refer to https://www.tensorflow.org/guide/function#controlling_retracing and https://www.tensorflow.org/api_docs/python/tf/function for  more details.\n"
     ]
    },
    {
     "name": "stdout",
     "output_type": "stream",
     "text": [
      "WARNING:tensorflow:11 out of the last 11 calls to <function recreate_function.<locals>.restored_function_body at 0x7fe886a004c0> triggered tf.function retracing. Tracing is expensive and the excessive number of tracings could be due to (1) creating @tf.function repeatedly in a loop, (2) passing tensors with different shapes, (3) passing Python objects instead of tensors. For (1), please define your @tf.function outside of the loop. For (2), @tf.function has experimental_relax_shapes=True option that relaxes argument shapes that can avoid unnecessary retracing. For (3), please refer to https://www.tensorflow.org/guide/function#controlling_retracing and https://www.tensorflow.org/api_docs/python/tf/function for  more details.\n"
     ]
    },
    {
     "name": "stderr",
     "output_type": "stream",
     "text": [
      "WARNING:tensorflow:11 out of the last 11 calls to <function recreate_function.<locals>.restored_function_body at 0x7fe886a004c0> triggered tf.function retracing. Tracing is expensive and the excessive number of tracings could be due to (1) creating @tf.function repeatedly in a loop, (2) passing tensors with different shapes, (3) passing Python objects instead of tensors. For (1), please define your @tf.function outside of the loop. For (2), @tf.function has experimental_relax_shapes=True option that relaxes argument shapes that can avoid unnecessary retracing. For (3), please refer to https://www.tensorflow.org/guide/function#controlling_retracing and https://www.tensorflow.org/api_docs/python/tf/function for  more details.\n"
     ]
    },
    {
     "name": "stdout",
     "output_type": "stream",
     "text": [
      "WARNING:tensorflow:11 out of the last 11 calls to <function recreate_function.<locals>.restored_function_body at 0x7fe88d1cc0d0> triggered tf.function retracing. Tracing is expensive and the excessive number of tracings could be due to (1) creating @tf.function repeatedly in a loop, (2) passing tensors with different shapes, (3) passing Python objects instead of tensors. For (1), please define your @tf.function outside of the loop. For (2), @tf.function has experimental_relax_shapes=True option that relaxes argument shapes that can avoid unnecessary retracing. For (3), please refer to https://www.tensorflow.org/guide/function#controlling_retracing and https://www.tensorflow.org/api_docs/python/tf/function for  more details.\n"
     ]
    },
    {
     "name": "stderr",
     "output_type": "stream",
     "text": [
      "WARNING:tensorflow:11 out of the last 11 calls to <function recreate_function.<locals>.restored_function_body at 0x7fe88d1cc0d0> triggered tf.function retracing. Tracing is expensive and the excessive number of tracings could be due to (1) creating @tf.function repeatedly in a loop, (2) passing tensors with different shapes, (3) passing Python objects instead of tensors. For (1), please define your @tf.function outside of the loop. For (2), @tf.function has experimental_relax_shapes=True option that relaxes argument shapes that can avoid unnecessary retracing. For (3), please refer to https://www.tensorflow.org/guide/function#controlling_retracing and https://www.tensorflow.org/api_docs/python/tf/function for  more details.\n"
     ]
    },
    {
     "name": "stdout",
     "output_type": "stream",
     "text": [
      "WARNING:tensorflow:11 out of the last 11 calls to <function recreate_function.<locals>.restored_function_body at 0x7fe88ccc0d30> triggered tf.function retracing. Tracing is expensive and the excessive number of tracings could be due to (1) creating @tf.function repeatedly in a loop, (2) passing tensors with different shapes, (3) passing Python objects instead of tensors. For (1), please define your @tf.function outside of the loop. For (2), @tf.function has experimental_relax_shapes=True option that relaxes argument shapes that can avoid unnecessary retracing. For (3), please refer to https://www.tensorflow.org/guide/function#controlling_retracing and https://www.tensorflow.org/api_docs/python/tf/function for  more details.\n"
     ]
    },
    {
     "name": "stderr",
     "output_type": "stream",
     "text": [
      "WARNING:tensorflow:11 out of the last 11 calls to <function recreate_function.<locals>.restored_function_body at 0x7fe88ccc0d30> triggered tf.function retracing. Tracing is expensive and the excessive number of tracings could be due to (1) creating @tf.function repeatedly in a loop, (2) passing tensors with different shapes, (3) passing Python objects instead of tensors. For (1), please define your @tf.function outside of the loop. For (2), @tf.function has experimental_relax_shapes=True option that relaxes argument shapes that can avoid unnecessary retracing. For (3), please refer to https://www.tensorflow.org/guide/function#controlling_retracing and https://www.tensorflow.org/api_docs/python/tf/function for  more details.\n"
     ]
    },
    {
     "name": "stdout",
     "output_type": "stream",
     "text": [
      "WARNING:tensorflow:11 out of the last 11 calls to <function recreate_function.<locals>.restored_function_body at 0x7fe87d2b6a60> triggered tf.function retracing. Tracing is expensive and the excessive number of tracings could be due to (1) creating @tf.function repeatedly in a loop, (2) passing tensors with different shapes, (3) passing Python objects instead of tensors. For (1), please define your @tf.function outside of the loop. For (2), @tf.function has experimental_relax_shapes=True option that relaxes argument shapes that can avoid unnecessary retracing. For (3), please refer to https://www.tensorflow.org/guide/function#controlling_retracing and https://www.tensorflow.org/api_docs/python/tf/function for  more details.\n"
     ]
    },
    {
     "name": "stderr",
     "output_type": "stream",
     "text": [
      "WARNING:tensorflow:11 out of the last 11 calls to <function recreate_function.<locals>.restored_function_body at 0x7fe87d2b6a60> triggered tf.function retracing. Tracing is expensive and the excessive number of tracings could be due to (1) creating @tf.function repeatedly in a loop, (2) passing tensors with different shapes, (3) passing Python objects instead of tensors. For (1), please define your @tf.function outside of the loop. For (2), @tf.function has experimental_relax_shapes=True option that relaxes argument shapes that can avoid unnecessary retracing. For (3), please refer to https://www.tensorflow.org/guide/function#controlling_retracing and https://www.tensorflow.org/api_docs/python/tf/function for  more details.\n"
     ]
    },
    {
     "name": "stdout",
     "output_type": "stream",
     "text": [
      "WARNING:tensorflow:11 out of the last 11 calls to <function recreate_function.<locals>.restored_function_body at 0x7fe887b1c8b0> triggered tf.function retracing. Tracing is expensive and the excessive number of tracings could be due to (1) creating @tf.function repeatedly in a loop, (2) passing tensors with different shapes, (3) passing Python objects instead of tensors. For (1), please define your @tf.function outside of the loop. For (2), @tf.function has experimental_relax_shapes=True option that relaxes argument shapes that can avoid unnecessary retracing. For (3), please refer to https://www.tensorflow.org/guide/function#controlling_retracing and https://www.tensorflow.org/api_docs/python/tf/function for  more details.\n"
     ]
    },
    {
     "name": "stderr",
     "output_type": "stream",
     "text": [
      "WARNING:tensorflow:11 out of the last 11 calls to <function recreate_function.<locals>.restored_function_body at 0x7fe887b1c8b0> triggered tf.function retracing. Tracing is expensive and the excessive number of tracings could be due to (1) creating @tf.function repeatedly in a loop, (2) passing tensors with different shapes, (3) passing Python objects instead of tensors. For (1), please define your @tf.function outside of the loop. For (2), @tf.function has experimental_relax_shapes=True option that relaxes argument shapes that can avoid unnecessary retracing. For (3), please refer to https://www.tensorflow.org/guide/function#controlling_retracing and https://www.tensorflow.org/api_docs/python/tf/function for  more details.\n"
     ]
    },
    {
     "name": "stdout",
     "output_type": "stream",
     "text": [
      "WARNING:tensorflow:11 out of the last 11 calls to <function recreate_function.<locals>.restored_function_body at 0x7fe886a4fd30> triggered tf.function retracing. Tracing is expensive and the excessive number of tracings could be due to (1) creating @tf.function repeatedly in a loop, (2) passing tensors with different shapes, (3) passing Python objects instead of tensors. For (1), please define your @tf.function outside of the loop. For (2), @tf.function has experimental_relax_shapes=True option that relaxes argument shapes that can avoid unnecessary retracing. For (3), please refer to https://www.tensorflow.org/guide/function#controlling_retracing and https://www.tensorflow.org/api_docs/python/tf/function for  more details.\n"
     ]
    },
    {
     "name": "stderr",
     "output_type": "stream",
     "text": [
      "WARNING:tensorflow:11 out of the last 11 calls to <function recreate_function.<locals>.restored_function_body at 0x7fe886a4fd30> triggered tf.function retracing. Tracing is expensive and the excessive number of tracings could be due to (1) creating @tf.function repeatedly in a loop, (2) passing tensors with different shapes, (3) passing Python objects instead of tensors. For (1), please define your @tf.function outside of the loop. For (2), @tf.function has experimental_relax_shapes=True option that relaxes argument shapes that can avoid unnecessary retracing. For (3), please refer to https://www.tensorflow.org/guide/function#controlling_retracing and https://www.tensorflow.org/api_docs/python/tf/function for  more details.\n"
     ]
    },
    {
     "name": "stdout",
     "output_type": "stream",
     "text": [
      "WARNING:tensorflow:11 out of the last 11 calls to <function recreate_function.<locals>.restored_function_body at 0x7fe886a00550> triggered tf.function retracing. Tracing is expensive and the excessive number of tracings could be due to (1) creating @tf.function repeatedly in a loop, (2) passing tensors with different shapes, (3) passing Python objects instead of tensors. For (1), please define your @tf.function outside of the loop. For (2), @tf.function has experimental_relax_shapes=True option that relaxes argument shapes that can avoid unnecessary retracing. For (3), please refer to https://www.tensorflow.org/guide/function#controlling_retracing and https://www.tensorflow.org/api_docs/python/tf/function for  more details.\n"
     ]
    },
    {
     "name": "stderr",
     "output_type": "stream",
     "text": [
      "WARNING:tensorflow:11 out of the last 11 calls to <function recreate_function.<locals>.restored_function_body at 0x7fe886a00550> triggered tf.function retracing. Tracing is expensive and the excessive number of tracings could be due to (1) creating @tf.function repeatedly in a loop, (2) passing tensors with different shapes, (3) passing Python objects instead of tensors. For (1), please define your @tf.function outside of the loop. For (2), @tf.function has experimental_relax_shapes=True option that relaxes argument shapes that can avoid unnecessary retracing. For (3), please refer to https://www.tensorflow.org/guide/function#controlling_retracing and https://www.tensorflow.org/api_docs/python/tf/function for  more details.\n"
     ]
    },
    {
     "name": "stdout",
     "output_type": "stream",
     "text": [
      "WARNING:tensorflow:11 out of the last 11 calls to <function recreate_function.<locals>.restored_function_body at 0x7fe88d1bd430> triggered tf.function retracing. Tracing is expensive and the excessive number of tracings could be due to (1) creating @tf.function repeatedly in a loop, (2) passing tensors with different shapes, (3) passing Python objects instead of tensors. For (1), please define your @tf.function outside of the loop. For (2), @tf.function has experimental_relax_shapes=True option that relaxes argument shapes that can avoid unnecessary retracing. For (3), please refer to https://www.tensorflow.org/guide/function#controlling_retracing and https://www.tensorflow.org/api_docs/python/tf/function for  more details.\n"
     ]
    },
    {
     "name": "stderr",
     "output_type": "stream",
     "text": [
      "WARNING:tensorflow:11 out of the last 11 calls to <function recreate_function.<locals>.restored_function_body at 0x7fe88d1bd430> triggered tf.function retracing. Tracing is expensive and the excessive number of tracings could be due to (1) creating @tf.function repeatedly in a loop, (2) passing tensors with different shapes, (3) passing Python objects instead of tensors. For (1), please define your @tf.function outside of the loop. For (2), @tf.function has experimental_relax_shapes=True option that relaxes argument shapes that can avoid unnecessary retracing. For (3), please refer to https://www.tensorflow.org/guide/function#controlling_retracing and https://www.tensorflow.org/api_docs/python/tf/function for  more details.\n"
     ]
    },
    {
     "name": "stdout",
     "output_type": "stream",
     "text": [
      "WARNING:tensorflow:11 out of the last 11 calls to <function recreate_function.<locals>.restored_function_body at 0x7fe87dff0c10> triggered tf.function retracing. Tracing is expensive and the excessive number of tracings could be due to (1) creating @tf.function repeatedly in a loop, (2) passing tensors with different shapes, (3) passing Python objects instead of tensors. For (1), please define your @tf.function outside of the loop. For (2), @tf.function has experimental_relax_shapes=True option that relaxes argument shapes that can avoid unnecessary retracing. For (3), please refer to https://www.tensorflow.org/guide/function#controlling_retracing and https://www.tensorflow.org/api_docs/python/tf/function for  more details.\n"
     ]
    },
    {
     "name": "stderr",
     "output_type": "stream",
     "text": [
      "WARNING:tensorflow:11 out of the last 11 calls to <function recreate_function.<locals>.restored_function_body at 0x7fe87dff0c10> triggered tf.function retracing. Tracing is expensive and the excessive number of tracings could be due to (1) creating @tf.function repeatedly in a loop, (2) passing tensors with different shapes, (3) passing Python objects instead of tensors. For (1), please define your @tf.function outside of the loop. For (2), @tf.function has experimental_relax_shapes=True option that relaxes argument shapes that can avoid unnecessary retracing. For (3), please refer to https://www.tensorflow.org/guide/function#controlling_retracing and https://www.tensorflow.org/api_docs/python/tf/function for  more details.\n"
     ]
    },
    {
     "name": "stdout",
     "output_type": "stream",
     "text": [
      "WARNING:tensorflow:11 out of the last 11 calls to <function recreate_function.<locals>.restored_function_body at 0x7fe87d2b64c0> triggered tf.function retracing. Tracing is expensive and the excessive number of tracings could be due to (1) creating @tf.function repeatedly in a loop, (2) passing tensors with different shapes, (3) passing Python objects instead of tensors. For (1), please define your @tf.function outside of the loop. For (2), @tf.function has experimental_relax_shapes=True option that relaxes argument shapes that can avoid unnecessary retracing. For (3), please refer to https://www.tensorflow.org/guide/function#controlling_retracing and https://www.tensorflow.org/api_docs/python/tf/function for  more details.\n"
     ]
    },
    {
     "name": "stderr",
     "output_type": "stream",
     "text": [
      "WARNING:tensorflow:11 out of the last 11 calls to <function recreate_function.<locals>.restored_function_body at 0x7fe87d2b64c0> triggered tf.function retracing. Tracing is expensive and the excessive number of tracings could be due to (1) creating @tf.function repeatedly in a loop, (2) passing tensors with different shapes, (3) passing Python objects instead of tensors. For (1), please define your @tf.function outside of the loop. For (2), @tf.function has experimental_relax_shapes=True option that relaxes argument shapes that can avoid unnecessary retracing. For (3), please refer to https://www.tensorflow.org/guide/function#controlling_retracing and https://www.tensorflow.org/api_docs/python/tf/function for  more details.\n"
     ]
    },
    {
     "name": "stdout",
     "output_type": "stream",
     "text": [
      "WARNING:tensorflow:11 out of the last 11 calls to <function recreate_function.<locals>.restored_function_body at 0x7fe88ccdae50> triggered tf.function retracing. Tracing is expensive and the excessive number of tracings could be due to (1) creating @tf.function repeatedly in a loop, (2) passing tensors with different shapes, (3) passing Python objects instead of tensors. For (1), please define your @tf.function outside of the loop. For (2), @tf.function has experimental_relax_shapes=True option that relaxes argument shapes that can avoid unnecessary retracing. For (3), please refer to https://www.tensorflow.org/guide/function#controlling_retracing and https://www.tensorflow.org/api_docs/python/tf/function for  more details.\n"
     ]
    },
    {
     "name": "stderr",
     "output_type": "stream",
     "text": [
      "WARNING:tensorflow:11 out of the last 11 calls to <function recreate_function.<locals>.restored_function_body at 0x7fe88ccdae50> triggered tf.function retracing. Tracing is expensive and the excessive number of tracings could be due to (1) creating @tf.function repeatedly in a loop, (2) passing tensors with different shapes, (3) passing Python objects instead of tensors. For (1), please define your @tf.function outside of the loop. For (2), @tf.function has experimental_relax_shapes=True option that relaxes argument shapes that can avoid unnecessary retracing. For (3), please refer to https://www.tensorflow.org/guide/function#controlling_retracing and https://www.tensorflow.org/api_docs/python/tf/function for  more details.\n"
     ]
    },
    {
     "name": "stdout",
     "output_type": "stream",
     "text": [
      "WARNING:tensorflow:11 out of the last 11 calls to <function recreate_function.<locals>.restored_function_body at 0x7fe886a008b0> triggered tf.function retracing. Tracing is expensive and the excessive number of tracings could be due to (1) creating @tf.function repeatedly in a loop, (2) passing tensors with different shapes, (3) passing Python objects instead of tensors. For (1), please define your @tf.function outside of the loop. For (2), @tf.function has experimental_relax_shapes=True option that relaxes argument shapes that can avoid unnecessary retracing. For (3), please refer to https://www.tensorflow.org/guide/function#controlling_retracing and https://www.tensorflow.org/api_docs/python/tf/function for  more details.\n"
     ]
    },
    {
     "name": "stderr",
     "output_type": "stream",
     "text": [
      "WARNING:tensorflow:11 out of the last 11 calls to <function recreate_function.<locals>.restored_function_body at 0x7fe886a008b0> triggered tf.function retracing. Tracing is expensive and the excessive number of tracings could be due to (1) creating @tf.function repeatedly in a loop, (2) passing tensors with different shapes, (3) passing Python objects instead of tensors. For (1), please define your @tf.function outside of the loop. For (2), @tf.function has experimental_relax_shapes=True option that relaxes argument shapes that can avoid unnecessary retracing. For (3), please refer to https://www.tensorflow.org/guide/function#controlling_retracing and https://www.tensorflow.org/api_docs/python/tf/function for  more details.\n"
     ]
    },
    {
     "name": "stdout",
     "output_type": "stream",
     "text": [
      "WARNING:tensorflow:11 out of the last 11 calls to <function recreate_function.<locals>.restored_function_body at 0x7fe88d1cc040> triggered tf.function retracing. Tracing is expensive and the excessive number of tracings could be due to (1) creating @tf.function repeatedly in a loop, (2) passing tensors with different shapes, (3) passing Python objects instead of tensors. For (1), please define your @tf.function outside of the loop. For (2), @tf.function has experimental_relax_shapes=True option that relaxes argument shapes that can avoid unnecessary retracing. For (3), please refer to https://www.tensorflow.org/guide/function#controlling_retracing and https://www.tensorflow.org/api_docs/python/tf/function for  more details.\n"
     ]
    },
    {
     "name": "stderr",
     "output_type": "stream",
     "text": [
      "WARNING:tensorflow:11 out of the last 11 calls to <function recreate_function.<locals>.restored_function_body at 0x7fe88d1cc040> triggered tf.function retracing. Tracing is expensive and the excessive number of tracings could be due to (1) creating @tf.function repeatedly in a loop, (2) passing tensors with different shapes, (3) passing Python objects instead of tensors. For (1), please define your @tf.function outside of the loop. For (2), @tf.function has experimental_relax_shapes=True option that relaxes argument shapes that can avoid unnecessary retracing. For (3), please refer to https://www.tensorflow.org/guide/function#controlling_retracing and https://www.tensorflow.org/api_docs/python/tf/function for  more details.\n"
     ]
    },
    {
     "name": "stdout",
     "output_type": "stream",
     "text": [
      "WARNING:tensorflow:11 out of the last 11 calls to <function recreate_function.<locals>.restored_function_body at 0x7fe88d1bdaf0> triggered tf.function retracing. Tracing is expensive and the excessive number of tracings could be due to (1) creating @tf.function repeatedly in a loop, (2) passing tensors with different shapes, (3) passing Python objects instead of tensors. For (1), please define your @tf.function outside of the loop. For (2), @tf.function has experimental_relax_shapes=True option that relaxes argument shapes that can avoid unnecessary retracing. For (3), please refer to https://www.tensorflow.org/guide/function#controlling_retracing and https://www.tensorflow.org/api_docs/python/tf/function for  more details.\n"
     ]
    },
    {
     "name": "stderr",
     "output_type": "stream",
     "text": [
      "WARNING:tensorflow:11 out of the last 11 calls to <function recreate_function.<locals>.restored_function_body at 0x7fe88d1bdaf0> triggered tf.function retracing. Tracing is expensive and the excessive number of tracings could be due to (1) creating @tf.function repeatedly in a loop, (2) passing tensors with different shapes, (3) passing Python objects instead of tensors. For (1), please define your @tf.function outside of the loop. For (2), @tf.function has experimental_relax_shapes=True option that relaxes argument shapes that can avoid unnecessary retracing. For (3), please refer to https://www.tensorflow.org/guide/function#controlling_retracing and https://www.tensorflow.org/api_docs/python/tf/function for  more details.\n"
     ]
    },
    {
     "name": "stdout",
     "output_type": "stream",
     "text": [
      "WARNING:tensorflow:11 out of the last 11 calls to <function recreate_function.<locals>.restored_function_body at 0x7fe88d1bd3a0> triggered tf.function retracing. Tracing is expensive and the excessive number of tracings could be due to (1) creating @tf.function repeatedly in a loop, (2) passing tensors with different shapes, (3) passing Python objects instead of tensors. For (1), please define your @tf.function outside of the loop. For (2), @tf.function has experimental_relax_shapes=True option that relaxes argument shapes that can avoid unnecessary retracing. For (3), please refer to https://www.tensorflow.org/guide/function#controlling_retracing and https://www.tensorflow.org/api_docs/python/tf/function for  more details.\n"
     ]
    },
    {
     "name": "stderr",
     "output_type": "stream",
     "text": [
      "WARNING:tensorflow:11 out of the last 11 calls to <function recreate_function.<locals>.restored_function_body at 0x7fe88d1bd3a0> triggered tf.function retracing. Tracing is expensive and the excessive number of tracings could be due to (1) creating @tf.function repeatedly in a loop, (2) passing tensors with different shapes, (3) passing Python objects instead of tensors. For (1), please define your @tf.function outside of the loop. For (2), @tf.function has experimental_relax_shapes=True option that relaxes argument shapes that can avoid unnecessary retracing. For (3), please refer to https://www.tensorflow.org/guide/function#controlling_retracing and https://www.tensorflow.org/api_docs/python/tf/function for  more details.\n"
     ]
    },
    {
     "name": "stdout",
     "output_type": "stream",
     "text": [
      "WARNING:tensorflow:11 out of the last 11 calls to <function recreate_function.<locals>.restored_function_body at 0x7fe886a00d30> triggered tf.function retracing. Tracing is expensive and the excessive number of tracings could be due to (1) creating @tf.function repeatedly in a loop, (2) passing tensors with different shapes, (3) passing Python objects instead of tensors. For (1), please define your @tf.function outside of the loop. For (2), @tf.function has experimental_relax_shapes=True option that relaxes argument shapes that can avoid unnecessary retracing. For (3), please refer to https://www.tensorflow.org/guide/function#controlling_retracing and https://www.tensorflow.org/api_docs/python/tf/function for  more details.\n"
     ]
    },
    {
     "name": "stderr",
     "output_type": "stream",
     "text": [
      "WARNING:tensorflow:11 out of the last 11 calls to <function recreate_function.<locals>.restored_function_body at 0x7fe886a00d30> triggered tf.function retracing. Tracing is expensive and the excessive number of tracings could be due to (1) creating @tf.function repeatedly in a loop, (2) passing tensors with different shapes, (3) passing Python objects instead of tensors. For (1), please define your @tf.function outside of the loop. For (2), @tf.function has experimental_relax_shapes=True option that relaxes argument shapes that can avoid unnecessary retracing. For (3), please refer to https://www.tensorflow.org/guide/function#controlling_retracing and https://www.tensorflow.org/api_docs/python/tf/function for  more details.\n"
     ]
    },
    {
     "name": "stdout",
     "output_type": "stream",
     "text": [
      "WARNING:tensorflow:11 out of the last 11 calls to <function recreate_function.<locals>.restored_function_body at 0x7fe88ccda160> triggered tf.function retracing. Tracing is expensive and the excessive number of tracings could be due to (1) creating @tf.function repeatedly in a loop, (2) passing tensors with different shapes, (3) passing Python objects instead of tensors. For (1), please define your @tf.function outside of the loop. For (2), @tf.function has experimental_relax_shapes=True option that relaxes argument shapes that can avoid unnecessary retracing. For (3), please refer to https://www.tensorflow.org/guide/function#controlling_retracing and https://www.tensorflow.org/api_docs/python/tf/function for  more details.\n"
     ]
    },
    {
     "name": "stderr",
     "output_type": "stream",
     "text": [
      "WARNING:tensorflow:11 out of the last 11 calls to <function recreate_function.<locals>.restored_function_body at 0x7fe88ccda160> triggered tf.function retracing. Tracing is expensive and the excessive number of tracings could be due to (1) creating @tf.function repeatedly in a loop, (2) passing tensors with different shapes, (3) passing Python objects instead of tensors. For (1), please define your @tf.function outside of the loop. For (2), @tf.function has experimental_relax_shapes=True option that relaxes argument shapes that can avoid unnecessary retracing. For (3), please refer to https://www.tensorflow.org/guide/function#controlling_retracing and https://www.tensorflow.org/api_docs/python/tf/function for  more details.\n"
     ]
    },
    {
     "name": "stdout",
     "output_type": "stream",
     "text": [
      "WARNING:tensorflow:11 out of the last 11 calls to <function recreate_function.<locals>.restored_function_body at 0x7fe887b1c820> triggered tf.function retracing. Tracing is expensive and the excessive number of tracings could be due to (1) creating @tf.function repeatedly in a loop, (2) passing tensors with different shapes, (3) passing Python objects instead of tensors. For (1), please define your @tf.function outside of the loop. For (2), @tf.function has experimental_relax_shapes=True option that relaxes argument shapes that can avoid unnecessary retracing. For (3), please refer to https://www.tensorflow.org/guide/function#controlling_retracing and https://www.tensorflow.org/api_docs/python/tf/function for  more details.\n"
     ]
    },
    {
     "name": "stderr",
     "output_type": "stream",
     "text": [
      "WARNING:tensorflow:11 out of the last 11 calls to <function recreate_function.<locals>.restored_function_body at 0x7fe887b1c820> triggered tf.function retracing. Tracing is expensive and the excessive number of tracings could be due to (1) creating @tf.function repeatedly in a loop, (2) passing tensors with different shapes, (3) passing Python objects instead of tensors. For (1), please define your @tf.function outside of the loop. For (2), @tf.function has experimental_relax_shapes=True option that relaxes argument shapes that can avoid unnecessary retracing. For (3), please refer to https://www.tensorflow.org/guide/function#controlling_retracing and https://www.tensorflow.org/api_docs/python/tf/function for  more details.\n"
     ]
    },
    {
     "name": "stdout",
     "output_type": "stream",
     "text": [
      "WARNING:tensorflow:11 out of the last 11 calls to <function recreate_function.<locals>.restored_function_body at 0x7fe87d34cf70> triggered tf.function retracing. Tracing is expensive and the excessive number of tracings could be due to (1) creating @tf.function repeatedly in a loop, (2) passing tensors with different shapes, (3) passing Python objects instead of tensors. For (1), please define your @tf.function outside of the loop. For (2), @tf.function has experimental_relax_shapes=True option that relaxes argument shapes that can avoid unnecessary retracing. For (3), please refer to https://www.tensorflow.org/guide/function#controlling_retracing and https://www.tensorflow.org/api_docs/python/tf/function for  more details.\n"
     ]
    },
    {
     "name": "stderr",
     "output_type": "stream",
     "text": [
      "WARNING:tensorflow:11 out of the last 11 calls to <function recreate_function.<locals>.restored_function_body at 0x7fe87d34cf70> triggered tf.function retracing. Tracing is expensive and the excessive number of tracings could be due to (1) creating @tf.function repeatedly in a loop, (2) passing tensors with different shapes, (3) passing Python objects instead of tensors. For (1), please define your @tf.function outside of the loop. For (2), @tf.function has experimental_relax_shapes=True option that relaxes argument shapes that can avoid unnecessary retracing. For (3), please refer to https://www.tensorflow.org/guide/function#controlling_retracing and https://www.tensorflow.org/api_docs/python/tf/function for  more details.\n"
     ]
    },
    {
     "name": "stdout",
     "output_type": "stream",
     "text": [
      "WARNING:tensorflow:11 out of the last 11 calls to <function recreate_function.<locals>.restored_function_body at 0x7fe87e01a1f0> triggered tf.function retracing. Tracing is expensive and the excessive number of tracings could be due to (1) creating @tf.function repeatedly in a loop, (2) passing tensors with different shapes, (3) passing Python objects instead of tensors. For (1), please define your @tf.function outside of the loop. For (2), @tf.function has experimental_relax_shapes=True option that relaxes argument shapes that can avoid unnecessary retracing. For (3), please refer to https://www.tensorflow.org/guide/function#controlling_retracing and https://www.tensorflow.org/api_docs/python/tf/function for  more details.\n"
     ]
    },
    {
     "name": "stderr",
     "output_type": "stream",
     "text": [
      "WARNING:tensorflow:11 out of the last 11 calls to <function recreate_function.<locals>.restored_function_body at 0x7fe87e01a1f0> triggered tf.function retracing. Tracing is expensive and the excessive number of tracings could be due to (1) creating @tf.function repeatedly in a loop, (2) passing tensors with different shapes, (3) passing Python objects instead of tensors. For (1), please define your @tf.function outside of the loop. For (2), @tf.function has experimental_relax_shapes=True option that relaxes argument shapes that can avoid unnecessary retracing. For (3), please refer to https://www.tensorflow.org/guide/function#controlling_retracing and https://www.tensorflow.org/api_docs/python/tf/function for  more details.\n"
     ]
    },
    {
     "name": "stdout",
     "output_type": "stream",
     "text": [
      "WARNING:tensorflow:11 out of the last 11 calls to <function recreate_function.<locals>.restored_function_body at 0x7fe87d32b550> triggered tf.function retracing. Tracing is expensive and the excessive number of tracings could be due to (1) creating @tf.function repeatedly in a loop, (2) passing tensors with different shapes, (3) passing Python objects instead of tensors. For (1), please define your @tf.function outside of the loop. For (2), @tf.function has experimental_relax_shapes=True option that relaxes argument shapes that can avoid unnecessary retracing. For (3), please refer to https://www.tensorflow.org/guide/function#controlling_retracing and https://www.tensorflow.org/api_docs/python/tf/function for  more details.\n"
     ]
    },
    {
     "name": "stderr",
     "output_type": "stream",
     "text": [
      "WARNING:tensorflow:11 out of the last 11 calls to <function recreate_function.<locals>.restored_function_body at 0x7fe87d32b550> triggered tf.function retracing. Tracing is expensive and the excessive number of tracings could be due to (1) creating @tf.function repeatedly in a loop, (2) passing tensors with different shapes, (3) passing Python objects instead of tensors. For (1), please define your @tf.function outside of the loop. For (2), @tf.function has experimental_relax_shapes=True option that relaxes argument shapes that can avoid unnecessary retracing. For (3), please refer to https://www.tensorflow.org/guide/function#controlling_retracing and https://www.tensorflow.org/api_docs/python/tf/function for  more details.\n"
     ]
    },
    {
     "name": "stdout",
     "output_type": "stream",
     "text": [
      "WARNING:tensorflow:11 out of the last 11 calls to <function recreate_function.<locals>.restored_function_body at 0x7fe87d2b61f0> triggered tf.function retracing. Tracing is expensive and the excessive number of tracings could be due to (1) creating @tf.function repeatedly in a loop, (2) passing tensors with different shapes, (3) passing Python objects instead of tensors. For (1), please define your @tf.function outside of the loop. For (2), @tf.function has experimental_relax_shapes=True option that relaxes argument shapes that can avoid unnecessary retracing. For (3), please refer to https://www.tensorflow.org/guide/function#controlling_retracing and https://www.tensorflow.org/api_docs/python/tf/function for  more details.\n"
     ]
    },
    {
     "name": "stderr",
     "output_type": "stream",
     "text": [
      "WARNING:tensorflow:11 out of the last 11 calls to <function recreate_function.<locals>.restored_function_body at 0x7fe87d2b61f0> triggered tf.function retracing. Tracing is expensive and the excessive number of tracings could be due to (1) creating @tf.function repeatedly in a loop, (2) passing tensors with different shapes, (3) passing Python objects instead of tensors. For (1), please define your @tf.function outside of the loop. For (2), @tf.function has experimental_relax_shapes=True option that relaxes argument shapes that can avoid unnecessary retracing. For (3), please refer to https://www.tensorflow.org/guide/function#controlling_retracing and https://www.tensorflow.org/api_docs/python/tf/function for  more details.\n"
     ]
    },
    {
     "name": "stdout",
     "output_type": "stream",
     "text": [
      "WARNING:tensorflow:11 out of the last 11 calls to <function recreate_function.<locals>.restored_function_body at 0x7fe886a00a60> triggered tf.function retracing. Tracing is expensive and the excessive number of tracings could be due to (1) creating @tf.function repeatedly in a loop, (2) passing tensors with different shapes, (3) passing Python objects instead of tensors. For (1), please define your @tf.function outside of the loop. For (2), @tf.function has experimental_relax_shapes=True option that relaxes argument shapes that can avoid unnecessary retracing. For (3), please refer to https://www.tensorflow.org/guide/function#controlling_retracing and https://www.tensorflow.org/api_docs/python/tf/function for  more details.\n"
     ]
    },
    {
     "name": "stderr",
     "output_type": "stream",
     "text": [
      "WARNING:tensorflow:11 out of the last 11 calls to <function recreate_function.<locals>.restored_function_body at 0x7fe886a00a60> triggered tf.function retracing. Tracing is expensive and the excessive number of tracings could be due to (1) creating @tf.function repeatedly in a loop, (2) passing tensors with different shapes, (3) passing Python objects instead of tensors. For (1), please define your @tf.function outside of the loop. For (2), @tf.function has experimental_relax_shapes=True option that relaxes argument shapes that can avoid unnecessary retracing. For (3), please refer to https://www.tensorflow.org/guide/function#controlling_retracing and https://www.tensorflow.org/api_docs/python/tf/function for  more details.\n"
     ]
    },
    {
     "name": "stdout",
     "output_type": "stream",
     "text": [
      "WARNING:tensorflow:11 out of the last 11 calls to <function recreate_function.<locals>.restored_function_body at 0x7fe88d1bd280> triggered tf.function retracing. Tracing is expensive and the excessive number of tracings could be due to (1) creating @tf.function repeatedly in a loop, (2) passing tensors with different shapes, (3) passing Python objects instead of tensors. For (1), please define your @tf.function outside of the loop. For (2), @tf.function has experimental_relax_shapes=True option that relaxes argument shapes that can avoid unnecessary retracing. For (3), please refer to https://www.tensorflow.org/guide/function#controlling_retracing and https://www.tensorflow.org/api_docs/python/tf/function for  more details.\n"
     ]
    },
    {
     "name": "stderr",
     "output_type": "stream",
     "text": [
      "WARNING:tensorflow:11 out of the last 11 calls to <function recreate_function.<locals>.restored_function_body at 0x7fe88d1bd280> triggered tf.function retracing. Tracing is expensive and the excessive number of tracings could be due to (1) creating @tf.function repeatedly in a loop, (2) passing tensors with different shapes, (3) passing Python objects instead of tensors. For (1), please define your @tf.function outside of the loop. For (2), @tf.function has experimental_relax_shapes=True option that relaxes argument shapes that can avoid unnecessary retracing. For (3), please refer to https://www.tensorflow.org/guide/function#controlling_retracing and https://www.tensorflow.org/api_docs/python/tf/function for  more details.\n"
     ]
    },
    {
     "name": "stdout",
     "output_type": "stream",
     "text": [
      "WARNING:tensorflow:11 out of the last 11 calls to <function recreate_function.<locals>.restored_function_body at 0x7fe87e01ab80> triggered tf.function retracing. Tracing is expensive and the excessive number of tracings could be due to (1) creating @tf.function repeatedly in a loop, (2) passing tensors with different shapes, (3) passing Python objects instead of tensors. For (1), please define your @tf.function outside of the loop. For (2), @tf.function has experimental_relax_shapes=True option that relaxes argument shapes that can avoid unnecessary retracing. For (3), please refer to https://www.tensorflow.org/guide/function#controlling_retracing and https://www.tensorflow.org/api_docs/python/tf/function for  more details.\n"
     ]
    },
    {
     "name": "stderr",
     "output_type": "stream",
     "text": [
      "WARNING:tensorflow:11 out of the last 11 calls to <function recreate_function.<locals>.restored_function_body at 0x7fe87e01ab80> triggered tf.function retracing. Tracing is expensive and the excessive number of tracings could be due to (1) creating @tf.function repeatedly in a loop, (2) passing tensors with different shapes, (3) passing Python objects instead of tensors. For (1), please define your @tf.function outside of the loop. For (2), @tf.function has experimental_relax_shapes=True option that relaxes argument shapes that can avoid unnecessary retracing. For (3), please refer to https://www.tensorflow.org/guide/function#controlling_retracing and https://www.tensorflow.org/api_docs/python/tf/function for  more details.\n"
     ]
    },
    {
     "name": "stdout",
     "output_type": "stream",
     "text": [
      "WARNING:tensorflow:11 out of the last 11 calls to <function recreate_function.<locals>.restored_function_body at 0x7fe87d20e310> triggered tf.function retracing. Tracing is expensive and the excessive number of tracings could be due to (1) creating @tf.function repeatedly in a loop, (2) passing tensors with different shapes, (3) passing Python objects instead of tensors. For (1), please define your @tf.function outside of the loop. For (2), @tf.function has experimental_relax_shapes=True option that relaxes argument shapes that can avoid unnecessary retracing. For (3), please refer to https://www.tensorflow.org/guide/function#controlling_retracing and https://www.tensorflow.org/api_docs/python/tf/function for  more details.\n"
     ]
    },
    {
     "name": "stderr",
     "output_type": "stream",
     "text": [
      "WARNING:tensorflow:11 out of the last 11 calls to <function recreate_function.<locals>.restored_function_body at 0x7fe87d20e310> triggered tf.function retracing. Tracing is expensive and the excessive number of tracings could be due to (1) creating @tf.function repeatedly in a loop, (2) passing tensors with different shapes, (3) passing Python objects instead of tensors. For (1), please define your @tf.function outside of the loop. For (2), @tf.function has experimental_relax_shapes=True option that relaxes argument shapes that can avoid unnecessary retracing. For (3), please refer to https://www.tensorflow.org/guide/function#controlling_retracing and https://www.tensorflow.org/api_docs/python/tf/function for  more details.\n"
     ]
    },
    {
     "name": "stdout",
     "output_type": "stream",
     "text": [
      "WARNING:tensorflow:11 out of the last 11 calls to <function recreate_function.<locals>.restored_function_body at 0x7fe87e01ae50> triggered tf.function retracing. Tracing is expensive and the excessive number of tracings could be due to (1) creating @tf.function repeatedly in a loop, (2) passing tensors with different shapes, (3) passing Python objects instead of tensors. For (1), please define your @tf.function outside of the loop. For (2), @tf.function has experimental_relax_shapes=True option that relaxes argument shapes that can avoid unnecessary retracing. For (3), please refer to https://www.tensorflow.org/guide/function#controlling_retracing and https://www.tensorflow.org/api_docs/python/tf/function for  more details.\n"
     ]
    },
    {
     "name": "stderr",
     "output_type": "stream",
     "text": [
      "WARNING:tensorflow:11 out of the last 11 calls to <function recreate_function.<locals>.restored_function_body at 0x7fe87e01ae50> triggered tf.function retracing. Tracing is expensive and the excessive number of tracings could be due to (1) creating @tf.function repeatedly in a loop, (2) passing tensors with different shapes, (3) passing Python objects instead of tensors. For (1), please define your @tf.function outside of the loop. For (2), @tf.function has experimental_relax_shapes=True option that relaxes argument shapes that can avoid unnecessary retracing. For (3), please refer to https://www.tensorflow.org/guide/function#controlling_retracing and https://www.tensorflow.org/api_docs/python/tf/function for  more details.\n"
     ]
    },
    {
     "name": "stdout",
     "output_type": "stream",
     "text": [
      "WARNING:tensorflow:11 out of the last 11 calls to <function recreate_function.<locals>.restored_function_body at 0x7fe88d1bd040> triggered tf.function retracing. Tracing is expensive and the excessive number of tracings could be due to (1) creating @tf.function repeatedly in a loop, (2) passing tensors with different shapes, (3) passing Python objects instead of tensors. For (1), please define your @tf.function outside of the loop. For (2), @tf.function has experimental_relax_shapes=True option that relaxes argument shapes that can avoid unnecessary retracing. For (3), please refer to https://www.tensorflow.org/guide/function#controlling_retracing and https://www.tensorflow.org/api_docs/python/tf/function for  more details.\n"
     ]
    },
    {
     "name": "stderr",
     "output_type": "stream",
     "text": [
      "WARNING:tensorflow:11 out of the last 11 calls to <function recreate_function.<locals>.restored_function_body at 0x7fe88d1bd040> triggered tf.function retracing. Tracing is expensive and the excessive number of tracings could be due to (1) creating @tf.function repeatedly in a loop, (2) passing tensors with different shapes, (3) passing Python objects instead of tensors. For (1), please define your @tf.function outside of the loop. For (2), @tf.function has experimental_relax_shapes=True option that relaxes argument shapes that can avoid unnecessary retracing. For (3), please refer to https://www.tensorflow.org/guide/function#controlling_retracing and https://www.tensorflow.org/api_docs/python/tf/function for  more details.\n"
     ]
    },
    {
     "name": "stdout",
     "output_type": "stream",
     "text": [
      "WARNING:tensorflow:11 out of the last 11 calls to <function recreate_function.<locals>.restored_function_body at 0x7fe87dfa05e0> triggered tf.function retracing. Tracing is expensive and the excessive number of tracings could be due to (1) creating @tf.function repeatedly in a loop, (2) passing tensors with different shapes, (3) passing Python objects instead of tensors. For (1), please define your @tf.function outside of the loop. For (2), @tf.function has experimental_relax_shapes=True option that relaxes argument shapes that can avoid unnecessary retracing. For (3), please refer to https://www.tensorflow.org/guide/function#controlling_retracing and https://www.tensorflow.org/api_docs/python/tf/function for  more details.\n"
     ]
    },
    {
     "name": "stderr",
     "output_type": "stream",
     "text": [
      "WARNING:tensorflow:11 out of the last 11 calls to <function recreate_function.<locals>.restored_function_body at 0x7fe87dfa05e0> triggered tf.function retracing. Tracing is expensive and the excessive number of tracings could be due to (1) creating @tf.function repeatedly in a loop, (2) passing tensors with different shapes, (3) passing Python objects instead of tensors. For (1), please define your @tf.function outside of the loop. For (2), @tf.function has experimental_relax_shapes=True option that relaxes argument shapes that can avoid unnecessary retracing. For (3), please refer to https://www.tensorflow.org/guide/function#controlling_retracing and https://www.tensorflow.org/api_docs/python/tf/function for  more details.\n"
     ]
    },
    {
     "name": "stdout",
     "output_type": "stream",
     "text": [
      "WARNING:tensorflow:11 out of the last 11 calls to <function recreate_function.<locals>.restored_function_body at 0x7fe87dff0940> triggered tf.function retracing. Tracing is expensive and the excessive number of tracings could be due to (1) creating @tf.function repeatedly in a loop, (2) passing tensors with different shapes, (3) passing Python objects instead of tensors. For (1), please define your @tf.function outside of the loop. For (2), @tf.function has experimental_relax_shapes=True option that relaxes argument shapes that can avoid unnecessary retracing. For (3), please refer to https://www.tensorflow.org/guide/function#controlling_retracing and https://www.tensorflow.org/api_docs/python/tf/function for  more details.\n"
     ]
    },
    {
     "name": "stderr",
     "output_type": "stream",
     "text": [
      "WARNING:tensorflow:11 out of the last 11 calls to <function recreate_function.<locals>.restored_function_body at 0x7fe87dff0940> triggered tf.function retracing. Tracing is expensive and the excessive number of tracings could be due to (1) creating @tf.function repeatedly in a loop, (2) passing tensors with different shapes, (3) passing Python objects instead of tensors. For (1), please define your @tf.function outside of the loop. For (2), @tf.function has experimental_relax_shapes=True option that relaxes argument shapes that can avoid unnecessary retracing. For (3), please refer to https://www.tensorflow.org/guide/function#controlling_retracing and https://www.tensorflow.org/api_docs/python/tf/function for  more details.\n"
     ]
    },
    {
     "name": "stdout",
     "output_type": "stream",
     "text": [
      "WARNING:tensorflow:11 out of the last 11 calls to <function recreate_function.<locals>.restored_function_body at 0x7fe87d20ec10> triggered tf.function retracing. Tracing is expensive and the excessive number of tracings could be due to (1) creating @tf.function repeatedly in a loop, (2) passing tensors with different shapes, (3) passing Python objects instead of tensors. For (1), please define your @tf.function outside of the loop. For (2), @tf.function has experimental_relax_shapes=True option that relaxes argument shapes that can avoid unnecessary retracing. For (3), please refer to https://www.tensorflow.org/guide/function#controlling_retracing and https://www.tensorflow.org/api_docs/python/tf/function for  more details.\n"
     ]
    },
    {
     "name": "stderr",
     "output_type": "stream",
     "text": [
      "WARNING:tensorflow:11 out of the last 11 calls to <function recreate_function.<locals>.restored_function_body at 0x7fe87d20ec10> triggered tf.function retracing. Tracing is expensive and the excessive number of tracings could be due to (1) creating @tf.function repeatedly in a loop, (2) passing tensors with different shapes, (3) passing Python objects instead of tensors. For (1), please define your @tf.function outside of the loop. For (2), @tf.function has experimental_relax_shapes=True option that relaxes argument shapes that can avoid unnecessary retracing. For (3), please refer to https://www.tensorflow.org/guide/function#controlling_retracing and https://www.tensorflow.org/api_docs/python/tf/function for  more details.\n"
     ]
    },
    {
     "name": "stdout",
     "output_type": "stream",
     "text": [
      "WARNING:tensorflow:11 out of the last 11 calls to <function recreate_function.<locals>.restored_function_body at 0x7fe887b40c10> triggered tf.function retracing. Tracing is expensive and the excessive number of tracings could be due to (1) creating @tf.function repeatedly in a loop, (2) passing tensors with different shapes, (3) passing Python objects instead of tensors. For (1), please define your @tf.function outside of the loop. For (2), @tf.function has experimental_relax_shapes=True option that relaxes argument shapes that can avoid unnecessary retracing. For (3), please refer to https://www.tensorflow.org/guide/function#controlling_retracing and https://www.tensorflow.org/api_docs/python/tf/function for  more details.\n"
     ]
    },
    {
     "name": "stderr",
     "output_type": "stream",
     "text": [
      "WARNING:tensorflow:11 out of the last 11 calls to <function recreate_function.<locals>.restored_function_body at 0x7fe887b40c10> triggered tf.function retracing. Tracing is expensive and the excessive number of tracings could be due to (1) creating @tf.function repeatedly in a loop, (2) passing tensors with different shapes, (3) passing Python objects instead of tensors. For (1), please define your @tf.function outside of the loop. For (2), @tf.function has experimental_relax_shapes=True option that relaxes argument shapes that can avoid unnecessary retracing. For (3), please refer to https://www.tensorflow.org/guide/function#controlling_retracing and https://www.tensorflow.org/api_docs/python/tf/function for  more details.\n"
     ]
    },
    {
     "name": "stdout",
     "output_type": "stream",
     "text": [
      "WARNING:tensorflow:11 out of the last 11 calls to <function recreate_function.<locals>.restored_function_body at 0x7fe88cce94c0> triggered tf.function retracing. Tracing is expensive and the excessive number of tracings could be due to (1) creating @tf.function repeatedly in a loop, (2) passing tensors with different shapes, (3) passing Python objects instead of tensors. For (1), please define your @tf.function outside of the loop. For (2), @tf.function has experimental_relax_shapes=True option that relaxes argument shapes that can avoid unnecessary retracing. For (3), please refer to https://www.tensorflow.org/guide/function#controlling_retracing and https://www.tensorflow.org/api_docs/python/tf/function for  more details.\n"
     ]
    },
    {
     "name": "stderr",
     "output_type": "stream",
     "text": [
      "WARNING:tensorflow:11 out of the last 11 calls to <function recreate_function.<locals>.restored_function_body at 0x7fe88cce94c0> triggered tf.function retracing. Tracing is expensive and the excessive number of tracings could be due to (1) creating @tf.function repeatedly in a loop, (2) passing tensors with different shapes, (3) passing Python objects instead of tensors. For (1), please define your @tf.function outside of the loop. For (2), @tf.function has experimental_relax_shapes=True option that relaxes argument shapes that can avoid unnecessary retracing. For (3), please refer to https://www.tensorflow.org/guide/function#controlling_retracing and https://www.tensorflow.org/api_docs/python/tf/function for  more details.\n"
     ]
    },
    {
     "name": "stdout",
     "output_type": "stream",
     "text": [
      "WARNING:tensorflow:11 out of the last 11 calls to <function recreate_function.<locals>.restored_function_body at 0x7fe887b40430> triggered tf.function retracing. Tracing is expensive and the excessive number of tracings could be due to (1) creating @tf.function repeatedly in a loop, (2) passing tensors with different shapes, (3) passing Python objects instead of tensors. For (1), please define your @tf.function outside of the loop. For (2), @tf.function has experimental_relax_shapes=True option that relaxes argument shapes that can avoid unnecessary retracing. For (3), please refer to https://www.tensorflow.org/guide/function#controlling_retracing and https://www.tensorflow.org/api_docs/python/tf/function for  more details.\n"
     ]
    },
    {
     "name": "stderr",
     "output_type": "stream",
     "text": [
      "WARNING:tensorflow:11 out of the last 11 calls to <function recreate_function.<locals>.restored_function_body at 0x7fe887b40430> triggered tf.function retracing. Tracing is expensive and the excessive number of tracings could be due to (1) creating @tf.function repeatedly in a loop, (2) passing tensors with different shapes, (3) passing Python objects instead of tensors. For (1), please define your @tf.function outside of the loop. For (2), @tf.function has experimental_relax_shapes=True option that relaxes argument shapes that can avoid unnecessary retracing. For (3), please refer to https://www.tensorflow.org/guide/function#controlling_retracing and https://www.tensorflow.org/api_docs/python/tf/function for  more details.\n"
     ]
    },
    {
     "name": "stdout",
     "output_type": "stream",
     "text": [
      "WARNING:tensorflow:11 out of the last 11 calls to <function recreate_function.<locals>.restored_function_body at 0x7fe87dfa04c0> triggered tf.function retracing. Tracing is expensive and the excessive number of tracings could be due to (1) creating @tf.function repeatedly in a loop, (2) passing tensors with different shapes, (3) passing Python objects instead of tensors. For (1), please define your @tf.function outside of the loop. For (2), @tf.function has experimental_relax_shapes=True option that relaxes argument shapes that can avoid unnecessary retracing. For (3), please refer to https://www.tensorflow.org/guide/function#controlling_retracing and https://www.tensorflow.org/api_docs/python/tf/function for  more details.\n"
     ]
    },
    {
     "name": "stderr",
     "output_type": "stream",
     "text": [
      "WARNING:tensorflow:11 out of the last 11 calls to <function recreate_function.<locals>.restored_function_body at 0x7fe87dfa04c0> triggered tf.function retracing. Tracing is expensive and the excessive number of tracings could be due to (1) creating @tf.function repeatedly in a loop, (2) passing tensors with different shapes, (3) passing Python objects instead of tensors. For (1), please define your @tf.function outside of the loop. For (2), @tf.function has experimental_relax_shapes=True option that relaxes argument shapes that can avoid unnecessary retracing. For (3), please refer to https://www.tensorflow.org/guide/function#controlling_retracing and https://www.tensorflow.org/api_docs/python/tf/function for  more details.\n"
     ]
    },
    {
     "name": "stdout",
     "output_type": "stream",
     "text": [
      "WARNING:tensorflow:11 out of the last 11 calls to <function recreate_function.<locals>.restored_function_body at 0x7fe88d1cc550> triggered tf.function retracing. Tracing is expensive and the excessive number of tracings could be due to (1) creating @tf.function repeatedly in a loop, (2) passing tensors with different shapes, (3) passing Python objects instead of tensors. For (1), please define your @tf.function outside of the loop. For (2), @tf.function has experimental_relax_shapes=True option that relaxes argument shapes that can avoid unnecessary retracing. For (3), please refer to https://www.tensorflow.org/guide/function#controlling_retracing and https://www.tensorflow.org/api_docs/python/tf/function for  more details.\n"
     ]
    },
    {
     "name": "stderr",
     "output_type": "stream",
     "text": [
      "WARNING:tensorflow:11 out of the last 11 calls to <function recreate_function.<locals>.restored_function_body at 0x7fe88d1cc550> triggered tf.function retracing. Tracing is expensive and the excessive number of tracings could be due to (1) creating @tf.function repeatedly in a loop, (2) passing tensors with different shapes, (3) passing Python objects instead of tensors. For (1), please define your @tf.function outside of the loop. For (2), @tf.function has experimental_relax_shapes=True option that relaxes argument shapes that can avoid unnecessary retracing. For (3), please refer to https://www.tensorflow.org/guide/function#controlling_retracing and https://www.tensorflow.org/api_docs/python/tf/function for  more details.\n"
     ]
    },
    {
     "name": "stdout",
     "output_type": "stream",
     "text": [
      "WARNING:tensorflow:11 out of the last 11 calls to <function recreate_function.<locals>.restored_function_body at 0x7fe87d20e5e0> triggered tf.function retracing. Tracing is expensive and the excessive number of tracings could be due to (1) creating @tf.function repeatedly in a loop, (2) passing tensors with different shapes, (3) passing Python objects instead of tensors. For (1), please define your @tf.function outside of the loop. For (2), @tf.function has experimental_relax_shapes=True option that relaxes argument shapes that can avoid unnecessary retracing. For (3), please refer to https://www.tensorflow.org/guide/function#controlling_retracing and https://www.tensorflow.org/api_docs/python/tf/function for  more details.\n"
     ]
    },
    {
     "name": "stderr",
     "output_type": "stream",
     "text": [
      "WARNING:tensorflow:11 out of the last 11 calls to <function recreate_function.<locals>.restored_function_body at 0x7fe87d20e5e0> triggered tf.function retracing. Tracing is expensive and the excessive number of tracings could be due to (1) creating @tf.function repeatedly in a loop, (2) passing tensors with different shapes, (3) passing Python objects instead of tensors. For (1), please define your @tf.function outside of the loop. For (2), @tf.function has experimental_relax_shapes=True option that relaxes argument shapes that can avoid unnecessary retracing. For (3), please refer to https://www.tensorflow.org/guide/function#controlling_retracing and https://www.tensorflow.org/api_docs/python/tf/function for  more details.\n"
     ]
    },
    {
     "name": "stdout",
     "output_type": "stream",
     "text": [
      "WARNING:tensorflow:11 out of the last 11 calls to <function recreate_function.<locals>.restored_function_body at 0x7fe87e01a790> triggered tf.function retracing. Tracing is expensive and the excessive number of tracings could be due to (1) creating @tf.function repeatedly in a loop, (2) passing tensors with different shapes, (3) passing Python objects instead of tensors. For (1), please define your @tf.function outside of the loop. For (2), @tf.function has experimental_relax_shapes=True option that relaxes argument shapes that can avoid unnecessary retracing. For (3), please refer to https://www.tensorflow.org/guide/function#controlling_retracing and https://www.tensorflow.org/api_docs/python/tf/function for  more details.\n"
     ]
    },
    {
     "name": "stderr",
     "output_type": "stream",
     "text": [
      "WARNING:tensorflow:11 out of the last 11 calls to <function recreate_function.<locals>.restored_function_body at 0x7fe87e01a790> triggered tf.function retracing. Tracing is expensive and the excessive number of tracings could be due to (1) creating @tf.function repeatedly in a loop, (2) passing tensors with different shapes, (3) passing Python objects instead of tensors. For (1), please define your @tf.function outside of the loop. For (2), @tf.function has experimental_relax_shapes=True option that relaxes argument shapes that can avoid unnecessary retracing. For (3), please refer to https://www.tensorflow.org/guide/function#controlling_retracing and https://www.tensorflow.org/api_docs/python/tf/function for  more details.\n"
     ]
    },
    {
     "name": "stdout",
     "output_type": "stream",
     "text": [
      "WARNING:tensorflow:11 out of the last 11 calls to <function recreate_function.<locals>.restored_function_body at 0x7fe88cce98b0> triggered tf.function retracing. Tracing is expensive and the excessive number of tracings could be due to (1) creating @tf.function repeatedly in a loop, (2) passing tensors with different shapes, (3) passing Python objects instead of tensors. For (1), please define your @tf.function outside of the loop. For (2), @tf.function has experimental_relax_shapes=True option that relaxes argument shapes that can avoid unnecessary retracing. For (3), please refer to https://www.tensorflow.org/guide/function#controlling_retracing and https://www.tensorflow.org/api_docs/python/tf/function for  more details.\n"
     ]
    },
    {
     "name": "stderr",
     "output_type": "stream",
     "text": [
      "WARNING:tensorflow:11 out of the last 11 calls to <function recreate_function.<locals>.restored_function_body at 0x7fe88cce98b0> triggered tf.function retracing. Tracing is expensive and the excessive number of tracings could be due to (1) creating @tf.function repeatedly in a loop, (2) passing tensors with different shapes, (3) passing Python objects instead of tensors. For (1), please define your @tf.function outside of the loop. For (2), @tf.function has experimental_relax_shapes=True option that relaxes argument shapes that can avoid unnecessary retracing. For (3), please refer to https://www.tensorflow.org/guide/function#controlling_retracing and https://www.tensorflow.org/api_docs/python/tf/function for  more details.\n"
     ]
    },
    {
     "name": "stdout",
     "output_type": "stream",
     "text": [
      "WARNING:tensorflow:11 out of the last 11 calls to <function recreate_function.<locals>.restored_function_body at 0x7fe87d20eaf0> triggered tf.function retracing. Tracing is expensive and the excessive number of tracings could be due to (1) creating @tf.function repeatedly in a loop, (2) passing tensors with different shapes, (3) passing Python objects instead of tensors. For (1), please define your @tf.function outside of the loop. For (2), @tf.function has experimental_relax_shapes=True option that relaxes argument shapes that can avoid unnecessary retracing. For (3), please refer to https://www.tensorflow.org/guide/function#controlling_retracing and https://www.tensorflow.org/api_docs/python/tf/function for  more details.\n"
     ]
    },
    {
     "name": "stderr",
     "output_type": "stream",
     "text": [
      "WARNING:tensorflow:11 out of the last 11 calls to <function recreate_function.<locals>.restored_function_body at 0x7fe87d20eaf0> triggered tf.function retracing. Tracing is expensive and the excessive number of tracings could be due to (1) creating @tf.function repeatedly in a loop, (2) passing tensors with different shapes, (3) passing Python objects instead of tensors. For (1), please define your @tf.function outside of the loop. For (2), @tf.function has experimental_relax_shapes=True option that relaxes argument shapes that can avoid unnecessary retracing. For (3), please refer to https://www.tensorflow.org/guide/function#controlling_retracing and https://www.tensorflow.org/api_docs/python/tf/function for  more details.\n"
     ]
    },
    {
     "name": "stdout",
     "output_type": "stream",
     "text": [
      "WARNING:tensorflow:11 out of the last 11 calls to <function recreate_function.<locals>.restored_function_body at 0x7fe886a00700> triggered tf.function retracing. Tracing is expensive and the excessive number of tracings could be due to (1) creating @tf.function repeatedly in a loop, (2) passing tensors with different shapes, (3) passing Python objects instead of tensors. For (1), please define your @tf.function outside of the loop. For (2), @tf.function has experimental_relax_shapes=True option that relaxes argument shapes that can avoid unnecessary retracing. For (3), please refer to https://www.tensorflow.org/guide/function#controlling_retracing and https://www.tensorflow.org/api_docs/python/tf/function for  more details.\n"
     ]
    },
    {
     "name": "stderr",
     "output_type": "stream",
     "text": [
      "WARNING:tensorflow:11 out of the last 11 calls to <function recreate_function.<locals>.restored_function_body at 0x7fe886a00700> triggered tf.function retracing. Tracing is expensive and the excessive number of tracings could be due to (1) creating @tf.function repeatedly in a loop, (2) passing tensors with different shapes, (3) passing Python objects instead of tensors. For (1), please define your @tf.function outside of the loop. For (2), @tf.function has experimental_relax_shapes=True option that relaxes argument shapes that can avoid unnecessary retracing. For (3), please refer to https://www.tensorflow.org/guide/function#controlling_retracing and https://www.tensorflow.org/api_docs/python/tf/function for  more details.\n"
     ]
    },
    {
     "name": "stdout",
     "output_type": "stream",
     "text": [
      "WARNING:tensorflow:11 out of the last 11 calls to <function recreate_function.<locals>.restored_function_body at 0x7fe87dff0d30> triggered tf.function retracing. Tracing is expensive and the excessive number of tracings could be due to (1) creating @tf.function repeatedly in a loop, (2) passing tensors with different shapes, (3) passing Python objects instead of tensors. For (1), please define your @tf.function outside of the loop. For (2), @tf.function has experimental_relax_shapes=True option that relaxes argument shapes that can avoid unnecessary retracing. For (3), please refer to https://www.tensorflow.org/guide/function#controlling_retracing and https://www.tensorflow.org/api_docs/python/tf/function for  more details.\n"
     ]
    },
    {
     "name": "stderr",
     "output_type": "stream",
     "text": [
      "WARNING:tensorflow:11 out of the last 11 calls to <function recreate_function.<locals>.restored_function_body at 0x7fe87dff0d30> triggered tf.function retracing. Tracing is expensive and the excessive number of tracings could be due to (1) creating @tf.function repeatedly in a loop, (2) passing tensors with different shapes, (3) passing Python objects instead of tensors. For (1), please define your @tf.function outside of the loop. For (2), @tf.function has experimental_relax_shapes=True option that relaxes argument shapes that can avoid unnecessary retracing. For (3), please refer to https://www.tensorflow.org/guide/function#controlling_retracing and https://www.tensorflow.org/api_docs/python/tf/function for  more details.\n"
     ]
    },
    {
     "name": "stdout",
     "output_type": "stream",
     "text": [
      "WARNING:tensorflow:11 out of the last 11 calls to <function recreate_function.<locals>.restored_function_body at 0x7fe887b40700> triggered tf.function retracing. Tracing is expensive and the excessive number of tracings could be due to (1) creating @tf.function repeatedly in a loop, (2) passing tensors with different shapes, (3) passing Python objects instead of tensors. For (1), please define your @tf.function outside of the loop. For (2), @tf.function has experimental_relax_shapes=True option that relaxes argument shapes that can avoid unnecessary retracing. For (3), please refer to https://www.tensorflow.org/guide/function#controlling_retracing and https://www.tensorflow.org/api_docs/python/tf/function for  more details.\n"
     ]
    },
    {
     "name": "stderr",
     "output_type": "stream",
     "text": [
      "WARNING:tensorflow:11 out of the last 11 calls to <function recreate_function.<locals>.restored_function_body at 0x7fe887b40700> triggered tf.function retracing. Tracing is expensive and the excessive number of tracings could be due to (1) creating @tf.function repeatedly in a loop, (2) passing tensors with different shapes, (3) passing Python objects instead of tensors. For (1), please define your @tf.function outside of the loop. For (2), @tf.function has experimental_relax_shapes=True option that relaxes argument shapes that can avoid unnecessary retracing. For (3), please refer to https://www.tensorflow.org/guide/function#controlling_retracing and https://www.tensorflow.org/api_docs/python/tf/function for  more details.\n"
     ]
    },
    {
     "name": "stdout",
     "output_type": "stream",
     "text": [
      "WARNING:tensorflow:11 out of the last 11 calls to <function recreate_function.<locals>.restored_function_body at 0x7fe88cce9ca0> triggered tf.function retracing. Tracing is expensive and the excessive number of tracings could be due to (1) creating @tf.function repeatedly in a loop, (2) passing tensors with different shapes, (3) passing Python objects instead of tensors. For (1), please define your @tf.function outside of the loop. For (2), @tf.function has experimental_relax_shapes=True option that relaxes argument shapes that can avoid unnecessary retracing. For (3), please refer to https://www.tensorflow.org/guide/function#controlling_retracing and https://www.tensorflow.org/api_docs/python/tf/function for  more details.\n"
     ]
    },
    {
     "name": "stderr",
     "output_type": "stream",
     "text": [
      "WARNING:tensorflow:11 out of the last 11 calls to <function recreate_function.<locals>.restored_function_body at 0x7fe88cce9ca0> triggered tf.function retracing. Tracing is expensive and the excessive number of tracings could be due to (1) creating @tf.function repeatedly in a loop, (2) passing tensors with different shapes, (3) passing Python objects instead of tensors. For (1), please define your @tf.function outside of the loop. For (2), @tf.function has experimental_relax_shapes=True option that relaxes argument shapes that can avoid unnecessary retracing. For (3), please refer to https://www.tensorflow.org/guide/function#controlling_retracing and https://www.tensorflow.org/api_docs/python/tf/function for  more details.\n"
     ]
    },
    {
     "name": "stdout",
     "output_type": "stream",
     "text": [
      "WARNING:tensorflow:11 out of the last 11 calls to <function recreate_function.<locals>.restored_function_body at 0x7fe887804e50> triggered tf.function retracing. Tracing is expensive and the excessive number of tracings could be due to (1) creating @tf.function repeatedly in a loop, (2) passing tensors with different shapes, (3) passing Python objects instead of tensors. For (1), please define your @tf.function outside of the loop. For (2), @tf.function has experimental_relax_shapes=True option that relaxes argument shapes that can avoid unnecessary retracing. For (3), please refer to https://www.tensorflow.org/guide/function#controlling_retracing and https://www.tensorflow.org/api_docs/python/tf/function for  more details.\n"
     ]
    },
    {
     "name": "stderr",
     "output_type": "stream",
     "text": [
      "WARNING:tensorflow:11 out of the last 11 calls to <function recreate_function.<locals>.restored_function_body at 0x7fe887804e50> triggered tf.function retracing. Tracing is expensive and the excessive number of tracings could be due to (1) creating @tf.function repeatedly in a loop, (2) passing tensors with different shapes, (3) passing Python objects instead of tensors. For (1), please define your @tf.function outside of the loop. For (2), @tf.function has experimental_relax_shapes=True option that relaxes argument shapes that can avoid unnecessary retracing. For (3), please refer to https://www.tensorflow.org/guide/function#controlling_retracing and https://www.tensorflow.org/api_docs/python/tf/function for  more details.\n"
     ]
    },
    {
     "name": "stdout",
     "output_type": "stream",
     "text": [
      "WARNING:tensorflow:11 out of the last 11 calls to <function recreate_function.<locals>.restored_function_body at 0x7fe887b40b80> triggered tf.function retracing. Tracing is expensive and the excessive number of tracings could be due to (1) creating @tf.function repeatedly in a loop, (2) passing tensors with different shapes, (3) passing Python objects instead of tensors. For (1), please define your @tf.function outside of the loop. For (2), @tf.function has experimental_relax_shapes=True option that relaxes argument shapes that can avoid unnecessary retracing. For (3), please refer to https://www.tensorflow.org/guide/function#controlling_retracing and https://www.tensorflow.org/api_docs/python/tf/function for  more details.\n"
     ]
    },
    {
     "name": "stderr",
     "output_type": "stream",
     "text": [
      "WARNING:tensorflow:11 out of the last 11 calls to <function recreate_function.<locals>.restored_function_body at 0x7fe887b40b80> triggered tf.function retracing. Tracing is expensive and the excessive number of tracings could be due to (1) creating @tf.function repeatedly in a loop, (2) passing tensors with different shapes, (3) passing Python objects instead of tensors. For (1), please define your @tf.function outside of the loop. For (2), @tf.function has experimental_relax_shapes=True option that relaxes argument shapes that can avoid unnecessary retracing. For (3), please refer to https://www.tensorflow.org/guide/function#controlling_retracing and https://www.tensorflow.org/api_docs/python/tf/function for  more details.\n"
     ]
    },
    {
     "name": "stdout",
     "output_type": "stream",
     "text": [
      "WARNING:tensorflow:11 out of the last 11 calls to <function recreate_function.<locals>.restored_function_body at 0x7fe887b1cf70> triggered tf.function retracing. Tracing is expensive and the excessive number of tracings could be due to (1) creating @tf.function repeatedly in a loop, (2) passing tensors with different shapes, (3) passing Python objects instead of tensors. For (1), please define your @tf.function outside of the loop. For (2), @tf.function has experimental_relax_shapes=True option that relaxes argument shapes that can avoid unnecessary retracing. For (3), please refer to https://www.tensorflow.org/guide/function#controlling_retracing and https://www.tensorflow.org/api_docs/python/tf/function for  more details.\n"
     ]
    },
    {
     "name": "stderr",
     "output_type": "stream",
     "text": [
      "WARNING:tensorflow:11 out of the last 11 calls to <function recreate_function.<locals>.restored_function_body at 0x7fe887b1cf70> triggered tf.function retracing. Tracing is expensive and the excessive number of tracings could be due to (1) creating @tf.function repeatedly in a loop, (2) passing tensors with different shapes, (3) passing Python objects instead of tensors. For (1), please define your @tf.function outside of the loop. For (2), @tf.function has experimental_relax_shapes=True option that relaxes argument shapes that can avoid unnecessary retracing. For (3), please refer to https://www.tensorflow.org/guide/function#controlling_retracing and https://www.tensorflow.org/api_docs/python/tf/function for  more details.\n"
     ]
    },
    {
     "name": "stdout",
     "output_type": "stream",
     "text": [
      "WARNING:tensorflow:11 out of the last 11 calls to <function recreate_function.<locals>.restored_function_body at 0x7fe88d1bdb80> triggered tf.function retracing. Tracing is expensive and the excessive number of tracings could be due to (1) creating @tf.function repeatedly in a loop, (2) passing tensors with different shapes, (3) passing Python objects instead of tensors. For (1), please define your @tf.function outside of the loop. For (2), @tf.function has experimental_relax_shapes=True option that relaxes argument shapes that can avoid unnecessary retracing. For (3), please refer to https://www.tensorflow.org/guide/function#controlling_retracing and https://www.tensorflow.org/api_docs/python/tf/function for  more details.\n"
     ]
    },
    {
     "name": "stderr",
     "output_type": "stream",
     "text": [
      "WARNING:tensorflow:11 out of the last 11 calls to <function recreate_function.<locals>.restored_function_body at 0x7fe88d1bdb80> triggered tf.function retracing. Tracing is expensive and the excessive number of tracings could be due to (1) creating @tf.function repeatedly in a loop, (2) passing tensors with different shapes, (3) passing Python objects instead of tensors. For (1), please define your @tf.function outside of the loop. For (2), @tf.function has experimental_relax_shapes=True option that relaxes argument shapes that can avoid unnecessary retracing. For (3), please refer to https://www.tensorflow.org/guide/function#controlling_retracing and https://www.tensorflow.org/api_docs/python/tf/function for  more details.\n"
     ]
    },
    {
     "name": "stdout",
     "output_type": "stream",
     "text": [
      "WARNING:tensorflow:11 out of the last 11 calls to <function recreate_function.<locals>.restored_function_body at 0x7fe87e01a5e0> triggered tf.function retracing. Tracing is expensive and the excessive number of tracings could be due to (1) creating @tf.function repeatedly in a loop, (2) passing tensors with different shapes, (3) passing Python objects instead of tensors. For (1), please define your @tf.function outside of the loop. For (2), @tf.function has experimental_relax_shapes=True option that relaxes argument shapes that can avoid unnecessary retracing. For (3), please refer to https://www.tensorflow.org/guide/function#controlling_retracing and https://www.tensorflow.org/api_docs/python/tf/function for  more details.\n"
     ]
    },
    {
     "name": "stderr",
     "output_type": "stream",
     "text": [
      "WARNING:tensorflow:11 out of the last 11 calls to <function recreate_function.<locals>.restored_function_body at 0x7fe87e01a5e0> triggered tf.function retracing. Tracing is expensive and the excessive number of tracings could be due to (1) creating @tf.function repeatedly in a loop, (2) passing tensors with different shapes, (3) passing Python objects instead of tensors. For (1), please define your @tf.function outside of the loop. For (2), @tf.function has experimental_relax_shapes=True option that relaxes argument shapes that can avoid unnecessary retracing. For (3), please refer to https://www.tensorflow.org/guide/function#controlling_retracing and https://www.tensorflow.org/api_docs/python/tf/function for  more details.\n"
     ]
    },
    {
     "name": "stdout",
     "output_type": "stream",
     "text": [
      "WARNING:tensorflow:11 out of the last 11 calls to <function recreate_function.<locals>.restored_function_body at 0x7fe887804ca0> triggered tf.function retracing. Tracing is expensive and the excessive number of tracings could be due to (1) creating @tf.function repeatedly in a loop, (2) passing tensors with different shapes, (3) passing Python objects instead of tensors. For (1), please define your @tf.function outside of the loop. For (2), @tf.function has experimental_relax_shapes=True option that relaxes argument shapes that can avoid unnecessary retracing. For (3), please refer to https://www.tensorflow.org/guide/function#controlling_retracing and https://www.tensorflow.org/api_docs/python/tf/function for  more details.\n"
     ]
    },
    {
     "name": "stderr",
     "output_type": "stream",
     "text": [
      "WARNING:tensorflow:11 out of the last 11 calls to <function recreate_function.<locals>.restored_function_body at 0x7fe887804ca0> triggered tf.function retracing. Tracing is expensive and the excessive number of tracings could be due to (1) creating @tf.function repeatedly in a loop, (2) passing tensors with different shapes, (3) passing Python objects instead of tensors. For (1), please define your @tf.function outside of the loop. For (2), @tf.function has experimental_relax_shapes=True option that relaxes argument shapes that can avoid unnecessary retracing. For (3), please refer to https://www.tensorflow.org/guide/function#controlling_retracing and https://www.tensorflow.org/api_docs/python/tf/function for  more details.\n"
     ]
    },
    {
     "name": "stdout",
     "output_type": "stream",
     "text": [
      "WARNING:tensorflow:11 out of the last 11 calls to <function recreate_function.<locals>.restored_function_body at 0x7fe87e0740d0> triggered tf.function retracing. Tracing is expensive and the excessive number of tracings could be due to (1) creating @tf.function repeatedly in a loop, (2) passing tensors with different shapes, (3) passing Python objects instead of tensors. For (1), please define your @tf.function outside of the loop. For (2), @tf.function has experimental_relax_shapes=True option that relaxes argument shapes that can avoid unnecessary retracing. For (3), please refer to https://www.tensorflow.org/guide/function#controlling_retracing and https://www.tensorflow.org/api_docs/python/tf/function for  more details.\n"
     ]
    },
    {
     "name": "stderr",
     "output_type": "stream",
     "text": [
      "WARNING:tensorflow:11 out of the last 11 calls to <function recreate_function.<locals>.restored_function_body at 0x7fe87e0740d0> triggered tf.function retracing. Tracing is expensive and the excessive number of tracings could be due to (1) creating @tf.function repeatedly in a loop, (2) passing tensors with different shapes, (3) passing Python objects instead of tensors. For (1), please define your @tf.function outside of the loop. For (2), @tf.function has experimental_relax_shapes=True option that relaxes argument shapes that can avoid unnecessary retracing. For (3), please refer to https://www.tensorflow.org/guide/function#controlling_retracing and https://www.tensorflow.org/api_docs/python/tf/function for  more details.\n"
     ]
    },
    {
     "name": "stdout",
     "output_type": "stream",
     "text": [
      "WARNING:tensorflow:11 out of the last 11 calls to <function recreate_function.<locals>.restored_function_body at 0x7fe87e0748b0> triggered tf.function retracing. Tracing is expensive and the excessive number of tracings could be due to (1) creating @tf.function repeatedly in a loop, (2) passing tensors with different shapes, (3) passing Python objects instead of tensors. For (1), please define your @tf.function outside of the loop. For (2), @tf.function has experimental_relax_shapes=True option that relaxes argument shapes that can avoid unnecessary retracing. For (3), please refer to https://www.tensorflow.org/guide/function#controlling_retracing and https://www.tensorflow.org/api_docs/python/tf/function for  more details.\n"
     ]
    },
    {
     "name": "stderr",
     "output_type": "stream",
     "text": [
      "WARNING:tensorflow:11 out of the last 11 calls to <function recreate_function.<locals>.restored_function_body at 0x7fe87e0748b0> triggered tf.function retracing. Tracing is expensive and the excessive number of tracings could be due to (1) creating @tf.function repeatedly in a loop, (2) passing tensors with different shapes, (3) passing Python objects instead of tensors. For (1), please define your @tf.function outside of the loop. For (2), @tf.function has experimental_relax_shapes=True option that relaxes argument shapes that can avoid unnecessary retracing. For (3), please refer to https://www.tensorflow.org/guide/function#controlling_retracing and https://www.tensorflow.org/api_docs/python/tf/function for  more details.\n"
     ]
    },
    {
     "name": "stdout",
     "output_type": "stream",
     "text": [
      "WARNING:tensorflow:11 out of the last 11 calls to <function recreate_function.<locals>.restored_function_body at 0x7fe87d20eee0> triggered tf.function retracing. Tracing is expensive and the excessive number of tracings could be due to (1) creating @tf.function repeatedly in a loop, (2) passing tensors with different shapes, (3) passing Python objects instead of tensors. For (1), please define your @tf.function outside of the loop. For (2), @tf.function has experimental_relax_shapes=True option that relaxes argument shapes that can avoid unnecessary retracing. For (3), please refer to https://www.tensorflow.org/guide/function#controlling_retracing and https://www.tensorflow.org/api_docs/python/tf/function for  more details.\n"
     ]
    },
    {
     "name": "stderr",
     "output_type": "stream",
     "text": [
      "WARNING:tensorflow:11 out of the last 11 calls to <function recreate_function.<locals>.restored_function_body at 0x7fe87d20eee0> triggered tf.function retracing. Tracing is expensive and the excessive number of tracings could be due to (1) creating @tf.function repeatedly in a loop, (2) passing tensors with different shapes, (3) passing Python objects instead of tensors. For (1), please define your @tf.function outside of the loop. For (2), @tf.function has experimental_relax_shapes=True option that relaxes argument shapes that can avoid unnecessary retracing. For (3), please refer to https://www.tensorflow.org/guide/function#controlling_retracing and https://www.tensorflow.org/api_docs/python/tf/function for  more details.\n"
     ]
    },
    {
     "name": "stdout",
     "output_type": "stream",
     "text": [
      "WARNING:tensorflow:11 out of the last 11 calls to <function recreate_function.<locals>.restored_function_body at 0x7fe887b1cb80> triggered tf.function retracing. Tracing is expensive and the excessive number of tracings could be due to (1) creating @tf.function repeatedly in a loop, (2) passing tensors with different shapes, (3) passing Python objects instead of tensors. For (1), please define your @tf.function outside of the loop. For (2), @tf.function has experimental_relax_shapes=True option that relaxes argument shapes that can avoid unnecessary retracing. For (3), please refer to https://www.tensorflow.org/guide/function#controlling_retracing and https://www.tensorflow.org/api_docs/python/tf/function for  more details.\n"
     ]
    },
    {
     "name": "stderr",
     "output_type": "stream",
     "text": [
      "WARNING:tensorflow:11 out of the last 11 calls to <function recreate_function.<locals>.restored_function_body at 0x7fe887b1cb80> triggered tf.function retracing. Tracing is expensive and the excessive number of tracings could be due to (1) creating @tf.function repeatedly in a loop, (2) passing tensors with different shapes, (3) passing Python objects instead of tensors. For (1), please define your @tf.function outside of the loop. For (2), @tf.function has experimental_relax_shapes=True option that relaxes argument shapes that can avoid unnecessary retracing. For (3), please refer to https://www.tensorflow.org/guide/function#controlling_retracing and https://www.tensorflow.org/api_docs/python/tf/function for  more details.\n"
     ]
    },
    {
     "name": "stdout",
     "output_type": "stream",
     "text": [
      "WARNING:tensorflow:11 out of the last 11 calls to <function recreate_function.<locals>.restored_function_body at 0x7fe887804310> triggered tf.function retracing. Tracing is expensive and the excessive number of tracings could be due to (1) creating @tf.function repeatedly in a loop, (2) passing tensors with different shapes, (3) passing Python objects instead of tensors. For (1), please define your @tf.function outside of the loop. For (2), @tf.function has experimental_relax_shapes=True option that relaxes argument shapes that can avoid unnecessary retracing. For (3), please refer to https://www.tensorflow.org/guide/function#controlling_retracing and https://www.tensorflow.org/api_docs/python/tf/function for  more details.\n"
     ]
    },
    {
     "name": "stderr",
     "output_type": "stream",
     "text": [
      "WARNING:tensorflow:11 out of the last 11 calls to <function recreate_function.<locals>.restored_function_body at 0x7fe887804310> triggered tf.function retracing. Tracing is expensive and the excessive number of tracings could be due to (1) creating @tf.function repeatedly in a loop, (2) passing tensors with different shapes, (3) passing Python objects instead of tensors. For (1), please define your @tf.function outside of the loop. For (2), @tf.function has experimental_relax_shapes=True option that relaxes argument shapes that can avoid unnecessary retracing. For (3), please refer to https://www.tensorflow.org/guide/function#controlling_retracing and https://www.tensorflow.org/api_docs/python/tf/function for  more details.\n"
     ]
    },
    {
     "name": "stdout",
     "output_type": "stream",
     "text": [
      "WARNING:tensorflow:11 out of the last 11 calls to <function recreate_function.<locals>.restored_function_body at 0x7fe88cce9550> triggered tf.function retracing. Tracing is expensive and the excessive number of tracings could be due to (1) creating @tf.function repeatedly in a loop, (2) passing tensors with different shapes, (3) passing Python objects instead of tensors. For (1), please define your @tf.function outside of the loop. For (2), @tf.function has experimental_relax_shapes=True option that relaxes argument shapes that can avoid unnecessary retracing. For (3), please refer to https://www.tensorflow.org/guide/function#controlling_retracing and https://www.tensorflow.org/api_docs/python/tf/function for  more details.\n"
     ]
    },
    {
     "name": "stderr",
     "output_type": "stream",
     "text": [
      "WARNING:tensorflow:11 out of the last 11 calls to <function recreate_function.<locals>.restored_function_body at 0x7fe88cce9550> triggered tf.function retracing. Tracing is expensive and the excessive number of tracings could be due to (1) creating @tf.function repeatedly in a loop, (2) passing tensors with different shapes, (3) passing Python objects instead of tensors. For (1), please define your @tf.function outside of the loop. For (2), @tf.function has experimental_relax_shapes=True option that relaxes argument shapes that can avoid unnecessary retracing. For (3), please refer to https://www.tensorflow.org/guide/function#controlling_retracing and https://www.tensorflow.org/api_docs/python/tf/function for  more details.\n"
     ]
    },
    {
     "name": "stdout",
     "output_type": "stream",
     "text": [
      "WARNING:tensorflow:11 out of the last 11 calls to <function recreate_function.<locals>.restored_function_body at 0x7fe87d198700> triggered tf.function retracing. Tracing is expensive and the excessive number of tracings could be due to (1) creating @tf.function repeatedly in a loop, (2) passing tensors with different shapes, (3) passing Python objects instead of tensors. For (1), please define your @tf.function outside of the loop. For (2), @tf.function has experimental_relax_shapes=True option that relaxes argument shapes that can avoid unnecessary retracing. For (3), please refer to https://www.tensorflow.org/guide/function#controlling_retracing and https://www.tensorflow.org/api_docs/python/tf/function for  more details.\n"
     ]
    },
    {
     "name": "stderr",
     "output_type": "stream",
     "text": [
      "WARNING:tensorflow:11 out of the last 11 calls to <function recreate_function.<locals>.restored_function_body at 0x7fe87d198700> triggered tf.function retracing. Tracing is expensive and the excessive number of tracings could be due to (1) creating @tf.function repeatedly in a loop, (2) passing tensors with different shapes, (3) passing Python objects instead of tensors. For (1), please define your @tf.function outside of the loop. For (2), @tf.function has experimental_relax_shapes=True option that relaxes argument shapes that can avoid unnecessary retracing. For (3), please refer to https://www.tensorflow.org/guide/function#controlling_retracing and https://www.tensorflow.org/api_docs/python/tf/function for  more details.\n"
     ]
    },
    {
     "name": "stdout",
     "output_type": "stream",
     "text": [
      "WARNING:tensorflow:11 out of the last 11 calls to <function recreate_function.<locals>.restored_function_body at 0x7fe87d198430> triggered tf.function retracing. Tracing is expensive and the excessive number of tracings could be due to (1) creating @tf.function repeatedly in a loop, (2) passing tensors with different shapes, (3) passing Python objects instead of tensors. For (1), please define your @tf.function outside of the loop. For (2), @tf.function has experimental_relax_shapes=True option that relaxes argument shapes that can avoid unnecessary retracing. For (3), please refer to https://www.tensorflow.org/guide/function#controlling_retracing and https://www.tensorflow.org/api_docs/python/tf/function for  more details.\n"
     ]
    },
    {
     "name": "stderr",
     "output_type": "stream",
     "text": [
      "WARNING:tensorflow:11 out of the last 11 calls to <function recreate_function.<locals>.restored_function_body at 0x7fe87d198430> triggered tf.function retracing. Tracing is expensive and the excessive number of tracings could be due to (1) creating @tf.function repeatedly in a loop, (2) passing tensors with different shapes, (3) passing Python objects instead of tensors. For (1), please define your @tf.function outside of the loop. For (2), @tf.function has experimental_relax_shapes=True option that relaxes argument shapes that can avoid unnecessary retracing. For (3), please refer to https://www.tensorflow.org/guide/function#controlling_retracing and https://www.tensorflow.org/api_docs/python/tf/function for  more details.\n"
     ]
    },
    {
     "name": "stdout",
     "output_type": "stream",
     "text": [
      "WARNING:tensorflow:11 out of the last 11 calls to <function recreate_function.<locals>.restored_function_body at 0x7fe88cce9f70> triggered tf.function retracing. Tracing is expensive and the excessive number of tracings could be due to (1) creating @tf.function repeatedly in a loop, (2) passing tensors with different shapes, (3) passing Python objects instead of tensors. For (1), please define your @tf.function outside of the loop. For (2), @tf.function has experimental_relax_shapes=True option that relaxes argument shapes that can avoid unnecessary retracing. For (3), please refer to https://www.tensorflow.org/guide/function#controlling_retracing and https://www.tensorflow.org/api_docs/python/tf/function for  more details.\n"
     ]
    },
    {
     "name": "stderr",
     "output_type": "stream",
     "text": [
      "WARNING:tensorflow:11 out of the last 11 calls to <function recreate_function.<locals>.restored_function_body at 0x7fe88cce9f70> triggered tf.function retracing. Tracing is expensive and the excessive number of tracings could be due to (1) creating @tf.function repeatedly in a loop, (2) passing tensors with different shapes, (3) passing Python objects instead of tensors. For (1), please define your @tf.function outside of the loop. For (2), @tf.function has experimental_relax_shapes=True option that relaxes argument shapes that can avoid unnecessary retracing. For (3), please refer to https://www.tensorflow.org/guide/function#controlling_retracing and https://www.tensorflow.org/api_docs/python/tf/function for  more details.\n"
     ]
    },
    {
     "name": "stdout",
     "output_type": "stream",
     "text": [
      "WARNING:tensorflow:11 out of the last 11 calls to <function recreate_function.<locals>.restored_function_body at 0x7fe887b40160> triggered tf.function retracing. Tracing is expensive and the excessive number of tracings could be due to (1) creating @tf.function repeatedly in a loop, (2) passing tensors with different shapes, (3) passing Python objects instead of tensors. For (1), please define your @tf.function outside of the loop. For (2), @tf.function has experimental_relax_shapes=True option that relaxes argument shapes that can avoid unnecessary retracing. For (3), please refer to https://www.tensorflow.org/guide/function#controlling_retracing and https://www.tensorflow.org/api_docs/python/tf/function for  more details.\n"
     ]
    },
    {
     "name": "stderr",
     "output_type": "stream",
     "text": [
      "WARNING:tensorflow:11 out of the last 11 calls to <function recreate_function.<locals>.restored_function_body at 0x7fe887b40160> triggered tf.function retracing. Tracing is expensive and the excessive number of tracings could be due to (1) creating @tf.function repeatedly in a loop, (2) passing tensors with different shapes, (3) passing Python objects instead of tensors. For (1), please define your @tf.function outside of the loop. For (2), @tf.function has experimental_relax_shapes=True option that relaxes argument shapes that can avoid unnecessary retracing. For (3), please refer to https://www.tensorflow.org/guide/function#controlling_retracing and https://www.tensorflow.org/api_docs/python/tf/function for  more details.\n"
     ]
    },
    {
     "name": "stdout",
     "output_type": "stream",
     "text": [
      "WARNING:tensorflow:11 out of the last 11 calls to <function recreate_function.<locals>.restored_function_body at 0x7fe886a00820> triggered tf.function retracing. Tracing is expensive and the excessive number of tracings could be due to (1) creating @tf.function repeatedly in a loop, (2) passing tensors with different shapes, (3) passing Python objects instead of tensors. For (1), please define your @tf.function outside of the loop. For (2), @tf.function has experimental_relax_shapes=True option that relaxes argument shapes that can avoid unnecessary retracing. For (3), please refer to https://www.tensorflow.org/guide/function#controlling_retracing and https://www.tensorflow.org/api_docs/python/tf/function for  more details.\n"
     ]
    },
    {
     "name": "stderr",
     "output_type": "stream",
     "text": [
      "WARNING:tensorflow:11 out of the last 11 calls to <function recreate_function.<locals>.restored_function_body at 0x7fe886a00820> triggered tf.function retracing. Tracing is expensive and the excessive number of tracings could be due to (1) creating @tf.function repeatedly in a loop, (2) passing tensors with different shapes, (3) passing Python objects instead of tensors. For (1), please define your @tf.function outside of the loop. For (2), @tf.function has experimental_relax_shapes=True option that relaxes argument shapes that can avoid unnecessary retracing. For (3), please refer to https://www.tensorflow.org/guide/function#controlling_retracing and https://www.tensorflow.org/api_docs/python/tf/function for  more details.\n"
     ]
    },
    {
     "name": "stdout",
     "output_type": "stream",
     "text": [
      "WARNING:tensorflow:11 out of the last 11 calls to <function recreate_function.<locals>.restored_function_body at 0x7fe87e074ca0> triggered tf.function retracing. Tracing is expensive and the excessive number of tracings could be due to (1) creating @tf.function repeatedly in a loop, (2) passing tensors with different shapes, (3) passing Python objects instead of tensors. For (1), please define your @tf.function outside of the loop. For (2), @tf.function has experimental_relax_shapes=True option that relaxes argument shapes that can avoid unnecessary retracing. For (3), please refer to https://www.tensorflow.org/guide/function#controlling_retracing and https://www.tensorflow.org/api_docs/python/tf/function for  more details.\n"
     ]
    },
    {
     "name": "stderr",
     "output_type": "stream",
     "text": [
      "WARNING:tensorflow:11 out of the last 11 calls to <function recreate_function.<locals>.restored_function_body at 0x7fe87e074ca0> triggered tf.function retracing. Tracing is expensive and the excessive number of tracings could be due to (1) creating @tf.function repeatedly in a loop, (2) passing tensors with different shapes, (3) passing Python objects instead of tensors. For (1), please define your @tf.function outside of the loop. For (2), @tf.function has experimental_relax_shapes=True option that relaxes argument shapes that can avoid unnecessary retracing. For (3), please refer to https://www.tensorflow.org/guide/function#controlling_retracing and https://www.tensorflow.org/api_docs/python/tf/function for  more details.\n"
     ]
    },
    {
     "name": "stdout",
     "output_type": "stream",
     "text": [
      "WARNING:tensorflow:11 out of the last 11 calls to <function recreate_function.<locals>.restored_function_body at 0x7fe88cc76ca0> triggered tf.function retracing. Tracing is expensive and the excessive number of tracings could be due to (1) creating @tf.function repeatedly in a loop, (2) passing tensors with different shapes, (3) passing Python objects instead of tensors. For (1), please define your @tf.function outside of the loop. For (2), @tf.function has experimental_relax_shapes=True option that relaxes argument shapes that can avoid unnecessary retracing. For (3), please refer to https://www.tensorflow.org/guide/function#controlling_retracing and https://www.tensorflow.org/api_docs/python/tf/function for  more details.\n"
     ]
    },
    {
     "name": "stderr",
     "output_type": "stream",
     "text": [
      "WARNING:tensorflow:11 out of the last 11 calls to <function recreate_function.<locals>.restored_function_body at 0x7fe88cc76ca0> triggered tf.function retracing. Tracing is expensive and the excessive number of tracings could be due to (1) creating @tf.function repeatedly in a loop, (2) passing tensors with different shapes, (3) passing Python objects instead of tensors. For (1), please define your @tf.function outside of the loop. For (2), @tf.function has experimental_relax_shapes=True option that relaxes argument shapes that can avoid unnecessary retracing. For (3), please refer to https://www.tensorflow.org/guide/function#controlling_retracing and https://www.tensorflow.org/api_docs/python/tf/function for  more details.\n"
     ]
    },
    {
     "name": "stdout",
     "output_type": "stream",
     "text": [
      "WARNING:tensorflow:11 out of the last 11 calls to <function recreate_function.<locals>.restored_function_body at 0x7fe88cc765e0> triggered tf.function retracing. Tracing is expensive and the excessive number of tracings could be due to (1) creating @tf.function repeatedly in a loop, (2) passing tensors with different shapes, (3) passing Python objects instead of tensors. For (1), please define your @tf.function outside of the loop. For (2), @tf.function has experimental_relax_shapes=True option that relaxes argument shapes that can avoid unnecessary retracing. For (3), please refer to https://www.tensorflow.org/guide/function#controlling_retracing and https://www.tensorflow.org/api_docs/python/tf/function for  more details.\n"
     ]
    },
    {
     "name": "stderr",
     "output_type": "stream",
     "text": [
      "WARNING:tensorflow:11 out of the last 11 calls to <function recreate_function.<locals>.restored_function_body at 0x7fe88cc765e0> triggered tf.function retracing. Tracing is expensive and the excessive number of tracings could be due to (1) creating @tf.function repeatedly in a loop, (2) passing tensors with different shapes, (3) passing Python objects instead of tensors. For (1), please define your @tf.function outside of the loop. For (2), @tf.function has experimental_relax_shapes=True option that relaxes argument shapes that can avoid unnecessary retracing. For (3), please refer to https://www.tensorflow.org/guide/function#controlling_retracing and https://www.tensorflow.org/api_docs/python/tf/function for  more details.\n"
     ]
    },
    {
     "name": "stdout",
     "output_type": "stream",
     "text": [
      "WARNING:tensorflow:11 out of the last 11 calls to <function recreate_function.<locals>.restored_function_body at 0x7fe87e074820> triggered tf.function retracing. Tracing is expensive and the excessive number of tracings could be due to (1) creating @tf.function repeatedly in a loop, (2) passing tensors with different shapes, (3) passing Python objects instead of tensors. For (1), please define your @tf.function outside of the loop. For (2), @tf.function has experimental_relax_shapes=True option that relaxes argument shapes that can avoid unnecessary retracing. For (3), please refer to https://www.tensorflow.org/guide/function#controlling_retracing and https://www.tensorflow.org/api_docs/python/tf/function for  more details.\n"
     ]
    },
    {
     "name": "stderr",
     "output_type": "stream",
     "text": [
      "WARNING:tensorflow:11 out of the last 11 calls to <function recreate_function.<locals>.restored_function_body at 0x7fe87e074820> triggered tf.function retracing. Tracing is expensive and the excessive number of tracings could be due to (1) creating @tf.function repeatedly in a loop, (2) passing tensors with different shapes, (3) passing Python objects instead of tensors. For (1), please define your @tf.function outside of the loop. For (2), @tf.function has experimental_relax_shapes=True option that relaxes argument shapes that can avoid unnecessary retracing. For (3), please refer to https://www.tensorflow.org/guide/function#controlling_retracing and https://www.tensorflow.org/api_docs/python/tf/function for  more details.\n"
     ]
    },
    {
     "name": "stdout",
     "output_type": "stream",
     "text": [
      "WARNING:tensorflow:11 out of the last 11 calls to <function recreate_function.<locals>.restored_function_body at 0x7fe88ccda280> triggered tf.function retracing. Tracing is expensive and the excessive number of tracings could be due to (1) creating @tf.function repeatedly in a loop, (2) passing tensors with different shapes, (3) passing Python objects instead of tensors. For (1), please define your @tf.function outside of the loop. For (2), @tf.function has experimental_relax_shapes=True option that relaxes argument shapes that can avoid unnecessary retracing. For (3), please refer to https://www.tensorflow.org/guide/function#controlling_retracing and https://www.tensorflow.org/api_docs/python/tf/function for  more details.\n"
     ]
    },
    {
     "name": "stderr",
     "output_type": "stream",
     "text": [
      "WARNING:tensorflow:11 out of the last 11 calls to <function recreate_function.<locals>.restored_function_body at 0x7fe88ccda280> triggered tf.function retracing. Tracing is expensive and the excessive number of tracings could be due to (1) creating @tf.function repeatedly in a loop, (2) passing tensors with different shapes, (3) passing Python objects instead of tensors. For (1), please define your @tf.function outside of the loop. For (2), @tf.function has experimental_relax_shapes=True option that relaxes argument shapes that can avoid unnecessary retracing. For (3), please refer to https://www.tensorflow.org/guide/function#controlling_retracing and https://www.tensorflow.org/api_docs/python/tf/function for  more details.\n"
     ]
    },
    {
     "name": "stdout",
     "output_type": "stream",
     "text": [
      "WARNING:tensorflow:11 out of the last 11 calls to <function recreate_function.<locals>.restored_function_body at 0x7fe887804160> triggered tf.function retracing. Tracing is expensive and the excessive number of tracings could be due to (1) creating @tf.function repeatedly in a loop, (2) passing tensors with different shapes, (3) passing Python objects instead of tensors. For (1), please define your @tf.function outside of the loop. For (2), @tf.function has experimental_relax_shapes=True option that relaxes argument shapes that can avoid unnecessary retracing. For (3), please refer to https://www.tensorflow.org/guide/function#controlling_retracing and https://www.tensorflow.org/api_docs/python/tf/function for  more details.\n"
     ]
    },
    {
     "name": "stderr",
     "output_type": "stream",
     "text": [
      "WARNING:tensorflow:11 out of the last 11 calls to <function recreate_function.<locals>.restored_function_body at 0x7fe887804160> triggered tf.function retracing. Tracing is expensive and the excessive number of tracings could be due to (1) creating @tf.function repeatedly in a loop, (2) passing tensors with different shapes, (3) passing Python objects instead of tensors. For (1), please define your @tf.function outside of the loop. For (2), @tf.function has experimental_relax_shapes=True option that relaxes argument shapes that can avoid unnecessary retracing. For (3), please refer to https://www.tensorflow.org/guide/function#controlling_retracing and https://www.tensorflow.org/api_docs/python/tf/function for  more details.\n"
     ]
    },
    {
     "name": "stdout",
     "output_type": "stream",
     "text": [
      "WARNING:tensorflow:11 out of the last 11 calls to <function recreate_function.<locals>.restored_function_body at 0x7fe87d198ee0> triggered tf.function retracing. Tracing is expensive and the excessive number of tracings could be due to (1) creating @tf.function repeatedly in a loop, (2) passing tensors with different shapes, (3) passing Python objects instead of tensors. For (1), please define your @tf.function outside of the loop. For (2), @tf.function has experimental_relax_shapes=True option that relaxes argument shapes that can avoid unnecessary retracing. For (3), please refer to https://www.tensorflow.org/guide/function#controlling_retracing and https://www.tensorflow.org/api_docs/python/tf/function for  more details.\n"
     ]
    },
    {
     "name": "stderr",
     "output_type": "stream",
     "text": [
      "WARNING:tensorflow:11 out of the last 11 calls to <function recreate_function.<locals>.restored_function_body at 0x7fe87d198ee0> triggered tf.function retracing. Tracing is expensive and the excessive number of tracings could be due to (1) creating @tf.function repeatedly in a loop, (2) passing tensors with different shapes, (3) passing Python objects instead of tensors. For (1), please define your @tf.function outside of the loop. For (2), @tf.function has experimental_relax_shapes=True option that relaxes argument shapes that can avoid unnecessary retracing. For (3), please refer to https://www.tensorflow.org/guide/function#controlling_retracing and https://www.tensorflow.org/api_docs/python/tf/function for  more details.\n"
     ]
    },
    {
     "name": "stdout",
     "output_type": "stream",
     "text": [
      "WARNING:tensorflow:11 out of the last 11 calls to <function recreate_function.<locals>.restored_function_body at 0x7fe88d224940> triggered tf.function retracing. Tracing is expensive and the excessive number of tracings could be due to (1) creating @tf.function repeatedly in a loop, (2) passing tensors with different shapes, (3) passing Python objects instead of tensors. For (1), please define your @tf.function outside of the loop. For (2), @tf.function has experimental_relax_shapes=True option that relaxes argument shapes that can avoid unnecessary retracing. For (3), please refer to https://www.tensorflow.org/guide/function#controlling_retracing and https://www.tensorflow.org/api_docs/python/tf/function for  more details.\n"
     ]
    },
    {
     "name": "stderr",
     "output_type": "stream",
     "text": [
      "WARNING:tensorflow:11 out of the last 11 calls to <function recreate_function.<locals>.restored_function_body at 0x7fe88d224940> triggered tf.function retracing. Tracing is expensive and the excessive number of tracings could be due to (1) creating @tf.function repeatedly in a loop, (2) passing tensors with different shapes, (3) passing Python objects instead of tensors. For (1), please define your @tf.function outside of the loop. For (2), @tf.function has experimental_relax_shapes=True option that relaxes argument shapes that can avoid unnecessary retracing. For (3), please refer to https://www.tensorflow.org/guide/function#controlling_retracing and https://www.tensorflow.org/api_docs/python/tf/function for  more details.\n"
     ]
    },
    {
     "name": "stdout",
     "output_type": "stream",
     "text": [
      "WARNING:tensorflow:11 out of the last 11 calls to <function recreate_function.<locals>.restored_function_body at 0x7fe87d198040> triggered tf.function retracing. Tracing is expensive and the excessive number of tracings could be due to (1) creating @tf.function repeatedly in a loop, (2) passing tensors with different shapes, (3) passing Python objects instead of tensors. For (1), please define your @tf.function outside of the loop. For (2), @tf.function has experimental_relax_shapes=True option that relaxes argument shapes that can avoid unnecessary retracing. For (3), please refer to https://www.tensorflow.org/guide/function#controlling_retracing and https://www.tensorflow.org/api_docs/python/tf/function for  more details.\n"
     ]
    },
    {
     "name": "stderr",
     "output_type": "stream",
     "text": [
      "WARNING:tensorflow:11 out of the last 11 calls to <function recreate_function.<locals>.restored_function_body at 0x7fe87d198040> triggered tf.function retracing. Tracing is expensive and the excessive number of tracings could be due to (1) creating @tf.function repeatedly in a loop, (2) passing tensors with different shapes, (3) passing Python objects instead of tensors. For (1), please define your @tf.function outside of the loop. For (2), @tf.function has experimental_relax_shapes=True option that relaxes argument shapes that can avoid unnecessary retracing. For (3), please refer to https://www.tensorflow.org/guide/function#controlling_retracing and https://www.tensorflow.org/api_docs/python/tf/function for  more details.\n"
     ]
    },
    {
     "name": "stdout",
     "output_type": "stream",
     "text": [
      "WARNING:tensorflow:11 out of the last 11 calls to <function recreate_function.<locals>.restored_function_body at 0x7fe88cce9ee0> triggered tf.function retracing. Tracing is expensive and the excessive number of tracings could be due to (1) creating @tf.function repeatedly in a loop, (2) passing tensors with different shapes, (3) passing Python objects instead of tensors. For (1), please define your @tf.function outside of the loop. For (2), @tf.function has experimental_relax_shapes=True option that relaxes argument shapes that can avoid unnecessary retracing. For (3), please refer to https://www.tensorflow.org/guide/function#controlling_retracing and https://www.tensorflow.org/api_docs/python/tf/function for  more details.\n"
     ]
    },
    {
     "name": "stderr",
     "output_type": "stream",
     "text": [
      "WARNING:tensorflow:11 out of the last 11 calls to <function recreate_function.<locals>.restored_function_body at 0x7fe88cce9ee0> triggered tf.function retracing. Tracing is expensive and the excessive number of tracings could be due to (1) creating @tf.function repeatedly in a loop, (2) passing tensors with different shapes, (3) passing Python objects instead of tensors. For (1), please define your @tf.function outside of the loop. For (2), @tf.function has experimental_relax_shapes=True option that relaxes argument shapes that can avoid unnecessary retracing. For (3), please refer to https://www.tensorflow.org/guide/function#controlling_retracing and https://www.tensorflow.org/api_docs/python/tf/function for  more details.\n"
     ]
    },
    {
     "name": "stdout",
     "output_type": "stream",
     "text": [
      "WARNING:tensorflow:11 out of the last 11 calls to <function recreate_function.<locals>.restored_function_body at 0x7fe886a00280> triggered tf.function retracing. Tracing is expensive and the excessive number of tracings could be due to (1) creating @tf.function repeatedly in a loop, (2) passing tensors with different shapes, (3) passing Python objects instead of tensors. For (1), please define your @tf.function outside of the loop. For (2), @tf.function has experimental_relax_shapes=True option that relaxes argument shapes that can avoid unnecessary retracing. For (3), please refer to https://www.tensorflow.org/guide/function#controlling_retracing and https://www.tensorflow.org/api_docs/python/tf/function for  more details.\n"
     ]
    },
    {
     "name": "stderr",
     "output_type": "stream",
     "text": [
      "WARNING:tensorflow:11 out of the last 11 calls to <function recreate_function.<locals>.restored_function_body at 0x7fe886a00280> triggered tf.function retracing. Tracing is expensive and the excessive number of tracings could be due to (1) creating @tf.function repeatedly in a loop, (2) passing tensors with different shapes, (3) passing Python objects instead of tensors. For (1), please define your @tf.function outside of the loop. For (2), @tf.function has experimental_relax_shapes=True option that relaxes argument shapes that can avoid unnecessary retracing. For (3), please refer to https://www.tensorflow.org/guide/function#controlling_retracing and https://www.tensorflow.org/api_docs/python/tf/function for  more details.\n"
     ]
    },
    {
     "name": "stdout",
     "output_type": "stream",
     "text": [
      "WARNING:tensorflow:11 out of the last 11 calls to <function recreate_function.<locals>.restored_function_body at 0x7fe88d2241f0> triggered tf.function retracing. Tracing is expensive and the excessive number of tracings could be due to (1) creating @tf.function repeatedly in a loop, (2) passing tensors with different shapes, (3) passing Python objects instead of tensors. For (1), please define your @tf.function outside of the loop. For (2), @tf.function has experimental_relax_shapes=True option that relaxes argument shapes that can avoid unnecessary retracing. For (3), please refer to https://www.tensorflow.org/guide/function#controlling_retracing and https://www.tensorflow.org/api_docs/python/tf/function for  more details.\n"
     ]
    },
    {
     "name": "stderr",
     "output_type": "stream",
     "text": [
      "WARNING:tensorflow:11 out of the last 11 calls to <function recreate_function.<locals>.restored_function_body at 0x7fe88d2241f0> triggered tf.function retracing. Tracing is expensive and the excessive number of tracings could be due to (1) creating @tf.function repeatedly in a loop, (2) passing tensors with different shapes, (3) passing Python objects instead of tensors. For (1), please define your @tf.function outside of the loop. For (2), @tf.function has experimental_relax_shapes=True option that relaxes argument shapes that can avoid unnecessary retracing. For (3), please refer to https://www.tensorflow.org/guide/function#controlling_retracing and https://www.tensorflow.org/api_docs/python/tf/function for  more details.\n"
     ]
    },
    {
     "name": "stdout",
     "output_type": "stream",
     "text": [
      "WARNING:tensorflow:11 out of the last 11 calls to <function recreate_function.<locals>.restored_function_body at 0x7fe87e074f70> triggered tf.function retracing. Tracing is expensive and the excessive number of tracings could be due to (1) creating @tf.function repeatedly in a loop, (2) passing tensors with different shapes, (3) passing Python objects instead of tensors. For (1), please define your @tf.function outside of the loop. For (2), @tf.function has experimental_relax_shapes=True option that relaxes argument shapes that can avoid unnecessary retracing. For (3), please refer to https://www.tensorflow.org/guide/function#controlling_retracing and https://www.tensorflow.org/api_docs/python/tf/function for  more details.\n"
     ]
    },
    {
     "name": "stderr",
     "output_type": "stream",
     "text": [
      "WARNING:tensorflow:11 out of the last 11 calls to <function recreate_function.<locals>.restored_function_body at 0x7fe87e074f70> triggered tf.function retracing. Tracing is expensive and the excessive number of tracings could be due to (1) creating @tf.function repeatedly in a loop, (2) passing tensors with different shapes, (3) passing Python objects instead of tensors. For (1), please define your @tf.function outside of the loop. For (2), @tf.function has experimental_relax_shapes=True option that relaxes argument shapes that can avoid unnecessary retracing. For (3), please refer to https://www.tensorflow.org/guide/function#controlling_retracing and https://www.tensorflow.org/api_docs/python/tf/function for  more details.\n"
     ]
    },
    {
     "name": "stdout",
     "output_type": "stream",
     "text": [
      "WARNING:tensorflow:11 out of the last 11 calls to <function recreate_function.<locals>.restored_function_body at 0x7fe87fc3c940> triggered tf.function retracing. Tracing is expensive and the excessive number of tracings could be due to (1) creating @tf.function repeatedly in a loop, (2) passing tensors with different shapes, (3) passing Python objects instead of tensors. For (1), please define your @tf.function outside of the loop. For (2), @tf.function has experimental_relax_shapes=True option that relaxes argument shapes that can avoid unnecessary retracing. For (3), please refer to https://www.tensorflow.org/guide/function#controlling_retracing and https://www.tensorflow.org/api_docs/python/tf/function for  more details.\n"
     ]
    },
    {
     "name": "stderr",
     "output_type": "stream",
     "text": [
      "WARNING:tensorflow:11 out of the last 11 calls to <function recreate_function.<locals>.restored_function_body at 0x7fe87fc3c940> triggered tf.function retracing. Tracing is expensive and the excessive number of tracings could be due to (1) creating @tf.function repeatedly in a loop, (2) passing tensors with different shapes, (3) passing Python objects instead of tensors. For (1), please define your @tf.function outside of the loop. For (2), @tf.function has experimental_relax_shapes=True option that relaxes argument shapes that can avoid unnecessary retracing. For (3), please refer to https://www.tensorflow.org/guide/function#controlling_retracing and https://www.tensorflow.org/api_docs/python/tf/function for  more details.\n"
     ]
    },
    {
     "name": "stdout",
     "output_type": "stream",
     "text": [
      "WARNING:tensorflow:11 out of the last 11 calls to <function recreate_function.<locals>.restored_function_body at 0x7fe88d224430> triggered tf.function retracing. Tracing is expensive and the excessive number of tracings could be due to (1) creating @tf.function repeatedly in a loop, (2) passing tensors with different shapes, (3) passing Python objects instead of tensors. For (1), please define your @tf.function outside of the loop. For (2), @tf.function has experimental_relax_shapes=True option that relaxes argument shapes that can avoid unnecessary retracing. For (3), please refer to https://www.tensorflow.org/guide/function#controlling_retracing and https://www.tensorflow.org/api_docs/python/tf/function for  more details.\n"
     ]
    },
    {
     "name": "stderr",
     "output_type": "stream",
     "text": [
      "WARNING:tensorflow:11 out of the last 11 calls to <function recreate_function.<locals>.restored_function_body at 0x7fe88d224430> triggered tf.function retracing. Tracing is expensive and the excessive number of tracings could be due to (1) creating @tf.function repeatedly in a loop, (2) passing tensors with different shapes, (3) passing Python objects instead of tensors. For (1), please define your @tf.function outside of the loop. For (2), @tf.function has experimental_relax_shapes=True option that relaxes argument shapes that can avoid unnecessary retracing. For (3), please refer to https://www.tensorflow.org/guide/function#controlling_retracing and https://www.tensorflow.org/api_docs/python/tf/function for  more details.\n"
     ]
    },
    {
     "name": "stdout",
     "output_type": "stream",
     "text": [
      "WARNING:tensorflow:11 out of the last 11 calls to <function recreate_function.<locals>.restored_function_body at 0x7fe887804f70> triggered tf.function retracing. Tracing is expensive and the excessive number of tracings could be due to (1) creating @tf.function repeatedly in a loop, (2) passing tensors with different shapes, (3) passing Python objects instead of tensors. For (1), please define your @tf.function outside of the loop. For (2), @tf.function has experimental_relax_shapes=True option that relaxes argument shapes that can avoid unnecessary retracing. For (3), please refer to https://www.tensorflow.org/guide/function#controlling_retracing and https://www.tensorflow.org/api_docs/python/tf/function for  more details.\n"
     ]
    },
    {
     "name": "stderr",
     "output_type": "stream",
     "text": [
      "WARNING:tensorflow:11 out of the last 11 calls to <function recreate_function.<locals>.restored_function_body at 0x7fe887804f70> triggered tf.function retracing. Tracing is expensive and the excessive number of tracings could be due to (1) creating @tf.function repeatedly in a loop, (2) passing tensors with different shapes, (3) passing Python objects instead of tensors. For (1), please define your @tf.function outside of the loop. For (2), @tf.function has experimental_relax_shapes=True option that relaxes argument shapes that can avoid unnecessary retracing. For (3), please refer to https://www.tensorflow.org/guide/function#controlling_retracing and https://www.tensorflow.org/api_docs/python/tf/function for  more details.\n"
     ]
    },
    {
     "name": "stdout",
     "output_type": "stream",
     "text": [
      "destination folder exists\n",
      "\n",
      "\n",
      "\n",
      "Start of Epoch [2/64]\n",
      "\n",
      "\n",
      "Training batch: 889/889\n",
      "Validation batch: 56/56\n",
      "Seed:348954\n",
      "Training   Loss p_a: 0.028048512364263124\n",
      "Validation Loss p_a: 0.027566157015306608\n",
      "Training   Loss vel: 16.182668804988282\n",
      "Validation Loss vel: 12.807856857776642\n",
      "Training   Accuracy p_a: 0.9957893960789701\n",
      "Validation Accuracy p_a: 0.9961247486727578\n",
      "Training   Accuracy vel: 16.182668804988282\n",
      "Validation Accuracy vel: 12.807856857776642\n",
      "Training Confusion Matrix Play:\n",
      "\n",
      "[[14452088.   102870.]\n",
      " [  102553.   363033.]]\n",
      "\n",
      "Training Confusion Matrix Articulate:\n",
      "\n",
      "[[14860148.    71693.]\n",
      " [   71120.    17583.]]\n",
      "\n",
      "Validation Confusion Matrix Play:\n",
      "\n",
      "[[911244.   5509.]\n",
      " [  4560.  24863.]]\n",
      "\n",
      "Validation Confusion Matrix Articulate:\n",
      "\n",
      "[[937285.   3700.]\n",
      " [  4034.   1157.]]\n",
      "\n",
      "Time: 180.37s\n"
     ]
    },
    {
     "name": "stderr",
     "output_type": "stream",
     "text": [
      "WARNING:absl:Found untraced functions such as lstm_cell_layer_call_and_return_conditional_losses, lstm_cell_layer_call_fn, lstm_cell_1_layer_call_and_return_conditional_losses, lstm_cell_1_layer_call_fn, lstm_cell_2_layer_call_and_return_conditional_losses while saving (showing 5 of 20). These functions will not be directly callable after loading.\n",
      "WARNING:absl:Found untraced functions such as lstm_cell_layer_call_and_return_conditional_losses, lstm_cell_layer_call_fn, lstm_cell_1_layer_call_and_return_conditional_losses, lstm_cell_1_layer_call_fn, lstm_cell_2_layer_call_and_return_conditional_losses while saving (showing 5 of 20). These functions will not be directly callable after loading.\n"
     ]
    },
    {
     "name": "stdout",
     "output_type": "stream",
     "text": [
      "INFO:tensorflow:Assets written to: /home/mirko/Documents/FHWN/MA/master_thesis/code/tf2/outputs/models/ckpt/20211010/alpha_0.01_beta_1.0_epoch_2_model/assets\n"
     ]
    },
    {
     "name": "stderr",
     "output_type": "stream",
     "text": [
      "INFO:tensorflow:Assets written to: /home/mirko/Documents/FHWN/MA/master_thesis/code/tf2/outputs/models/ckpt/20211010/alpha_0.01_beta_1.0_epoch_2_model/assets\n"
     ]
    },
    {
     "name": "stdout",
     "output_type": "stream",
     "text": [
      "destination folder exists\n",
      "\n",
      "\n",
      "\n",
      "Start of Epoch [3/64]\n",
      "\n",
      "\n",
      "Training batch: 889/889\n",
      "Validation batch: 56/56\n",
      "Seed:402343\n",
      "Training   Loss p_a: 0.027745206820955593\n",
      "Validation Loss p_a: 0.02746976135365133\n",
      "Training   Loss vel: 15.991717152976346\n",
      "Validation Loss vel: 12.778848494802203\n",
      "Training   Accuracy p_a: 0.9958201607917639\n",
      "Validation Accuracy p_a: 0.99612778957401\n",
      "Training   Accuracy vel: 15.991717152976346\n",
      "Validation Accuracy vel: 12.778848494802203\n",
      "Training Confusion Matrix Play:\n",
      "\n",
      "[[14452857.   102101.]\n",
      " [  102264.   363322.]]\n",
      "\n",
      "Training Confusion Matrix Articulate:\n",
      "\n",
      "[[14860641.    71200.]\n",
      " [   71043.    17660.]]\n",
      "\n",
      "Validation Confusion Matrix Play:\n",
      "\n",
      "[[911353.   5400.]\n",
      " [  4509.  24914.]]\n",
      "\n",
      "Validation Confusion Matrix Articulate:\n",
      "\n",
      "[[937412.   3573.]\n",
      " [  4036.   1155.]]\n",
      "\n",
      "Time: 178.174s\n",
      "\n",
      "\n",
      "\n",
      "Start of Epoch [4/64]\n",
      "\n",
      "\n",
      "Training batch: 889/889\n",
      "Validation batch: 56/56\n",
      "Seed:665713\n",
      "Training   Loss p_a: 0.02751959352968816\n",
      "Validation Loss p_a: 0.02788410585240594\n",
      "Training   Loss vel: 15.788651984507643\n",
      "Validation Loss vel: 12.803758348737444\n",
      "Training   Accuracy p_a: 0.995848846113722\n",
      "Validation Accuracy p_a: 0.9961224049329758\n",
      "Training   Accuracy vel: 15.788651984507643\n",
      "Validation Accuracy vel: 12.803758348737444\n",
      "Training Confusion Matrix Play:\n",
      "\n",
      "[[14454319.   100639.]\n",
      " [  101080.   364506.]]\n",
      "\n",
      "Training Confusion Matrix Articulate:\n",
      "\n",
      "[[14861408.    70433.]\n",
      " [   70430.    18273.]]\n",
      "\n",
      "Validation Confusion Matrix Play:\n",
      "\n",
      "[[911343.   5410.]\n",
      " [  4405.  25018.]]\n",
      "\n",
      "Validation Confusion Matrix Articulate:\n",
      "\n",
      "[[937471.   3514.]\n",
      " [  3994.   1197.]]\n",
      "\n",
      "Time: 154.057s\n"
     ]
    },
    {
     "name": "stderr",
     "output_type": "stream",
     "text": [
      "WARNING:absl:Found untraced functions such as lstm_cell_layer_call_and_return_conditional_losses, lstm_cell_layer_call_fn, lstm_cell_1_layer_call_and_return_conditional_losses, lstm_cell_1_layer_call_fn, lstm_cell_2_layer_call_and_return_conditional_losses while saving (showing 5 of 20). These functions will not be directly callable after loading.\n",
      "WARNING:absl:Found untraced functions such as lstm_cell_layer_call_and_return_conditional_losses, lstm_cell_layer_call_fn, lstm_cell_1_layer_call_and_return_conditional_losses, lstm_cell_1_layer_call_fn, lstm_cell_2_layer_call_and_return_conditional_losses while saving (showing 5 of 20). These functions will not be directly callable after loading.\n"
     ]
    },
    {
     "name": "stdout",
     "output_type": "stream",
     "text": [
      "INFO:tensorflow:Assets written to: /home/mirko/Documents/FHWN/MA/master_thesis/code/tf2/outputs/models/ckpt/20211010/alpha_0.01_beta_1.0_epoch_4_model/assets\n"
     ]
    },
    {
     "name": "stderr",
     "output_type": "stream",
     "text": [
      "INFO:tensorflow:Assets written to: /home/mirko/Documents/FHWN/MA/master_thesis/code/tf2/outputs/models/ckpt/20211010/alpha_0.01_beta_1.0_epoch_4_model/assets\n"
     ]
    },
    {
     "name": "stdout",
     "output_type": "stream",
     "text": [
      "destination folder exists\n",
      "\n",
      "\n",
      "\n",
      "Start of Epoch [5/64]\n",
      "\n",
      "\n",
      "Training batch: 889/889\n",
      "Validation batch: 56/56\n",
      "Seed:827969\n",
      "Training   Loss p_a: 0.027751822851145698\n",
      "Validation Loss p_a: 0.028039774192231044\n",
      "Training   Loss vel: 15.640439359624153\n",
      "Validation Loss vel: 12.730797248227256\n",
      "Training   Accuracy p_a: 0.9958495670684411\n",
      "Validation Accuracy p_a: 0.996139078267983\n",
      "Training   Accuracy vel: 15.640439359624153\n",
      "Validation Accuracy vel: 12.730797248227256\n",
      "Training Confusion Matrix Play:\n",
      "\n",
      "[[14453774.   101184.]\n",
      " [  101758.   363828.]]\n",
      "\n",
      "Training Confusion Matrix Articulate:\n",
      "\n",
      "[[14861234.    70607.]\n",
      " [   70524.    18179.]]\n",
      "\n",
      "Validation Confusion Matrix Play:\n",
      "\n",
      "[[911078.   5675.]\n",
      " [  4622.  24801.]]\n",
      "\n",
      "Validation Confusion Matrix Articulate:\n",
      "\n",
      "[[937076.   3909.]\n",
      " [  4078.   1113.]]\n",
      "\n",
      "Time: 178.16s\n",
      "\n",
      "\n",
      "\n",
      "Start of Epoch [6/64]\n",
      "\n",
      "\n",
      "Training batch: 889/889\n",
      "Validation batch: 56/56\n",
      "Seed:377325\n",
      "Training   Loss p_a: 0.028532526740768695\n",
      "Validation Loss p_a: 0.02821033863749887\n",
      "Training   Loss vel: 15.734952387579112\n",
      "Validation Loss vel: 13.022653562682015\n",
      "Training   Accuracy p_a: 0.9957853917732282\n",
      "Validation Accuracy p_a: 0.9961045246039119\n",
      "Training   Accuracy vel: 15.734952387579112\n",
      "Validation Accuracy vel: 13.022653562682015\n",
      "Training Confusion Matrix Play:\n",
      "\n",
      "[[14450650.   104308.]\n",
      " [  104545.   361041.]]\n",
      "\n",
      "Training Confusion Matrix Articulate:\n",
      "\n",
      "[[14860616.    71225.]\n",
      " [   71399.    17304.]]\n",
      "\n",
      "Validation Confusion Matrix Play:\n",
      "\n",
      "[[911197.   5556.]\n",
      " [  4708.  24715.]]\n",
      "\n",
      "Validation Confusion Matrix Articulate:\n",
      "\n",
      "[[937236.   3749.]\n",
      " [  4183.   1008.]]\n",
      "\n",
      "Time: 154.73s\n",
      "\n",
      "\n",
      "\n",
      "Start of Epoch [7/64]\n",
      "\n",
      "\n",
      "Training batch: 889/889\n",
      "Validation batch: 56/56\n",
      "Seed:966500\n",
      "Training   Loss p_a: 0.02947074498801049\n",
      "Validation Loss p_a: 0.028224297699385455\n",
      "Training   Loss vel: 15.809369277632277\n",
      "Validation Loss vel: 12.88186924798148\n",
      "Training   Accuracy p_a: 0.995691065512036\n",
      "Validation Accuracy p_a: 0.9959612637758255\n",
      "Training   Accuracy vel: 15.809369277632277\n",
      "Validation Accuracy vel: 12.88186924798148\n",
      "Training Confusion Matrix Play:\n",
      "\n",
      "[[14447345.   107613.]\n",
      " [  107377.   358209.]]\n",
      "\n",
      "Training Confusion Matrix Articulate:\n",
      "\n",
      "[[14859098.    72743.]\n",
      " [   72382.    16321.]]\n",
      "\n",
      "Validation Confusion Matrix Play:\n",
      "\n",
      "[[910833.   5920.]\n",
      " [  4684.  24739.]]\n",
      "\n",
      "Validation Confusion Matrix Articulate:\n",
      "\n",
      "[[936767.   4218.]\n",
      " [  4077.   1114.]]\n",
      "\n",
      "Time: 154.705s\n",
      "\n",
      "\n",
      "\n",
      "Start of Epoch [8/64]\n",
      "\n",
      "\n",
      "Training batch: 889/889\n",
      "Validation batch: 56/56\n",
      "Seed:322576\n",
      "Training   Loss p_a: 0.028387590959936346\n",
      "Validation Loss p_a: 0.028018983180767724\n",
      "Training   Loss vel: 15.627078765422876\n",
      "Validation Loss vel: 12.816481011254448\n",
      "Training   Accuracy p_a: 0.9957365741611733\n",
      "Validation Accuracy p_a: 0.9960803315043449\n",
      "Training   Accuracy vel: 15.627078765422876\n",
      "Validation Accuracy vel: 12.816481011254448\n",
      "Training Confusion Matrix Play:\n",
      "\n",
      "[[14450840.   104118.]\n",
      " [  103710.   361876.]]\n",
      "\n",
      "Training Confusion Matrix Articulate:\n",
      "\n",
      "[[14860054.    71787.]\n",
      " [   71394.    17309.]]\n",
      "\n",
      "Validation Confusion Matrix Play:\n",
      "\n",
      "[[911393.   5360.]\n",
      " [  4511.  24912.]]\n",
      "\n",
      "Validation Confusion Matrix Articulate:\n",
      "\n",
      "[[937583.   3402.]\n",
      " [  4025.   1166.]]\n",
      "\n",
      "Time: 154.812s\n"
     ]
    },
    {
     "name": "stderr",
     "output_type": "stream",
     "text": [
      "WARNING:absl:Found untraced functions such as lstm_cell_layer_call_and_return_conditional_losses, lstm_cell_layer_call_fn, lstm_cell_1_layer_call_and_return_conditional_losses, lstm_cell_1_layer_call_fn, lstm_cell_2_layer_call_and_return_conditional_losses while saving (showing 5 of 20). These functions will not be directly callable after loading.\n",
      "WARNING:absl:Found untraced functions such as lstm_cell_layer_call_and_return_conditional_losses, lstm_cell_layer_call_fn, lstm_cell_1_layer_call_and_return_conditional_losses, lstm_cell_1_layer_call_fn, lstm_cell_2_layer_call_and_return_conditional_losses while saving (showing 5 of 20). These functions will not be directly callable after loading.\n"
     ]
    },
    {
     "name": "stdout",
     "output_type": "stream",
     "text": [
      "INFO:tensorflow:Assets written to: /home/mirko/Documents/FHWN/MA/master_thesis/code/tf2/outputs/models/ckpt/20211010/alpha_0.01_beta_1.0_epoch_8_model/assets\n"
     ]
    },
    {
     "name": "stderr",
     "output_type": "stream",
     "text": [
      "INFO:tensorflow:Assets written to: /home/mirko/Documents/FHWN/MA/master_thesis/code/tf2/outputs/models/ckpt/20211010/alpha_0.01_beta_1.0_epoch_8_model/assets\n"
     ]
    },
    {
     "name": "stdout",
     "output_type": "stream",
     "text": [
      "destination folder exists\n",
      "\n",
      "\n",
      "\n",
      "Start of Epoch [9/64]\n",
      "\n",
      "\n",
      "Training batch: 889/889\n",
      "Validation batch: 56/56\n",
      "Seed:410571\n",
      "Training   Loss p_a: 0.02836172098316948\n",
      "Validation Loss p_a: 0.02782026829663664\n",
      "Training   Loss vel: 15.502827497917837\n",
      "Validation Loss vel: 12.785342378275734\n",
      "Training   Accuracy p_a: 0.9957369953494506\n",
      "Validation Accuracy p_a: 0.9960660891873496\n",
      "Training   Accuracy vel: 15.502827497917837\n",
      "Validation Accuracy vel: 12.785342378275734\n",
      "Training Confusion Matrix Play:\n",
      "\n",
      "[[14450889.   104069.]\n",
      " [  103869.   361717.]]\n",
      "\n",
      "Training Confusion Matrix Articulate:\n",
      "\n",
      "[[14859849.    71992.]\n",
      " [   71416.    17287.]]\n",
      "\n",
      "Validation Confusion Matrix Play:\n",
      "\n",
      "[[911273.   5480.]\n",
      " [  4637.  24786.]]\n",
      "\n",
      "Validation Confusion Matrix Articulate:\n",
      "\n",
      "[[937326.   3659.]\n",
      " [  4070.   1121.]]\n",
      "\n",
      "Time: 177.546s\n",
      "\n",
      "\n",
      "\n",
      "Start of Epoch [10/64]\n",
      "\n",
      "\n",
      "Training batch: 889/889\n",
      "Validation batch: 56/56\n",
      "Seed:730983\n",
      "Training   Loss p_a: 0.027721526615082783\n",
      "Validation Loss p_a: 0.02804684963276876\n",
      "Training   Loss vel: 15.496526772849874\n",
      "Validation Loss vel: 12.715488059180123\n",
      "Training   Accuracy p_a: 0.9958295841587139\n",
      "Validation Accuracy p_a: 0.9960850924253464\n",
      "Training   Accuracy vel: 15.496526772849874\n",
      "Validation Accuracy vel: 12.715488059180123\n",
      "Training Confusion Matrix Play:\n",
      "\n",
      "[[14452729.   102229.]\n",
      " [  101840.   363746.]]\n",
      "\n",
      "Training Confusion Matrix Articulate:\n",
      "\n",
      "[[14860578.    71263.]\n",
      " [   70696.    18007.]]\n",
      "\n",
      "Validation Confusion Matrix Play:\n",
      "\n",
      "[[911164.   5589.]\n",
      " [  4521.  24902.]]\n",
      "\n",
      "Validation Confusion Matrix Articulate:\n",
      "\n",
      "[[937177.   3808.]\n",
      " [  3968.   1223.]]\n",
      "\n",
      "Time: 155.268s\n",
      "\n",
      "\n",
      "\n",
      "Start of Epoch [11/64]\n",
      "\n",
      "\n",
      "Training batch: 889/889\n",
      "Validation batch: 56/56\n",
      "Seed:214901\n",
      "Training   Loss p_a: 0.027539492049175905\n",
      "Validation Loss p_a: 0.027711388339022442\n",
      "Training   Loss vel: 15.325921483463592\n",
      "Validation Loss vel: 12.736162679536003\n",
      "Training   Accuracy p_a: 0.9958500497386747\n",
      "Validation Accuracy p_a: 0.9961339171443667\n",
      "Training   Accuracy vel: 15.325921483463592\n",
      "Validation Accuracy vel: 12.736162679536003\n",
      "Training Confusion Matrix Play:\n",
      "\n",
      "[[14453645.   101313.]\n",
      " [  101266.   364320.]]\n",
      "\n",
      "Training Confusion Matrix Articulate:\n",
      "\n",
      "[[14861109.    70732.]\n",
      " [   70263.    18440.]]\n",
      "\n",
      "Validation Confusion Matrix Play:\n",
      "\n",
      "[[911409.   5344.]\n",
      " [  4510.  24913.]]\n",
      "\n",
      "Validation Confusion Matrix Articulate:\n",
      "\n",
      "[[937444.   3541.]\n",
      " [  4023.   1168.]]\n",
      "\n",
      "Time: 155.195s\n",
      "\n",
      "\n",
      "\n",
      "Start of Epoch [12/64]\n",
      "\n",
      "\n",
      "Training batch: 889/889\n",
      "Validation batch: 56/56\n",
      "Seed:798528\n",
      "Training   Loss p_a: 0.027524678691848693\n",
      "Validation Loss p_a: 0.02741826486973358\n",
      "Training   Loss vel: 15.376996999918678\n",
      "Validation Loss vel: 12.647652966635567\n",
      "Training   Accuracy p_a: 0.9958599901708897\n",
      "Validation Accuracy p_a: 0.9961617748652186\n",
      "Training   Accuracy vel: 15.376996999918678\n",
      "Validation Accuracy vel: 12.647652966635567\n",
      "Training Confusion Matrix Play:\n",
      "\n",
      "[[14453990.   100968.]\n",
      " [  101355.   364231.]]\n",
      "\n",
      "Training Confusion Matrix Articulate:\n",
      "\n",
      "[[14861483.    70358.]\n",
      " [   70403.    18300.]]\n",
      "\n",
      "Validation Confusion Matrix Play:\n",
      "\n",
      "[[911309.   5444.]\n",
      " [  4547.  24876.]]\n",
      "\n",
      "Validation Confusion Matrix Articulate:\n",
      "\n",
      "[[937379.   3606.]\n",
      " [  4023.   1168.]]\n",
      "\n",
      "Time: 153.896s\n",
      "\n",
      "\n",
      "\n",
      "Start of Epoch [13/64]\n",
      "\n",
      "\n",
      "Training batch: 889/889\n",
      "Validation batch: 56/56\n",
      "Seed:688156\n",
      "Training   Loss p_a: 0.02725805080505203\n",
      "Validation Loss p_a: 0.027746912241647288\n",
      "Training   Loss vel: 15.192899155268117\n",
      "Validation Loss vel: 12.665283058370862\n",
      "Training   Accuracy p_a: 0.9958951315005531\n",
      "Validation Accuracy p_a: 0.9960824346968106\n",
      "Training   Accuracy vel: 15.192899155268117\n",
      "Validation Accuracy vel: 12.665283058370862\n",
      "Training Confusion Matrix Play:\n",
      "\n",
      "[[14454015.   100943.]\n",
      " [  100345.   365241.]]\n",
      "\n",
      "Training Confusion Matrix Articulate:\n",
      "\n",
      "[[14861136.    70705.]\n",
      " [   69899.    18804.]]\n",
      "\n",
      "Validation Confusion Matrix Play:\n",
      "\n",
      "[[911497.   5256.]\n",
      " [  4492.  24931.]]\n",
      "\n",
      "Validation Confusion Matrix Articulate:\n",
      "\n",
      "[[937572.   3413.]\n",
      " [  4001.   1190.]]\n",
      "\n",
      "Time: 154.046s\n",
      "\n",
      "\n",
      "\n",
      "Start of Epoch [14/64]\n",
      "\n",
      "\n",
      "Training batch: 889/889\n",
      "Validation batch: 56/56\n",
      "Seed:905791\n",
      "Training   Loss p_a: 0.027226972462309793\n",
      "Validation Loss p_a: 0.02789877025809671\n",
      "Training   Loss vel: 15.123091435405616\n",
      "Validation Loss vel: 12.662830982889448\n",
      "Training   Accuracy p_a: 0.9959006610549609\n",
      "Validation Accuracy p_a: 0.9961208349892071\n",
      "Training   Accuracy vel: 15.123091435405616\n",
      "Validation Accuracy vel: 12.662830982889448\n",
      "Training Confusion Matrix Play:\n",
      "\n",
      "[[14454514.   100444.]\n",
      " [  100092.   365494.]]\n",
      "\n",
      "Training Confusion Matrix Articulate:\n",
      "\n",
      "[[14861860.    69981.]\n",
      " [   69677.    19026.]]\n",
      "\n",
      "Validation Confusion Matrix Play:\n",
      "\n",
      "[[911341.   5412.]\n",
      " [  4579.  24844.]]\n",
      "\n",
      "Validation Confusion Matrix Articulate:\n",
      "\n",
      "[[937465.   3520.]\n",
      " [  4083.   1108.]]\n",
      "\n",
      "Time: 153.964s\n",
      "\n",
      "\n",
      "\n",
      "Start of Epoch [15/64]\n",
      "\n",
      "\n",
      "Training batch: 889/889\n",
      "Validation batch: 56/56\n",
      "Seed:956621\n",
      "Training   Loss p_a: 0.027579855432847036\n",
      "Validation Loss p_a: 0.028829539460795268\n",
      "Training   Loss vel: 15.14911232863556\n",
      "Validation Loss vel: 12.630658609526497\n",
      "Training   Accuracy p_a: 0.9958604723047486\n",
      "Validation Accuracy p_a: 0.9960740336350032\n",
      "Training   Accuracy vel: 15.14911232863556\n",
      "Validation Accuracy vel: 12.630658609526497\n",
      "Training Confusion Matrix Play:\n",
      "\n",
      "[[14453554.   101404.]\n",
      " [  101361.   364225.]]\n",
      "\n",
      "Training Confusion Matrix Articulate:\n",
      "\n",
      "[[14861299.    70542.]\n",
      " [   70111.    18592.]]\n",
      "\n",
      "Validation Confusion Matrix Play:\n",
      "\n",
      "[[911353.   5400.]\n",
      " [  4534.  24889.]]\n",
      "\n",
      "Validation Confusion Matrix Articulate:\n",
      "\n",
      "[[937622.   3363.]\n",
      " [  4083.   1108.]]\n",
      "\n",
      "Time: 154.494s\n",
      "\n",
      "\n",
      "\n",
      "Start of Epoch [16/64]\n",
      "\n",
      "\n",
      "Training batch: 889/889\n",
      "Validation batch: 56/56\n",
      "Seed:382597\n",
      "Training   Loss p_a: 0.02725269887004471\n",
      "Validation Loss p_a: 0.027933596234236444\n",
      "Training   Loss vel: 15.068440965109655\n",
      "Validation Loss vel: 12.723939393247877\n",
      "Training   Accuracy p_a: 0.9958641989695074\n",
      "Validation Accuracy p_a: 0.9961573162249157\n",
      "Training   Accuracy vel: 15.068440965109655\n",
      "Validation Accuracy vel: 12.723939393247877\n",
      "Training Confusion Matrix Play:\n",
      "\n",
      "[[14454330.   100628.]\n",
      " [  100500.   365086.]]\n",
      "\n",
      "Training Confusion Matrix Articulate:\n",
      "\n",
      "[[14861541.    70300.]\n",
      " [   69905.    18798.]]\n",
      "\n",
      "Validation Confusion Matrix Play:\n",
      "\n",
      "[[911593.   5160.]\n",
      " [  4525.  24898.]]\n",
      "\n",
      "Validation Confusion Matrix Articulate:\n",
      "\n",
      "[[937614.   3371.]\n",
      " [  4056.   1135.]]\n",
      "\n",
      "Time: 157.354s\n"
     ]
    },
    {
     "name": "stderr",
     "output_type": "stream",
     "text": [
      "WARNING:absl:Found untraced functions such as lstm_cell_layer_call_and_return_conditional_losses, lstm_cell_layer_call_fn, lstm_cell_1_layer_call_and_return_conditional_losses, lstm_cell_1_layer_call_fn, lstm_cell_2_layer_call_and_return_conditional_losses while saving (showing 5 of 20). These functions will not be directly callable after loading.\n",
      "WARNING:absl:Found untraced functions such as lstm_cell_layer_call_and_return_conditional_losses, lstm_cell_layer_call_fn, lstm_cell_1_layer_call_and_return_conditional_losses, lstm_cell_1_layer_call_fn, lstm_cell_2_layer_call_and_return_conditional_losses while saving (showing 5 of 20). These functions will not be directly callable after loading.\n"
     ]
    },
    {
     "name": "stdout",
     "output_type": "stream",
     "text": [
      "INFO:tensorflow:Assets written to: /home/mirko/Documents/FHWN/MA/master_thesis/code/tf2/outputs/models/ckpt/20211010/alpha_0.01_beta_1.0_epoch_16_model/assets\n"
     ]
    },
    {
     "name": "stderr",
     "output_type": "stream",
     "text": [
      "INFO:tensorflow:Assets written to: /home/mirko/Documents/FHWN/MA/master_thesis/code/tf2/outputs/models/ckpt/20211010/alpha_0.01_beta_1.0_epoch_16_model/assets\n"
     ]
    },
    {
     "name": "stdout",
     "output_type": "stream",
     "text": [
      "destination folder exists\n",
      "\n",
      "\n",
      "\n",
      "Start of Epoch [17/64]\n",
      "\n",
      "\n",
      "Training batch: 889/889\n",
      "Validation batch: 56/56\n",
      "Seed:114597\n",
      "Training   Loss p_a: 0.02689192265835753\n",
      "Validation Loss p_a: 0.027975727005728653\n",
      "Training   Loss vel: 14.924211399627616\n",
      "Validation Loss vel: 12.726447854723249\n",
      "Training   Accuracy p_a: 0.9959449522004487\n",
      "Validation Accuracy p_a: 0.9960890444261687\n",
      "Training   Accuracy vel: 14.924211399627616\n",
      "Validation Accuracy vel: 12.726447854723249\n",
      "Training Confusion Matrix Play:\n",
      "\n",
      "[[14454980.    99978.]\n",
      " [   99404.   366182.]]\n",
      "\n",
      "Training Confusion Matrix Articulate:\n",
      "\n",
      "[[14861657.    70184.]\n",
      " [   69291.    19412.]]\n",
      "\n",
      "Validation Confusion Matrix Play:\n",
      "\n",
      "[[911367.   5386.]\n",
      " [  4516.  24907.]]\n",
      "\n",
      "Validation Confusion Matrix Articulate:\n",
      "\n",
      "[[937449.   3536.]\n",
      " [  4003.   1188.]]\n",
      "\n",
      "Time: 180.59s\n",
      "\n",
      "\n",
      "\n",
      "Start of Epoch [18/64]\n",
      "\n",
      "\n",
      "Training batch: 889/889\n",
      "Validation batch: 56/56\n",
      "Seed:446156\n",
      "Training   Loss p_a: 0.026875121131354967\n",
      "Validation Loss p_a: 0.0284238361221339\n",
      "Training   Loss vel: 14.835801915189144\n",
      "Validation Loss vel: 12.650671558720726\n",
      "Training   Accuracy p_a: 0.9959560027943151\n",
      "Validation Accuracy p_a: 0.9961072962198939\n",
      "Training   Accuracy vel: 14.835801915189144\n",
      "Validation Accuracy vel: 12.650671558720726\n",
      "Training Confusion Matrix Play:\n",
      "\n",
      "[[14456010.    98948.]\n",
      " [   99095.   366491.]]\n",
      "\n",
      "Training Confusion Matrix Articulate:\n",
      "\n",
      "[[14862507.    69334.]\n",
      " [   69268.    19435.]]\n",
      "\n",
      "Validation Confusion Matrix Play:\n",
      "\n",
      "[[911567.   5186.]\n",
      " [  4547.  24876.]]\n",
      "\n",
      "Validation Confusion Matrix Articulate:\n",
      "\n",
      "[[937745.   3240.]\n",
      " [  4089.   1102.]]\n",
      "\n",
      "Time: 155.283s\n",
      "\n",
      "\n",
      "\n",
      "Start of Epoch [19/64]\n",
      "\n",
      "\n",
      "Training batch: 889/889\n",
      "Validation batch: 56/56\n",
      "Seed:860291\n",
      "Training   Loss p_a: 0.026730134095829\n",
      "Validation Loss p_a: 0.02833072385484619\n",
      "Training   Loss vel: 14.798816071050105\n",
      "Validation Loss vel: 12.574910027640206\n",
      "Training   Accuracy p_a: 0.9959719084513335\n",
      "Validation Accuracy p_a: 0.9961255969745773\n",
      "Training   Accuracy vel: 14.798816071050105\n",
      "Validation Accuracy vel: 12.574910027640206\n",
      "Training Confusion Matrix Play:\n",
      "\n",
      "[[14456261.    98697.]\n",
      " [   98545.   367041.]]\n",
      "\n",
      "Training Confusion Matrix Articulate:\n",
      "\n",
      "[[14862841.    69000.]\n",
      " [   68873.    19830.]]\n",
      "\n",
      "Validation Confusion Matrix Play:\n",
      "\n",
      "[[911455.   5298.]\n",
      " [  4552.  24871.]]\n",
      "\n",
      "Validation Confusion Matrix Articulate:\n",
      "\n",
      "[[937593.   3392.]\n",
      " [  4119.   1072.]]\n",
      "\n",
      "Time: 154.769s\n",
      "\n",
      "\n",
      "\n",
      "Start of Epoch [20/64]\n",
      "\n",
      "\n",
      "Training batch: 889/889\n",
      "Validation batch: 56/56\n",
      "Seed:666052\n",
      "Training   Loss p_a: 0.02665035188076567\n",
      "Validation Loss p_a: 0.02803517651877233\n",
      "Training   Loss vel: 14.747528904334498\n",
      "Validation Loss vel: 12.580823838710785\n",
      "Training   Accuracy p_a: 0.9959691071671227\n",
      "Validation Accuracy p_a: 0.9961151533893177\n",
      "Training   Accuracy vel: 14.747528904334498\n",
      "Validation Accuracy vel: 12.580823838710785\n",
      "Training Confusion Matrix Play:\n",
      "\n",
      "[[14456585.    98373.]\n",
      " [   98333.   367253.]]\n",
      "\n",
      "Training Confusion Matrix Articulate:\n",
      "\n",
      "[[14862944.    68897.]\n",
      " [   68745.    19958.]]\n",
      "\n",
      "Validation Confusion Matrix Play:\n",
      "\n",
      "[[911527.   5226.]\n",
      " [  4483.  24940.]]\n",
      "\n",
      "Validation Confusion Matrix Articulate:\n",
      "\n",
      "[[937625.   3360.]\n",
      " [  4023.   1168.]]\n",
      "\n",
      "Time: 154.788s\n",
      "\n",
      "\n",
      "\n",
      "Start of Epoch [21/64]\n",
      "\n",
      "\n",
      "Training batch: 889/889\n",
      "Validation batch: 56/56\n",
      "Seed:418108\n",
      "Training   Loss p_a: 0.02699225481978803\n",
      "Validation Loss p_a: 0.03315568239694195\n",
      "Training   Loss vel: 14.77068224103432\n",
      "Validation Loss vel: 12.975981525012426\n",
      "Training   Accuracy p_a: 0.9960162256780438\n",
      "Validation Accuracy p_a: 0.9960040226578712\n",
      "Training   Accuracy vel: 14.77068224103432\n",
      "Validation Accuracy vel: 12.975981525012426\n",
      "Training Confusion Matrix Play:\n",
      "\n",
      "[[14455770.    99188.]\n",
      " [   99470.   366116.]]\n",
      "\n",
      "Training Confusion Matrix Articulate:\n",
      "\n",
      "[[14862424.    69417.]\n",
      " [   69362.    19341.]]\n",
      "\n",
      "Validation Confusion Matrix Play:\n",
      "\n",
      "[[911935.   4818.]\n",
      " [  5440.  23983.]]\n",
      "\n",
      "Validation Confusion Matrix Articulate:\n",
      "\n",
      "[[9.38074e+05 2.91100e+03]\n",
      " [4.48200e+03 7.09000e+02]]\n",
      "\n",
      "Time: 154.763s\n",
      "\n",
      "\n",
      "\n",
      "Start of Epoch [22/64]\n",
      "\n",
      "\n",
      "Training batch: 889/889\n",
      "Validation batch: 56/56\n",
      "Seed:943851\n",
      "Training   Loss p_a: 0.027195522161745398\n",
      "Validation Loss p_a: 0.02839822644766952\n",
      "Training   Loss vel: 14.71600136204431\n",
      "Validation Loss vel: 12.654295044285911\n",
      "Training   Accuracy p_a: 0.9958799012063995\n",
      "Validation Accuracy p_a: 0.9960223117044994\n",
      "Training   Accuracy vel: 14.71600136204431\n",
      "Validation Accuracy vel: 12.654295044285911\n",
      "Training Confusion Matrix Play:\n",
      "\n",
      "[[14454987.    99971.]\n",
      " [  100059.   365527.]]\n",
      "\n",
      "Training Confusion Matrix Articulate:\n",
      "\n",
      "[[14861923.    69918.]\n",
      " [   69663.    19040.]]\n",
      "\n",
      "Validation Confusion Matrix Play:\n",
      "\n",
      "[[911275.   5478.]\n",
      " [  4447.  24976.]]\n",
      "\n",
      "Validation Confusion Matrix Articulate:\n",
      "\n",
      "[[937393.   3592.]\n",
      " [  3996.   1195.]]\n",
      "\n",
      "Time: 155.075s\n",
      "\n",
      "\n",
      "\n",
      "Start of Epoch [23/64]\n",
      "\n",
      "\n",
      "Training batch: 889/889\n",
      "Validation batch: 56/56\n",
      "Seed:68517\n",
      "Training   Loss p_a: 0.02666634656761273\n",
      "Validation Loss p_a: 0.02747387523829405\n",
      "Training   Loss vel: 14.576262794275788\n",
      "Validation Loss vel: 12.534326323441096\n",
      "Training   Accuracy p_a: 0.9959947364939077\n",
      "Validation Accuracy p_a: 0.9961010164448193\n",
      "Training   Accuracy vel: 14.576262794275788\n",
      "Validation Accuracy vel: 12.534326323441096\n",
      "Training Confusion Matrix Play:\n",
      "\n",
      "[[14456573.    98385.]\n",
      " [   98166.   367420.]]\n",
      "\n",
      "Training Confusion Matrix Articulate:\n",
      "\n",
      "[[14862558.    69283.]\n",
      " [   68876.    19827.]]\n",
      "\n",
      "Validation Confusion Matrix Play:\n",
      "\n",
      "[[911098.   5655.]\n",
      " [  4558.  24865.]]\n",
      "\n",
      "Validation Confusion Matrix Articulate:\n",
      "\n",
      "[[937040.   3945.]\n",
      " [  3944.   1247.]]\n",
      "\n",
      "Time: 154.81s\n",
      "\n",
      "\n",
      "\n",
      "Start of Epoch [24/64]\n",
      "\n",
      "\n",
      "Training batch: 889/889\n",
      "Validation batch: 56/56\n",
      "Seed:529943\n",
      "Training   Loss p_a: 0.026824058108953643\n",
      "Validation Loss p_a: 0.02851657261739352\n",
      "Training   Loss vel: 14.488668931482612\n",
      "Validation Loss vel: 12.522251188755035\n",
      "Training   Accuracy p_a: 0.99595326895923\n",
      "Validation Accuracy p_a: 0.9960133710077831\n",
      "Training   Accuracy vel: 14.488668931482612\n",
      "Validation Accuracy vel: 12.522251188755035\n",
      "Training Confusion Matrix Play:\n",
      "\n",
      "[[14456034.    98924.]\n",
      " [   98912.   366674.]]\n",
      "\n",
      "Training Confusion Matrix Articulate:\n",
      "\n",
      "[[14862291.    69550.]\n",
      " [   69323.    19380.]]\n",
      "\n",
      "Validation Confusion Matrix Play:\n",
      "\n",
      "[[910962.   5791.]\n",
      " [  4421.  25002.]]\n",
      "\n",
      "Validation Confusion Matrix Articulate:\n",
      "\n",
      "[[937145.   3840.]\n",
      " [  3941.   1250.]]\n",
      "\n",
      "Time: 155.375s\n",
      "\n",
      "\n",
      "\n",
      "Start of Epoch [25/64]\n",
      "\n",
      "\n",
      "Training batch: 889/889\n",
      "Validation batch: 56/56\n",
      "Seed:733173\n",
      "Training   Loss p_a: 0.026529259493897162\n",
      "Validation Loss p_a: 0.02880294095458729\n",
      "Training   Loss vel: 14.424270713557274\n",
      "Validation Loss vel: 12.627871709210533\n",
      "Training   Accuracy p_a: 0.9960113397062964\n",
      "Validation Accuracy p_a: 0.996055605156081\n",
      "Training   Accuracy vel: 14.424270713557274\n",
      "Validation Accuracy vel: 12.627871709210533\n",
      "Training Confusion Matrix Play:\n",
      "\n",
      "[[14457157.    97801.]\n",
      " [   98069.   367517.]]\n",
      "\n",
      "Training Confusion Matrix Articulate:\n",
      "\n",
      "[[14863214.    68627.]\n",
      " [   68748.    19955.]]\n",
      "\n",
      "Validation Confusion Matrix Play:\n",
      "\n",
      "[[911565.   5188.]\n",
      " [  4477.  24946.]]\n",
      "\n",
      "Validation Confusion Matrix Articulate:\n",
      "\n",
      "[[937771.   3214.]\n",
      " [  4076.   1115.]]\n",
      "\n",
      "Time: 160.396s\n",
      "\n",
      "\n",
      "\n",
      "Start of Epoch [26/64]\n",
      "\n",
      "\n",
      "Training batch: 889/889\n",
      "Validation batch: 56/56\n",
      "Seed:700576\n",
      "Training   Loss p_a: 0.02628617504186283\n",
      "Validation Loss p_a: 0.028122860472649336\n",
      "Training   Loss vel: 14.307941826175652\n",
      "Validation Loss vel: 12.472147822380066\n",
      "Training   Accuracy p_a: 0.9960261048294428\n",
      "Validation Accuracy p_a: 0.9960724030222211\n",
      "Training   Accuracy vel: 14.307941826175652\n",
      "Validation Accuracy vel: 12.472147822380066\n",
      "Training Confusion Matrix Play:\n",
      "\n",
      "[[14458110.    96848.]\n",
      " [   96832.   368754.]]\n",
      "\n",
      "Training Confusion Matrix Articulate:\n",
      "\n",
      "[[14863406.    68435.]\n",
      " [   68256.    20447.]]\n",
      "\n",
      "Validation Confusion Matrix Play:\n",
      "\n",
      "[[911151.   5602.]\n",
      " [  4383.  25040.]]\n",
      "\n",
      "Validation Confusion Matrix Articulate:\n",
      "\n",
      "[[937273.   3712.]\n",
      " [  3907.   1284.]]\n",
      "\n",
      "Time: 157.713s\n",
      "\n",
      "\n",
      "\n",
      "Start of Epoch [27/64]\n",
      "\n",
      "\n",
      "Training batch: 889/889\n",
      "Validation batch: 56/56\n",
      "Seed:365011\n",
      "Training   Loss p_a: 0.026339689070092782\n",
      "Validation Loss p_a: 0.02845359209459275\n",
      "Training   Loss vel: 14.31811051803177\n",
      "Validation Loss vel: 12.56131261587143\n",
      "Training   Accuracy p_a: 0.9960436714379404\n",
      "Validation Accuracy p_a: 0.9960766807198524\n",
      "Training   Accuracy vel: 14.31811051803177\n",
      "Validation Accuracy vel: 12.56131261587143\n",
      "Training Confusion Matrix Play:\n",
      "\n",
      "[[14457428.    97530.]\n",
      " [   97736.   367850.]]\n",
      "\n",
      "Training Confusion Matrix Articulate:\n",
      "\n",
      "[[14863024.    68817.]\n",
      " [   68454.    20249.]]\n",
      "\n",
      "Validation Confusion Matrix Play:\n",
      "\n",
      "[[911339.   5414.]\n",
      " [  4394.  25029.]]\n",
      "\n",
      "Validation Confusion Matrix Articulate:\n",
      "\n",
      "[[937549.   3436.]\n",
      " [  3979.   1212.]]\n",
      "\n",
      "Time: 161.752s\n",
      "\n",
      "\n",
      "\n",
      "Start of Epoch [28/64]\n",
      "\n",
      "\n"
     ]
    },
    {
     "name": "stdout",
     "output_type": "stream",
     "text": [
      "Training batch: 889/889\n",
      "Validation batch: 56/56\n",
      "Seed:931482\n",
      "Training   Loss p_a: 0.026379163516318704\n",
      "Validation Loss p_a: 0.02840902900788933\n",
      "Training   Loss vel: 14.1379186112111\n",
      "Validation Loss vel: 12.447292719568525\n",
      "Training   Accuracy p_a: 0.9960260071421904\n",
      "Validation Accuracy p_a: 0.9961110278964043\n",
      "Training   Accuracy vel: 14.1379186112111\n",
      "Validation Accuracy vel: 12.447292719568525\n",
      "Training Confusion Matrix Play:\n",
      "\n",
      "[[14457229.    97729.]\n",
      " [   96965.   368621.]]\n",
      "\n",
      "Training Confusion Matrix Articulate:\n",
      "\n",
      "[[14863127.    68714.]\n",
      " [   68054.    20649.]]\n",
      "\n",
      "Validation Confusion Matrix Play:\n",
      "\n",
      "[[911412.   5341.]\n",
      " [  4454.  24969.]]\n",
      "\n",
      "Validation Confusion Matrix Articulate:\n",
      "\n",
      "[[937550.   3435.]\n",
      " [  4044.   1147.]]\n",
      "\n",
      "Time: 161.627s\n",
      "\n",
      "\n",
      "\n",
      "Start of Epoch [29/64]\n",
      "\n",
      "\n",
      "Training batch: 889/889\n",
      "Validation batch: 56/56\n",
      "Seed:423192\n",
      "Training   Loss p_a: 0.028408487526180286\n",
      "Validation Loss p_a: 0.028999340487644076\n",
      "Training   Loss vel: 14.479414786477191\n",
      "Validation Loss vel: 12.60743488584246\n",
      "Training   Accuracy p_a: 0.9958567320294804\n",
      "Validation Accuracy p_a: 0.9960135764309338\n",
      "Training   Accuracy vel: 14.479414786477191\n",
      "Validation Accuracy vel: 12.60743488584246\n",
      "Training Confusion Matrix Play:\n",
      "\n",
      "[[14451622.   103336.]\n",
      " [  103489.   362097.]]\n",
      "\n",
      "Training Confusion Matrix Articulate:\n",
      "\n",
      "[[14860647.    71194.]\n",
      " [   71060.    17643.]]\n",
      "\n",
      "Validation Confusion Matrix Play:\n",
      "\n",
      "[[911099.   5654.]\n",
      " [  4503.  24920.]]\n",
      "\n",
      "Validation Confusion Matrix Articulate:\n",
      "\n",
      "[[937311.   3674.]\n",
      " [  4037.   1154.]]\n",
      "\n",
      "Time: 158.02s\n",
      "\n",
      "\n",
      "\n",
      "Start of Epoch [30/64]\n",
      "\n",
      "\n",
      "Training batch: 889/889\n",
      "Validation batch: 56/56\n",
      "Seed:422963\n",
      "Training   Loss p_a: 0.026926979735279948\n",
      "Validation Loss p_a: 0.02848456395856504\n",
      "Training   Loss vel: 14.202445885730139\n",
      "Validation Loss vel: 12.537921888487679\n",
      "Training   Accuracy p_a: 0.9959501526889436\n",
      "Validation Accuracy p_a: 0.9960059129766056\n",
      "Training   Accuracy vel: 14.202445885730139\n",
      "Validation Accuracy vel: 12.537921888487679\n",
      "Training Confusion Matrix Play:\n",
      "\n",
      "[[14455808.    99150.]\n",
      " [   99031.   366555.]]\n",
      "\n",
      "Training Confusion Matrix Articulate:\n",
      "\n",
      "[[14862329.    69512.]\n",
      " [   69199.    19504.]]\n",
      "\n",
      "Validation Confusion Matrix Play:\n",
      "\n",
      "[[911213.   5540.]\n",
      " [  4416.  25007.]]\n",
      "\n",
      "Validation Confusion Matrix Articulate:\n",
      "\n",
      "[[937374.   3611.]\n",
      " [  4018.   1173.]]\n",
      "\n",
      "Time: 154.8s\n",
      "\n",
      "\n",
      "\n",
      "Start of Epoch [31/64]\n",
      "\n",
      "\n",
      "Training batch: 889/889\n",
      "Validation batch: 56/56\n",
      "Seed:840551\n",
      "Training   Loss p_a: 0.0265157934408153\n",
      "Validation Loss p_a: 0.028187530797107944\n",
      "Training   Loss vel: 14.071145012086369\n",
      "Validation Loss vel: 12.316123570714678\n",
      "Training   Accuracy p_a: 0.996007118705153\n",
      "Validation Accuracy p_a: 0.9961200782230922\n",
      "Training   Accuracy vel: 14.071145012086369\n",
      "Validation Accuracy vel: 12.316123570714678\n",
      "Training Confusion Matrix Play:\n",
      "\n",
      "[[14456741.    98217.]\n",
      " [   97939.   367647.]]\n",
      "\n",
      "Training Confusion Matrix Articulate:\n",
      "\n",
      "[[14862739.    69102.]\n",
      " [   68693.    20010.]]\n",
      "\n",
      "Validation Confusion Matrix Play:\n",
      "\n",
      "[[911380.   5373.]\n",
      " [  4445.  24978.]]\n",
      "\n",
      "Validation Confusion Matrix Articulate:\n",
      "\n",
      "[[937519.   3466.]\n",
      " [  4017.   1174.]]\n",
      "\n",
      "Time: 155.152s\n",
      "\n",
      "\n",
      "\n",
      "Start of Epoch [32/64]\n",
      "\n",
      "\n",
      "Training batch: 889/889\n",
      "Validation batch: 56/56\n",
      "Seed:773371\n",
      "Training   Loss p_a: 0.026623655924588208\n",
      "Validation Loss p_a: 0.02845118454258357\n",
      "Training   Loss vel: 13.984256210691884\n",
      "Validation Loss vel: 12.476422957011632\n",
      "Training   Accuracy p_a: 0.9960198885812535\n",
      "Validation Accuracy p_a: 0.9960439428687096\n",
      "Training   Accuracy vel: 13.984256210691884\n",
      "Validation Accuracy vel: 12.476422957011632\n",
      "Training Confusion Matrix Play:\n",
      "\n",
      "[[14456824.    98134.]\n",
      " [   98199.   367387.]]\n",
      "\n",
      "Training Confusion Matrix Articulate:\n",
      "\n",
      "[[14862796.    69045.]\n",
      " [   68938.    19765.]]\n",
      "\n",
      "Validation Confusion Matrix Play:\n",
      "\n",
      "[[911192.   5561.]\n",
      " [  4424.  24999.]]\n",
      "\n",
      "Validation Confusion Matrix Articulate:\n",
      "\n",
      "[[937327.   3658.]\n",
      " [  4021.   1170.]]\n",
      "\n",
      "Time: 156.915s\n"
     ]
    },
    {
     "name": "stderr",
     "output_type": "stream",
     "text": [
      "WARNING:absl:Found untraced functions such as lstm_cell_layer_call_and_return_conditional_losses, lstm_cell_layer_call_fn, lstm_cell_1_layer_call_and_return_conditional_losses, lstm_cell_1_layer_call_fn, lstm_cell_2_layer_call_and_return_conditional_losses while saving (showing 5 of 20). These functions will not be directly callable after loading.\n",
      "WARNING:absl:Found untraced functions such as lstm_cell_layer_call_and_return_conditional_losses, lstm_cell_layer_call_fn, lstm_cell_1_layer_call_and_return_conditional_losses, lstm_cell_1_layer_call_fn, lstm_cell_2_layer_call_and_return_conditional_losses while saving (showing 5 of 20). These functions will not be directly callable after loading.\n"
     ]
    },
    {
     "name": "stdout",
     "output_type": "stream",
     "text": [
      "INFO:tensorflow:Assets written to: /home/mirko/Documents/FHWN/MA/master_thesis/code/tf2/outputs/models/ckpt/20211010/alpha_0.01_beta_1.0_epoch_32_model/assets\n"
     ]
    },
    {
     "name": "stderr",
     "output_type": "stream",
     "text": [
      "INFO:tensorflow:Assets written to: /home/mirko/Documents/FHWN/MA/master_thesis/code/tf2/outputs/models/ckpt/20211010/alpha_0.01_beta_1.0_epoch_32_model/assets\n"
     ]
    },
    {
     "name": "stdout",
     "output_type": "stream",
     "text": [
      "destination folder exists\n",
      "\n",
      "\n",
      "\n",
      "Start of Epoch [33/64]\n",
      "\n",
      "\n",
      "Training batch: 889/889\n",
      "Validation batch: 56/56\n",
      "Seed:838929\n",
      "Training   Loss p_a: 0.026337724310766038\n",
      "Validation Loss p_a: 0.028052536737439886\n",
      "Training   Loss vel: 13.88513917300779\n",
      "Validation Loss vel: 12.306175546986717\n",
      "Training   Accuracy p_a: 0.9960243541692856\n",
      "Validation Accuracy p_a: 0.9960693919232914\n",
      "Training   Accuracy vel: 13.88513917300779\n",
      "Validation Accuracy vel: 12.306175546986717\n",
      "Training Confusion Matrix Play:\n",
      "\n",
      "[[14457903.    97055.]\n",
      " [   97455.   368131.]]\n",
      "\n",
      "Training Confusion Matrix Articulate:\n",
      "\n",
      "[[14863522.    68319.]\n",
      " [   68415.    20288.]]\n",
      "\n",
      "Validation Confusion Matrix Play:\n",
      "\n",
      "[[911019.   5734.]\n",
      " [  4446.  24977.]]\n",
      "\n",
      "Validation Confusion Matrix Articulate:\n",
      "\n",
      "[[937068.   3917.]\n",
      " [  3983.   1208.]]\n",
      "\n",
      "Time: 185.022s\n",
      "\n",
      "\n",
      "\n",
      "Start of Epoch [34/64]\n",
      "\n",
      "\n",
      "Training batch: 889/889\n",
      "Validation batch: 56/56\n",
      "Seed:325949\n",
      "Training   Loss p_a: 0.026548114012826248\n",
      "Validation Loss p_a: 0.02859320867407535\n",
      "Training   Loss vel: 13.81934416548876\n",
      "Validation Loss vel: 12.313755469662803\n",
      "Training   Accuracy p_a: 0.9960411678417193\n",
      "Validation Accuracy p_a: 0.9959673668657031\n",
      "Training   Accuracy vel: 13.81934416548876\n",
      "Validation Accuracy vel: 12.313755469662803\n",
      "Training Confusion Matrix Play:\n",
      "\n",
      "[[14456979.    97979.]\n",
      " [   97922.   367664.]]\n",
      "\n",
      "Training Confusion Matrix Articulate:\n",
      "\n",
      "[[14863059.    68782.]\n",
      " [   68426.    20277.]]\n",
      "\n",
      "Validation Confusion Matrix Play:\n",
      "\n",
      "[[911119.   5634.]\n",
      " [  4570.  24853.]]\n",
      "\n",
      "Validation Confusion Matrix Articulate:\n",
      "\n",
      "[[937281.   3704.]\n",
      " [  4042.   1149.]]\n",
      "\n",
      "Time: 161.283s\n",
      "\n",
      "\n",
      "\n",
      "Start of Epoch [35/64]\n",
      "\n",
      "\n",
      "Training batch: 889/889\n",
      "Validation batch: 56/56\n",
      "Seed:695991\n",
      "Training   Loss p_a: 0.02651502725619014\n",
      "Validation Loss p_a: 0.028456894547811577\n",
      "Training   Loss vel: 13.794073944821266\n",
      "Validation Loss vel: 12.530629668916974\n",
      "Training   Accuracy p_a: 0.9960448054682686\n",
      "Validation Accuracy p_a: 0.9960067751152175\n",
      "Training   Accuracy vel: 13.794073944821266\n",
      "Validation Accuracy vel: 12.530629668916974\n",
      "Training Confusion Matrix Play:\n",
      "\n",
      "[[14456720.    98238.]\n",
      " [   97557.   368029.]]\n",
      "\n",
      "Training Confusion Matrix Articulate:\n",
      "\n",
      "[[14862890.    68951.]\n",
      " [   68304.    20399.]]\n",
      "\n",
      "Validation Confusion Matrix Play:\n",
      "\n",
      "[[911278.   5475.]\n",
      " [  4455.  24968.]]\n",
      "\n",
      "Validation Confusion Matrix Articulate:\n",
      "\n",
      "[[937342.   3643.]\n",
      " [  3995.   1196.]]\n",
      "\n",
      "Time: 155.208s\n",
      "\n",
      "\n",
      "\n",
      "Start of Epoch [36/64]\n",
      "\n",
      "\n",
      "Training batch: 889/889\n",
      "Validation batch: 56/56\n",
      "Seed:18691\n",
      "Training   Loss p_a: 0.026285882654240516\n",
      "Validation Loss p_a: 0.02840231641727899\n",
      "Training   Loss vel: 13.777114127966898\n",
      "Validation Loss vel: 12.305773624352046\n",
      "Training   Accuracy p_a: 0.9960352233343908\n",
      "Validation Accuracy p_a: 0.9960285467760903\n",
      "Training   Accuracy vel: 13.777114127966898\n",
      "Validation Accuracy vel: 12.305773624352046\n",
      "Training Confusion Matrix Play:\n",
      "\n",
      "[[14457856.    97102.]\n",
      " [   97000.   368586.]]\n",
      "\n",
      "Training Confusion Matrix Articulate:\n",
      "\n",
      "[[14863078.    68763.]\n",
      " [   67876.    20827.]]\n",
      "\n",
      "Validation Confusion Matrix Play:\n",
      "\n",
      "[[911292.   5461.]\n",
      " [  4357.  25066.]]\n",
      "\n",
      "Validation Confusion Matrix Articulate:\n",
      "\n",
      "[[937504.   3481.]\n",
      " [  3972.   1219.]]\n",
      "\n",
      "Time: 158.046s\n",
      "\n",
      "\n",
      "\n",
      "Start of Epoch [37/64]\n",
      "\n",
      "\n",
      "Training batch: 889/889\n",
      "Validation batch: 56/56\n",
      "Seed:872946\n",
      "Training   Loss p_a: 0.02610123504180549\n",
      "Validation Loss p_a: 0.03286351785728974\n",
      "Training   Loss vel: 13.652783041998024\n",
      "Validation Loss vel: 13.146042108535767\n",
      "Training   Accuracy p_a: 0.9960731918953938\n",
      "Validation Accuracy p_a: 0.9956351603780474\n",
      "Training   Accuracy vel: 13.652783041998024\n",
      "Validation Accuracy vel: 13.146042108535767\n",
      "Training Confusion Matrix Play:\n",
      "\n",
      "[[14458229.    96729.]\n",
      " [   96364.   369222.]]\n",
      "\n",
      "Training Confusion Matrix Articulate:\n",
      "\n",
      "[[14863554.    68287.]\n",
      " [   67756.    20947.]]\n",
      "\n",
      "Validation Confusion Matrix Play:\n",
      "\n",
      "[[911573.   5180.]\n",
      " [  5659.  23764.]]\n",
      "\n",
      "Validation Confusion Matrix Articulate:\n",
      "\n",
      "[[9.38595e+05 2.39000e+03]\n",
      " [4.68800e+03 5.03000e+02]]\n",
      "\n",
      "Time: 154.563s\n",
      "\n",
      "\n",
      "\n",
      "Start of Epoch [38/64]\n",
      "\n",
      "\n",
      "Training batch: 889/889\n",
      "Validation batch: 56/56\n",
      "Seed:370325\n",
      "Training   Loss p_a: 0.02639082116960088\n",
      "Validation Loss p_a: 0.028699935696619962\n",
      "Training   Loss vel: 13.791327861618539\n",
      "Validation Loss vel: 12.321214880262103\n",
      "Training   Accuracy p_a: 0.9959906645378996\n",
      "Validation Accuracy p_a: 0.9960327829633441\n",
      "Training   Accuracy vel: 13.791327861618539\n",
      "Validation Accuracy vel: 12.321214880262103\n",
      "Training Confusion Matrix Play:\n",
      "\n",
      "[[14458045.    96913.]\n",
      " [   97701.   367885.]]\n",
      "\n",
      "Training Confusion Matrix Articulate:\n",
      "\n",
      "[[14863623.    68218.]\n",
      " [   68574.    20129.]]\n",
      "\n",
      "Validation Confusion Matrix Play:\n",
      "\n",
      "[[911358.   5395.]\n",
      " [  4378.  25045.]]\n",
      "\n",
      "Validation Confusion Matrix Articulate:\n",
      "\n",
      "[[937457.   3528.]\n",
      " [  4003.   1188.]]\n",
      "\n",
      "Time: 159.399s\n",
      "\n",
      "\n",
      "\n",
      "Start of Epoch [39/64]\n",
      "\n",
      "\n",
      "Training batch: 889/889\n",
      "Validation batch: 56/56\n",
      "Seed:623333\n",
      "Training   Loss p_a: 0.025982348585168173\n",
      "Validation Loss p_a: 0.028647359776576713\n",
      "Training   Loss vel: 13.52844002812732\n",
      "Validation Loss vel: 12.289122888020106\n",
      "Training   Accuracy p_a: 0.996094200152514\n",
      "Validation Accuracy p_a: 0.9960223808884621\n",
      "Training   Accuracy vel: 13.52844002812732\n",
      "Validation Accuracy vel: 12.289122888020106\n",
      "Training Confusion Matrix Play:\n",
      "\n",
      "[[14458342.    96616.]\n",
      " [   96240.   369346.]]\n",
      "\n",
      "Training Confusion Matrix Articulate:\n",
      "\n",
      "[[14863462.    68379.]\n",
      " [   67644.    21059.]]\n",
      "\n",
      "Validation Confusion Matrix Play:\n",
      "\n",
      "[[911264.   5489.]\n",
      " [  4386.  25037.]]\n",
      "\n",
      "Validation Confusion Matrix Articulate:\n",
      "\n",
      "[[937465.   3520.]\n",
      " [  3989.   1202.]]\n",
      "\n",
      "Time: 154.89s\n",
      "\n",
      "\n",
      "\n",
      "Start of Epoch [40/64]\n",
      "\n",
      "\n",
      "Training batch: 889/889\n",
      "Validation batch: 56/56\n",
      "Seed:124295\n",
      "Training   Loss p_a: 0.026396538284413424\n",
      "Validation Loss p_a: 0.029889724250616773\n",
      "Training   Loss vel: 13.548509884738815\n",
      "Validation Loss vel: 12.369924988065447\n",
      "Training   Accuracy p_a: 0.9960671403813014\n",
      "Validation Accuracy p_a: 0.9958013466426304\n",
      "Training   Accuracy vel: 13.548509884738815\n",
      "Validation Accuracy vel: 12.369924988065447\n",
      "Training Confusion Matrix Play:\n",
      "\n",
      "[[14457933.    97025.]\n",
      " [   97407.   368179.]]\n",
      "\n",
      "Training Confusion Matrix Articulate:\n",
      "\n",
      "[[14863663.    68178.]\n",
      " [   68032.    20671.]]\n",
      "\n",
      "Validation Confusion Matrix Play:\n",
      "\n",
      "[[911079.   5674.]\n",
      " [  4679.  24744.]]\n",
      "\n",
      "Validation Confusion Matrix Articulate:\n",
      "\n",
      "[[937182.   3803.]\n",
      " [  4183.   1008.]]\n",
      "\n",
      "Time: 155.132s\n",
      "\n",
      "\n",
      "\n",
      "Start of Epoch [41/64]\n",
      "\n",
      "\n",
      "Training batch: 889/889\n",
      "Validation batch: 56/56\n",
      "Seed:483323\n",
      "Training   Loss p_a: 0.028386946864996033\n",
      "Validation Loss p_a: 0.029234673428748335\n",
      "Training   Loss vel: 14.021510579052336\n",
      "Validation Loss vel: 12.631677116666522\n",
      "Training   Accuracy p_a: 0.9959501768258077\n",
      "Validation Accuracy p_a: 0.9959510202918734\n",
      "Training   Accuracy vel: 14.021510579052336\n",
      "Validation Accuracy vel: 12.631677116666522\n",
      "Training Confusion Matrix Play:\n",
      "\n",
      "[[14450810.   104148.]\n",
      " [  103490.   362096.]]\n",
      "\n",
      "Training Confusion Matrix Articulate:\n",
      "\n",
      "[[14860802.    71039.]\n",
      " [   70510.    18193.]]\n",
      "\n",
      "Validation Confusion Matrix Play:\n",
      "\n",
      "[[910950.   5803.]\n",
      " [  4619.  24804.]]\n",
      "\n",
      "Validation Confusion Matrix Articulate:\n",
      "\n",
      "[[937165.   3820.]\n",
      " [  4162.   1029.]]\n",
      "\n",
      "Time: 154.163s\n",
      "\n",
      "\n",
      "\n",
      "Start of Epoch [42/64]\n",
      "\n",
      "\n",
      "Training batch: 889/889\n",
      "Validation batch: 56/56\n",
      "Seed:258348\n",
      "Training   Loss p_a: 0.03243099842079118\n",
      "Validation Loss p_a: 0.0306104397999921\n",
      "Training   Loss vel: 14.924092722421824\n",
      "Validation Loss vel: 12.535149233681816\n",
      "Training   Accuracy p_a: 0.9955383324649927\n",
      "Validation Accuracy p_a: 0.995806203356811\n",
      "Training   Accuracy vel: 14.924092722421824\n",
      "Validation Accuracy vel: 12.535149233681816\n",
      "Training Confusion Matrix Play:\n",
      "\n",
      "[[14439857.   115101.]\n",
      " [  115471.   350115.]]\n",
      "\n",
      "Training Confusion Matrix Articulate:\n",
      "\n",
      "[[1.4856058e+07 7.5783000e+04]\n",
      " [7.6311000e+04 1.2392000e+04]]\n",
      "\n",
      "Validation Confusion Matrix Play:\n",
      "\n",
      "[[910846.   5907.]\n",
      " [  5017.  24406.]]\n",
      "\n",
      "Validation Confusion Matrix Articulate:\n",
      "\n",
      "[[9.37272e+05 3.71300e+03]\n",
      " [4.39400e+03 7.97000e+02]]\n",
      "\n",
      "Time: 154.036s\n",
      "\n",
      "\n",
      "\n",
      "Start of Epoch [43/64]\n",
      "\n",
      "\n",
      "Training batch: 889/889\n",
      "Validation batch: 56/56\n",
      "Seed:179534\n",
      "Training   Loss p_a: 0.028587339191380113\n",
      "Validation Loss p_a: 0.02878747193608433\n",
      "Training   Loss vel: 14.108700296876133\n",
      "Validation Loss vel: 12.495951669556755\n",
      "Training   Accuracy p_a: 0.9957524907468275\n",
      "Validation Accuracy p_a: 0.9959616597209658\n",
      "Training   Accuracy vel: 14.108700296876133\n",
      "Validation Accuracy vel: 12.495951669556755\n",
      "Training Confusion Matrix Play:\n",
      "\n",
      "[[14450451.   104507.]\n",
      " [  104819.   360767.]]\n",
      "\n",
      "Training Confusion Matrix Articulate:\n",
      "\n",
      "[[14859602.    72239.]\n",
      " [   71945.    16758.]]\n",
      "\n",
      "Validation Confusion Matrix Play:\n",
      "\n",
      "[[910978.   5775.]\n",
      " [  4673.  24750.]]\n",
      "\n",
      "Validation Confusion Matrix Articulate:\n",
      "\n",
      "[[937232.   3753.]\n",
      " [  4222.    969.]]\n",
      "\n",
      "Time: 154.191s\n",
      "\n",
      "\n",
      "\n",
      "Start of Epoch [44/64]\n",
      "\n",
      "\n"
     ]
    },
    {
     "name": "stdout",
     "output_type": "stream",
     "text": [
      "Training batch: 889/889\n",
      "Validation batch: 56/56\n",
      "Seed:834373\n",
      "Training   Loss p_a: 0.027489109263892617\n",
      "Validation Loss p_a: 0.02906371042731085\n",
      "Training   Loss vel: 13.773426188929143\n",
      "Validation Loss vel: 12.471484533378057\n",
      "Training   Accuracy p_a: 0.9959110026954934\n",
      "Validation Accuracy p_a: 0.9958866057651383\n",
      "Training   Accuracy vel: 13.773426188929143\n",
      "Validation Accuracy vel: 12.471484533378057\n",
      "Training Confusion Matrix Play:\n",
      "\n",
      "[[14453976.   100982.]\n",
      " [  100873.   364713.]]\n",
      "\n",
      "Training Confusion Matrix Articulate:\n",
      "\n",
      "[[14861391.    70450.]\n",
      " [   69906.    18797.]]\n",
      "\n",
      "Validation Confusion Matrix Play:\n",
      "\n",
      "[[910913.   5840.]\n",
      " [  4526.  24897.]]\n",
      "\n",
      "Validation Confusion Matrix Articulate:\n",
      "\n",
      "[[937271.   3714.]\n",
      " [  4136.   1055.]]\n",
      "\n",
      "Time: 154.071s\n",
      "\n",
      "\n",
      "\n",
      "Start of Epoch [45/64]\n",
      "\n",
      "\n",
      "Training batch: 889/889\n",
      "Validation batch: 56/56\n",
      "Seed:893225\n",
      "Training   Loss p_a: 0.026943802603607403\n",
      "Validation Loss p_a: 0.02911935222800821\n",
      "Training   Loss vel: 13.554257414874666\n",
      "Validation Loss vel: 12.373933485576085\n",
      "Training   Accuracy p_a: 0.9959828626318374\n",
      "Validation Accuracy p_a: 0.9958381386739867\n",
      "Training   Accuracy vel: 13.554257414874666\n",
      "Validation Accuracy vel: 12.373933485576085\n",
      "Training Confusion Matrix Play:\n",
      "\n",
      "[[14455353.    99605.]\n",
      " [   98939.   366647.]]\n",
      "\n",
      "Training Confusion Matrix Articulate:\n",
      "\n",
      "[[14861982.    69859.]\n",
      " [   69190.    19513.]]\n",
      "\n",
      "Validation Confusion Matrix Play:\n",
      "\n",
      "[[910970.   5783.]\n",
      " [  4557.  24866.]]\n",
      "\n",
      "Validation Confusion Matrix Articulate:\n",
      "\n",
      "[[937347.   3638.]\n",
      " [  4174.   1017.]]\n",
      "\n",
      "Time: 154.01s\n",
      "\n",
      "\n",
      "\n",
      "Start of Epoch [46/64]\n",
      "\n",
      "\n",
      "Training batch: 889/889\n",
      "Validation batch: 56/56\n",
      "Seed:328967\n",
      "Training   Loss p_a: 0.02660733626378099\n",
      "Validation Loss p_a: 0.028857326933315823\n",
      "Training   Loss vel: 13.413241794594764\n",
      "Validation Loss vel: 12.364201979977745\n",
      "Training   Accuracy p_a: 0.9960369411415941\n",
      "Validation Accuracy p_a: 0.9958745688199997\n",
      "Training   Accuracy vel: 13.413241794594764\n",
      "Validation Accuracy vel: 12.364201979977745\n",
      "Training Confusion Matrix Play:\n",
      "\n",
      "[[14456592.    98366.]\n",
      " [   98136.   367450.]]\n",
      "\n",
      "Training Confusion Matrix Articulate:\n",
      "\n",
      "[[14862664.    69177.]\n",
      " [   68758.    19945.]]\n",
      "\n",
      "Validation Confusion Matrix Play:\n",
      "\n",
      "[[911166.   5587.]\n",
      " [  4635.  24788.]]\n",
      "\n",
      "Validation Confusion Matrix Articulate:\n",
      "\n",
      "[[937555.   3430.]\n",
      " [  4186.   1005.]]\n",
      "\n",
      "Time: 154.008s\n",
      "\n",
      "\n",
      "\n",
      "Start of Epoch [47/64]\n",
      "\n",
      "\n",
      "Training batch: 889/889\n",
      "Validation batch: 56/56\n",
      "Seed:712258\n",
      "Training   Loss p_a: 0.02663825499836703\n",
      "Validation Loss p_a: 0.028883527116184787\n",
      "Training   Loss vel: 13.338686169065426\n",
      "Validation Loss vel: 12.304360960211072\n",
      "Training   Accuracy p_a: 0.9960181572976343\n",
      "Validation Accuracy p_a: 0.9958414126719747\n",
      "Training   Accuracy vel: 13.338686169065426\n",
      "Validation Accuracy vel: 12.304360960211072\n",
      "Training Confusion Matrix Play:\n",
      "\n",
      "[[14456686.    98272.]\n",
      " [   98336.   367250.]]\n",
      "\n",
      "Training Confusion Matrix Articulate:\n",
      "\n",
      "[[14862885.    68956.]\n",
      " [   68589.    20114.]]\n",
      "\n",
      "Validation Confusion Matrix Play:\n",
      "\n",
      "[[911076.   5677.]\n",
      " [  4609.  24814.]]\n",
      "\n",
      "Validation Confusion Matrix Articulate:\n",
      "\n",
      "[[937468.   3517.]\n",
      " [  4181.   1010.]]\n",
      "\n",
      "Time: 155.31s\n",
      "\n",
      "\n",
      "\n",
      "Start of Epoch [48/64]\n",
      "\n",
      "\n",
      "Training batch: 889/889\n",
      "Validation batch: 56/56\n",
      "Seed:724085\n",
      "Training   Loss p_a: 0.027234223926087885\n",
      "Validation Loss p_a: 0.0288875549200124\n",
      "Training   Loss vel: 13.451175034247314\n",
      "Validation Loss vel: 12.224747955799103\n",
      "Training   Accuracy p_a: 0.9959631961161696\n",
      "Validation Accuracy p_a: 0.9959099516272545\n",
      "Training   Accuracy vel: 13.451175034247314\n",
      "Validation Accuracy vel: 12.224747955799103\n",
      "Training Confusion Matrix Play:\n",
      "\n",
      "[[14454676.   100282.]\n",
      " [  100254.   365332.]]\n",
      "\n",
      "Training Confusion Matrix Articulate:\n",
      "\n",
      "[[14861810.    70031.]\n",
      " [   69568.    19135.]]\n",
      "\n",
      "Validation Confusion Matrix Play:\n",
      "\n",
      "[[911055.   5698.]\n",
      " [  4543.  24880.]]\n",
      "\n",
      "Validation Confusion Matrix Articulate:\n",
      "\n",
      "[[937429.   3556.]\n",
      " [  4110.   1081.]]\n",
      "\n",
      "Time: 163.527s\n",
      "\n",
      "\n",
      "\n",
      "Start of Epoch [49/64]\n",
      "\n",
      "\n",
      "Training batch: 889/889\n",
      "Validation batch: 56/56\n",
      "Seed:966550\n",
      "Training   Loss p_a: 0.02841215355832997\n",
      "Validation Loss p_a: 0.046425670119268556\n",
      "Training   Loss vel: 13.412932111120064\n",
      "Validation Loss vel: 13.008368645395551\n",
      "Training   Accuracy p_a: 0.9959680641864095\n",
      "Validation Accuracy p_a: 0.9950262712580817\n",
      "Training   Accuracy vel: 13.412932111120064\n",
      "Validation Accuracy vel: 13.008368645395551\n",
      "Training Confusion Matrix Play:\n",
      "\n",
      "[[14451283.   103675.]\n",
      " [  103223.   362363.]]\n",
      "\n",
      "Training Confusion Matrix Articulate:\n",
      "\n",
      "[[14860081.    71760.]\n",
      " [   70865.    17838.]]\n",
      "\n",
      "Validation Confusion Matrix Play:\n",
      "\n",
      "[[911409.   5344.]\n",
      " [  6042.  23381.]]\n",
      "\n",
      "Validation Confusion Matrix Articulate:\n",
      "\n",
      "[[9.38904e+05 2.08100e+03]\n",
      " [4.94500e+03 2.46000e+02]]\n",
      "\n",
      "Time: 163.67s\n",
      "\n",
      "\n",
      "\n",
      "Start of Epoch [50/64]\n",
      "\n",
      "\n",
      "Training batch: 889/889\n",
      "Validation batch: 56/56\n",
      "Seed:959551\n",
      "Training   Loss p_a: 0.032257576309106785\n",
      "Validation Loss p_a: 0.029952657858042846\n",
      "Training   Loss vel: 14.09433116419377\n",
      "Validation Loss vel: 12.831249330724988\n",
      "Training   Accuracy p_a: 0.9954588640527329\n",
      "Validation Accuracy p_a: 0.9957150827561106\n",
      "Training   Accuracy vel: 14.09433116419377\n",
      "Validation Accuracy vel: 12.831249330724988\n",
      "Training Confusion Matrix Play:\n",
      "\n",
      "[[14441429.   113529.]\n",
      " [  113308.   352278.]]\n",
      "\n",
      "Training Confusion Matrix Articulate:\n",
      "\n",
      "[[1.4855893e+07 7.5948000e+04]\n",
      " [7.5631000e+04 1.3072000e+04]]\n",
      "\n",
      "Validation Confusion Matrix Play:\n",
      "\n",
      "[[910683.   6070.]\n",
      " [  5488.  23935.]]\n",
      "\n",
      "Validation Confusion Matrix Articulate:\n",
      "\n",
      "[[9.36762e+05 4.22300e+03]\n",
      " [4.33100e+03 8.60000e+02]]\n",
      "\n",
      "Time: 160.371s\n",
      "\n",
      "\n",
      "\n",
      "Start of Epoch [51/64]\n",
      "\n",
      "\n",
      "Training batch: 889/889\n",
      "Validation batch: 56/56\n",
      "Seed:633960\n",
      "Training   Loss p_a: 0.029661444777935007\n",
      "Validation Loss p_a: 0.03290005216175424\n",
      "Training   Loss vel: 14.076147973604492\n",
      "Validation Loss vel: 12.77197561945234\n",
      "Training   Accuracy p_a: 0.995622442731439\n",
      "Validation Accuracy p_a: 0.9957926060472216\n",
      "Training   Accuracy vel: 14.076147973604492\n",
      "Validation Accuracy vel: 12.77197561945234\n",
      "Training Confusion Matrix Play:\n",
      "\n",
      "[[14447722.   107236.]\n",
      " [  107525.   358061.]]\n",
      "\n",
      "Training Confusion Matrix Articulate:\n",
      "\n",
      "[[14858475.    73366.]\n",
      " [   73173.    15530.]]\n",
      "\n",
      "Validation Confusion Matrix Play:\n",
      "\n",
      "[[910767.   5986.]\n",
      " [  5792.  23631.]]\n",
      "\n",
      "Validation Confusion Matrix Articulate:\n",
      "\n",
      "[[9.37921e+05 3.06400e+03]\n",
      " [4.68800e+03 5.03000e+02]]\n",
      "\n",
      "Time: 161.784s\n",
      "\n",
      "\n",
      "\n",
      "Start of Epoch [52/64]\n",
      "\n",
      "\n",
      "Training batch: 889/889\n",
      "Validation batch: 56/56\n",
      "Seed:479364\n",
      "Training   Loss p_a: 0.031230130871910816\n",
      "Validation Loss p_a: 0.032467167059491785\n",
      "Training   Loss vel: 14.330859336059193\n",
      "Validation Loss vel: 13.32653123140335\n",
      "Training   Accuracy p_a: 0.9955845260646936\n",
      "Validation Accuracy p_a: 0.9955246491091592\n",
      "Training   Accuracy vel: 14.330859336059193\n",
      "Validation Accuracy vel: 13.32653123140335\n",
      "Training Confusion Matrix Play:\n",
      "\n",
      "[[14442897.   112061.]\n",
      " [  111571.   354015.]]\n",
      "\n",
      "Training Confusion Matrix Articulate:\n",
      "\n",
      "[[1.4857508e+07 7.4333000e+04]\n",
      " [7.4159000e+04 1.4544000e+04]]\n",
      "\n",
      "Validation Confusion Matrix Play:\n",
      "\n",
      "[[911032.   5721.]\n",
      " [  5748.  23675.]]\n",
      "\n",
      "Validation Confusion Matrix Articulate:\n",
      "\n",
      "[[9.37689e+05 3.29600e+03]\n",
      " [4.70400e+03 4.87000e+02]]\n",
      "\n",
      "Time: 162.49s\n",
      "\n",
      "\n",
      "\n",
      "Start of Epoch [53/64]\n",
      "\n",
      "\n",
      "Training batch: 889/889\n",
      "Validation batch: 56/56\n",
      "Seed:632725\n",
      "Training   Loss p_a: 0.03134780429948972\n",
      "Validation Loss p_a: 0.03048198457275118\n",
      "Training   Loss vel: 14.149897594151534\n",
      "Validation Loss vel: 12.888749871935163\n",
      "Training   Accuracy p_a: 0.9954387458424735\n",
      "Validation Accuracy p_a: 0.9956691084163529\n",
      "Training   Accuracy vel: 14.149897594151534\n",
      "Validation Accuracy vel: 12.888749871935163\n",
      "Training Confusion Matrix Play:\n",
      "\n",
      "[[14442727.   112231.]\n",
      " [  111601.   353985.]]\n",
      "\n",
      "Training Confusion Matrix Articulate:\n",
      "\n",
      "[[1.4855947e+07 7.5894000e+04]\n",
      " [7.5123000e+04 1.3580000e+04]]\n",
      "\n",
      "Validation Confusion Matrix Play:\n",
      "\n",
      "[[910811.   5942.]\n",
      " [  4941.  24482.]]\n",
      "\n",
      "Validation Confusion Matrix Articulate:\n",
      "\n",
      "[[9.37397e+05 3.58800e+03]\n",
      " [4.37900e+03 8.12000e+02]]\n",
      "\n",
      "Time: 158.702s\n",
      "\n",
      "\n",
      "\n",
      "Start of Epoch [54/64]\n",
      "\n",
      "\n",
      "Training batch: 889/889\n",
      "Validation batch: 56/56\n",
      "Seed:277721\n",
      "Training   Loss p_a: 0.029264816564913206\n",
      "Validation Loss p_a: 0.02959764572525663\n",
      "Training   Loss vel: 13.649135329457852\n",
      "Validation Loss vel: 12.637171634605952\n",
      "Training   Accuracy p_a: 0.9957440428444183\n",
      "Validation Accuracy p_a: 0.9958075700061662\n",
      "Training   Accuracy vel: 13.649135329457852\n",
      "Validation Accuracy vel: 12.637171634605952\n",
      "Training Confusion Matrix Play:\n",
      "\n",
      "[[14448992.   105966.]\n",
      " [  106134.   359452.]]\n",
      "\n",
      "Training Confusion Matrix Articulate:\n",
      "\n",
      "[[14858993.    72848.]\n",
      " [   72586.    16117.]]\n",
      "\n",
      "Validation Confusion Matrix Play:\n",
      "\n",
      "[[910790.   5963.]\n",
      " [  4863.  24560.]]\n",
      "\n",
      "Validation Confusion Matrix Articulate:\n",
      "\n",
      "[[937195.   3790.]\n",
      " [  4236.    955.]]\n",
      "\n",
      "Time: 162.668s\n",
      "\n",
      "\n",
      "\n",
      "Start of Epoch [55/64]\n",
      "\n",
      "\n"
     ]
    },
    {
     "name": "stdout",
     "output_type": "stream",
     "text": [
      "Training batch: 889/889\n",
      "Validation batch: 56/56\n",
      "Seed:843045\n",
      "Training   Loss p_a: 0.028485113611870158\n",
      "Validation Loss p_a: 0.029929755787764276\n",
      "Training   Loss vel: 13.47592578722736\n",
      "Validation Loss vel: 12.544783209051404\n",
      "Training   Accuracy p_a: 0.9957992455956638\n",
      "Validation Accuracy p_a: 0.995531904910292\n",
      "Training   Accuracy vel: 13.47592578722736\n",
      "Validation Accuracy vel: 12.544783209051404\n",
      "Training Confusion Matrix Play:\n",
      "\n",
      "[[14450907.   104051.]\n",
      " [  104078.   361508.]]\n",
      "\n",
      "Training Confusion Matrix Articulate:\n",
      "\n",
      "[[14859436.    72405.]\n",
      " [   71782.    16921.]]\n",
      "\n",
      "Validation Confusion Matrix Play:\n",
      "\n",
      "[[910523.   6230.]\n",
      " [  4830.  24593.]]\n",
      "\n",
      "Validation Confusion Matrix Articulate:\n",
      "\n",
      "[[936999.   3986.]\n",
      " [  4193.    998.]]\n",
      "\n",
      "Time: 164.981s\n",
      "\n",
      "\n",
      "\n",
      "Start of Epoch [56/64]\n",
      "\n",
      "\n",
      "Training batch: 889/889\n",
      "Validation batch: 56/56\n",
      "Seed:210744\n",
      "Training   Loss p_a: 0.027815799643175574\n",
      "Validation Loss p_a: 0.028955167891191586\n",
      "Training   Loss vel: 13.299638279377408\n",
      "Validation Loss vel: 12.446908261094775\n",
      "Training   Accuracy p_a: 0.9958736406402459\n",
      "Validation Accuracy p_a: 0.9957068764737674\n",
      "Training   Accuracy vel: 13.299638279377408\n",
      "Validation Accuracy vel: 12.446908261094775\n",
      "Training Confusion Matrix Play:\n",
      "\n",
      "[[14453202.   101756.]\n",
      " [  101855.   363731.]]\n",
      "\n",
      "Training Confusion Matrix Articulate:\n",
      "\n",
      "[[14860766.    71075.]\n",
      " [   70955.    17748.]]\n",
      "\n",
      "Validation Confusion Matrix Play:\n",
      "\n",
      "[[910742.   6011.]\n",
      " [  4632.  24791.]]\n",
      "\n",
      "Validation Confusion Matrix Articulate:\n",
      "\n",
      "[[937135.   3850.]\n",
      " [  4097.   1094.]]\n",
      "\n",
      "Time: 163.637s\n",
      "\n",
      "\n",
      "\n",
      "Start of Epoch [57/64]\n",
      "\n",
      "\n",
      "Training batch: 889/889\n",
      "Validation batch: 56/56\n",
      "Seed:574365\n",
      "Training   Loss p_a: 0.027412399044103242\n",
      "Validation Loss p_a: 0.028602809961219982\n",
      "Training   Loss vel: 13.160099535342411\n",
      "Validation Loss vel: 12.4846813082695\n",
      "Training   Accuracy p_a: 0.9959349556500249\n",
      "Validation Accuracy p_a: 0.9958221422774451\n",
      "Training   Accuracy vel: 13.160099535342411\n",
      "Validation Accuracy vel: 12.4846813082695\n",
      "Training Confusion Matrix Play:\n",
      "\n",
      "[[14454033.   100925.]\n",
      " [  100566.   365020.]]\n",
      "\n",
      "Training Confusion Matrix Articulate:\n",
      "\n",
      "[[14861120.    70721.]\n",
      " [   70308.    18395.]]\n",
      "\n",
      "Validation Confusion Matrix Play:\n",
      "\n",
      "[[910924.   5829.]\n",
      " [  4699.  24724.]]\n",
      "\n",
      "Validation Confusion Matrix Articulate:\n",
      "\n",
      "[[937113.   3872.]\n",
      " [  4093.   1098.]]\n",
      "\n",
      "Time: 163.612s\n",
      "\n",
      "\n",
      "\n",
      "Start of Epoch [58/64]\n",
      "\n",
      "\n",
      "Training batch: 889/889\n",
      "Validation batch: 56/56\n",
      "Seed:70569\n",
      "Training   Loss p_a: 0.027088591956750348\n",
      "Validation Loss p_a: 0.02916094401319112\n",
      "Training   Loss vel: 13.07650895488812\n",
      "Validation Loss vel: 12.441923780100685\n",
      "Training   Accuracy p_a: 0.9959777271117348\n",
      "Validation Accuracy p_a: 0.9955917341368539\n",
      "Training   Accuracy vel: 13.07650895488812\n",
      "Validation Accuracy vel: 12.441923780100685\n",
      "Training Confusion Matrix Play:\n",
      "\n",
      "[[14455303.    99655.]\n",
      " [   99645.   365941.]]\n",
      "\n",
      "Training Confusion Matrix Articulate:\n",
      "\n",
      "[[14861587.    70254.]\n",
      " [   69772.    18931.]]\n",
      "\n",
      "Validation Confusion Matrix Play:\n",
      "\n",
      "[[910901.   5852.]\n",
      " [  4804.  24619.]]\n",
      "\n",
      "Validation Confusion Matrix Articulate:\n",
      "\n",
      "[[937248.   3737.]\n",
      " [  4186.   1005.]]\n",
      "\n",
      "Time: 163.295s\n",
      "\n",
      "\n",
      "\n",
      "Start of Epoch [59/64]\n",
      "\n",
      "\n",
      "Training batch: 889/889\n",
      "Validation batch: 56/56\n",
      "Seed:669358\n",
      "Training   Loss p_a: 0.02717407901626797\n",
      "Validation Loss p_a: 0.029444187197701206\n",
      "Training   Loss vel: 13.024922213752841\n",
      "Validation Loss vel: 12.278797856398992\n",
      "Training   Accuracy p_a: 0.9959724700357032\n",
      "Validation Accuracy p_a: 0.9956192938344819\n",
      "Training   Accuracy vel: 13.024922213752841\n",
      "Validation Accuracy vel: 12.278797856398992\n",
      "Training Confusion Matrix Play:\n",
      "\n",
      "[[14455539.    99419.]\n",
      " [   99829.   365757.]]\n",
      "\n",
      "Training Confusion Matrix Articulate:\n",
      "\n",
      "[[14862388.    69453.]\n",
      " [   69727.    18976.]]\n",
      "\n",
      "Validation Confusion Matrix Play:\n",
      "\n",
      "[[910856.   5897.]\n",
      " [  4662.  24761.]]\n",
      "\n",
      "Validation Confusion Matrix Articulate:\n",
      "\n",
      "[[937234.   3751.]\n",
      " [  4099.   1092.]]\n",
      "\n",
      "Time: 163.638s\n",
      "\n",
      "\n",
      "\n",
      "Start of Epoch [60/64]\n",
      "\n",
      "\n",
      "Training batch: 889/889\n",
      "Validation batch: 56/56\n",
      "Seed:550967\n",
      "Training   Loss p_a: 0.02720593649912856\n",
      "Validation Loss p_a: 0.028969073069414923\n",
      "Training   Loss vel: 13.026610932816805\n",
      "Validation Loss vel: 12.393200022833687\n",
      "Training   Accuracy p_a: 0.9959968078391223\n",
      "Validation Accuracy p_a: 0.9958970227411815\n",
      "Training   Accuracy vel: 13.026610932816805\n",
      "Validation Accuracy vel: 12.393200022833687\n",
      "Training Confusion Matrix Play:\n",
      "\n",
      "[[14454790.   100168.]\n",
      " [   99798.   365788.]]\n",
      "\n",
      "Training Confusion Matrix Articulate:\n",
      "\n",
      "[[14861684.    70157.]\n",
      " [   69602.    19101.]]\n",
      "\n",
      "Validation Confusion Matrix Play:\n",
      "\n",
      "[[911262.   5491.]\n",
      " [  4590.  24833.]]\n",
      "\n",
      "Validation Confusion Matrix Articulate:\n",
      "\n",
      "[[937584.   3401.]\n",
      " [  4142.   1049.]]\n",
      "\n",
      "Time: 163.862s\n",
      "\n",
      "\n",
      "\n",
      "Start of Epoch [61/64]\n",
      "\n",
      "\n",
      "Training batch: 889/889\n",
      "Validation batch: 56/56\n",
      "Seed:648725\n",
      "Training   Loss p_a: 0.02702681140825404\n",
      "Validation Loss p_a: 0.028930769501520053\n",
      "Training   Loss vel: 12.96075319573367\n",
      "Validation Loss vel: 12.297026719365801\n",
      "Training   Accuracy p_a: 0.995971078143211\n",
      "Validation Accuracy p_a: 0.9958374766366822\n",
      "Training   Accuracy vel: 12.96075319573367\n",
      "Validation Accuracy vel: 12.297026719365801\n",
      "Training Confusion Matrix Play:\n",
      "\n",
      "[[14455641.    99317.]\n",
      " [   99273.   366313.]]\n",
      "\n",
      "Training Confusion Matrix Articulate:\n",
      "\n",
      "[[14862065.    69776.]\n",
      " [   69510.    19193.]]\n",
      "\n",
      "Validation Confusion Matrix Play:\n",
      "\n",
      "[[910995.   5758.]\n",
      " [  4532.  24891.]]\n",
      "\n",
      "Validation Confusion Matrix Articulate:\n",
      "\n",
      "[[937354.   3631.]\n",
      " [  4086.   1105.]]\n",
      "\n",
      "Time: 160.912s\n",
      "\n",
      "\n",
      "\n",
      "Start of Epoch [62/64]\n",
      "\n",
      "\n",
      "Training batch: 889/889\n",
      "Validation batch: 56/56\n",
      "Seed:605340\n",
      "Training   Loss p_a: 0.026866434072851463\n",
      "Validation Loss p_a: 0.031709913297423294\n",
      "Training   Loss vel: 12.869614454168572\n",
      "Validation Loss vel: 12.702314274651664\n",
      "Training   Accuracy p_a: 0.9960146614081143\n",
      "Validation Accuracy p_a: 0.9956536761351994\n",
      "Training   Accuracy vel: 12.869614454168572\n",
      "Validation Accuracy vel: 12.702314274651664\n",
      "Training Confusion Matrix Play:\n",
      "\n",
      "[[14456026.    98932.]\n",
      " [   99096.   366490.]]\n",
      "\n",
      "Training Confusion Matrix Articulate:\n",
      "\n",
      "[[14862416.    69425.]\n",
      " [   69243.    19460.]]\n",
      "\n",
      "Validation Confusion Matrix Play:\n",
      "\n",
      "[[910773.   5980.]\n",
      " [  4788.  24635.]]\n",
      "\n",
      "Validation Confusion Matrix Articulate:\n",
      "\n",
      "[[937370.   3615.]\n",
      " [  4207.    984.]]\n",
      "\n",
      "Time: 161.933s\n",
      "\n",
      "\n",
      "\n",
      "Start of Epoch [63/64]\n",
      "\n",
      "\n",
      "Training batch: 889/889\n",
      "Validation batch: 56/56\n",
      "Seed:811079\n",
      "Training   Loss p_a: 0.027216045391254537\n",
      "Validation Loss p_a: 0.029066924404885088\n",
      "Training   Loss vel: 12.898186672390915\n",
      "Validation Loss vel: 12.554418580872673\n",
      "Training   Accuracy p_a: 0.9959326936906314\n",
      "Validation Accuracy p_a: 0.9956921892506736\n",
      "Training   Accuracy vel: 12.898186672390915\n",
      "Validation Accuracy vel: 12.554418580872673\n",
      "Training Confusion Matrix Play:\n",
      "\n",
      "[[14455175.    99783.]\n",
      " [   99915.   365671.]]\n",
      "\n",
      "Training Confusion Matrix Articulate:\n",
      "\n",
      "[[14861728.    70113.]\n",
      " [   69669.    19034.]]\n",
      "\n",
      "Validation Confusion Matrix Play:\n",
      "\n",
      "[[911177.   5576.]\n",
      " [  4604.  24819.]]\n",
      "\n",
      "Validation Confusion Matrix Articulate:\n",
      "\n",
      "[[937563.   3422.]\n",
      " [  4110.   1081.]]\n",
      "\n",
      "Time: 159.637s\n",
      "\n",
      "\n",
      "\n",
      "Start of Epoch [64/64]\n",
      "\n",
      "\n",
      "Training batch: 889/889\n",
      "Validation batch: 56/56\n",
      "Seed:46011\n",
      "Training   Loss p_a: 0.0266802808001671\n",
      "Validation Loss p_a: 0.028098467604390213\n",
      "Training   Loss vel: 12.83754990366366\n",
      "Validation Loss vel: 12.37074089050293\n",
      "Training   Accuracy p_a: 0.9960086424117416\n",
      "Validation Accuracy p_a: 0.9958189268197332\n",
      "Training   Accuracy vel: 12.83754990366366\n",
      "Validation Accuracy vel: 12.37074089050293\n",
      "Training Confusion Matrix Play:\n",
      "\n",
      "[[14456439.    98519.]\n",
      " [   98554.   367032.]]\n",
      "\n",
      "Training Confusion Matrix Articulate:\n",
      "\n",
      "[[14862602.    69239.]\n",
      " [   69009.    19694.]]\n",
      "\n",
      "Validation Confusion Matrix Play:\n",
      "\n",
      "[[911214.   5539.]\n",
      " [  4599.  24824.]]\n",
      "\n",
      "Validation Confusion Matrix Articulate:\n",
      "\n",
      "[[937374.   3611.]\n",
      " [  4039.   1152.]]\n",
      "\n",
      "Time: 162.937s\n"
     ]
    },
    {
     "name": "stderr",
     "output_type": "stream",
     "text": [
      "WARNING:absl:Found untraced functions such as lstm_cell_layer_call_and_return_conditional_losses, lstm_cell_layer_call_fn, lstm_cell_1_layer_call_and_return_conditional_losses, lstm_cell_1_layer_call_fn, lstm_cell_2_layer_call_and_return_conditional_losses while saving (showing 5 of 20). These functions will not be directly callable after loading.\n",
      "WARNING:absl:Found untraced functions such as lstm_cell_layer_call_and_return_conditional_losses, lstm_cell_layer_call_fn, lstm_cell_1_layer_call_and_return_conditional_losses, lstm_cell_1_layer_call_fn, lstm_cell_2_layer_call_and_return_conditional_losses while saving (showing 5 of 20). These functions will not be directly callable after loading.\n"
     ]
    },
    {
     "name": "stdout",
     "output_type": "stream",
     "text": [
      "INFO:tensorflow:Assets written to: /home/mirko/Documents/FHWN/MA/master_thesis/code/tf2/outputs/models/ckpt/20211010/alpha_0.01_beta_1.0_epoch_64_model/assets\n"
     ]
    },
    {
     "name": "stderr",
     "output_type": "stream",
     "text": [
      "INFO:tensorflow:Assets written to: /home/mirko/Documents/FHWN/MA/master_thesis/code/tf2/outputs/models/ckpt/20211010/alpha_0.01_beta_1.0_epoch_64_model/assets\n"
     ]
    },
    {
     "name": "stdout",
     "output_type": "stream",
     "text": [
      "destination folder exists\n",
      "\n",
      "\n",
      "\n",
      "Total time: 2:51:24.457021\n"
     ]
    }
   ],
   "source": [
    "### CUSTOM TRAINING LOOP\n",
    "\n",
    "# Timing\n",
    "start_time = time.time()\n",
    "time_old = start_time\n",
    "\n",
    "for epoch in range(epochs):\n",
    "    print('\\rStart of Epoch [%d/%d]'% (epoch + 1, epochs))\n",
    "    print('\\n')\n",
    "\n",
    "    #ensure that every epoch the same training data is used\n",
    "    n = 0\n",
    "    for k in training_pieces.keys():\n",
    "        start_old = 0\n",
    "        piece = training_pieces[str(k)]\n",
    "        sixteenth_index = [b[0][3] for b in  piece]\n",
    "        num_time_steps =  max(sixteenth_index)*3*2 + 1\n",
    "        while start_old < (len(piece)- num_time_steps):\n",
    "            print('Training batch: %d/%d' % (n + 1, n_train_batches), end='\\r')\n",
    "            train_dataset, start_old = prep.createDataSet2(piece, \n",
    "                                                           num_time_steps=num_time_steps, \n",
    "                                                           batch_size=batch_size, \n",
    "                                                           start_old=start_old)\n",
    "            for _, (X_train, y_train) in enumerate(train_dataset):\n",
    "                l_1, l_2, m_1, m_2, confusion_mat = train_on_batch(X_train, \n",
    "                                                                   y_train, \n",
    "                                                                   alpha,\n",
    "                                                                   beta)\n",
    "                train_loss_p_a_array[epoch, n]    = l_1\n",
    "                train_loss_vel_array[epoch, n]    = l_2\n",
    "                train_metric_p_a_array[epoch, n]  = m_1\n",
    "                train_metric_vel_array[epoch, n]  = m_2\n",
    "            n += 1\n",
    "    print('')\n",
    "\n",
    "    # storing the confusion matrix of validation set for predicting play/ articulate\n",
    "    train_p_conf_array[epoch, : , :] = confusion_mat[0]\n",
    "    train_a_conf_array[epoch, : , :] = confusion_mat[1]\n",
    "\n",
    "    # reset metrics\n",
    "    metrics[0].reset_states()\n",
    "    metrics[1].reset_states()\n",
    "\n",
    "    n = 0\n",
    "    for k in validation_pieces.keys():\n",
    "        start_old = 0\n",
    "        piece = validation_pieces[str(k)]\n",
    "        sixteenth_index = [b[0][3] for b in  piece]\n",
    "        num_time_steps =  max(sixteenth_index)*3*2 + 1\n",
    "        while start_old < (len(piece)- num_time_steps):\n",
    "            print('Validation batch: %d/%d' % (n + 1, n_val_batches), end='\\r')\n",
    "            val_dataset, start_old = prep.createDataSet2(piece, \n",
    "                                                         num_time_steps=num_time_steps, \n",
    "                                                         batch_size=batch_size, \n",
    "                                                         start_old=start_old)\n",
    "            for _, (X_val, y_val) in enumerate(val_dataset):\n",
    "                l_1, l_2, m_1, m_2, confusion_mat = validate_on_batch(X_val, y_val, alpha)\n",
    "                val_loss_p_a_array[epoch, n]      = l_1\n",
    "                val_loss_vel_array[epoch, n]      = l_2\n",
    "                val_metric_p_a_array[epoch, n]    = m_1 \n",
    "                val_metric_vel_array[epoch, n]    = m_2 \n",
    "            n += 1\n",
    "\n",
    "    print('')\n",
    "    print('Seed:' + str(random.randrange(0,1000000,1)))\n",
    "\n",
    "    # storing the confusion matrix of validation set for predicting play/ articulate\n",
    "    val_p_conf_array[epoch, : , :] = confusion_mat[0]\n",
    "    val_a_conf_array[epoch, : , :] = confusion_mat[1]\n",
    "\n",
    "    # reset metrics\n",
    "    metrics[0].reset_states()\n",
    "    metrics[1].reset_states()\n",
    "\n",
    "    print('Training   Loss p_a: '     + str(np.mean(train_loss_p_a_array[epoch,:])))\n",
    "    print('Validation Loss p_a: '     + str(np.mean(val_loss_p_a_array[epoch,:])))\n",
    "    print('Training   Loss vel: '     + str(np.mean(train_loss_vel_array[epoch,:])))\n",
    "    print('Validation Loss vel: '     + str(np.mean(val_loss_vel_array[epoch,:])))\n",
    "    print('Training   Accuracy p_a: ' + str(np.mean(train_metric_p_a_array[epoch,:])))\n",
    "    print('Validation Accuracy p_a: ' + str(np.mean(val_metric_p_a_array[epoch,:])))\n",
    "    print('Training   Accuracy vel: ' + str(np.mean(train_metric_vel_array[epoch,:])))\n",
    "    print('Validation Accuracy vel: ' + str(np.mean(val_metric_vel_array[epoch,:])))\n",
    "    print('Training Confusion Matrix Play:\\n')\n",
    "    print(train_p_conf_array[epoch, : , :])\n",
    "    print('')\n",
    "    print('Training Confusion Matrix Articulate:\\n')\n",
    "    print(train_a_conf_array[epoch, : , :])\n",
    "    print('')\n",
    "    print('Validation Confusion Matrix Play:\\n')\n",
    "    print(val_p_conf_array[epoch, : , :])\n",
    "    print('')\n",
    "    print('Validation Confusion Matrix Articulate:\\n')\n",
    "    print(val_a_conf_array[epoch, : , :])\n",
    "    print('')\n",
    "\n",
    "\n",
    "    time_new = time.time()\n",
    "    duration = time_new - time_old\n",
    "    time_old = time_new\n",
    "    print('Time: ' +  str(round(duration, 3)) + 's')\n",
    "\n",
    "\n",
    "    if (epoch + 1) in epoch_save_list:\n",
    "        \n",
    "        # epoch = (epoch + 1) + 16\n",
    "\n",
    "        # save model weights\n",
    "        iteration_name = 'alpha_' + str(alpha.numpy()) + '_beta_' + str(beta.numpy()) + '_epoch_' + str(epoch + 1) +'_'\n",
    "        save_path = Checkpoint_Directory + current_time_str[:-7] + '/' +  iteration_name + 'model'\n",
    "        lstm.save(save_path)\n",
    "\n",
    "        # save audios for train from y_pred_train, y_train\n",
    "        y_pred_note_train, y_pred_velocity_train, _ = lstm(X_train, training=False)\n",
    "        y_pred_train = tf.concat([y_pred_note_train, y_pred_velocity_train], axis=-1)\n",
    "        midi.generate_audio(y_pred_train, \n",
    "                            Music_Out_Training_Directory + current_time_str[:-7] + '/', \n",
    "                            iteration_name + 'train_pred', \n",
    "                            sample=True)\n",
    "        midi.generate_audio(y_train, \n",
    "                            Music_Out_Training_Directory + current_time_str[:-7] + '/', \n",
    "                            iteration_name + 'train_true', \n",
    "                            sample=False)\n",
    "\n",
    "        # save audios for val from y_pred\n",
    "        y_pred_note_val, y_pred_velocity_val, _ = lstm(X_val, training=False)\n",
    "        y_pred_val = tf.concat([y_pred_note_val, y_pred_velocity_val], axis=-1)\n",
    "        midi.generate_audio(y_pred_val,    \n",
    "                            Music_Out_Training_Directory + current_time_str[:-7] + '/', \n",
    "                            iteration_name + 'val_pred', \n",
    "                            sample=True)\n",
    "        midi.generate_audio(y_val,    \n",
    "                            Music_Out_Training_Directory + current_time_str[:-7] + '/', \n",
    "                            iteration_name + 'val_true', \n",
    "                            sample=False)\n",
    "\n",
    "        # save the arrays \n",
    "        save_path = Numpy_Directory + current_time_str[:-7] + '/' \n",
    "        try:\n",
    "            os.mkdir(save_path)    \n",
    "        except:\n",
    "            print('destination folder exists')\n",
    "        np.savez(save_path + iteration_name + 'array', \n",
    "                 train_loss_p_a_array, \n",
    "                 train_loss_vel_array,\n",
    "                 train_metric_p_a_array,\n",
    "                 train_metric_vel_array,\n",
    "                 val_loss_p_a_array, \n",
    "                 val_loss_vel_array,\n",
    "                 val_metric_p_a_array,\n",
    "                 val_metric_vel_array,\n",
    "                 train_p_conf_array,\n",
    "                 train_a_conf_array,\n",
    "                 val_p_conf_array,\n",
    "                 val_a_conf_array,\n",
    "                 X_train.numpy(),\n",
    "                 y_train.numpy(),\n",
    "                 y_pred_train.numpy(),\n",
    "                 X_val.numpy(),\n",
    "                 y_val.numpy(),\n",
    "                 y_pred_val.numpy()\n",
    "                )\n",
    "    print('\\n\\n')\n",
    "    tf.keras.backend.clear_session()\n",
    "\n",
    "total_time = time.time() - start_time \n",
    "print('Total time: ' + str(datetime.timedelta(seconds=total_time)))"
   ]
  }
 ],
 "metadata": {
  "kernelspec": {
   "display_name": "Python 3",
   "language": "python",
   "name": "python3"
  },
  "language_info": {
   "codemirror_mode": {
    "name": "ipython",
    "version": 3
   },
   "file_extension": ".py",
   "mimetype": "text/x-python",
   "name": "python",
   "nbconvert_exporter": "python",
   "pygments_lexer": "ipython3",
   "version": "3.8.10"
  }
 },
 "nbformat": 4,
 "nbformat_minor": 5
}
